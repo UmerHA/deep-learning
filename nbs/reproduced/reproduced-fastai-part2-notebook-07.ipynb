{
 "cells": [
  {
   "cell_type": "code",
   "execution_count": 1,
   "id": "7f5e8385",
   "metadata": {
    "_cell_guid": "b1076dfc-b9ad-4769-8c92-a6c4dae69d19",
    "_uuid": "8f2839f25d086af736a60e9eeb907d3b93b6e0e5",
    "execution": {
     "iopub.execute_input": "2023-08-01T16:10:19.841374Z",
     "iopub.status.busy": "2023-08-01T16:10:19.840851Z",
     "iopub.status.idle": "2023-08-01T16:10:19.847200Z",
     "shell.execute_reply": "2023-08-01T16:10:19.845999Z"
    },
    "papermill": {
     "duration": 0.037658,
     "end_time": "2023-08-01T16:10:19.852314",
     "exception": false,
     "start_time": "2023-08-01T16:10:19.814656",
     "status": "completed"
    },
    "tags": []
   },
   "outputs": [],
   "source": [
    "#|default_exp conv"
   ]
  },
  {
   "cell_type": "markdown",
   "id": "98230f75",
   "metadata": {
    "papermill": {
     "duration": 0.023529,
     "end_time": "2023-08-01T16:10:19.899998",
     "exception": false,
     "start_time": "2023-08-01T16:10:19.876469",
     "status": "completed"
    },
    "tags": []
   },
   "source": [
    "Code from miniai.training"
   ]
  },
  {
   "cell_type": "code",
   "execution_count": 2,
   "id": "788f2865",
   "metadata": {
    "execution": {
     "iopub.execute_input": "2023-08-01T16:10:19.950321Z",
     "iopub.status.busy": "2023-08-01T16:10:19.949905Z",
     "iopub.status.idle": "2023-08-01T16:10:23.924502Z",
     "shell.execute_reply": "2023-08-01T16:10:23.923239Z"
    },
    "papermill": {
     "duration": 4.003023,
     "end_time": "2023-08-01T16:10:23.927486",
     "exception": false,
     "start_time": "2023-08-01T16:10:19.924463",
     "status": "completed"
    },
    "tags": []
   },
   "outputs": [],
   "source": [
    "import pickle,gzip,math,os,time,shutil,torch,matplotlib as mpl,numpy as np,matplotlib.pyplot as plt\n",
    "from pathlib import Path\n",
    "from torch import tensor,nn\n",
    "import torch.nn.functional as F\n",
    "\n",
    "def accuracy(out, yb): return (out.argmax(dim=1)==yb).float().mean()\n",
    "\n",
    "def report(loss, preds, yb): print(f'{loss:.2f}, {accuracy(preds, yb):.2f}')\n",
    "\n",
    "class Dataset():\n",
    "    def __init__(self, x, y): self.x,self.y = x,y\n",
    "    def __len__(self): return len(self.x)\n",
    "    def __getitem__(self, i): return self.x[i],self.y[i]\n",
    "\n",
    "from torch.utils.data import DataLoader, SequentialSampler, RandomSampler, BatchSampler\n",
    "\n",
    "def fit(epochs, model, loss_func, opt, train_dl, valid_dl):\n",
    "    for epoch in range(epochs):\n",
    "        model.train()\n",
    "        for xb,yb in train_dl:\n",
    "            loss = loss_func(model(xb), yb)\n",
    "            loss.backward()\n",
    "            opt.step()\n",
    "            opt.zero_grad()\n",
    "\n",
    "        model.eval()\n",
    "        with torch.no_grad():\n",
    "            tot_loss,tot_acc,count = 0.,0.,0\n",
    "            for xb,yb in valid_dl:\n",
    "                pred = model(xb)\n",
    "                n = len(xb)\n",
    "                count += n\n",
    "                tot_loss += loss_func(pred,yb).item()*n\n",
    "                tot_acc  += accuracy (pred,yb).item()*n\n",
    "        print(epoch, tot_loss/count, tot_acc/count)\n",
    "    return tot_loss/count, tot_acc/count\n",
    "\n",
    "def get_dls(train_ds, valid_ds, bs, **kwargs):\n",
    "    return (DataLoader(train_ds, batch_size=bs, shuffle=True, **kwargs),\n",
    "            DataLoader(valid_ds, batch_size=bs*2, **kwargs))"
   ]
  },
  {
   "cell_type": "markdown",
   "id": "c1231fee",
   "metadata": {
    "papermill": {
     "duration": 0.023541,
     "end_time": "2023-08-01T16:10:23.976771",
     "exception": false,
     "start_time": "2023-08-01T16:10:23.953230",
     "status": "completed"
    },
    "tags": []
   },
   "source": [
    "Code from miniai.datasets"
   ]
  },
  {
   "cell_type": "code",
   "execution_count": 3,
   "id": "19a1c204",
   "metadata": {
    "execution": {
     "iopub.execute_input": "2023-08-01T16:10:24.026544Z",
     "iopub.status.busy": "2023-08-01T16:10:24.025908Z",
     "iopub.status.idle": "2023-08-01T16:10:24.088150Z",
     "shell.execute_reply": "2023-08-01T16:10:24.087065Z"
    },
    "papermill": {
     "duration": 0.090348,
     "end_time": "2023-08-01T16:10:24.090902",
     "exception": false,
     "start_time": "2023-08-01T16:10:24.000554",
     "status": "completed"
    },
    "tags": []
   },
   "outputs": [],
   "source": [
    "from __future__ import annotations\n",
    "import math,numpy as np,matplotlib.pyplot as plt\n",
    "from operator import itemgetter\n",
    "from itertools import zip_longest\n",
    "import fastcore.all as fc\n",
    "\n",
    "from torch.utils.data import default_collate\n",
    "\n",
    "def inplace(f):\n",
    "    def _f(b):\n",
    "        f(b)\n",
    "        return b\n",
    "    return _f\n",
    "\n",
    "def collate_dict(ds):\n",
    "    get = itemgetter(*ds.features)\n",
    "    def _f(b): return get(default_collate(b))\n",
    "    return _f\n",
    "\n",
    "@fc.delegates(plt.Axes.imshow)\n",
    "def show_image(im, ax=None, figsize=None, title=None, noframe=True, **kwargs):\n",
    "    \"Show a PIL or PyTorch image on `ax`.\"\n",
    "    if fc.hasattrs(im, ('cpu','permute','detach')):\n",
    "        im = im.detach().cpu()\n",
    "        if len(im.shape)==3 and im.shape[0]<5: im=im.permute(1,2,0)\n",
    "    elif not isinstance(im,np.ndarray): im=np.array(im)\n",
    "    if im.shape[-1]==1: im=im[...,0]\n",
    "    if ax is None: _,ax = plt.subplots(figsize=figsize)\n",
    "    ax.imshow(im, **kwargs)\n",
    "    if title is not None: ax.set_title(title)\n",
    "    ax.set_xticks([]) \n",
    "    ax.set_yticks([]) \n",
    "    if noframe: ax.axis('off')\n",
    "    return ax\n",
    "\n",
    "@fc.delegates(plt.subplots, keep=True)\n",
    "def subplots(\n",
    "    nrows:int=1, # Number of rows in returned axes grid\n",
    "    ncols:int=1, # Number of columns in returned axes grid\n",
    "    figsize:tuple=None, # Width, height in inches of the returned figure\n",
    "    imsize:int=3, # Size (in inches) of images that will be displayed in the returned figure\n",
    "    suptitle:str=None, # Title to be set to returned figure\n",
    "    **kwargs\n",
    "): # fig and axs\n",
    "    \"A figure and set of subplots to display images of `imsize` inches\"\n",
    "    if figsize is None: figsize=(ncols*imsize, nrows*imsize)\n",
    "    fig,ax = plt.subplots(nrows, ncols, figsize=figsize, **kwargs)\n",
    "    if suptitle is not None: fig.suptitle(suptitle)\n",
    "    if nrows*ncols==1: ax = np.array([ax])\n",
    "    return fig,ax\n",
    "\n",
    "@fc.delegates(subplots)\n",
    "def get_grid(\n",
    "    n:int, # Number of axes\n",
    "    nrows:int=None, # Number of rows, defaulting to `int(math.sqrt(n))`\n",
    "    ncols:int=None, # Number of columns, defaulting to `ceil(n/rows)`\n",
    "    title:str=None, # If passed, title set to the figure\n",
    "    weight:str='bold', # Title font weight\n",
    "    size:int=14, # Title font size\n",
    "    **kwargs,\n",
    "): # fig and axs\n",
    "    \"Return a grid of `n` axes, `rows` by `cols`\"\n",
    "    if nrows: ncols = ncols or int(np.floor(n/nrows))\n",
    "    elif ncols: nrows = nrows or int(np.ceil(n/ncols))\n",
    "    else:\n",
    "        nrows = int(math.sqrt(n))\n",
    "        ncols = int(np.floor(n/nrows))\n",
    "    fig,axs = subplots(nrows, ncols, **kwargs)\n",
    "    for i in range(n, nrows*ncols): axs.flat[i].set_axis_off()\n",
    "    if title is not None: fig.suptitle(title, weight=weight, size=size)\n",
    "    return fig,axs\n",
    "\n",
    "@fc.delegates(subplots)\n",
    "def show_images(ims:list, # Images to show\n",
    "                nrows:int|None=None, # Number of rows in grid\n",
    "                ncols:int|None=None, # Number of columns in grid (auto-calculated if None)\n",
    "                titles:list|None=None, # Optional list of titles for each image\n",
    "                **kwargs):\n",
    "    \"Show all images `ims` as subplots with `rows` using `titles`\"\n",
    "    axs = get_grid(len(ims), nrows, ncols, **kwargs)[1].flat\n",
    "    for im,t,ax in zip_longest(ims, titles or [], axs): show_image(im, ax=ax, title=t)\n",
    "\n",
    "class DataLoaders:\n",
    "    def __init__(self, *dls): self.train,self.valid = dls[:2]\n",
    "\n",
    "    @classmethod\n",
    "    def from_dd(cls, dd, batch_size, as_tuple=True, **kwargs):\n",
    "        f = collate_dict(dd['train'])\n",
    "        return cls(*get_dls(*dd.values(), bs=batch_size, collate_fn=f, **kwargs))"
   ]
  },
  {
   "cell_type": "markdown",
   "id": "e1819026",
   "metadata": {
    "papermill": {
     "duration": 0.024005,
     "end_time": "2023-08-01T16:10:24.139858",
     "exception": false,
     "start_time": "2023-08-01T16:10:24.115853",
     "status": "completed"
    },
    "tags": []
   },
   "source": [
    "## Convolutions"
   ]
  },
  {
   "cell_type": "code",
   "execution_count": 4,
   "id": "376d1842",
   "metadata": {
    "execution": {
     "iopub.execute_input": "2023-08-01T16:10:24.189882Z",
     "iopub.status.busy": "2023-08-01T16:10:24.188892Z",
     "iopub.status.idle": "2023-08-01T16:10:24.193889Z",
     "shell.execute_reply": "2023-08-01T16:10:24.193057Z"
    },
    "papermill": {
     "duration": 0.032559,
     "end_time": "2023-08-01T16:10:24.196143",
     "exception": false,
     "start_time": "2023-08-01T16:10:24.163584",
     "status": "completed"
    },
    "tags": []
   },
   "outputs": [],
   "source": [
    "#|export\n",
    "import torch\n",
    "from torch import nn\n",
    "\n",
    "from torch.utils.data import default_collate\n",
    "from typing import Mapping"
   ]
  },
  {
   "cell_type": "code",
   "execution_count": 5,
   "id": "3849fc21",
   "metadata": {
    "execution": {
     "iopub.execute_input": "2023-08-01T16:10:24.245935Z",
     "iopub.status.busy": "2023-08-01T16:10:24.245151Z",
     "iopub.status.idle": "2023-08-01T16:10:24.251305Z",
     "shell.execute_reply": "2023-08-01T16:10:24.250141Z"
    },
    "papermill": {
     "duration": 0.034302,
     "end_time": "2023-08-01T16:10:24.254105",
     "exception": false,
     "start_time": "2023-08-01T16:10:24.219803",
     "status": "completed"
    },
    "tags": []
   },
   "outputs": [],
   "source": [
    "import pickle,gzip,math,os,time,shutil,matplotlib as mpl,numpy as np\n",
    "import pandas as pd,matplotlib.pyplot as plt\n",
    "from pathlib import Path\n",
    "from torch import tensor\n",
    "\n",
    "from torch.utils.data import DataLoader\n",
    "from typing import Mapping"
   ]
  },
  {
   "cell_type": "code",
   "execution_count": 6,
   "id": "3bf49f00",
   "metadata": {
    "execution": {
     "iopub.execute_input": "2023-08-01T16:10:24.304694Z",
     "iopub.status.busy": "2023-08-01T16:10:24.303775Z",
     "iopub.status.idle": "2023-08-01T16:10:24.309054Z",
     "shell.execute_reply": "2023-08-01T16:10:24.308164Z"
    },
    "papermill": {
     "duration": 0.033085,
     "end_time": "2023-08-01T16:10:24.311394",
     "exception": false,
     "start_time": "2023-08-01T16:10:24.278309",
     "status": "completed"
    },
    "tags": []
   },
   "outputs": [],
   "source": [
    "mpl.rcParams['image.cmap'] = 'gray'"
   ]
  },
  {
   "cell_type": "code",
   "execution_count": 7,
   "id": "3ef3e4b5",
   "metadata": {
    "execution": {
     "iopub.execute_input": "2023-08-01T16:10:24.362992Z",
     "iopub.status.busy": "2023-08-01T16:10:24.362163Z",
     "iopub.status.idle": "2023-08-01T16:10:26.080251Z",
     "shell.execute_reply": "2023-08-01T16:10:26.079028Z"
    },
    "papermill": {
     "duration": 1.747714,
     "end_time": "2023-08-01T16:10:26.083281",
     "exception": false,
     "start_time": "2023-08-01T16:10:24.335567",
     "status": "completed"
    },
    "tags": []
   },
   "outputs": [],
   "source": [
    "MNIST_URL='https://github.com/mnielsen/neural-networks-and-deep-learning/blob/master/data/mnist.pkl.gz?raw=true'\n",
    "path_data = Path('data')\n",
    "path_data.mkdir(exist_ok=True)\n",
    "path_gz = path_data/'mnist.pkl.gz'\n",
    "\n",
    "from urllib.request import urlretrieve\n",
    "if not path_gz.exists(): urlretrieve(MNIST_URL, path_gz)"
   ]
  },
  {
   "cell_type": "code",
   "execution_count": 8,
   "id": "36cd3489",
   "metadata": {
    "execution": {
     "iopub.execute_input": "2023-08-01T16:10:26.132866Z",
     "iopub.status.busy": "2023-08-01T16:10:26.132190Z",
     "iopub.status.idle": "2023-08-01T16:10:27.392965Z",
     "shell.execute_reply": "2023-08-01T16:10:27.392010Z"
    },
    "papermill": {
     "duration": 1.288792,
     "end_time": "2023-08-01T16:10:27.395752",
     "exception": false,
     "start_time": "2023-08-01T16:10:26.106960",
     "status": "completed"
    },
    "tags": []
   },
   "outputs": [],
   "source": [
    "with gzip.open(path_gz, 'rb') as f: ((x_trn, y_trn), (x_val, y_val), _) = pickle.load(f, encoding='latin-1')"
   ]
  },
  {
   "cell_type": "code",
   "execution_count": 9,
   "id": "ed8f23bc",
   "metadata": {
    "execution": {
     "iopub.execute_input": "2023-08-01T16:10:27.447187Z",
     "iopub.status.busy": "2023-08-01T16:10:27.446757Z",
     "iopub.status.idle": "2023-08-01T16:10:27.579489Z",
     "shell.execute_reply": "2023-08-01T16:10:27.578173Z"
    },
    "papermill": {
     "duration": 0.161592,
     "end_time": "2023-08-01T16:10:27.582474",
     "exception": false,
     "start_time": "2023-08-01T16:10:27.420882",
     "status": "completed"
    },
    "tags": []
   },
   "outputs": [],
   "source": [
    "x_trn, y_trn, x_val, y_val = map(tensor, [x_trn, y_trn, x_val, y_val])"
   ]
  },
  {
   "cell_type": "markdown",
   "id": "0942d3bf",
   "metadata": {
    "papermill": {
     "duration": 0.023797,
     "end_time": "2023-08-01T16:10:27.630085",
     "exception": false,
     "start_time": "2023-08-01T16:10:27.606288",
     "status": "completed"
    },
    "tags": []
   },
   "source": [
    "### Understanding the Convolution Equations"
   ]
  },
  {
   "cell_type": "code",
   "execution_count": 10,
   "id": "81e07eb7",
   "metadata": {
    "execution": {
     "iopub.execute_input": "2023-08-01T16:10:27.679935Z",
     "iopub.status.busy": "2023-08-01T16:10:27.678745Z",
     "iopub.status.idle": "2023-08-01T16:10:27.694381Z",
     "shell.execute_reply": "2023-08-01T16:10:27.693312Z"
    },
    "papermill": {
     "duration": 0.043157,
     "end_time": "2023-08-01T16:10:27.696927",
     "exception": false,
     "start_time": "2023-08-01T16:10:27.653770",
     "status": "completed"
    },
    "tags": []
   },
   "outputs": [],
   "source": [
    "x_imgs = x_trn.view(-1,28,28)\n",
    "xv_imgs = x_val.view(-1,28,28)"
   ]
  },
  {
   "cell_type": "code",
   "execution_count": 11,
   "id": "4f3ef690",
   "metadata": {
    "execution": {
     "iopub.execute_input": "2023-08-01T16:10:27.746905Z",
     "iopub.status.busy": "2023-08-01T16:10:27.746105Z",
     "iopub.status.idle": "2023-08-01T16:10:27.751246Z",
     "shell.execute_reply": "2023-08-01T16:10:27.750332Z"
    },
    "papermill": {
     "duration": 0.032937,
     "end_time": "2023-08-01T16:10:27.753482",
     "exception": false,
     "start_time": "2023-08-01T16:10:27.720545",
     "status": "completed"
    },
    "tags": []
   },
   "outputs": [],
   "source": [
    "mpl.rcParams['figure.dpi'] = 50"
   ]
  },
  {
   "cell_type": "code",
   "execution_count": 12,
   "id": "cf19240e",
   "metadata": {
    "execution": {
     "iopub.execute_input": "2023-08-01T16:10:27.804069Z",
     "iopub.status.busy": "2023-08-01T16:10:27.803652Z",
     "iopub.status.idle": "2023-08-01T16:10:27.905706Z",
     "shell.execute_reply": "2023-08-01T16:10:27.904597Z"
    },
    "papermill": {
     "duration": 0.132022,
     "end_time": "2023-08-01T16:10:27.910205",
     "exception": false,
     "start_time": "2023-08-01T16:10:27.778183",
     "status": "completed"
    },
    "tags": []
   },
   "outputs": [
    {
     "data": {
      "image/png": "[encoded data removed]",
      "text/plain": [
       "<Figure size 320x240 with 1 Axes>"
      ]
     },
     "metadata": {},
     "output_type": "display_data"
    }
   ],
   "source": [
    "im3 = x_imgs[7]\n",
    "show_image(im3);"
   ]
  },
  {
   "cell_type": "code",
   "execution_count": 13,
   "id": "f7676f4c",
   "metadata": {
    "execution": {
     "iopub.execute_input": "2023-08-01T16:10:28.004093Z",
     "iopub.status.busy": "2023-08-01T16:10:28.003675Z",
     "iopub.status.idle": "2023-08-01T16:10:28.009816Z",
     "shell.execute_reply": "2023-08-01T16:10:28.008520Z"
    },
    "papermill": {
     "duration": 0.051618,
     "end_time": "2023-08-01T16:10:28.012167",
     "exception": false,
     "start_time": "2023-08-01T16:10:27.960549",
     "status": "completed"
    },
    "tags": []
   },
   "outputs": [],
   "source": [
    "top_edge = tensor([[-1,-1,-1],\n",
    "                   [ 0, 0, 0],\n",
    "                   [ 1, 1, 1]]).float()"
   ]
  },
  {
   "cell_type": "code",
   "execution_count": 14,
   "id": "bb260f17",
   "metadata": {
    "execution": {
     "iopub.execute_input": "2023-08-01T16:10:28.062620Z",
     "iopub.status.busy": "2023-08-01T16:10:28.061904Z",
     "iopub.status.idle": "2023-08-01T16:10:28.142406Z",
     "shell.execute_reply": "2023-08-01T16:10:28.140991Z"
    },
    "papermill": {
     "duration": 0.110685,
     "end_time": "2023-08-01T16:10:28.146693",
     "exception": false,
     "start_time": "2023-08-01T16:10:28.036008",
     "status": "completed"
    },
    "tags": []
   },
   "outputs": [
    {
     "data": {
      "text/plain": [
       "<Axes: >"
      ]
     },
     "execution_count": 14,
     "metadata": {},
     "output_type": "execute_result"
    },
    {
     "data": {
      "image/png": "[encoded data removed]",
      "text/plain": [
       "<Figure size 320x240 with 1 Axes>"
      ]
     },
     "metadata": {},
     "output_type": "display_data"
    }
   ],
   "source": [
    "show_image(top_edge, noframe=False)"
   ]
  },
  {
   "cell_type": "code",
   "execution_count": 15,
   "id": "861b0695",
   "metadata": {
    "execution": {
     "iopub.execute_input": "2023-08-01T16:10:28.245992Z",
     "iopub.status.busy": "2023-08-01T16:10:28.244948Z",
     "iopub.status.idle": "2023-08-01T16:10:28.477891Z",
     "shell.execute_reply": "2023-08-01T16:10:28.476887Z"
    },
    "papermill": {
     "duration": 0.281635,
     "end_time": "2023-08-01T16:10:28.480202",
     "exception": false,
     "start_time": "2023-08-01T16:10:28.198567",
     "status": "completed"
    },
    "tags": []
   },
   "outputs": [
    {
     "data": {
      "text/html": [
       "<style type=\"text/css\">\n",
       "#T_73740_row0_col0, #T_73740_row0_col1, #T_73740_row0_col2, #T_73740_row0_col3, #T_73740_row0_col4, #T_73740_row0_col5, #T_73740_row0_col6, #T_73740_row0_col7, #T_73740_row0_col8, #T_73740_row0_col9, #T_73740_row0_col10, #T_73740_row0_col11, #T_73740_row0_col12, #T_73740_row0_col13, #T_73740_row0_col14, #T_73740_row0_col15, #T_73740_row0_col16, #T_73740_row0_col17, #T_73740_row0_col18, #T_73740_row0_col19, #T_73740_row0_col20, #T_73740_row0_col21, #T_73740_row0_col22, #T_73740_row0_col23, #T_73740_row0_col24, #T_73740_row0_col25, #T_73740_row0_col26, #T_73740_row0_col27, #T_73740_row1_col0, #T_73740_row1_col1, #T_73740_row1_col2, #T_73740_row1_col3, #T_73740_row1_col4, #T_73740_row1_col5, #T_73740_row1_col6, #T_73740_row1_col7, #T_73740_row1_col8, #T_73740_row1_col9, #T_73740_row1_col10, #T_73740_row1_col11, #T_73740_row1_col12, #T_73740_row1_col13, #T_73740_row1_col14, #T_73740_row1_col15, #T_73740_row1_col16, #T_73740_row1_col17, #T_73740_row1_col18, #T_73740_row1_col19, #T_73740_row1_col20, #T_73740_row1_col21, #T_73740_row1_col22, #T_73740_row1_col23, #T_73740_row1_col24, #T_73740_row1_col25, #T_73740_row1_col26, #T_73740_row1_col27, #T_73740_row2_col0, #T_73740_row2_col1, #T_73740_row2_col2, #T_73740_row2_col3, #T_73740_row2_col4, #T_73740_row2_col5, #T_73740_row2_col6, #T_73740_row2_col7, #T_73740_row2_col8, #T_73740_row2_col9, #T_73740_row2_col10, #T_73740_row2_col11, #T_73740_row2_col12, #T_73740_row2_col13, #T_73740_row2_col14, #T_73740_row2_col15, #T_73740_row2_col16, #T_73740_row2_col17, #T_73740_row2_col18, #T_73740_row2_col19, #T_73740_row2_col20, #T_73740_row2_col21, #T_73740_row2_col22, #T_73740_row2_col23, #T_73740_row2_col24, #T_73740_row2_col25, #T_73740_row2_col26, #T_73740_row2_col27, #T_73740_row3_col0, #T_73740_row3_col1, #T_73740_row3_col2, #T_73740_row3_col3, #T_73740_row3_col4, #T_73740_row3_col5, #T_73740_row3_col6, #T_73740_row3_col7, #T_73740_row3_col8, #T_73740_row3_col9, #T_73740_row3_col10, #T_73740_row3_col11, #T_73740_row3_col12, #T_73740_row3_col13, #T_73740_row3_col14, #T_73740_row3_col15, #T_73740_row3_col16, #T_73740_row3_col17, #T_73740_row3_col18, #T_73740_row3_col19, #T_73740_row3_col20, #T_73740_row3_col21, #T_73740_row3_col22, #T_73740_row3_col23, #T_73740_row3_col24, #T_73740_row3_col25, #T_73740_row3_col26, #T_73740_row3_col27, #T_73740_row4_col0, #T_73740_row4_col1, #T_73740_row4_col2, #T_73740_row4_col3, #T_73740_row4_col4, #T_73740_row4_col5, #T_73740_row4_col6, #T_73740_row4_col7, #T_73740_row4_col8, #T_73740_row4_col9, #T_73740_row4_col10, #T_73740_row4_col11, #T_73740_row4_col12, #T_73740_row4_col13, #T_73740_row4_col14, #T_73740_row4_col15, #T_73740_row4_col16, #T_73740_row4_col17, #T_73740_row4_col18, #T_73740_row4_col19, #T_73740_row4_col20, #T_73740_row4_col21, #T_73740_row4_col22, #T_73740_row4_col23, #T_73740_row4_col24, #T_73740_row4_col25, #T_73740_row4_col26, #T_73740_row4_col27, #T_73740_row5_col0, #T_73740_row5_col1, #T_73740_row5_col2, #T_73740_row5_col3, #T_73740_row5_col4, #T_73740_row5_col5, #T_73740_row5_col6, #T_73740_row5_col7, #T_73740_row5_col8, #T_73740_row5_col9, #T_73740_row5_col10, #T_73740_row5_col22, #T_73740_row5_col23, #T_73740_row5_col24, #T_73740_row5_col25, #T_73740_row5_col26, #T_73740_row5_col27, #T_73740_row6_col0, #T_73740_row6_col1, #T_73740_row6_col2, #T_73740_row6_col3, #T_73740_row6_col4, #T_73740_row6_col5, #T_73740_row6_col6, #T_73740_row6_col7, #T_73740_row6_col8, #T_73740_row6_col23, #T_73740_row6_col24, #T_73740_row6_col25, #T_73740_row6_col26, #T_73740_row6_col27, #T_73740_row7_col0, #T_73740_row7_col1, #T_73740_row7_col2, #T_73740_row7_col3, #T_73740_row7_col4, #T_73740_row7_col5, #T_73740_row7_col6, #T_73740_row7_col7, #T_73740_row7_col8, #T_73740_row7_col23, #T_73740_row7_col24, #T_73740_row7_col25, #T_73740_row7_col26, #T_73740_row7_col27, #T_73740_row8_col0, #T_73740_row8_col1, #T_73740_row8_col2, #T_73740_row8_col3, #T_73740_row8_col4, #T_73740_row8_col5, #T_73740_row8_col6, #T_73740_row8_col7, #T_73740_row8_col8, #T_73740_row8_col23, #T_73740_row8_col24, #T_73740_row8_col25, #T_73740_row8_col26, #T_73740_row8_col27, #T_73740_row9_col0, #T_73740_row9_col1, #T_73740_row9_col2, #T_73740_row9_col3, #T_73740_row9_col4, #T_73740_row9_col5, #T_73740_row9_col6, #T_73740_row9_col7, #T_73740_row9_col8, #T_73740_row9_col13, #T_73740_row9_col14, #T_73740_row9_col15, #T_73740_row9_col16, #T_73740_row9_col23, #T_73740_row9_col24, #T_73740_row9_col25, #T_73740_row9_col26, #T_73740_row9_col27, #T_73740_row10_col0, #T_73740_row10_col1, #T_73740_row10_col2, #T_73740_row10_col3, #T_73740_row10_col4, #T_73740_row10_col5, #T_73740_row10_col6, #T_73740_row10_col7, #T_73740_row10_col8, #T_73740_row10_col9, #T_73740_row10_col10, #T_73740_row10_col11, #T_73740_row10_col12, #T_73740_row10_col13, #T_73740_row10_col14, #T_73740_row10_col15, #T_73740_row10_col16, #T_73740_row10_col22, #T_73740_row10_col23, #T_73740_row10_col24, #T_73740_row10_col25, #T_73740_row10_col26, #T_73740_row10_col27, #T_73740_row11_col0, #T_73740_row11_col1, #T_73740_row11_col2, #T_73740_row11_col3, #T_73740_row11_col4, #T_73740_row11_col5, #T_73740_row11_col6, #T_73740_row11_col7, #T_73740_row11_col8, #T_73740_row11_col9, #T_73740_row11_col10, #T_73740_row11_col11, #T_73740_row11_col12, #T_73740_row11_col13, #T_73740_row11_col14, #T_73740_row11_col15, #T_73740_row11_col22, #T_73740_row11_col23, #T_73740_row11_col24, #T_73740_row11_col25, #T_73740_row11_col26, #T_73740_row11_col27, #T_73740_row12_col0, #T_73740_row12_col1, #T_73740_row12_col2, #T_73740_row12_col3, #T_73740_row12_col4, #T_73740_row12_col5, #T_73740_row12_col6, #T_73740_row12_col7, #T_73740_row12_col8, #T_73740_row12_col9, #T_73740_row12_col10, #T_73740_row12_col11, #T_73740_row12_col12, #T_73740_row12_col13, #T_73740_row12_col22, #T_73740_row12_col23, #T_73740_row12_col24, #T_73740_row12_col25, #T_73740_row12_col26, #T_73740_row12_col27, #T_73740_row13_col0, #T_73740_row13_col1, #T_73740_row13_col2, #T_73740_row13_col3, #T_73740_row13_col4, #T_73740_row13_col5, #T_73740_row13_col6, #T_73740_row13_col7, #T_73740_row13_col8, #T_73740_row13_col21, #T_73740_row13_col22, #T_73740_row13_col23, #T_73740_row13_col24, #T_73740_row13_col25, #T_73740_row13_col26, #T_73740_row13_col27, #T_73740_row14_col0, #T_73740_row14_col1, #T_73740_row14_col2, #T_73740_row14_col3, #T_73740_row14_col4, #T_73740_row14_col5, #T_73740_row14_col6, #T_73740_row14_col7, #T_73740_row14_col19, #T_73740_row14_col20, #T_73740_row14_col21, #T_73740_row14_col22, #T_73740_row14_col23, #T_73740_row14_col24, #T_73740_row14_col25, #T_73740_row14_col26, #T_73740_row14_col27, #T_73740_row15_col0, #T_73740_row15_col1, #T_73740_row15_col2, #T_73740_row15_col3, #T_73740_row15_col4, #T_73740_row15_col5, #T_73740_row15_col6, #T_73740_row15_col7, #T_73740_row15_col20, #T_73740_row15_col21, #T_73740_row15_col22, #T_73740_row15_col23, #T_73740_row15_col24, #T_73740_row15_col25, #T_73740_row15_col26, #T_73740_row15_col27, #T_73740_row16_col0, #T_73740_row16_col1, #T_73740_row16_col2, #T_73740_row16_col3, #T_73740_row16_col4, #T_73740_row16_col5, #T_73740_row16_col6, #T_73740_row16_col7, #T_73740_row16_col8, #T_73740_row16_col20, #T_73740_row16_col21, #T_73740_row16_col22, #T_73740_row16_col23, #T_73740_row16_col24, #T_73740_row16_col25, #T_73740_row16_col26, #T_73740_row16_col27, #T_73740_row17_col0, #T_73740_row17_col1, #T_73740_row17_col2, #T_73740_row17_col3, #T_73740_row17_col4, #T_73740_row17_col5, #T_73740_row17_col6, #T_73740_row17_col7, #T_73740_row17_col8, #T_73740_row17_col9, #T_73740_row17_col10, #T_73740_row17_col11, #T_73740_row17_col12, #T_73740_row17_col13, #T_73740_row17_col14, #T_73740_row17_col15, #T_73740_row17_col20, #T_73740_row17_col21, #T_73740_row17_col22, #T_73740_row17_col23, #T_73740_row17_col24, #T_73740_row17_col25, #T_73740_row17_col26, #T_73740_row17_col27, #T_73740_row18_col0, #T_73740_row18_col1, #T_73740_row18_col2, #T_73740_row18_col3, #T_73740_row18_col4, #T_73740_row18_col5, #T_73740_row18_col6, #T_73740_row18_col7, #T_73740_row18_col8, #T_73740_row18_col9, #T_73740_row18_col10, #T_73740_row18_col11, #T_73740_row18_col12, #T_73740_row18_col13, #T_73740_row18_col14, #T_73740_row18_col15, #T_73740_row18_col20, #T_73740_row18_col21, #T_73740_row18_col22, #T_73740_row18_col23, #T_73740_row18_col24, #T_73740_row18_col25, #T_73740_row18_col26, #T_73740_row18_col27, #T_73740_row19_col0, #T_73740_row19_col1, #T_73740_row19_col2, #T_73740_row19_col3, #T_73740_row19_col4, #T_73740_row19_col5, #T_73740_row19_col9, #T_73740_row19_col10, #T_73740_row19_col11, #T_73740_row19_col12, #T_73740_row19_col13, #T_73740_row19_col14, #T_73740_row19_col20, #T_73740_row19_col21, #T_73740_row19_col22, #T_73740_row19_col23, #T_73740_row19_col24, #T_73740_row19_col25, #T_73740_row19_col26, #T_73740_row19_col27, #T_73740_row20_col0, #T_73740_row20_col1, #T_73740_row20_col2, #T_73740_row20_col3, #T_73740_row20_col4, #T_73740_row20_col9, #T_73740_row20_col10, #T_73740_row20_col11, #T_73740_row20_col12, #T_73740_row20_col20, #T_73740_row20_col21, #T_73740_row20_col22, #T_73740_row20_col23, #T_73740_row20_col24, #T_73740_row20_col25, #T_73740_row20_col26, #T_73740_row20_col27, #T_73740_row21_col0, #T_73740_row21_col1, #T_73740_row21_col2, #T_73740_row21_col3, #T_73740_row21_col4, #T_73740_row21_col19, #T_73740_row21_col20, #T_73740_row21_col21, #T_73740_row21_col22, #T_73740_row21_col23, #T_73740_row21_col24, #T_73740_row21_col25, #T_73740_row21_col26, #T_73740_row21_col27, #T_73740_row22_col0, #T_73740_row22_col1, #T_73740_row22_col2, #T_73740_row22_col3, #T_73740_row22_col4, #T_73740_row22_col18, #T_73740_row22_col19, #T_73740_row22_col20, #T_73740_row22_col21, #T_73740_row22_col22, #T_73740_row22_col23, #T_73740_row22_col24, #T_73740_row22_col25, #T_73740_row22_col26, #T_73740_row22_col27, #T_73740_row23_col0, #T_73740_row23_col1, #T_73740_row23_col2, #T_73740_row23_col3, #T_73740_row23_col4, #T_73740_row23_col16, #T_73740_row23_col17, #T_73740_row23_col18, #T_73740_row23_col19, #T_73740_row23_col20, #T_73740_row23_col21, #T_73740_row23_col22, #T_73740_row23_col23, #T_73740_row23_col24, #T_73740_row23_col25, #T_73740_row23_col26, #T_73740_row23_col27, #T_73740_row24_col0, #T_73740_row24_col1, #T_73740_row24_col2, #T_73740_row24_col3, #T_73740_row24_col4, #T_73740_row24_col5, #T_73740_row24_col13, #T_73740_row24_col14, #T_73740_row24_col15, #T_73740_row24_col16, #T_73740_row24_col17, #T_73740_row24_col18, #T_73740_row24_col19, #T_73740_row24_col20, #T_73740_row24_col21, #T_73740_row24_col22, #T_73740_row24_col23, #T_73740_row24_col24, #T_73740_row24_col25, #T_73740_row24_col26, #T_73740_row24_col27, #T_73740_row25_col0, #T_73740_row25_col1, #T_73740_row25_col2, #T_73740_row25_col3, #T_73740_row25_col4, #T_73740_row25_col5, #T_73740_row25_col6, #T_73740_row25_col7, #T_73740_row25_col8, #T_73740_row25_col9, #T_73740_row25_col10, #T_73740_row25_col11, #T_73740_row25_col12, #T_73740_row25_col13, #T_73740_row25_col14, #T_73740_row25_col15, #T_73740_row25_col16, #T_73740_row25_col17, #T_73740_row25_col18, #T_73740_row25_col19, #T_73740_row25_col20, #T_73740_row25_col21, #T_73740_row25_col22, #T_73740_row25_col23, #T_73740_row25_col24, #T_73740_row25_col25, #T_73740_row25_col26, #T_73740_row25_col27, #T_73740_row26_col0, #T_73740_row26_col1, #T_73740_row26_col2, #T_73740_row26_col3, #T_73740_row26_col4, #T_73740_row26_col5, #T_73740_row26_col6, #T_73740_row26_col7, #T_73740_row26_col8, #T_73740_row26_col9, #T_73740_row26_col10, #T_73740_row26_col11, #T_73740_row26_col12, #T_73740_row26_col13, #T_73740_row26_col14, #T_73740_row26_col15, #T_73740_row26_col16, #T_73740_row26_col17, #T_73740_row26_col18, #T_73740_row26_col19, #T_73740_row26_col20, #T_73740_row26_col21, #T_73740_row26_col22, #T_73740_row26_col23, #T_73740_row26_col24, #T_73740_row26_col25, #T_73740_row26_col26, #T_73740_row26_col27, #T_73740_row27_col0, #T_73740_row27_col1, #T_73740_row27_col2, #T_73740_row27_col3, #T_73740_row27_col4, #T_73740_row27_col5, #T_73740_row27_col6, #T_73740_row27_col7, #T_73740_row27_col8, #T_73740_row27_col9, #T_73740_row27_col10, #T_73740_row27_col11, #T_73740_row27_col12, #T_73740_row27_col13, #T_73740_row27_col14, #T_73740_row27_col15, #T_73740_row27_col16, #T_73740_row27_col17, #T_73740_row27_col18, #T_73740_row27_col19, #T_73740_row27_col20, #T_73740_row27_col21, #T_73740_row27_col22, #T_73740_row27_col23, #T_73740_row27_col24, #T_73740_row27_col25, #T_73740_row27_col26, #T_73740_row27_col27 {\n",
       "  font-size: 7pt;\n",
       "  background-color: #ffffff;\n",
       "  color: #000000;\n",
       "}\n",
       "#T_73740_row5_col11 {\n",
       "  font-size: 7pt;\n",
       "  background-color: #ececec;\n",
       "  color: #000000;\n",
       "}\n",
       "#T_73740_row5_col12, #T_73740_row6_col9 {\n",
       "  font-size: 7pt;\n",
       "  background-color: #e8e8e8;\n",
       "  color: #000000;\n",
       "}\n",
       "#T_73740_row5_col13 {\n",
       "  font-size: 7pt;\n",
       "  background-color: #b0b0b0;\n",
       "  color: #000000;\n",
       "}\n",
       "#T_73740_row5_col14, #T_73740_row5_col15, #T_73740_row5_col16, #T_73740_row5_col17, #T_73740_row5_col18, #T_73740_row5_col19, #T_73740_row6_col20, #T_73740_row7_col20, #T_73740_row7_col21, #T_73740_row7_col22, #T_73740_row8_col20, #T_73740_row8_col21, #T_73740_row8_col22, #T_73740_row9_col20, #T_73740_row10_col20, #T_73740_row11_col20, #T_73740_row15_col10, #T_73740_row15_col11, #T_73740_row15_col12, #T_73740_row15_col13, #T_73740_row15_col14, #T_73740_row15_col15, #T_73740_row15_col16, #T_73740_row15_col17, #T_73740_row15_col18, #T_73740_row20_col7, #T_73740_row21_col5, #T_73740_row21_col6, #T_73740_row21_col7, #T_73740_row22_col5, #T_73740_row22_col6, #T_73740_row22_col7, #T_73740_row22_col8, #T_73740_row22_col9, #T_73740_row23_col7, #T_73740_row23_col8, #T_73740_row23_col9, #T_73740_row24_col9 {\n",
       "  font-size: 7pt;\n",
       "  background-color: #000000;\n",
       "  color: #f1f1f1;\n",
       "}\n",
       "#T_73740_row5_col20 {\n",
       "  font-size: 7pt;\n",
       "  background-color: #626262;\n",
       "  color: #f1f1f1;\n",
       "}\n",
       "#T_73740_row5_col21, #T_73740_row24_col6 {\n",
       "  font-size: 7pt;\n",
       "  background-color: #fcfcfc;\n",
       "  color: #000000;\n",
       "}\n",
       "#T_73740_row6_col10 {\n",
       "  font-size: 7pt;\n",
       "  background-color: #888888;\n",
       "  color: #f1f1f1;\n",
       "}\n",
       "#T_73740_row6_col11, #T_73740_row15_col9 {\n",
       "  font-size: 7pt;\n",
       "  background-color: #222222;\n",
       "  color: #f1f1f1;\n",
       "}\n",
       "#T_73740_row6_col12, #T_73740_row9_col18 {\n",
       "  font-size: 7pt;\n",
       "  background-color: #1f1f1f;\n",
       "  color: #f1f1f1;\n",
       "}\n",
       "#T_73740_row6_col13, #T_73740_row6_col15, #T_73740_row6_col16, #T_73740_row6_col17, #T_73740_row6_col18, #T_73740_row6_col19, #T_73740_row7_col10, #T_73740_row7_col11, #T_73740_row7_col12, #T_73740_row7_col13, #T_73740_row7_col15, #T_73740_row7_col16, #T_73740_row7_col17, #T_73740_row7_col18, #T_73740_row7_col19, #T_73740_row8_col10, #T_73740_row8_col11, #T_73740_row8_col18, #T_73740_row8_col19, #T_73740_row9_col19, #T_73740_row10_col19, #T_73740_row11_col18, #T_73740_row11_col19, #T_73740_row12_col17, #T_73740_row12_col18, #T_73740_row12_col19, #T_73740_row13_col15, #T_73740_row13_col16, #T_73740_row13_col17, #T_73740_row14_col10, #T_73740_row14_col11, #T_73740_row14_col12, #T_73740_row14_col13, #T_73740_row14_col15, #T_73740_row14_col16, #T_73740_row14_col17, #T_73740_row16_col17, #T_73740_row16_col18, #T_73740_row17_col17, #T_73740_row17_col18, #T_73740_row18_col17, #T_73740_row18_col18, #T_73740_row19_col17, #T_73740_row19_col18, #T_73740_row20_col16, #T_73740_row20_col17, #T_73740_row21_col15, #T_73740_row21_col16, #T_73740_row22_col10, #T_73740_row22_col11, #T_73740_row22_col12, #T_73740_row22_col13, #T_73740_row23_col10, #T_73740_row23_col11 {\n",
       "  font-size: 7pt;\n",
       "  background-color: #010101;\n",
       "  color: #f1f1f1;\n",
       "}\n",
       "#T_73740_row6_col14, #T_73740_row7_col14, #T_73740_row13_col14, #T_73740_row14_col14, #T_73740_row21_col14, #T_73740_row22_col14 {\n",
       "  font-size: 7pt;\n",
       "  background-color: #020202;\n",
       "  color: #f1f1f1;\n",
       "}\n",
       "#T_73740_row6_col21 {\n",
       "  font-size: 7pt;\n",
       "  background-color: #727272;\n",
       "  color: #f1f1f1;\n",
       "}\n",
       "#T_73740_row6_col22, #T_73740_row23_col5 {\n",
       "  font-size: 7pt;\n",
       "  background-color: #dcdcdc;\n",
       "  color: #000000;\n",
       "}\n",
       "#T_73740_row7_col9 {\n",
       "  font-size: 7pt;\n",
       "  background-color: #5e5e5e;\n",
       "  color: #f1f1f1;\n",
       "}\n",
       "#T_73740_row8_col9 {\n",
       "  font-size: 7pt;\n",
       "  background-color: #ababab;\n",
       "  color: #000000;\n",
       "}\n",
       "#T_73740_row8_col12, #T_73740_row22_col15 {\n",
       "  font-size: 7pt;\n",
       "  background-color: #1b1b1b;\n",
       "  color: #f1f1f1;\n",
       "}\n",
       "#T_73740_row8_col13, #T_73740_row8_col14, #T_73740_row8_col15, #T_73740_row8_col16 {\n",
       "  font-size: 7pt;\n",
       "  background-color: #909090;\n",
       "  color: #f1f1f1;\n",
       "}\n",
       "#T_73740_row8_col17, #T_73740_row11_col17 {\n",
       "  font-size: 7pt;\n",
       "  background-color: #525252;\n",
       "  color: #f1f1f1;\n",
       "}\n",
       "#T_73740_row9_col9, #T_73740_row19_col6 {\n",
       "  font-size: 7pt;\n",
       "  background-color: #fdfdfd;\n",
       "  color: #000000;\n",
       "}\n",
       "#T_73740_row9_col10, #T_73740_row9_col11, #T_73740_row9_col22, #T_73740_row20_col8 {\n",
       "  font-size: 7pt;\n",
       "  background-color: #f1f1f1;\n",
       "  color: #000000;\n",
       "}\n",
       "#T_73740_row9_col12, #T_73740_row24_col12 {\n",
       "  font-size: 7pt;\n",
       "  background-color: #f4f4f4;\n",
       "  color: #000000;\n",
       "}\n",
       "#T_73740_row9_col17, #T_73740_row11_col21, #T_73740_row17_col16 {\n",
       "  font-size: 7pt;\n",
       "  background-color: #f8f8f8;\n",
       "  color: #000000;\n",
       "}\n",
       "#T_73740_row9_col21, #T_73740_row24_col10 {\n",
       "  font-size: 7pt;\n",
       "  background-color: #646464;\n",
       "  color: #f1f1f1;\n",
       "}\n",
       "#T_73740_row10_col17, #T_73740_row18_col16 {\n",
       "  font-size: 7pt;\n",
       "  background-color: #c5c5c5;\n",
       "  color: #000000;\n",
       "}\n",
       "#T_73740_row10_col18, #T_73740_row20_col18 {\n",
       "  font-size: 7pt;\n",
       "  background-color: #0c0c0c;\n",
       "  color: #f1f1f1;\n",
       "}\n",
       "#T_73740_row10_col21, #T_73740_row23_col14 {\n",
       "  font-size: 7pt;\n",
       "  background-color: #828282;\n",
       "  color: #f1f1f1;\n",
       "}\n",
       "#T_73740_row11_col16 {\n",
       "  font-size: 7pt;\n",
       "  background-color: #c3c3c3;\n",
       "  color: #000000;\n",
       "}\n",
       "#T_73740_row12_col14 {\n",
       "  font-size: 7pt;\n",
       "  background-color: #c1c1c1;\n",
       "  color: #000000;\n",
       "}\n",
       "#T_73740_row12_col15 {\n",
       "  font-size: 7pt;\n",
       "  background-color: #323232;\n",
       "  color: #f1f1f1;\n",
       "}\n",
       "#T_73740_row12_col16 {\n",
       "  font-size: 7pt;\n",
       "  background-color: #070707;\n",
       "  color: #f1f1f1;\n",
       "}\n",
       "#T_73740_row12_col20 {\n",
       "  font-size: 7pt;\n",
       "  background-color: #3c3c3c;\n",
       "  color: #f1f1f1;\n",
       "}\n",
       "#T_73740_row12_col21, #T_73740_row19_col8, #T_73740_row22_col17 {\n",
       "  font-size: 7pt;\n",
       "  background-color: #fbfbfb;\n",
       "  color: #000000;\n",
       "}\n",
       "#T_73740_row13_col9, #T_73740_row16_col9 {\n",
       "  font-size: 7pt;\n",
       "  background-color: #f0f0f0;\n",
       "  color: #000000;\n",
       "}\n",
       "#T_73740_row13_col10 {\n",
       "  font-size: 7pt;\n",
       "  background-color: #989898;\n",
       "  color: #f1f1f1;\n",
       "}\n",
       "#T_73740_row13_col11, #T_73740_row13_col12, #T_73740_row13_col13 {\n",
       "  font-size: 7pt;\n",
       "  background-color: #4d4d4d;\n",
       "  color: #f1f1f1;\n",
       "}\n",
       "#T_73740_row13_col18 {\n",
       "  font-size: 7pt;\n",
       "  background-color: #111111;\n",
       "  color: #f1f1f1;\n",
       "}\n",
       "#T_73740_row13_col19 {\n",
       "  font-size: 7pt;\n",
       "  background-color: #b4b4b4;\n",
       "  color: #000000;\n",
       "}\n",
       "#T_73740_row13_col20 {\n",
       "  font-size: 7pt;\n",
       "  background-color: #f2f2f2;\n",
       "  color: #000000;\n",
       "}\n",
       "#T_73740_row14_col8, #T_73740_row15_col8, #T_73740_row16_col12, #T_73740_row16_col13, #T_73740_row16_col14, #T_73740_row16_col15, #T_73740_row23_col15 {\n",
       "  font-size: 7pt;\n",
       "  background-color: #e7e7e7;\n",
       "  color: #000000;\n",
       "}\n",
       "#T_73740_row14_col9 {\n",
       "  font-size: 7pt;\n",
       "  background-color: #232323;\n",
       "  color: #f1f1f1;\n",
       "}\n",
       "#T_73740_row14_col18 {\n",
       "  font-size: 7pt;\n",
       "  background-color: #5f5f5f;\n",
       "  color: #f1f1f1;\n",
       "}\n",
       "#T_73740_row15_col19, #T_73740_row16_col19, #T_73740_row17_col19, #T_73740_row18_col19, #T_73740_row19_col19 {\n",
       "  font-size: 7pt;\n",
       "  background-color: #d0d0d0;\n",
       "  color: #000000;\n",
       "}\n",
       "#T_73740_row16_col10 {\n",
       "  font-size: 7pt;\n",
       "  background-color: #9a9a9a;\n",
       "  color: #f1f1f1;\n",
       "}\n",
       "#T_73740_row16_col11 {\n",
       "  font-size: 7pt;\n",
       "  background-color: #e1e1e1;\n",
       "  color: #000000;\n",
       "}\n",
       "#T_73740_row16_col16 {\n",
       "  font-size: 7pt;\n",
       "  background-color: #848484;\n",
       "  color: #f1f1f1;\n",
       "}\n",
       "#T_73740_row19_col7 {\n",
       "  font-size: 7pt;\n",
       "  background-color: #cecece;\n",
       "  color: #000000;\n",
       "}\n",
       "#T_73740_row19_col15 {\n",
       "  font-size: 7pt;\n",
       "  background-color: #b9b9b9;\n",
       "  color: #000000;\n",
       "}\n",
       "#T_73740_row19_col16 {\n",
       "  font-size: 7pt;\n",
       "  background-color: #0d0d0d;\n",
       "  color: #f1f1f1;\n",
       "}\n",
       "#T_73740_row20_col5 {\n",
       "  font-size: 7pt;\n",
       "  background-color: #cfcfcf;\n",
       "  color: #000000;\n",
       "}\n",
       "#T_73740_row20_col6 {\n",
       "  font-size: 7pt;\n",
       "  background-color: #585858;\n",
       "  color: #f1f1f1;\n",
       "}\n",
       "#T_73740_row20_col13 {\n",
       "  font-size: 7pt;\n",
       "  background-color: #f7f7f7;\n",
       "  color: #000000;\n",
       "}\n",
       "#T_73740_row20_col14 {\n",
       "  font-size: 7pt;\n",
       "  background-color: #c0c0c0;\n",
       "  color: #000000;\n",
       "}\n",
       "#T_73740_row20_col15 {\n",
       "  font-size: 7pt;\n",
       "  background-color: #101010;\n",
       "  color: #f1f1f1;\n",
       "}\n",
       "#T_73740_row20_col19 {\n",
       "  font-size: 7pt;\n",
       "  background-color: #d8d8d8;\n",
       "  color: #000000;\n",
       "}\n",
       "#T_73740_row21_col8 {\n",
       "  font-size: 7pt;\n",
       "  background-color: #7e7e7e;\n",
       "  color: #f1f1f1;\n",
       "}\n",
       "#T_73740_row21_col9 {\n",
       "  font-size: 7pt;\n",
       "  background-color: #8d8d8d;\n",
       "  color: #f1f1f1;\n",
       "}\n",
       "#T_73740_row21_col10, #T_73740_row21_col11, #T_73740_row21_col12 {\n",
       "  font-size: 7pt;\n",
       "  background-color: #8e8e8e;\n",
       "  color: #f1f1f1;\n",
       "}\n",
       "#T_73740_row21_col13 {\n",
       "  font-size: 7pt;\n",
       "  background-color: #3f3f3f;\n",
       "  color: #f1f1f1;\n",
       "}\n",
       "#T_73740_row21_col17 {\n",
       "  font-size: 7pt;\n",
       "  background-color: #535353;\n",
       "  color: #f1f1f1;\n",
       "}\n",
       "#T_73740_row21_col18 {\n",
       "  font-size: 7pt;\n",
       "  background-color: #c8c8c8;\n",
       "  color: #000000;\n",
       "}\n",
       "#T_73740_row22_col16 {\n",
       "  font-size: 7pt;\n",
       "  background-color: #797979;\n",
       "  color: #f1f1f1;\n",
       "}\n",
       "#T_73740_row23_col6 {\n",
       "  font-size: 7pt;\n",
       "  background-color: #737373;\n",
       "  color: #f1f1f1;\n",
       "}\n",
       "#T_73740_row23_col12 {\n",
       "  font-size: 7pt;\n",
       "  background-color: #2b2b2b;\n",
       "  color: #f1f1f1;\n",
       "}\n",
       "#T_73740_row23_col13 {\n",
       "  font-size: 7pt;\n",
       "  background-color: #393939;\n",
       "  color: #f1f1f1;\n",
       "}\n",
       "#T_73740_row24_col7, #T_73740_row24_col11 {\n",
       "  font-size: 7pt;\n",
       "  background-color: #b3b3b3;\n",
       "  color: #000000;\n",
       "}\n",
       "#T_73740_row24_col8 {\n",
       "  font-size: 7pt;\n",
       "  background-color: #141414;\n",
       "  color: #f1f1f1;\n",
       "}\n",
       "</style>\n",
       "<table id=\"T_73740\">\n",
       "  <thead>\n",
       "    <tr>\n",
       "      <th class=\"blank level0\" >&nbsp;</th>\n",
       "      <th id=\"T_73740_level0_col0\" class=\"col_heading level0 col0\" >0</th>\n",
       "      <th id=\"T_73740_level0_col1\" class=\"col_heading level0 col1\" >1</th>\n",
       "      <th id=\"T_73740_level0_col2\" class=\"col_heading level0 col2\" >2</th>\n",
       "      <th id=\"T_73740_level0_col3\" class=\"col_heading level0 col3\" >3</th>\n",
       "      <th id=\"T_73740_level0_col4\" class=\"col_heading level0 col4\" >4</th>\n",
       "      <th id=\"T_73740_level0_col5\" class=\"col_heading level0 col5\" >5</th>\n",
       "      <th id=\"T_73740_level0_col6\" class=\"col_heading level0 col6\" >6</th>\n",
       "      <th id=\"T_73740_level0_col7\" class=\"col_heading level0 col7\" >7</th>\n",
       "      <th id=\"T_73740_level0_col8\" class=\"col_heading level0 col8\" >8</th>\n",
       "      <th id=\"T_73740_level0_col9\" class=\"col_heading level0 col9\" >9</th>\n",
       "      <th id=\"T_73740_level0_col10\" class=\"col_heading level0 col10\" >10</th>\n",
       "      <th id=\"T_73740_level0_col11\" class=\"col_heading level0 col11\" >11</th>\n",
       "      <th id=\"T_73740_level0_col12\" class=\"col_heading level0 col12\" >12</th>\n",
       "      <th id=\"T_73740_level0_col13\" class=\"col_heading level0 col13\" >13</th>\n",
       "      <th id=\"T_73740_level0_col14\" class=\"col_heading level0 col14\" >14</th>\n",
       "      <th id=\"T_73740_level0_col15\" class=\"col_heading level0 col15\" >15</th>\n",
       "      <th id=\"T_73740_level0_col16\" class=\"col_heading level0 col16\" >16</th>\n",
       "      <th id=\"T_73740_level0_col17\" class=\"col_heading level0 col17\" >17</th>\n",
       "      <th id=\"T_73740_level0_col18\" class=\"col_heading level0 col18\" >18</th>\n",
       "      <th id=\"T_73740_level0_col19\" class=\"col_heading level0 col19\" >19</th>\n",
       "      <th id=\"T_73740_level0_col20\" class=\"col_heading level0 col20\" >20</th>\n",
       "      <th id=\"T_73740_level0_col21\" class=\"col_heading level0 col21\" >21</th>\n",
       "      <th id=\"T_73740_level0_col22\" class=\"col_heading level0 col22\" >22</th>\n",
       "      <th id=\"T_73740_level0_col23\" class=\"col_heading level0 col23\" >23</th>\n",
       "      <th id=\"T_73740_level0_col24\" class=\"col_heading level0 col24\" >24</th>\n",
       "      <th id=\"T_73740_level0_col25\" class=\"col_heading level0 col25\" >25</th>\n",
       "      <th id=\"T_73740_level0_col26\" class=\"col_heading level0 col26\" >26</th>\n",
       "      <th id=\"T_73740_level0_col27\" class=\"col_heading level0 col27\" >27</th>\n",
       "    </tr>\n",
       "  </thead>\n",
       "  <tbody>\n",
       "    <tr>\n",
       "      <th id=\"T_73740_level0_row0\" class=\"row_heading level0 row0\" >0</th>\n",
       "      <td id=\"T_73740_row0_col0\" class=\"data row0 col0\" >0.00</td>\n",
       "      <td id=\"T_73740_row0_col1\" class=\"data row0 col1\" >0.00</td>\n",
       "      <td id=\"T_73740_row0_col2\" class=\"data row0 col2\" >0.00</td>\n",
       "      <td id=\"T_73740_row0_col3\" class=\"data row0 col3\" >0.00</td>\n",
       "      <td id=\"T_73740_row0_col4\" class=\"data row0 col4\" >0.00</td>\n",
       "      <td id=\"T_73740_row0_col5\" class=\"data row0 col5\" >0.00</td>\n",
       "      <td id=\"T_73740_row0_col6\" class=\"data row0 col6\" >0.00</td>\n",
       "      <td id=\"T_73740_row0_col7\" class=\"data row0 col7\" >0.00</td>\n",
       "      <td id=\"T_73740_row0_col8\" class=\"data row0 col8\" >0.00</td>\n",
       "      <td id=\"T_73740_row0_col9\" class=\"data row0 col9\" >0.00</td>\n",
       "      <td id=\"T_73740_row0_col10\" class=\"data row0 col10\" >0.00</td>\n",
       "      <td id=\"T_73740_row0_col11\" class=\"data row0 col11\" >0.00</td>\n",
       "      <td id=\"T_73740_row0_col12\" class=\"data row0 col12\" >0.00</td>\n",
       "      <td id=\"T_73740_row0_col13\" class=\"data row0 col13\" >0.00</td>\n",
       "      <td id=\"T_73740_row0_col14\" class=\"data row0 col14\" >0.00</td>\n",
       "      <td id=\"T_73740_row0_col15\" class=\"data row0 col15\" >0.00</td>\n",
       "      <td id=\"T_73740_row0_col16\" class=\"data row0 col16\" >0.00</td>\n",
       "      <td id=\"T_73740_row0_col17\" class=\"data row0 col17\" >0.00</td>\n",
       "      <td id=\"T_73740_row0_col18\" class=\"data row0 col18\" >0.00</td>\n",
       "      <td id=\"T_73740_row0_col19\" class=\"data row0 col19\" >0.00</td>\n",
       "      <td id=\"T_73740_row0_col20\" class=\"data row0 col20\" >0.00</td>\n",
       "      <td id=\"T_73740_row0_col21\" class=\"data row0 col21\" >0.00</td>\n",
       "      <td id=\"T_73740_row0_col22\" class=\"data row0 col22\" >0.00</td>\n",
       "      <td id=\"T_73740_row0_col23\" class=\"data row0 col23\" >0.00</td>\n",
       "      <td id=\"T_73740_row0_col24\" class=\"data row0 col24\" >0.00</td>\n",
       "      <td id=\"T_73740_row0_col25\" class=\"data row0 col25\" >0.00</td>\n",
       "      <td id=\"T_73740_row0_col26\" class=\"data row0 col26\" >0.00</td>\n",
       "      <td id=\"T_73740_row0_col27\" class=\"data row0 col27\" >0.00</td>\n",
       "    </tr>\n",
       "    <tr>\n",
       "      <th id=\"T_73740_level0_row1\" class=\"row_heading level0 row1\" >1</th>\n",
       "      <td id=\"T_73740_row1_col0\" class=\"data row1 col0\" >0.00</td>\n",
       "      <td id=\"T_73740_row1_col1\" class=\"data row1 col1\" >0.00</td>\n",
       "      <td id=\"T_73740_row1_col2\" class=\"data row1 col2\" >0.00</td>\n",
       "      <td id=\"T_73740_row1_col3\" class=\"data row1 col3\" >0.00</td>\n",
       "      <td id=\"T_73740_row1_col4\" class=\"data row1 col4\" >0.00</td>\n",
       "      <td id=\"T_73740_row1_col5\" class=\"data row1 col5\" >0.00</td>\n",
       "      <td id=\"T_73740_row1_col6\" class=\"data row1 col6\" >0.00</td>\n",
       "      <td id=\"T_73740_row1_col7\" class=\"data row1 col7\" >0.00</td>\n",
       "      <td id=\"T_73740_row1_col8\" class=\"data row1 col8\" >0.00</td>\n",
       "      <td id=\"T_73740_row1_col9\" class=\"data row1 col9\" >0.00</td>\n",
       "      <td id=\"T_73740_row1_col10\" class=\"data row1 col10\" >0.00</td>\n",
       "      <td id=\"T_73740_row1_col11\" class=\"data row1 col11\" >0.00</td>\n",
       "      <td id=\"T_73740_row1_col12\" class=\"data row1 col12\" >0.00</td>\n",
       "      <td id=\"T_73740_row1_col13\" class=\"data row1 col13\" >0.00</td>\n",
       "      <td id=\"T_73740_row1_col14\" class=\"data row1 col14\" >0.00</td>\n",
       "      <td id=\"T_73740_row1_col15\" class=\"data row1 col15\" >0.00</td>\n",
       "      <td id=\"T_73740_row1_col16\" class=\"data row1 col16\" >0.00</td>\n",
       "      <td id=\"T_73740_row1_col17\" class=\"data row1 col17\" >0.00</td>\n",
       "      <td id=\"T_73740_row1_col18\" class=\"data row1 col18\" >0.00</td>\n",
       "      <td id=\"T_73740_row1_col19\" class=\"data row1 col19\" >0.00</td>\n",
       "      <td id=\"T_73740_row1_col20\" class=\"data row1 col20\" >0.00</td>\n",
       "      <td id=\"T_73740_row1_col21\" class=\"data row1 col21\" >0.00</td>\n",
       "      <td id=\"T_73740_row1_col22\" class=\"data row1 col22\" >0.00</td>\n",
       "      <td id=\"T_73740_row1_col23\" class=\"data row1 col23\" >0.00</td>\n",
       "      <td id=\"T_73740_row1_col24\" class=\"data row1 col24\" >0.00</td>\n",
       "      <td id=\"T_73740_row1_col25\" class=\"data row1 col25\" >0.00</td>\n",
       "      <td id=\"T_73740_row1_col26\" class=\"data row1 col26\" >0.00</td>\n",
       "      <td id=\"T_73740_row1_col27\" class=\"data row1 col27\" >0.00</td>\n",
       "    </tr>\n",
       "    <tr>\n",
       "      <th id=\"T_73740_level0_row2\" class=\"row_heading level0 row2\" >2</th>\n",
       "      <td id=\"T_73740_row2_col0\" class=\"data row2 col0\" >0.00</td>\n",
       "      <td id=\"T_73740_row2_col1\" class=\"data row2 col1\" >0.00</td>\n",
       "      <td id=\"T_73740_row2_col2\" class=\"data row2 col2\" >0.00</td>\n",
       "      <td id=\"T_73740_row2_col3\" class=\"data row2 col3\" >0.00</td>\n",
       "      <td id=\"T_73740_row2_col4\" class=\"data row2 col4\" >0.00</td>\n",
       "      <td id=\"T_73740_row2_col5\" class=\"data row2 col5\" >0.00</td>\n",
       "      <td id=\"T_73740_row2_col6\" class=\"data row2 col6\" >0.00</td>\n",
       "      <td id=\"T_73740_row2_col7\" class=\"data row2 col7\" >0.00</td>\n",
       "      <td id=\"T_73740_row2_col8\" class=\"data row2 col8\" >0.00</td>\n",
       "      <td id=\"T_73740_row2_col9\" class=\"data row2 col9\" >0.00</td>\n",
       "      <td id=\"T_73740_row2_col10\" class=\"data row2 col10\" >0.00</td>\n",
       "      <td id=\"T_73740_row2_col11\" class=\"data row2 col11\" >0.00</td>\n",
       "      <td id=\"T_73740_row2_col12\" class=\"data row2 col12\" >0.00</td>\n",
       "      <td id=\"T_73740_row2_col13\" class=\"data row2 col13\" >0.00</td>\n",
       "      <td id=\"T_73740_row2_col14\" class=\"data row2 col14\" >0.00</td>\n",
       "      <td id=\"T_73740_row2_col15\" class=\"data row2 col15\" >0.00</td>\n",
       "      <td id=\"T_73740_row2_col16\" class=\"data row2 col16\" >0.00</td>\n",
       "      <td id=\"T_73740_row2_col17\" class=\"data row2 col17\" >0.00</td>\n",
       "      <td id=\"T_73740_row2_col18\" class=\"data row2 col18\" >0.00</td>\n",
       "      <td id=\"T_73740_row2_col19\" class=\"data row2 col19\" >0.00</td>\n",
       "      <td id=\"T_73740_row2_col20\" class=\"data row2 col20\" >0.00</td>\n",
       "      <td id=\"T_73740_row2_col21\" class=\"data row2 col21\" >0.00</td>\n",
       "      <td id=\"T_73740_row2_col22\" class=\"data row2 col22\" >0.00</td>\n",
       "      <td id=\"T_73740_row2_col23\" class=\"data row2 col23\" >0.00</td>\n",
       "      <td id=\"T_73740_row2_col24\" class=\"data row2 col24\" >0.00</td>\n",
       "      <td id=\"T_73740_row2_col25\" class=\"data row2 col25\" >0.00</td>\n",
       "      <td id=\"T_73740_row2_col26\" class=\"data row2 col26\" >0.00</td>\n",
       "      <td id=\"T_73740_row2_col27\" class=\"data row2 col27\" >0.00</td>\n",
       "    </tr>\n",
       "    <tr>\n",
       "      <th id=\"T_73740_level0_row3\" class=\"row_heading level0 row3\" >3</th>\n",
       "      <td id=\"T_73740_row3_col0\" class=\"data row3 col0\" >0.00</td>\n",
       "      <td id=\"T_73740_row3_col1\" class=\"data row3 col1\" >0.00</td>\n",
       "      <td id=\"T_73740_row3_col2\" class=\"data row3 col2\" >0.00</td>\n",
       "      <td id=\"T_73740_row3_col3\" class=\"data row3 col3\" >0.00</td>\n",
       "      <td id=\"T_73740_row3_col4\" class=\"data row3 col4\" >0.00</td>\n",
       "      <td id=\"T_73740_row3_col5\" class=\"data row3 col5\" >0.00</td>\n",
       "      <td id=\"T_73740_row3_col6\" class=\"data row3 col6\" >0.00</td>\n",
       "      <td id=\"T_73740_row3_col7\" class=\"data row3 col7\" >0.00</td>\n",
       "      <td id=\"T_73740_row3_col8\" class=\"data row3 col8\" >0.00</td>\n",
       "      <td id=\"T_73740_row3_col9\" class=\"data row3 col9\" >0.00</td>\n",
       "      <td id=\"T_73740_row3_col10\" class=\"data row3 col10\" >0.00</td>\n",
       "      <td id=\"T_73740_row3_col11\" class=\"data row3 col11\" >0.00</td>\n",
       "      <td id=\"T_73740_row3_col12\" class=\"data row3 col12\" >0.00</td>\n",
       "      <td id=\"T_73740_row3_col13\" class=\"data row3 col13\" >0.00</td>\n",
       "      <td id=\"T_73740_row3_col14\" class=\"data row3 col14\" >0.00</td>\n",
       "      <td id=\"T_73740_row3_col15\" class=\"data row3 col15\" >0.00</td>\n",
       "      <td id=\"T_73740_row3_col16\" class=\"data row3 col16\" >0.00</td>\n",
       "      <td id=\"T_73740_row3_col17\" class=\"data row3 col17\" >0.00</td>\n",
       "      <td id=\"T_73740_row3_col18\" class=\"data row3 col18\" >0.00</td>\n",
       "      <td id=\"T_73740_row3_col19\" class=\"data row3 col19\" >0.00</td>\n",
       "      <td id=\"T_73740_row3_col20\" class=\"data row3 col20\" >0.00</td>\n",
       "      <td id=\"T_73740_row3_col21\" class=\"data row3 col21\" >0.00</td>\n",
       "      <td id=\"T_73740_row3_col22\" class=\"data row3 col22\" >0.00</td>\n",
       "      <td id=\"T_73740_row3_col23\" class=\"data row3 col23\" >0.00</td>\n",
       "      <td id=\"T_73740_row3_col24\" class=\"data row3 col24\" >0.00</td>\n",
       "      <td id=\"T_73740_row3_col25\" class=\"data row3 col25\" >0.00</td>\n",
       "      <td id=\"T_73740_row3_col26\" class=\"data row3 col26\" >0.00</td>\n",
       "      <td id=\"T_73740_row3_col27\" class=\"data row3 col27\" >0.00</td>\n",
       "    </tr>\n",
       "    <tr>\n",
       "      <th id=\"T_73740_level0_row4\" class=\"row_heading level0 row4\" >4</th>\n",
       "      <td id=\"T_73740_row4_col0\" class=\"data row4 col0\" >0.00</td>\n",
       "      <td id=\"T_73740_row4_col1\" class=\"data row4 col1\" >0.00</td>\n",
       "      <td id=\"T_73740_row4_col2\" class=\"data row4 col2\" >0.00</td>\n",
       "      <td id=\"T_73740_row4_col3\" class=\"data row4 col3\" >0.00</td>\n",
       "      <td id=\"T_73740_row4_col4\" class=\"data row4 col4\" >0.00</td>\n",
       "      <td id=\"T_73740_row4_col5\" class=\"data row4 col5\" >0.00</td>\n",
       "      <td id=\"T_73740_row4_col6\" class=\"data row4 col6\" >0.00</td>\n",
       "      <td id=\"T_73740_row4_col7\" class=\"data row4 col7\" >0.00</td>\n",
       "      <td id=\"T_73740_row4_col8\" class=\"data row4 col8\" >0.00</td>\n",
       "      <td id=\"T_73740_row4_col9\" class=\"data row4 col9\" >0.00</td>\n",
       "      <td id=\"T_73740_row4_col10\" class=\"data row4 col10\" >0.00</td>\n",
       "      <td id=\"T_73740_row4_col11\" class=\"data row4 col11\" >0.00</td>\n",
       "      <td id=\"T_73740_row4_col12\" class=\"data row4 col12\" >0.00</td>\n",
       "      <td id=\"T_73740_row4_col13\" class=\"data row4 col13\" >0.00</td>\n",
       "      <td id=\"T_73740_row4_col14\" class=\"data row4 col14\" >0.00</td>\n",
       "      <td id=\"T_73740_row4_col15\" class=\"data row4 col15\" >0.00</td>\n",
       "      <td id=\"T_73740_row4_col16\" class=\"data row4 col16\" >0.00</td>\n",
       "      <td id=\"T_73740_row4_col17\" class=\"data row4 col17\" >0.00</td>\n",
       "      <td id=\"T_73740_row4_col18\" class=\"data row4 col18\" >0.00</td>\n",
       "      <td id=\"T_73740_row4_col19\" class=\"data row4 col19\" >0.00</td>\n",
       "      <td id=\"T_73740_row4_col20\" class=\"data row4 col20\" >0.00</td>\n",
       "      <td id=\"T_73740_row4_col21\" class=\"data row4 col21\" >0.00</td>\n",
       "      <td id=\"T_73740_row4_col22\" class=\"data row4 col22\" >0.00</td>\n",
       "      <td id=\"T_73740_row4_col23\" class=\"data row4 col23\" >0.00</td>\n",
       "      <td id=\"T_73740_row4_col24\" class=\"data row4 col24\" >0.00</td>\n",
       "      <td id=\"T_73740_row4_col25\" class=\"data row4 col25\" >0.00</td>\n",
       "      <td id=\"T_73740_row4_col26\" class=\"data row4 col26\" >0.00</td>\n",
       "      <td id=\"T_73740_row4_col27\" class=\"data row4 col27\" >0.00</td>\n",
       "    </tr>\n",
       "    <tr>\n",
       "      <th id=\"T_73740_level0_row5\" class=\"row_heading level0 row5\" >5</th>\n",
       "      <td id=\"T_73740_row5_col0\" class=\"data row5 col0\" >0.00</td>\n",
       "      <td id=\"T_73740_row5_col1\" class=\"data row5 col1\" >0.00</td>\n",
       "      <td id=\"T_73740_row5_col2\" class=\"data row5 col2\" >0.00</td>\n",
       "      <td id=\"T_73740_row5_col3\" class=\"data row5 col3\" >0.00</td>\n",
       "      <td id=\"T_73740_row5_col4\" class=\"data row5 col4\" >0.00</td>\n",
       "      <td id=\"T_73740_row5_col5\" class=\"data row5 col5\" >0.00</td>\n",
       "      <td id=\"T_73740_row5_col6\" class=\"data row5 col6\" >0.00</td>\n",
       "      <td id=\"T_73740_row5_col7\" class=\"data row5 col7\" >0.00</td>\n",
       "      <td id=\"T_73740_row5_col8\" class=\"data row5 col8\" >0.00</td>\n",
       "      <td id=\"T_73740_row5_col9\" class=\"data row5 col9\" >0.00</td>\n",
       "      <td id=\"T_73740_row5_col10\" class=\"data row5 col10\" >0.00</td>\n",
       "      <td id=\"T_73740_row5_col11\" class=\"data row5 col11\" >0.15</td>\n",
       "      <td id=\"T_73740_row5_col12\" class=\"data row5 col12\" >0.17</td>\n",
       "      <td id=\"T_73740_row5_col13\" class=\"data row5 col13\" >0.41</td>\n",
       "      <td id=\"T_73740_row5_col14\" class=\"data row5 col14\" >1.00</td>\n",
       "      <td id=\"T_73740_row5_col15\" class=\"data row5 col15\" >0.99</td>\n",
       "      <td id=\"T_73740_row5_col16\" class=\"data row5 col16\" >0.99</td>\n",
       "      <td id=\"T_73740_row5_col17\" class=\"data row5 col17\" >0.99</td>\n",
       "      <td id=\"T_73740_row5_col18\" class=\"data row5 col18\" >0.99</td>\n",
       "      <td id=\"T_73740_row5_col19\" class=\"data row5 col19\" >0.99</td>\n",
       "      <td id=\"T_73740_row5_col20\" class=\"data row5 col20\" >0.68</td>\n",
       "      <td id=\"T_73740_row5_col21\" class=\"data row5 col21\" >0.02</td>\n",
       "      <td id=\"T_73740_row5_col22\" class=\"data row5 col22\" >0.00</td>\n",
       "      <td id=\"T_73740_row5_col23\" class=\"data row5 col23\" >0.00</td>\n",
       "      <td id=\"T_73740_row5_col24\" class=\"data row5 col24\" >0.00</td>\n",
       "      <td id=\"T_73740_row5_col25\" class=\"data row5 col25\" >0.00</td>\n",
       "      <td id=\"T_73740_row5_col26\" class=\"data row5 col26\" >0.00</td>\n",
       "      <td id=\"T_73740_row5_col27\" class=\"data row5 col27\" >0.00</td>\n",
       "    </tr>\n",
       "    <tr>\n",
       "      <th id=\"T_73740_level0_row6\" class=\"row_heading level0 row6\" >6</th>\n",
       "      <td id=\"T_73740_row6_col0\" class=\"data row6 col0\" >0.00</td>\n",
       "      <td id=\"T_73740_row6_col1\" class=\"data row6 col1\" >0.00</td>\n",
       "      <td id=\"T_73740_row6_col2\" class=\"data row6 col2\" >0.00</td>\n",
       "      <td id=\"T_73740_row6_col3\" class=\"data row6 col3\" >0.00</td>\n",
       "      <td id=\"T_73740_row6_col4\" class=\"data row6 col4\" >0.00</td>\n",
       "      <td id=\"T_73740_row6_col5\" class=\"data row6 col5\" >0.00</td>\n",
       "      <td id=\"T_73740_row6_col6\" class=\"data row6 col6\" >0.00</td>\n",
       "      <td id=\"T_73740_row6_col7\" class=\"data row6 col7\" >0.00</td>\n",
       "      <td id=\"T_73740_row6_col8\" class=\"data row6 col8\" >0.00</td>\n",
       "      <td id=\"T_73740_row6_col9\" class=\"data row6 col9\" >0.17</td>\n",
       "      <td id=\"T_73740_row6_col10\" class=\"data row6 col10\" >0.54</td>\n",
       "      <td id=\"T_73740_row6_col11\" class=\"data row6 col11\" >0.88</td>\n",
       "      <td id=\"T_73740_row6_col12\" class=\"data row6 col12\" >0.88</td>\n",
       "      <td id=\"T_73740_row6_col13\" class=\"data row6 col13\" >0.98</td>\n",
       "      <td id=\"T_73740_row6_col14\" class=\"data row6 col14\" >0.99</td>\n",
       "      <td id=\"T_73740_row6_col15\" class=\"data row6 col15\" >0.98</td>\n",
       "      <td id=\"T_73740_row6_col16\" class=\"data row6 col16\" >0.98</td>\n",
       "      <td id=\"T_73740_row6_col17\" class=\"data row6 col17\" >0.98</td>\n",
       "      <td id=\"T_73740_row6_col18\" class=\"data row6 col18\" >0.98</td>\n",
       "      <td id=\"T_73740_row6_col19\" class=\"data row6 col19\" >0.98</td>\n",
       "      <td id=\"T_73740_row6_col20\" class=\"data row6 col20\" >0.98</td>\n",
       "      <td id=\"T_73740_row6_col21\" class=\"data row6 col21\" >0.62</td>\n",
       "      <td id=\"T_73740_row6_col22\" class=\"data row6 col22\" >0.05</td>\n",
       "      <td id=\"T_73740_row6_col23\" class=\"data row6 col23\" >0.00</td>\n",
       "      <td id=\"T_73740_row6_col24\" class=\"data row6 col24\" >0.00</td>\n",
       "      <td id=\"T_73740_row6_col25\" class=\"data row6 col25\" >0.00</td>\n",
       "      <td id=\"T_73740_row6_col26\" class=\"data row6 col26\" >0.00</td>\n",
       "      <td id=\"T_73740_row6_col27\" class=\"data row6 col27\" >0.00</td>\n",
       "    </tr>\n",
       "    <tr>\n",
       "      <th id=\"T_73740_level0_row7\" class=\"row_heading level0 row7\" >7</th>\n",
       "      <td id=\"T_73740_row7_col0\" class=\"data row7 col0\" >0.00</td>\n",
       "      <td id=\"T_73740_row7_col1\" class=\"data row7 col1\" >0.00</td>\n",
       "      <td id=\"T_73740_row7_col2\" class=\"data row7 col2\" >0.00</td>\n",
       "      <td id=\"T_73740_row7_col3\" class=\"data row7 col3\" >0.00</td>\n",
       "      <td id=\"T_73740_row7_col4\" class=\"data row7 col4\" >0.00</td>\n",
       "      <td id=\"T_73740_row7_col5\" class=\"data row7 col5\" >0.00</td>\n",
       "      <td id=\"T_73740_row7_col6\" class=\"data row7 col6\" >0.00</td>\n",
       "      <td id=\"T_73740_row7_col7\" class=\"data row7 col7\" >0.00</td>\n",
       "      <td id=\"T_73740_row7_col8\" class=\"data row7 col8\" >0.00</td>\n",
       "      <td id=\"T_73740_row7_col9\" class=\"data row7 col9\" >0.70</td>\n",
       "      <td id=\"T_73740_row7_col10\" class=\"data row7 col10\" >0.98</td>\n",
       "      <td id=\"T_73740_row7_col11\" class=\"data row7 col11\" >0.98</td>\n",
       "      <td id=\"T_73740_row7_col12\" class=\"data row7 col12\" >0.98</td>\n",
       "      <td id=\"T_73740_row7_col13\" class=\"data row7 col13\" >0.98</td>\n",
       "      <td id=\"T_73740_row7_col14\" class=\"data row7 col14\" >0.99</td>\n",
       "      <td id=\"T_73740_row7_col15\" class=\"data row7 col15\" >0.98</td>\n",
       "      <td id=\"T_73740_row7_col16\" class=\"data row7 col16\" >0.98</td>\n",
       "      <td id=\"T_73740_row7_col17\" class=\"data row7 col17\" >0.98</td>\n",
       "      <td id=\"T_73740_row7_col18\" class=\"data row7 col18\" >0.98</td>\n",
       "      <td id=\"T_73740_row7_col19\" class=\"data row7 col19\" >0.98</td>\n",
       "      <td id=\"T_73740_row7_col20\" class=\"data row7 col20\" >0.98</td>\n",
       "      <td id=\"T_73740_row7_col21\" class=\"data row7 col21\" >0.98</td>\n",
       "      <td id=\"T_73740_row7_col22\" class=\"data row7 col22\" >0.23</td>\n",
       "      <td id=\"T_73740_row7_col23\" class=\"data row7 col23\" >0.00</td>\n",
       "      <td id=\"T_73740_row7_col24\" class=\"data row7 col24\" >0.00</td>\n",
       "      <td id=\"T_73740_row7_col25\" class=\"data row7 col25\" >0.00</td>\n",
       "      <td id=\"T_73740_row7_col26\" class=\"data row7 col26\" >0.00</td>\n",
       "      <td id=\"T_73740_row7_col27\" class=\"data row7 col27\" >0.00</td>\n",
       "    </tr>\n",
       "    <tr>\n",
       "      <th id=\"T_73740_level0_row8\" class=\"row_heading level0 row8\" >8</th>\n",
       "      <td id=\"T_73740_row8_col0\" class=\"data row8 col0\" >0.00</td>\n",
       "      <td id=\"T_73740_row8_col1\" class=\"data row8 col1\" >0.00</td>\n",
       "      <td id=\"T_73740_row8_col2\" class=\"data row8 col2\" >0.00</td>\n",
       "      <td id=\"T_73740_row8_col3\" class=\"data row8 col3\" >0.00</td>\n",
       "      <td id=\"T_73740_row8_col4\" class=\"data row8 col4\" >0.00</td>\n",
       "      <td id=\"T_73740_row8_col5\" class=\"data row8 col5\" >0.00</td>\n",
       "      <td id=\"T_73740_row8_col6\" class=\"data row8 col6\" >0.00</td>\n",
       "      <td id=\"T_73740_row8_col7\" class=\"data row8 col7\" >0.00</td>\n",
       "      <td id=\"T_73740_row8_col8\" class=\"data row8 col8\" >0.00</td>\n",
       "      <td id=\"T_73740_row8_col9\" class=\"data row8 col9\" >0.43</td>\n",
       "      <td id=\"T_73740_row8_col10\" class=\"data row8 col10\" >0.98</td>\n",
       "      <td id=\"T_73740_row8_col11\" class=\"data row8 col11\" >0.98</td>\n",
       "      <td id=\"T_73740_row8_col12\" class=\"data row8 col12\" >0.90</td>\n",
       "      <td id=\"T_73740_row8_col13\" class=\"data row8 col13\" >0.52</td>\n",
       "      <td id=\"T_73740_row8_col14\" class=\"data row8 col14\" >0.52</td>\n",
       "      <td id=\"T_73740_row8_col15\" class=\"data row8 col15\" >0.52</td>\n",
       "      <td id=\"T_73740_row8_col16\" class=\"data row8 col16\" >0.52</td>\n",
       "      <td id=\"T_73740_row8_col17\" class=\"data row8 col17\" >0.74</td>\n",
       "      <td id=\"T_73740_row8_col18\" class=\"data row8 col18\" >0.98</td>\n",
       "      <td id=\"T_73740_row8_col19\" class=\"data row8 col19\" >0.98</td>\n",
       "      <td id=\"T_73740_row8_col20\" class=\"data row8 col20\" >0.98</td>\n",
       "      <td id=\"T_73740_row8_col21\" class=\"data row8 col21\" >0.98</td>\n",
       "      <td id=\"T_73740_row8_col22\" class=\"data row8 col22\" >0.23</td>\n",
       "      <td id=\"T_73740_row8_col23\" class=\"data row8 col23\" >0.00</td>\n",
       "      <td id=\"T_73740_row8_col24\" class=\"data row8 col24\" >0.00</td>\n",
       "      <td id=\"T_73740_row8_col25\" class=\"data row8 col25\" >0.00</td>\n",
       "      <td id=\"T_73740_row8_col26\" class=\"data row8 col26\" >0.00</td>\n",
       "      <td id=\"T_73740_row8_col27\" class=\"data row8 col27\" >0.00</td>\n",
       "    </tr>\n",
       "    <tr>\n",
       "      <th id=\"T_73740_level0_row9\" class=\"row_heading level0 row9\" >9</th>\n",
       "      <td id=\"T_73740_row9_col0\" class=\"data row9 col0\" >0.00</td>\n",
       "      <td id=\"T_73740_row9_col1\" class=\"data row9 col1\" >0.00</td>\n",
       "      <td id=\"T_73740_row9_col2\" class=\"data row9 col2\" >0.00</td>\n",
       "      <td id=\"T_73740_row9_col3\" class=\"data row9 col3\" >0.00</td>\n",
       "      <td id=\"T_73740_row9_col4\" class=\"data row9 col4\" >0.00</td>\n",
       "      <td id=\"T_73740_row9_col5\" class=\"data row9 col5\" >0.00</td>\n",
       "      <td id=\"T_73740_row9_col6\" class=\"data row9 col6\" >0.00</td>\n",
       "      <td id=\"T_73740_row9_col7\" class=\"data row9 col7\" >0.00</td>\n",
       "      <td id=\"T_73740_row9_col8\" class=\"data row9 col8\" >0.00</td>\n",
       "      <td id=\"T_73740_row9_col9\" class=\"data row9 col9\" >0.02</td>\n",
       "      <td id=\"T_73740_row9_col10\" class=\"data row9 col10\" >0.11</td>\n",
       "      <td id=\"T_73740_row9_col11\" class=\"data row9 col11\" >0.11</td>\n",
       "      <td id=\"T_73740_row9_col12\" class=\"data row9 col12\" >0.09</td>\n",
       "      <td id=\"T_73740_row9_col13\" class=\"data row9 col13\" >0.00</td>\n",
       "      <td id=\"T_73740_row9_col14\" class=\"data row9 col14\" >0.00</td>\n",
       "      <td id=\"T_73740_row9_col15\" class=\"data row9 col15\" >0.00</td>\n",
       "      <td id=\"T_73740_row9_col16\" class=\"data row9 col16\" >0.00</td>\n",
       "      <td id=\"T_73740_row9_col17\" class=\"data row9 col17\" >0.05</td>\n",
       "      <td id=\"T_73740_row9_col18\" class=\"data row9 col18\" >0.88</td>\n",
       "      <td id=\"T_73740_row9_col19\" class=\"data row9 col19\" >0.98</td>\n",
       "      <td id=\"T_73740_row9_col20\" class=\"data row9 col20\" >0.98</td>\n",
       "      <td id=\"T_73740_row9_col21\" class=\"data row9 col21\" >0.67</td>\n",
       "      <td id=\"T_73740_row9_col22\" class=\"data row9 col22\" >0.03</td>\n",
       "      <td id=\"T_73740_row9_col23\" class=\"data row9 col23\" >0.00</td>\n",
       "      <td id=\"T_73740_row9_col24\" class=\"data row9 col24\" >0.00</td>\n",
       "      <td id=\"T_73740_row9_col25\" class=\"data row9 col25\" >0.00</td>\n",
       "      <td id=\"T_73740_row9_col26\" class=\"data row9 col26\" >0.00</td>\n",
       "      <td id=\"T_73740_row9_col27\" class=\"data row9 col27\" >0.00</td>\n",
       "    </tr>\n",
       "    <tr>\n",
       "      <th id=\"T_73740_level0_row10\" class=\"row_heading level0 row10\" >10</th>\n",
       "      <td id=\"T_73740_row10_col0\" class=\"data row10 col0\" >0.00</td>\n",
       "      <td id=\"T_73740_row10_col1\" class=\"data row10 col1\" >0.00</td>\n",
       "      <td id=\"T_73740_row10_col2\" class=\"data row10 col2\" >0.00</td>\n",
       "      <td id=\"T_73740_row10_col3\" class=\"data row10 col3\" >0.00</td>\n",
       "      <td id=\"T_73740_row10_col4\" class=\"data row10 col4\" >0.00</td>\n",
       "      <td id=\"T_73740_row10_col5\" class=\"data row10 col5\" >0.00</td>\n",
       "      <td id=\"T_73740_row10_col6\" class=\"data row10 col6\" >0.00</td>\n",
       "      <td id=\"T_73740_row10_col7\" class=\"data row10 col7\" >0.00</td>\n",
       "      <td id=\"T_73740_row10_col8\" class=\"data row10 col8\" >0.00</td>\n",
       "      <td id=\"T_73740_row10_col9\" class=\"data row10 col9\" >0.00</td>\n",
       "      <td id=\"T_73740_row10_col10\" class=\"data row10 col10\" >0.00</td>\n",
       "      <td id=\"T_73740_row10_col11\" class=\"data row10 col11\" >0.00</td>\n",
       "      <td id=\"T_73740_row10_col12\" class=\"data row10 col12\" >0.00</td>\n",
       "      <td id=\"T_73740_row10_col13\" class=\"data row10 col13\" >0.00</td>\n",
       "      <td id=\"T_73740_row10_col14\" class=\"data row10 col14\" >0.00</td>\n",
       "      <td id=\"T_73740_row10_col15\" class=\"data row10 col15\" >0.00</td>\n",
       "      <td id=\"T_73740_row10_col16\" class=\"data row10 col16\" >0.00</td>\n",
       "      <td id=\"T_73740_row10_col17\" class=\"data row10 col17\" >0.33</td>\n",
       "      <td id=\"T_73740_row10_col18\" class=\"data row10 col18\" >0.95</td>\n",
       "      <td id=\"T_73740_row10_col19\" class=\"data row10 col19\" >0.98</td>\n",
       "      <td id=\"T_73740_row10_col20\" class=\"data row10 col20\" >0.98</td>\n",
       "      <td id=\"T_73740_row10_col21\" class=\"data row10 col21\" >0.56</td>\n",
       "      <td id=\"T_73740_row10_col22\" class=\"data row10 col22\" >0.00</td>\n",
       "      <td id=\"T_73740_row10_col23\" class=\"data row10 col23\" >0.00</td>\n",
       "      <td id=\"T_73740_row10_col24\" class=\"data row10 col24\" >0.00</td>\n",
       "      <td id=\"T_73740_row10_col25\" class=\"data row10 col25\" >0.00</td>\n",
       "      <td id=\"T_73740_row10_col26\" class=\"data row10 col26\" >0.00</td>\n",
       "      <td id=\"T_73740_row10_col27\" class=\"data row10 col27\" >0.00</td>\n",
       "    </tr>\n",
       "    <tr>\n",
       "      <th id=\"T_73740_level0_row11\" class=\"row_heading level0 row11\" >11</th>\n",
       "      <td id=\"T_73740_row11_col0\" class=\"data row11 col0\" >0.00</td>\n",
       "      <td id=\"T_73740_row11_col1\" class=\"data row11 col1\" >0.00</td>\n",
       "      <td id=\"T_73740_row11_col2\" class=\"data row11 col2\" >0.00</td>\n",
       "      <td id=\"T_73740_row11_col3\" class=\"data row11 col3\" >0.00</td>\n",
       "      <td id=\"T_73740_row11_col4\" class=\"data row11 col4\" >0.00</td>\n",
       "      <td id=\"T_73740_row11_col5\" class=\"data row11 col5\" >0.00</td>\n",
       "      <td id=\"T_73740_row11_col6\" class=\"data row11 col6\" >0.00</td>\n",
       "      <td id=\"T_73740_row11_col7\" class=\"data row11 col7\" >0.00</td>\n",
       "      <td id=\"T_73740_row11_col8\" class=\"data row11 col8\" >0.00</td>\n",
       "      <td id=\"T_73740_row11_col9\" class=\"data row11 col9\" >0.00</td>\n",
       "      <td id=\"T_73740_row11_col10\" class=\"data row11 col10\" >0.00</td>\n",
       "      <td id=\"T_73740_row11_col11\" class=\"data row11 col11\" >0.00</td>\n",
       "      <td id=\"T_73740_row11_col12\" class=\"data row11 col12\" >0.00</td>\n",
       "      <td id=\"T_73740_row11_col13\" class=\"data row11 col13\" >0.00</td>\n",
       "      <td id=\"T_73740_row11_col14\" class=\"data row11 col14\" >0.00</td>\n",
       "      <td id=\"T_73740_row11_col15\" class=\"data row11 col15\" >0.00</td>\n",
       "      <td id=\"T_73740_row11_col16\" class=\"data row11 col16\" >0.34</td>\n",
       "      <td id=\"T_73740_row11_col17\" class=\"data row11 col17\" >0.74</td>\n",
       "      <td id=\"T_73740_row11_col18\" class=\"data row11 col18\" >0.98</td>\n",
       "      <td id=\"T_73740_row11_col19\" class=\"data row11 col19\" >0.98</td>\n",
       "      <td id=\"T_73740_row11_col20\" class=\"data row11 col20\" >0.98</td>\n",
       "      <td id=\"T_73740_row11_col21\" class=\"data row11 col21\" >0.05</td>\n",
       "      <td id=\"T_73740_row11_col22\" class=\"data row11 col22\" >0.00</td>\n",
       "      <td id=\"T_73740_row11_col23\" class=\"data row11 col23\" >0.00</td>\n",
       "      <td id=\"T_73740_row11_col24\" class=\"data row11 col24\" >0.00</td>\n",
       "      <td id=\"T_73740_row11_col25\" class=\"data row11 col25\" >0.00</td>\n",
       "      <td id=\"T_73740_row11_col26\" class=\"data row11 col26\" >0.00</td>\n",
       "      <td id=\"T_73740_row11_col27\" class=\"data row11 col27\" >0.00</td>\n",
       "    </tr>\n",
       "    <tr>\n",
       "      <th id=\"T_73740_level0_row12\" class=\"row_heading level0 row12\" >12</th>\n",
       "      <td id=\"T_73740_row12_col0\" class=\"data row12 col0\" >0.00</td>\n",
       "      <td id=\"T_73740_row12_col1\" class=\"data row12 col1\" >0.00</td>\n",
       "      <td id=\"T_73740_row12_col2\" class=\"data row12 col2\" >0.00</td>\n",
       "      <td id=\"T_73740_row12_col3\" class=\"data row12 col3\" >0.00</td>\n",
       "      <td id=\"T_73740_row12_col4\" class=\"data row12 col4\" >0.00</td>\n",
       "      <td id=\"T_73740_row12_col5\" class=\"data row12 col5\" >0.00</td>\n",
       "      <td id=\"T_73740_row12_col6\" class=\"data row12 col6\" >0.00</td>\n",
       "      <td id=\"T_73740_row12_col7\" class=\"data row12 col7\" >0.00</td>\n",
       "      <td id=\"T_73740_row12_col8\" class=\"data row12 col8\" >0.00</td>\n",
       "      <td id=\"T_73740_row12_col9\" class=\"data row12 col9\" >0.00</td>\n",
       "      <td id=\"T_73740_row12_col10\" class=\"data row12 col10\" >0.00</td>\n",
       "      <td id=\"T_73740_row12_col11\" class=\"data row12 col11\" >0.00</td>\n",
       "      <td id=\"T_73740_row12_col12\" class=\"data row12 col12\" >0.00</td>\n",
       "      <td id=\"T_73740_row12_col13\" class=\"data row12 col13\" >0.00</td>\n",
       "      <td id=\"T_73740_row12_col14\" class=\"data row12 col14\" >0.36</td>\n",
       "      <td id=\"T_73740_row12_col15\" class=\"data row12 col15\" >0.83</td>\n",
       "      <td id=\"T_73740_row12_col16\" class=\"data row12 col16\" >0.96</td>\n",
       "      <td id=\"T_73740_row12_col17\" class=\"data row12 col17\" >0.98</td>\n",
       "      <td id=\"T_73740_row12_col18\" class=\"data row12 col18\" >0.98</td>\n",
       "      <td id=\"T_73740_row12_col19\" class=\"data row12 col19\" >0.98</td>\n",
       "      <td id=\"T_73740_row12_col20\" class=\"data row12 col20\" >0.80</td>\n",
       "      <td id=\"T_73740_row12_col21\" class=\"data row12 col21\" >0.04</td>\n",
       "      <td id=\"T_73740_row12_col22\" class=\"data row12 col22\" >0.00</td>\n",
       "      <td id=\"T_73740_row12_col23\" class=\"data row12 col23\" >0.00</td>\n",
       "      <td id=\"T_73740_row12_col24\" class=\"data row12 col24\" >0.00</td>\n",
       "      <td id=\"T_73740_row12_col25\" class=\"data row12 col25\" >0.00</td>\n",
       "      <td id=\"T_73740_row12_col26\" class=\"data row12 col26\" >0.00</td>\n",
       "      <td id=\"T_73740_row12_col27\" class=\"data row12 col27\" >0.00</td>\n",
       "    </tr>\n",
       "    <tr>\n",
       "      <th id=\"T_73740_level0_row13\" class=\"row_heading level0 row13\" >13</th>\n",
       "      <td id=\"T_73740_row13_col0\" class=\"data row13 col0\" >0.00</td>\n",
       "      <td id=\"T_73740_row13_col1\" class=\"data row13 col1\" >0.00</td>\n",
       "      <td id=\"T_73740_row13_col2\" class=\"data row13 col2\" >0.00</td>\n",
       "      <td id=\"T_73740_row13_col3\" class=\"data row13 col3\" >0.00</td>\n",
       "      <td id=\"T_73740_row13_col4\" class=\"data row13 col4\" >0.00</td>\n",
       "      <td id=\"T_73740_row13_col5\" class=\"data row13 col5\" >0.00</td>\n",
       "      <td id=\"T_73740_row13_col6\" class=\"data row13 col6\" >0.00</td>\n",
       "      <td id=\"T_73740_row13_col7\" class=\"data row13 col7\" >0.00</td>\n",
       "      <td id=\"T_73740_row13_col8\" class=\"data row13 col8\" >0.00</td>\n",
       "      <td id=\"T_73740_row13_col9\" class=\"data row13 col9\" >0.12</td>\n",
       "      <td id=\"T_73740_row13_col10\" class=\"data row13 col10\" >0.49</td>\n",
       "      <td id=\"T_73740_row13_col11\" class=\"data row13 col11\" >0.75</td>\n",
       "      <td id=\"T_73740_row13_col12\" class=\"data row13 col12\" >0.75</td>\n",
       "      <td id=\"T_73740_row13_col13\" class=\"data row13 col13\" >0.75</td>\n",
       "      <td id=\"T_73740_row13_col14\" class=\"data row13 col14\" >0.99</td>\n",
       "      <td id=\"T_73740_row13_col15\" class=\"data row13 col15\" >0.98</td>\n",
       "      <td id=\"T_73740_row13_col16\" class=\"data row13 col16\" >0.98</td>\n",
       "      <td id=\"T_73740_row13_col17\" class=\"data row13 col17\" >0.98</td>\n",
       "      <td id=\"T_73740_row13_col18\" class=\"data row13 col18\" >0.93</td>\n",
       "      <td id=\"T_73740_row13_col19\" class=\"data row13 col19\" >0.40</td>\n",
       "      <td id=\"T_73740_row13_col20\" class=\"data row13 col20\" >0.11</td>\n",
       "      <td id=\"T_73740_row13_col21\" class=\"data row13 col21\" >0.00</td>\n",
       "      <td id=\"T_73740_row13_col22\" class=\"data row13 col22\" >0.00</td>\n",
       "      <td id=\"T_73740_row13_col23\" class=\"data row13 col23\" >0.00</td>\n",
       "      <td id=\"T_73740_row13_col24\" class=\"data row13 col24\" >0.00</td>\n",
       "      <td id=\"T_73740_row13_col25\" class=\"data row13 col25\" >0.00</td>\n",
       "      <td id=\"T_73740_row13_col26\" class=\"data row13 col26\" >0.00</td>\n",
       "      <td id=\"T_73740_row13_col27\" class=\"data row13 col27\" >0.00</td>\n",
       "    </tr>\n",
       "    <tr>\n",
       "      <th id=\"T_73740_level0_row14\" class=\"row_heading level0 row14\" >14</th>\n",
       "      <td id=\"T_73740_row14_col0\" class=\"data row14 col0\" >0.00</td>\n",
       "      <td id=\"T_73740_row14_col1\" class=\"data row14 col1\" >0.00</td>\n",
       "      <td id=\"T_73740_row14_col2\" class=\"data row14 col2\" >0.00</td>\n",
       "      <td id=\"T_73740_row14_col3\" class=\"data row14 col3\" >0.00</td>\n",
       "      <td id=\"T_73740_row14_col4\" class=\"data row14 col4\" >0.00</td>\n",
       "      <td id=\"T_73740_row14_col5\" class=\"data row14 col5\" >0.00</td>\n",
       "      <td id=\"T_73740_row14_col6\" class=\"data row14 col6\" >0.00</td>\n",
       "      <td id=\"T_73740_row14_col7\" class=\"data row14 col7\" >0.00</td>\n",
       "      <td id=\"T_73740_row14_col8\" class=\"data row14 col8\" >0.18</td>\n",
       "      <td id=\"T_73740_row14_col9\" class=\"data row14 col9\" >0.87</td>\n",
       "      <td id=\"T_73740_row14_col10\" class=\"data row14 col10\" >0.98</td>\n",
       "      <td id=\"T_73740_row14_col11\" class=\"data row14 col11\" >0.98</td>\n",
       "      <td id=\"T_73740_row14_col12\" class=\"data row14 col12\" >0.98</td>\n",
       "      <td id=\"T_73740_row14_col13\" class=\"data row14 col13\" >0.98</td>\n",
       "      <td id=\"T_73740_row14_col14\" class=\"data row14 col14\" >0.99</td>\n",
       "      <td id=\"T_73740_row14_col15\" class=\"data row14 col15\" >0.98</td>\n",
       "      <td id=\"T_73740_row14_col16\" class=\"data row14 col16\" >0.98</td>\n",
       "      <td id=\"T_73740_row14_col17\" class=\"data row14 col17\" >0.98</td>\n",
       "      <td id=\"T_73740_row14_col18\" class=\"data row14 col18\" >0.69</td>\n",
       "      <td id=\"T_73740_row14_col19\" class=\"data row14 col19\" >0.00</td>\n",
       "      <td id=\"T_73740_row14_col20\" class=\"data row14 col20\" >0.00</td>\n",
       "      <td id=\"T_73740_row14_col21\" class=\"data row14 col21\" >0.00</td>\n",
       "      <td id=\"T_73740_row14_col22\" class=\"data row14 col22\" >0.00</td>\n",
       "      <td id=\"T_73740_row14_col23\" class=\"data row14 col23\" >0.00</td>\n",
       "      <td id=\"T_73740_row14_col24\" class=\"data row14 col24\" >0.00</td>\n",
       "      <td id=\"T_73740_row14_col25\" class=\"data row14 col25\" >0.00</td>\n",
       "      <td id=\"T_73740_row14_col26\" class=\"data row14 col26\" >0.00</td>\n",
       "      <td id=\"T_73740_row14_col27\" class=\"data row14 col27\" >0.00</td>\n",
       "    </tr>\n",
       "    <tr>\n",
       "      <th id=\"T_73740_level0_row15\" class=\"row_heading level0 row15\" >15</th>\n",
       "      <td id=\"T_73740_row15_col0\" class=\"data row15 col0\" >0.00</td>\n",
       "      <td id=\"T_73740_row15_col1\" class=\"data row15 col1\" >0.00</td>\n",
       "      <td id=\"T_73740_row15_col2\" class=\"data row15 col2\" >0.00</td>\n",
       "      <td id=\"T_73740_row15_col3\" class=\"data row15 col3\" >0.00</td>\n",
       "      <td id=\"T_73740_row15_col4\" class=\"data row15 col4\" >0.00</td>\n",
       "      <td id=\"T_73740_row15_col5\" class=\"data row15 col5\" >0.00</td>\n",
       "      <td id=\"T_73740_row15_col6\" class=\"data row15 col6\" >0.00</td>\n",
       "      <td id=\"T_73740_row15_col7\" class=\"data row15 col7\" >0.00</td>\n",
       "      <td id=\"T_73740_row15_col8\" class=\"data row15 col8\" >0.18</td>\n",
       "      <td id=\"T_73740_row15_col9\" class=\"data row15 col9\" >0.87</td>\n",
       "      <td id=\"T_73740_row15_col10\" class=\"data row15 col10\" >0.99</td>\n",
       "      <td id=\"T_73740_row15_col11\" class=\"data row15 col11\" >0.99</td>\n",
       "      <td id=\"T_73740_row15_col12\" class=\"data row15 col12\" >0.99</td>\n",
       "      <td id=\"T_73740_row15_col13\" class=\"data row15 col13\" >0.99</td>\n",
       "      <td id=\"T_73740_row15_col14\" class=\"data row15 col14\" >1.00</td>\n",
       "      <td id=\"T_73740_row15_col15\" class=\"data row15 col15\" >0.99</td>\n",
       "      <td id=\"T_73740_row15_col16\" class=\"data row15 col16\" >0.99</td>\n",
       "      <td id=\"T_73740_row15_col17\" class=\"data row15 col17\" >0.99</td>\n",
       "      <td id=\"T_73740_row15_col18\" class=\"data row15 col18\" >0.99</td>\n",
       "      <td id=\"T_73740_row15_col19\" class=\"data row15 col19\" >0.29</td>\n",
       "      <td id=\"T_73740_row15_col20\" class=\"data row15 col20\" >0.00</td>\n",
       "      <td id=\"T_73740_row15_col21\" class=\"data row15 col21\" >0.00</td>\n",
       "      <td id=\"T_73740_row15_col22\" class=\"data row15 col22\" >0.00</td>\n",
       "      <td id=\"T_73740_row15_col23\" class=\"data row15 col23\" >0.00</td>\n",
       "      <td id=\"T_73740_row15_col24\" class=\"data row15 col24\" >0.00</td>\n",
       "      <td id=\"T_73740_row15_col25\" class=\"data row15 col25\" >0.00</td>\n",
       "      <td id=\"T_73740_row15_col26\" class=\"data row15 col26\" >0.00</td>\n",
       "      <td id=\"T_73740_row15_col27\" class=\"data row15 col27\" >0.00</td>\n",
       "    </tr>\n",
       "    <tr>\n",
       "      <th id=\"T_73740_level0_row16\" class=\"row_heading level0 row16\" >16</th>\n",
       "      <td id=\"T_73740_row16_col0\" class=\"data row16 col0\" >0.00</td>\n",
       "      <td id=\"T_73740_row16_col1\" class=\"data row16 col1\" >0.00</td>\n",
       "      <td id=\"T_73740_row16_col2\" class=\"data row16 col2\" >0.00</td>\n",
       "      <td id=\"T_73740_row16_col3\" class=\"data row16 col3\" >0.00</td>\n",
       "      <td id=\"T_73740_row16_col4\" class=\"data row16 col4\" >0.00</td>\n",
       "      <td id=\"T_73740_row16_col5\" class=\"data row16 col5\" >0.00</td>\n",
       "      <td id=\"T_73740_row16_col6\" class=\"data row16 col6\" >0.00</td>\n",
       "      <td id=\"T_73740_row16_col7\" class=\"data row16 col7\" >0.00</td>\n",
       "      <td id=\"T_73740_row16_col8\" class=\"data row16 col8\" >0.00</td>\n",
       "      <td id=\"T_73740_row16_col9\" class=\"data row16 col9\" >0.12</td>\n",
       "      <td id=\"T_73740_row16_col10\" class=\"data row16 col10\" >0.48</td>\n",
       "      <td id=\"T_73740_row16_col11\" class=\"data row16 col11\" >0.20</td>\n",
       "      <td id=\"T_73740_row16_col12\" class=\"data row16 col12\" >0.17</td>\n",
       "      <td id=\"T_73740_row16_col13\" class=\"data row16 col13\" >0.17</td>\n",
       "      <td id=\"T_73740_row16_col14\" class=\"data row16 col14\" >0.17</td>\n",
       "      <td id=\"T_73740_row16_col15\" class=\"data row16 col15\" >0.17</td>\n",
       "      <td id=\"T_73740_row16_col16\" class=\"data row16 col16\" >0.56</td>\n",
       "      <td id=\"T_73740_row16_col17\" class=\"data row16 col17\" >0.98</td>\n",
       "      <td id=\"T_73740_row16_col18\" class=\"data row16 col18\" >0.98</td>\n",
       "      <td id=\"T_73740_row16_col19\" class=\"data row16 col19\" >0.29</td>\n",
       "      <td id=\"T_73740_row16_col20\" class=\"data row16 col20\" >0.00</td>\n",
       "      <td id=\"T_73740_row16_col21\" class=\"data row16 col21\" >0.00</td>\n",
       "      <td id=\"T_73740_row16_col22\" class=\"data row16 col22\" >0.00</td>\n",
       "      <td id=\"T_73740_row16_col23\" class=\"data row16 col23\" >0.00</td>\n",
       "      <td id=\"T_73740_row16_col24\" class=\"data row16 col24\" >0.00</td>\n",
       "      <td id=\"T_73740_row16_col25\" class=\"data row16 col25\" >0.00</td>\n",
       "      <td id=\"T_73740_row16_col26\" class=\"data row16 col26\" >0.00</td>\n",
       "      <td id=\"T_73740_row16_col27\" class=\"data row16 col27\" >0.00</td>\n",
       "    </tr>\n",
       "    <tr>\n",
       "      <th id=\"T_73740_level0_row17\" class=\"row_heading level0 row17\" >17</th>\n",
       "      <td id=\"T_73740_row17_col0\" class=\"data row17 col0\" >0.00</td>\n",
       "      <td id=\"T_73740_row17_col1\" class=\"data row17 col1\" >0.00</td>\n",
       "      <td id=\"T_73740_row17_col2\" class=\"data row17 col2\" >0.00</td>\n",
       "      <td id=\"T_73740_row17_col3\" class=\"data row17 col3\" >0.00</td>\n",
       "      <td id=\"T_73740_row17_col4\" class=\"data row17 col4\" >0.00</td>\n",
       "      <td id=\"T_73740_row17_col5\" class=\"data row17 col5\" >0.00</td>\n",
       "      <td id=\"T_73740_row17_col6\" class=\"data row17 col6\" >0.00</td>\n",
       "      <td id=\"T_73740_row17_col7\" class=\"data row17 col7\" >0.00</td>\n",
       "      <td id=\"T_73740_row17_col8\" class=\"data row17 col8\" >0.00</td>\n",
       "      <td id=\"T_73740_row17_col9\" class=\"data row17 col9\" >0.00</td>\n",
       "      <td id=\"T_73740_row17_col10\" class=\"data row17 col10\" >0.00</td>\n",
       "      <td id=\"T_73740_row17_col11\" class=\"data row17 col11\" >0.00</td>\n",
       "      <td id=\"T_73740_row17_col12\" class=\"data row17 col12\" >0.00</td>\n",
       "      <td id=\"T_73740_row17_col13\" class=\"data row17 col13\" >0.00</td>\n",
       "      <td id=\"T_73740_row17_col14\" class=\"data row17 col14\" >0.00</td>\n",
       "      <td id=\"T_73740_row17_col15\" class=\"data row17 col15\" >0.00</td>\n",
       "      <td id=\"T_73740_row17_col16\" class=\"data row17 col16\" >0.06</td>\n",
       "      <td id=\"T_73740_row17_col17\" class=\"data row17 col17\" >0.98</td>\n",
       "      <td id=\"T_73740_row17_col18\" class=\"data row17 col18\" >0.98</td>\n",
       "      <td id=\"T_73740_row17_col19\" class=\"data row17 col19\" >0.29</td>\n",
       "      <td id=\"T_73740_row17_col20\" class=\"data row17 col20\" >0.00</td>\n",
       "      <td id=\"T_73740_row17_col21\" class=\"data row17 col21\" >0.00</td>\n",
       "      <td id=\"T_73740_row17_col22\" class=\"data row17 col22\" >0.00</td>\n",
       "      <td id=\"T_73740_row17_col23\" class=\"data row17 col23\" >0.00</td>\n",
       "      <td id=\"T_73740_row17_col24\" class=\"data row17 col24\" >0.00</td>\n",
       "      <td id=\"T_73740_row17_col25\" class=\"data row17 col25\" >0.00</td>\n",
       "      <td id=\"T_73740_row17_col26\" class=\"data row17 col26\" >0.00</td>\n",
       "      <td id=\"T_73740_row17_col27\" class=\"data row17 col27\" >0.00</td>\n",
       "    </tr>\n",
       "    <tr>\n",
       "      <th id=\"T_73740_level0_row18\" class=\"row_heading level0 row18\" >18</th>\n",
       "      <td id=\"T_73740_row18_col0\" class=\"data row18 col0\" >0.00</td>\n",
       "      <td id=\"T_73740_row18_col1\" class=\"data row18 col1\" >0.00</td>\n",
       "      <td id=\"T_73740_row18_col2\" class=\"data row18 col2\" >0.00</td>\n",
       "      <td id=\"T_73740_row18_col3\" class=\"data row18 col3\" >0.00</td>\n",
       "      <td id=\"T_73740_row18_col4\" class=\"data row18 col4\" >0.00</td>\n",
       "      <td id=\"T_73740_row18_col5\" class=\"data row18 col5\" >0.00</td>\n",
       "      <td id=\"T_73740_row18_col6\" class=\"data row18 col6\" >0.00</td>\n",
       "      <td id=\"T_73740_row18_col7\" class=\"data row18 col7\" >0.00</td>\n",
       "      <td id=\"T_73740_row18_col8\" class=\"data row18 col8\" >0.00</td>\n",
       "      <td id=\"T_73740_row18_col9\" class=\"data row18 col9\" >0.00</td>\n",
       "      <td id=\"T_73740_row18_col10\" class=\"data row18 col10\" >0.00</td>\n",
       "      <td id=\"T_73740_row18_col11\" class=\"data row18 col11\" >0.00</td>\n",
       "      <td id=\"T_73740_row18_col12\" class=\"data row18 col12\" >0.00</td>\n",
       "      <td id=\"T_73740_row18_col13\" class=\"data row18 col13\" >0.00</td>\n",
       "      <td id=\"T_73740_row18_col14\" class=\"data row18 col14\" >0.00</td>\n",
       "      <td id=\"T_73740_row18_col15\" class=\"data row18 col15\" >0.00</td>\n",
       "      <td id=\"T_73740_row18_col16\" class=\"data row18 col16\" >0.34</td>\n",
       "      <td id=\"T_73740_row18_col17\" class=\"data row18 col17\" >0.98</td>\n",
       "      <td id=\"T_73740_row18_col18\" class=\"data row18 col18\" >0.98</td>\n",
       "      <td id=\"T_73740_row18_col19\" class=\"data row18 col19\" >0.29</td>\n",
       "      <td id=\"T_73740_row18_col20\" class=\"data row18 col20\" >0.00</td>\n",
       "      <td id=\"T_73740_row18_col21\" class=\"data row18 col21\" >0.00</td>\n",
       "      <td id=\"T_73740_row18_col22\" class=\"data row18 col22\" >0.00</td>\n",
       "      <td id=\"T_73740_row18_col23\" class=\"data row18 col23\" >0.00</td>\n",
       "      <td id=\"T_73740_row18_col24\" class=\"data row18 col24\" >0.00</td>\n",
       "      <td id=\"T_73740_row18_col25\" class=\"data row18 col25\" >0.00</td>\n",
       "      <td id=\"T_73740_row18_col26\" class=\"data row18 col26\" >0.00</td>\n",
       "      <td id=\"T_73740_row18_col27\" class=\"data row18 col27\" >0.00</td>\n",
       "    </tr>\n",
       "    <tr>\n",
       "      <th id=\"T_73740_level0_row19\" class=\"row_heading level0 row19\" >19</th>\n",
       "      <td id=\"T_73740_row19_col0\" class=\"data row19 col0\" >0.00</td>\n",
       "      <td id=\"T_73740_row19_col1\" class=\"data row19 col1\" >0.00</td>\n",
       "      <td id=\"T_73740_row19_col2\" class=\"data row19 col2\" >0.00</td>\n",
       "      <td id=\"T_73740_row19_col3\" class=\"data row19 col3\" >0.00</td>\n",
       "      <td id=\"T_73740_row19_col4\" class=\"data row19 col4\" >0.00</td>\n",
       "      <td id=\"T_73740_row19_col5\" class=\"data row19 col5\" >0.00</td>\n",
       "      <td id=\"T_73740_row19_col6\" class=\"data row19 col6\" >0.02</td>\n",
       "      <td id=\"T_73740_row19_col7\" class=\"data row19 col7\" >0.29</td>\n",
       "      <td id=\"T_73740_row19_col8\" class=\"data row19 col8\" >0.04</td>\n",
       "      <td id=\"T_73740_row19_col9\" class=\"data row19 col9\" >0.00</td>\n",
       "      <td id=\"T_73740_row19_col10\" class=\"data row19 col10\" >0.00</td>\n",
       "      <td id=\"T_73740_row19_col11\" class=\"data row19 col11\" >0.00</td>\n",
       "      <td id=\"T_73740_row19_col12\" class=\"data row19 col12\" >0.00</td>\n",
       "      <td id=\"T_73740_row19_col13\" class=\"data row19 col13\" >0.00</td>\n",
       "      <td id=\"T_73740_row19_col14\" class=\"data row19 col14\" >0.00</td>\n",
       "      <td id=\"T_73740_row19_col15\" class=\"data row19 col15\" >0.38</td>\n",
       "      <td id=\"T_73740_row19_col16\" class=\"data row19 col16\" >0.95</td>\n",
       "      <td id=\"T_73740_row19_col17\" class=\"data row19 col17\" >0.98</td>\n",
       "      <td id=\"T_73740_row19_col18\" class=\"data row19 col18\" >0.98</td>\n",
       "      <td id=\"T_73740_row19_col19\" class=\"data row19 col19\" >0.29</td>\n",
       "      <td id=\"T_73740_row19_col20\" class=\"data row19 col20\" >0.00</td>\n",
       "      <td id=\"T_73740_row19_col21\" class=\"data row19 col21\" >0.00</td>\n",
       "      <td id=\"T_73740_row19_col22\" class=\"data row19 col22\" >0.00</td>\n",
       "      <td id=\"T_73740_row19_col23\" class=\"data row19 col23\" >0.00</td>\n",
       "      <td id=\"T_73740_row19_col24\" class=\"data row19 col24\" >0.00</td>\n",
       "      <td id=\"T_73740_row19_col25\" class=\"data row19 col25\" >0.00</td>\n",
       "      <td id=\"T_73740_row19_col26\" class=\"data row19 col26\" >0.00</td>\n",
       "      <td id=\"T_73740_row19_col27\" class=\"data row19 col27\" >0.00</td>\n",
       "    </tr>\n",
       "    <tr>\n",
       "      <th id=\"T_73740_level0_row20\" class=\"row_heading level0 row20\" >20</th>\n",
       "      <td id=\"T_73740_row20_col0\" class=\"data row20 col0\" >0.00</td>\n",
       "      <td id=\"T_73740_row20_col1\" class=\"data row20 col1\" >0.00</td>\n",
       "      <td id=\"T_73740_row20_col2\" class=\"data row20 col2\" >0.00</td>\n",
       "      <td id=\"T_73740_row20_col3\" class=\"data row20 col3\" >0.00</td>\n",
       "      <td id=\"T_73740_row20_col4\" class=\"data row20 col4\" >0.00</td>\n",
       "      <td id=\"T_73740_row20_col5\" class=\"data row20 col5\" >0.24</td>\n",
       "      <td id=\"T_73740_row20_col6\" class=\"data row20 col6\" >0.71</td>\n",
       "      <td id=\"T_73740_row20_col7\" class=\"data row20 col7\" >0.98</td>\n",
       "      <td id=\"T_73740_row20_col8\" class=\"data row20 col8\" >0.11</td>\n",
       "      <td id=\"T_73740_row20_col9\" class=\"data row20 col9\" >0.00</td>\n",
       "      <td id=\"T_73740_row20_col10\" class=\"data row20 col10\" >0.00</td>\n",
       "      <td id=\"T_73740_row20_col11\" class=\"data row20 col11\" >0.00</td>\n",
       "      <td id=\"T_73740_row20_col12\" class=\"data row20 col12\" >0.00</td>\n",
       "      <td id=\"T_73740_row20_col13\" class=\"data row20 col13\" >0.07</td>\n",
       "      <td id=\"T_73740_row20_col14\" class=\"data row20 col14\" >0.36</td>\n",
       "      <td id=\"T_73740_row20_col15\" class=\"data row20 col15\" >0.93</td>\n",
       "      <td id=\"T_73740_row20_col16\" class=\"data row20 col16\" >0.98</td>\n",
       "      <td id=\"T_73740_row20_col17\" class=\"data row20 col17\" >0.98</td>\n",
       "      <td id=\"T_73740_row20_col18\" class=\"data row20 col18\" >0.95</td>\n",
       "      <td id=\"T_73740_row20_col19\" class=\"data row20 col19\" >0.25</td>\n",
       "      <td id=\"T_73740_row20_col20\" class=\"data row20 col20\" >0.00</td>\n",
       "      <td id=\"T_73740_row20_col21\" class=\"data row20 col21\" >0.00</td>\n",
       "      <td id=\"T_73740_row20_col22\" class=\"data row20 col22\" >0.00</td>\n",
       "      <td id=\"T_73740_row20_col23\" class=\"data row20 col23\" >0.00</td>\n",
       "      <td id=\"T_73740_row20_col24\" class=\"data row20 col24\" >0.00</td>\n",
       "      <td id=\"T_73740_row20_col25\" class=\"data row20 col25\" >0.00</td>\n",
       "      <td id=\"T_73740_row20_col26\" class=\"data row20 col26\" >0.00</td>\n",
       "      <td id=\"T_73740_row20_col27\" class=\"data row20 col27\" >0.00</td>\n",
       "    </tr>\n",
       "    <tr>\n",
       "      <th id=\"T_73740_level0_row21\" class=\"row_heading level0 row21\" >21</th>\n",
       "      <td id=\"T_73740_row21_col0\" class=\"data row21 col0\" >0.00</td>\n",
       "      <td id=\"T_73740_row21_col1\" class=\"data row21 col1\" >0.00</td>\n",
       "      <td id=\"T_73740_row21_col2\" class=\"data row21 col2\" >0.00</td>\n",
       "      <td id=\"T_73740_row21_col3\" class=\"data row21 col3\" >0.00</td>\n",
       "      <td id=\"T_73740_row21_col4\" class=\"data row21 col4\" >0.00</td>\n",
       "      <td id=\"T_73740_row21_col5\" class=\"data row21 col5\" >0.81</td>\n",
       "      <td id=\"T_73740_row21_col6\" class=\"data row21 col6\" >0.98</td>\n",
       "      <td id=\"T_73740_row21_col7\" class=\"data row21 col7\" >0.98</td>\n",
       "      <td id=\"T_73740_row21_col8\" class=\"data row21 col8\" >0.57</td>\n",
       "      <td id=\"T_73740_row21_col9\" class=\"data row21 col9\" >0.52</td>\n",
       "      <td id=\"T_73740_row21_col10\" class=\"data row21 col10\" >0.52</td>\n",
       "      <td id=\"T_73740_row21_col11\" class=\"data row21 col11\" >0.52</td>\n",
       "      <td id=\"T_73740_row21_col12\" class=\"data row21 col12\" >0.52</td>\n",
       "      <td id=\"T_73740_row21_col13\" class=\"data row21 col13\" >0.79</td>\n",
       "      <td id=\"T_73740_row21_col14\" class=\"data row21 col14\" >0.99</td>\n",
       "      <td id=\"T_73740_row21_col15\" class=\"data row21 col15\" >0.98</td>\n",
       "      <td id=\"T_73740_row21_col16\" class=\"data row21 col16\" >0.98</td>\n",
       "      <td id=\"T_73740_row21_col17\" class=\"data row21 col17\" >0.73</td>\n",
       "      <td id=\"T_73740_row21_col18\" class=\"data row21 col18\" >0.32</td>\n",
       "      <td id=\"T_73740_row21_col19\" class=\"data row21 col19\" >0.00</td>\n",
       "      <td id=\"T_73740_row21_col20\" class=\"data row21 col20\" >0.00</td>\n",
       "      <td id=\"T_73740_row21_col21\" class=\"data row21 col21\" >0.00</td>\n",
       "      <td id=\"T_73740_row21_col22\" class=\"data row21 col22\" >0.00</td>\n",
       "      <td id=\"T_73740_row21_col23\" class=\"data row21 col23\" >0.00</td>\n",
       "      <td id=\"T_73740_row21_col24\" class=\"data row21 col24\" >0.00</td>\n",
       "      <td id=\"T_73740_row21_col25\" class=\"data row21 col25\" >0.00</td>\n",
       "      <td id=\"T_73740_row21_col26\" class=\"data row21 col26\" >0.00</td>\n",
       "      <td id=\"T_73740_row21_col27\" class=\"data row21 col27\" >0.00</td>\n",
       "    </tr>\n",
       "    <tr>\n",
       "      <th id=\"T_73740_level0_row22\" class=\"row_heading level0 row22\" >22</th>\n",
       "      <td id=\"T_73740_row22_col0\" class=\"data row22 col0\" >0.00</td>\n",
       "      <td id=\"T_73740_row22_col1\" class=\"data row22 col1\" >0.00</td>\n",
       "      <td id=\"T_73740_row22_col2\" class=\"data row22 col2\" >0.00</td>\n",
       "      <td id=\"T_73740_row22_col3\" class=\"data row22 col3\" >0.00</td>\n",
       "      <td id=\"T_73740_row22_col4\" class=\"data row22 col4\" >0.00</td>\n",
       "      <td id=\"T_73740_row22_col5\" class=\"data row22 col5\" >0.81</td>\n",
       "      <td id=\"T_73740_row22_col6\" class=\"data row22 col6\" >0.98</td>\n",
       "      <td id=\"T_73740_row22_col7\" class=\"data row22 col7\" >0.98</td>\n",
       "      <td id=\"T_73740_row22_col8\" class=\"data row22 col8\" >0.98</td>\n",
       "      <td id=\"T_73740_row22_col9\" class=\"data row22 col9\" >0.98</td>\n",
       "      <td id=\"T_73740_row22_col10\" class=\"data row22 col10\" >0.98</td>\n",
       "      <td id=\"T_73740_row22_col11\" class=\"data row22 col11\" >0.98</td>\n",
       "      <td id=\"T_73740_row22_col12\" class=\"data row22 col12\" >0.98</td>\n",
       "      <td id=\"T_73740_row22_col13\" class=\"data row22 col13\" >0.98</td>\n",
       "      <td id=\"T_73740_row22_col14\" class=\"data row22 col14\" >0.99</td>\n",
       "      <td id=\"T_73740_row22_col15\" class=\"data row22 col15\" >0.90</td>\n",
       "      <td id=\"T_73740_row22_col16\" class=\"data row22 col16\" >0.60</td>\n",
       "      <td id=\"T_73740_row22_col17\" class=\"data row22 col17\" >0.03</td>\n",
       "      <td id=\"T_73740_row22_col18\" class=\"data row22 col18\" >0.00</td>\n",
       "      <td id=\"T_73740_row22_col19\" class=\"data row22 col19\" >0.00</td>\n",
       "      <td id=\"T_73740_row22_col20\" class=\"data row22 col20\" >0.00</td>\n",
       "      <td id=\"T_73740_row22_col21\" class=\"data row22 col21\" >0.00</td>\n",
       "      <td id=\"T_73740_row22_col22\" class=\"data row22 col22\" >0.00</td>\n",
       "      <td id=\"T_73740_row22_col23\" class=\"data row22 col23\" >0.00</td>\n",
       "      <td id=\"T_73740_row22_col24\" class=\"data row22 col24\" >0.00</td>\n",
       "      <td id=\"T_73740_row22_col25\" class=\"data row22 col25\" >0.00</td>\n",
       "      <td id=\"T_73740_row22_col26\" class=\"data row22 col26\" >0.00</td>\n",
       "      <td id=\"T_73740_row22_col27\" class=\"data row22 col27\" >0.00</td>\n",
       "    </tr>\n",
       "    <tr>\n",
       "      <th id=\"T_73740_level0_row23\" class=\"row_heading level0 row23\" >23</th>\n",
       "      <td id=\"T_73740_row23_col0\" class=\"data row23 col0\" >0.00</td>\n",
       "      <td id=\"T_73740_row23_col1\" class=\"data row23 col1\" >0.00</td>\n",
       "      <td id=\"T_73740_row23_col2\" class=\"data row23 col2\" >0.00</td>\n",
       "      <td id=\"T_73740_row23_col3\" class=\"data row23 col3\" >0.00</td>\n",
       "      <td id=\"T_73740_row23_col4\" class=\"data row23 col4\" >0.00</td>\n",
       "      <td id=\"T_73740_row23_col5\" class=\"data row23 col5\" >0.19</td>\n",
       "      <td id=\"T_73740_row23_col6\" class=\"data row23 col6\" >0.61</td>\n",
       "      <td id=\"T_73740_row23_col7\" class=\"data row23 col7\" >0.98</td>\n",
       "      <td id=\"T_73740_row23_col8\" class=\"data row23 col8\" >0.98</td>\n",
       "      <td id=\"T_73740_row23_col9\" class=\"data row23 col9\" >0.98</td>\n",
       "      <td id=\"T_73740_row23_col10\" class=\"data row23 col10\" >0.98</td>\n",
       "      <td id=\"T_73740_row23_col11\" class=\"data row23 col11\" >0.98</td>\n",
       "      <td id=\"T_73740_row23_col12\" class=\"data row23 col12\" >0.85</td>\n",
       "      <td id=\"T_73740_row23_col13\" class=\"data row23 col13\" >0.81</td>\n",
       "      <td id=\"T_73740_row23_col14\" class=\"data row23 col14\" >0.57</td>\n",
       "      <td id=\"T_73740_row23_col15\" class=\"data row23 col15\" >0.18</td>\n",
       "      <td id=\"T_73740_row23_col16\" class=\"data row23 col16\" >0.00</td>\n",
       "      <td id=\"T_73740_row23_col17\" class=\"data row23 col17\" >0.00</td>\n",
       "      <td id=\"T_73740_row23_col18\" class=\"data row23 col18\" >0.00</td>\n",
       "      <td id=\"T_73740_row23_col19\" class=\"data row23 col19\" >0.00</td>\n",
       "      <td id=\"T_73740_row23_col20\" class=\"data row23 col20\" >0.00</td>\n",
       "      <td id=\"T_73740_row23_col21\" class=\"data row23 col21\" >0.00</td>\n",
       "      <td id=\"T_73740_row23_col22\" class=\"data row23 col22\" >0.00</td>\n",
       "      <td id=\"T_73740_row23_col23\" class=\"data row23 col23\" >0.00</td>\n",
       "      <td id=\"T_73740_row23_col24\" class=\"data row23 col24\" >0.00</td>\n",
       "      <td id=\"T_73740_row23_col25\" class=\"data row23 col25\" >0.00</td>\n",
       "      <td id=\"T_73740_row23_col26\" class=\"data row23 col26\" >0.00</td>\n",
       "      <td id=\"T_73740_row23_col27\" class=\"data row23 col27\" >0.00</td>\n",
       "    </tr>\n",
       "    <tr>\n",
       "      <th id=\"T_73740_level0_row24\" class=\"row_heading level0 row24\" >24</th>\n",
       "      <td id=\"T_73740_row24_col0\" class=\"data row24 col0\" >0.00</td>\n",
       "      <td id=\"T_73740_row24_col1\" class=\"data row24 col1\" >0.00</td>\n",
       "      <td id=\"T_73740_row24_col2\" class=\"data row24 col2\" >0.00</td>\n",
       "      <td id=\"T_73740_row24_col3\" class=\"data row24 col3\" >0.00</td>\n",
       "      <td id=\"T_73740_row24_col4\" class=\"data row24 col4\" >0.00</td>\n",
       "      <td id=\"T_73740_row24_col5\" class=\"data row24 col5\" >0.00</td>\n",
       "      <td id=\"T_73740_row24_col6\" class=\"data row24 col6\" >0.03</td>\n",
       "      <td id=\"T_73740_row24_col7\" class=\"data row24 col7\" >0.40</td>\n",
       "      <td id=\"T_73740_row24_col8\" class=\"data row24 col8\" >0.92</td>\n",
       "      <td id=\"T_73740_row24_col9\" class=\"data row24 col9\" >0.98</td>\n",
       "      <td id=\"T_73740_row24_col10\" class=\"data row24 col10\" >0.67</td>\n",
       "      <td id=\"T_73740_row24_col11\" class=\"data row24 col11\" >0.40</td>\n",
       "      <td id=\"T_73740_row24_col12\" class=\"data row24 col12\" >0.09</td>\n",
       "      <td id=\"T_73740_row24_col13\" class=\"data row24 col13\" >0.00</td>\n",
       "      <td id=\"T_73740_row24_col14\" class=\"data row24 col14\" >0.00</td>\n",
       "      <td id=\"T_73740_row24_col15\" class=\"data row24 col15\" >0.00</td>\n",
       "      <td id=\"T_73740_row24_col16\" class=\"data row24 col16\" >0.00</td>\n",
       "      <td id=\"T_73740_row24_col17\" class=\"data row24 col17\" >0.00</td>\n",
       "      <td id=\"T_73740_row24_col18\" class=\"data row24 col18\" >0.00</td>\n",
       "      <td id=\"T_73740_row24_col19\" class=\"data row24 col19\" >0.00</td>\n",
       "      <td id=\"T_73740_row24_col20\" class=\"data row24 col20\" >0.00</td>\n",
       "      <td id=\"T_73740_row24_col21\" class=\"data row24 col21\" >0.00</td>\n",
       "      <td id=\"T_73740_row24_col22\" class=\"data row24 col22\" >0.00</td>\n",
       "      <td id=\"T_73740_row24_col23\" class=\"data row24 col23\" >0.00</td>\n",
       "      <td id=\"T_73740_row24_col24\" class=\"data row24 col24\" >0.00</td>\n",
       "      <td id=\"T_73740_row24_col25\" class=\"data row24 col25\" >0.00</td>\n",
       "      <td id=\"T_73740_row24_col26\" class=\"data row24 col26\" >0.00</td>\n",
       "      <td id=\"T_73740_row24_col27\" class=\"data row24 col27\" >0.00</td>\n",
       "    </tr>\n",
       "    <tr>\n",
       "      <th id=\"T_73740_level0_row25\" class=\"row_heading level0 row25\" >25</th>\n",
       "      <td id=\"T_73740_row25_col0\" class=\"data row25 col0\" >0.00</td>\n",
       "      <td id=\"T_73740_row25_col1\" class=\"data row25 col1\" >0.00</td>\n",
       "      <td id=\"T_73740_row25_col2\" class=\"data row25 col2\" >0.00</td>\n",
       "      <td id=\"T_73740_row25_col3\" class=\"data row25 col3\" >0.00</td>\n",
       "      <td id=\"T_73740_row25_col4\" class=\"data row25 col4\" >0.00</td>\n",
       "      <td id=\"T_73740_row25_col5\" class=\"data row25 col5\" >0.00</td>\n",
       "      <td id=\"T_73740_row25_col6\" class=\"data row25 col6\" >0.00</td>\n",
       "      <td id=\"T_73740_row25_col7\" class=\"data row25 col7\" >0.00</td>\n",
       "      <td id=\"T_73740_row25_col8\" class=\"data row25 col8\" >0.00</td>\n",
       "      <td id=\"T_73740_row25_col9\" class=\"data row25 col9\" >0.00</td>\n",
       "      <td id=\"T_73740_row25_col10\" class=\"data row25 col10\" >0.00</td>\n",
       "      <td id=\"T_73740_row25_col11\" class=\"data row25 col11\" >0.00</td>\n",
       "      <td id=\"T_73740_row25_col12\" class=\"data row25 col12\" >0.00</td>\n",
       "      <td id=\"T_73740_row25_col13\" class=\"data row25 col13\" >0.00</td>\n",
       "      <td id=\"T_73740_row25_col14\" class=\"data row25 col14\" >0.00</td>\n",
       "      <td id=\"T_73740_row25_col15\" class=\"data row25 col15\" >0.00</td>\n",
       "      <td id=\"T_73740_row25_col16\" class=\"data row25 col16\" >0.00</td>\n",
       "      <td id=\"T_73740_row25_col17\" class=\"data row25 col17\" >0.00</td>\n",
       "      <td id=\"T_73740_row25_col18\" class=\"data row25 col18\" >0.00</td>\n",
       "      <td id=\"T_73740_row25_col19\" class=\"data row25 col19\" >0.00</td>\n",
       "      <td id=\"T_73740_row25_col20\" class=\"data row25 col20\" >0.00</td>\n",
       "      <td id=\"T_73740_row25_col21\" class=\"data row25 col21\" >0.00</td>\n",
       "      <td id=\"T_73740_row25_col22\" class=\"data row25 col22\" >0.00</td>\n",
       "      <td id=\"T_73740_row25_col23\" class=\"data row25 col23\" >0.00</td>\n",
       "      <td id=\"T_73740_row25_col24\" class=\"data row25 col24\" >0.00</td>\n",
       "      <td id=\"T_73740_row25_col25\" class=\"data row25 col25\" >0.00</td>\n",
       "      <td id=\"T_73740_row25_col26\" class=\"data row25 col26\" >0.00</td>\n",
       "      <td id=\"T_73740_row25_col27\" class=\"data row25 col27\" >0.00</td>\n",
       "    </tr>\n",
       "    <tr>\n",
       "      <th id=\"T_73740_level0_row26\" class=\"row_heading level0 row26\" >26</th>\n",
       "      <td id=\"T_73740_row26_col0\" class=\"data row26 col0\" >0.00</td>\n",
       "      <td id=\"T_73740_row26_col1\" class=\"data row26 col1\" >0.00</td>\n",
       "      <td id=\"T_73740_row26_col2\" class=\"data row26 col2\" >0.00</td>\n",
       "      <td id=\"T_73740_row26_col3\" class=\"data row26 col3\" >0.00</td>\n",
       "      <td id=\"T_73740_row26_col4\" class=\"data row26 col4\" >0.00</td>\n",
       "      <td id=\"T_73740_row26_col5\" class=\"data row26 col5\" >0.00</td>\n",
       "      <td id=\"T_73740_row26_col6\" class=\"data row26 col6\" >0.00</td>\n",
       "      <td id=\"T_73740_row26_col7\" class=\"data row26 col7\" >0.00</td>\n",
       "      <td id=\"T_73740_row26_col8\" class=\"data row26 col8\" >0.00</td>\n",
       "      <td id=\"T_73740_row26_col9\" class=\"data row26 col9\" >0.00</td>\n",
       "      <td id=\"T_73740_row26_col10\" class=\"data row26 col10\" >0.00</td>\n",
       "      <td id=\"T_73740_row26_col11\" class=\"data row26 col11\" >0.00</td>\n",
       "      <td id=\"T_73740_row26_col12\" class=\"data row26 col12\" >0.00</td>\n",
       "      <td id=\"T_73740_row26_col13\" class=\"data row26 col13\" >0.00</td>\n",
       "      <td id=\"T_73740_row26_col14\" class=\"data row26 col14\" >0.00</td>\n",
       "      <td id=\"T_73740_row26_col15\" class=\"data row26 col15\" >0.00</td>\n",
       "      <td id=\"T_73740_row26_col16\" class=\"data row26 col16\" >0.00</td>\n",
       "      <td id=\"T_73740_row26_col17\" class=\"data row26 col17\" >0.00</td>\n",
       "      <td id=\"T_73740_row26_col18\" class=\"data row26 col18\" >0.00</td>\n",
       "      <td id=\"T_73740_row26_col19\" class=\"data row26 col19\" >0.00</td>\n",
       "      <td id=\"T_73740_row26_col20\" class=\"data row26 col20\" >0.00</td>\n",
       "      <td id=\"T_73740_row26_col21\" class=\"data row26 col21\" >0.00</td>\n",
       "      <td id=\"T_73740_row26_col22\" class=\"data row26 col22\" >0.00</td>\n",
       "      <td id=\"T_73740_row26_col23\" class=\"data row26 col23\" >0.00</td>\n",
       "      <td id=\"T_73740_row26_col24\" class=\"data row26 col24\" >0.00</td>\n",
       "      <td id=\"T_73740_row26_col25\" class=\"data row26 col25\" >0.00</td>\n",
       "      <td id=\"T_73740_row26_col26\" class=\"data row26 col26\" >0.00</td>\n",
       "      <td id=\"T_73740_row26_col27\" class=\"data row26 col27\" >0.00</td>\n",
       "    </tr>\n",
       "    <tr>\n",
       "      <th id=\"T_73740_level0_row27\" class=\"row_heading level0 row27\" >27</th>\n",
       "      <td id=\"T_73740_row27_col0\" class=\"data row27 col0\" >0.00</td>\n",
       "      <td id=\"T_73740_row27_col1\" class=\"data row27 col1\" >0.00</td>\n",
       "      <td id=\"T_73740_row27_col2\" class=\"data row27 col2\" >0.00</td>\n",
       "      <td id=\"T_73740_row27_col3\" class=\"data row27 col3\" >0.00</td>\n",
       "      <td id=\"T_73740_row27_col4\" class=\"data row27 col4\" >0.00</td>\n",
       "      <td id=\"T_73740_row27_col5\" class=\"data row27 col5\" >0.00</td>\n",
       "      <td id=\"T_73740_row27_col6\" class=\"data row27 col6\" >0.00</td>\n",
       "      <td id=\"T_73740_row27_col7\" class=\"data row27 col7\" >0.00</td>\n",
       "      <td id=\"T_73740_row27_col8\" class=\"data row27 col8\" >0.00</td>\n",
       "      <td id=\"T_73740_row27_col9\" class=\"data row27 col9\" >0.00</td>\n",
       "      <td id=\"T_73740_row27_col10\" class=\"data row27 col10\" >0.00</td>\n",
       "      <td id=\"T_73740_row27_col11\" class=\"data row27 col11\" >0.00</td>\n",
       "      <td id=\"T_73740_row27_col12\" class=\"data row27 col12\" >0.00</td>\n",
       "      <td id=\"T_73740_row27_col13\" class=\"data row27 col13\" >0.00</td>\n",
       "      <td id=\"T_73740_row27_col14\" class=\"data row27 col14\" >0.00</td>\n",
       "      <td id=\"T_73740_row27_col15\" class=\"data row27 col15\" >0.00</td>\n",
       "      <td id=\"T_73740_row27_col16\" class=\"data row27 col16\" >0.00</td>\n",
       "      <td id=\"T_73740_row27_col17\" class=\"data row27 col17\" >0.00</td>\n",
       "      <td id=\"T_73740_row27_col18\" class=\"data row27 col18\" >0.00</td>\n",
       "      <td id=\"T_73740_row27_col19\" class=\"data row27 col19\" >0.00</td>\n",
       "      <td id=\"T_73740_row27_col20\" class=\"data row27 col20\" >0.00</td>\n",
       "      <td id=\"T_73740_row27_col21\" class=\"data row27 col21\" >0.00</td>\n",
       "      <td id=\"T_73740_row27_col22\" class=\"data row27 col22\" >0.00</td>\n",
       "      <td id=\"T_73740_row27_col23\" class=\"data row27 col23\" >0.00</td>\n",
       "      <td id=\"T_73740_row27_col24\" class=\"data row27 col24\" >0.00</td>\n",
       "      <td id=\"T_73740_row27_col25\" class=\"data row27 col25\" >0.00</td>\n",
       "      <td id=\"T_73740_row27_col26\" class=\"data row27 col26\" >0.00</td>\n",
       "      <td id=\"T_73740_row27_col27\" class=\"data row27 col27\" >0.00</td>\n",
       "    </tr>\n",
       "  </tbody>\n",
       "</table>\n"
      ],
      "text/plain": [
       "<pandas.io.formats.style.Styler at 0x789b51448640>"
      ]
     },
     "execution_count": 15,
     "metadata": {},
     "output_type": "execute_result"
    }
   ],
   "source": [
    "df = pd.DataFrame(im3)\n",
    "df.style.format(precision=2).set_properties(**{'font-size':'7pt'}).background_gradient('Greys')"
   ]
  },
  {
   "cell_type": "code",
   "execution_count": 16,
   "id": "4c17b3a1",
   "metadata": {
    "execution": {
     "iopub.execute_input": "2023-08-01T16:10:28.534735Z",
     "iopub.status.busy": "2023-08-01T16:10:28.534313Z",
     "iopub.status.idle": "2023-08-01T16:10:28.599161Z",
     "shell.execute_reply": "2023-08-01T16:10:28.597912Z"
    },
    "papermill": {
     "duration": 0.095311,
     "end_time": "2023-08-01T16:10:28.601878",
     "exception": false,
     "start_time": "2023-08-01T16:10:28.506567",
     "status": "completed"
    },
    "tags": []
   },
   "outputs": [
    {
     "data": {
      "text/plain": [
       "tensor(2.9727)"
      ]
     },
     "execution_count": 16,
     "metadata": {},
     "output_type": "execute_result"
    }
   ],
   "source": [
    "(im3[3:6,14:17] * top_edge).sum()"
   ]
  },
  {
   "cell_type": "code",
   "execution_count": 17,
   "id": "1636618a",
   "metadata": {
    "execution": {
     "iopub.execute_input": "2023-08-01T16:10:28.657359Z",
     "iopub.status.busy": "2023-08-01T16:10:28.656499Z",
     "iopub.status.idle": "2023-08-01T16:10:28.663598Z",
     "shell.execute_reply": "2023-08-01T16:10:28.662453Z"
    },
    "papermill": {
     "duration": 0.037363,
     "end_time": "2023-08-01T16:10:28.665955",
     "exception": false,
     "start_time": "2023-08-01T16:10:28.628592",
     "status": "completed"
    },
    "tags": []
   },
   "outputs": [
    {
     "data": {
      "text/plain": [
       "tensor(-2.9570)"
      ]
     },
     "execution_count": 17,
     "metadata": {},
     "output_type": "execute_result"
    }
   ],
   "source": [
    "(im3[7:10,14:17] * top_edge).sum()"
   ]
  },
  {
   "cell_type": "code",
   "execution_count": 18,
   "id": "ad230ad7",
   "metadata": {
    "execution": {
     "iopub.execute_input": "2023-08-01T16:10:28.721819Z",
     "iopub.status.busy": "2023-08-01T16:10:28.721391Z",
     "iopub.status.idle": "2023-08-01T16:10:28.728084Z",
     "shell.execute_reply": "2023-08-01T16:10:28.726716Z"
    },
    "papermill": {
     "duration": 0.036989,
     "end_time": "2023-08-01T16:10:28.730383",
     "exception": false,
     "start_time": "2023-08-01T16:10:28.693394",
     "status": "completed"
    },
    "tags": []
   },
   "outputs": [],
   "source": [
    "def apply_kernel(row,col,kernel): return (im3[row-1:row+2,col-1:col+2]*kernel).sum()"
   ]
  },
  {
   "cell_type": "code",
   "execution_count": 19,
   "id": "7151f362",
   "metadata": {
    "execution": {
     "iopub.execute_input": "2023-08-01T16:10:28.786323Z",
     "iopub.status.busy": "2023-08-01T16:10:28.785935Z",
     "iopub.status.idle": "2023-08-01T16:10:28.793720Z",
     "shell.execute_reply": "2023-08-01T16:10:28.792853Z"
    },
    "papermill": {
     "duration": 0.038615,
     "end_time": "2023-08-01T16:10:28.795873",
     "exception": false,
     "start_time": "2023-08-01T16:10:28.757258",
     "status": "completed"
    },
    "tags": []
   },
   "outputs": [
    {
     "data": {
      "text/plain": [
       "tensor(2.9727)"
      ]
     },
     "execution_count": 19,
     "metadata": {},
     "output_type": "execute_result"
    }
   ],
   "source": [
    "apply_kernel(4,15,top_edge)"
   ]
  },
  {
   "cell_type": "code",
   "execution_count": 20,
   "id": "b8ff15e8",
   "metadata": {
    "execution": {
     "iopub.execute_input": "2023-08-01T16:10:28.852276Z",
     "iopub.status.busy": "2023-08-01T16:10:28.851047Z",
     "iopub.status.idle": "2023-08-01T16:10:28.860243Z",
     "shell.execute_reply": "2023-08-01T16:10:28.859253Z"
    },
    "papermill": {
     "duration": 0.040095,
     "end_time": "2023-08-01T16:10:28.862749",
     "exception": false,
     "start_time": "2023-08-01T16:10:28.822654",
     "status": "completed"
    },
    "tags": []
   },
   "outputs": [
    {
     "data": {
      "text/plain": [
       "[[(0, 0), (0, 1), (0, 2), (0, 3), (0, 4)],\n",
       " [(1, 0), (1, 1), (1, 2), (1, 3), (1, 4)],\n",
       " [(2, 0), (2, 1), (2, 2), (2, 3), (2, 4)],\n",
       " [(3, 0), (3, 1), (3, 2), (3, 3), (3, 4)],\n",
       " [(4, 0), (4, 1), (4, 2), (4, 3), (4, 4)]]"
      ]
     },
     "execution_count": 20,
     "metadata": {},
     "output_type": "execute_result"
    }
   ],
   "source": [
    "[[(i,j) for j in range(5)] for i in range(5)]"
   ]
  },
  {
   "cell_type": "code",
   "execution_count": 21,
   "id": "3835100b",
   "metadata": {
    "execution": {
     "iopub.execute_input": "2023-08-01T16:10:28.918902Z",
     "iopub.status.busy": "2023-08-01T16:10:28.918460Z",
     "iopub.status.idle": "2023-08-01T16:10:28.992768Z",
     "shell.execute_reply": "2023-08-01T16:10:28.991138Z"
    },
    "papermill": {
     "duration": 0.10736,
     "end_time": "2023-08-01T16:10:28.997375",
     "exception": false,
     "start_time": "2023-08-01T16:10:28.890015",
     "status": "completed"
    },
    "tags": []
   },
   "outputs": [
    {
     "data": {
      "image/png": "[encoded data removed]",
      "text/plain": [
       "<Figure size 320x240 with 1 Axes>"
      ]
     },
     "metadata": {},
     "output_type": "display_data"
    }
   ],
   "source": [
    "rng = range(1,27)\n",
    "top_edge3 = tensor([[apply_kernel(i,j,top_edge) for j in rng] for i in rng])\n",
    "show_image(top_edge3);"
   ]
  },
  {
   "cell_type": "code",
   "execution_count": 22,
   "id": "ea891c33",
   "metadata": {
    "execution": {
     "iopub.execute_input": "2023-08-01T16:10:29.104596Z",
     "iopub.status.busy": "2023-08-01T16:10:29.103877Z",
     "iopub.status.idle": "2023-08-01T16:10:29.108772Z",
     "shell.execute_reply": "2023-08-01T16:10:29.108005Z"
    },
    "papermill": {
     "duration": 0.05535,
     "end_time": "2023-08-01T16:10:29.110919",
     "exception": false,
     "start_time": "2023-08-01T16:10:29.055569",
     "status": "completed"
    },
    "tags": []
   },
   "outputs": [],
   "source": [
    "left_edge = tensor([[-1,0,1],\n",
    "                    [-1,0,1],\n",
    "                    [-1,0,1]]).float()"
   ]
  },
  {
   "cell_type": "code",
   "execution_count": 23,
   "id": "931e84ce",
   "metadata": {
    "execution": {
     "iopub.execute_input": "2023-08-01T16:10:29.169425Z",
     "iopub.status.busy": "2023-08-01T16:10:29.168693Z",
     "iopub.status.idle": "2023-08-01T16:10:29.245245Z",
     "shell.execute_reply": "2023-08-01T16:10:29.243556Z"
    },
    "papermill": {
     "duration": 0.110487,
     "end_time": "2023-08-01T16:10:29.249697",
     "exception": false,
     "start_time": "2023-08-01T16:10:29.139210",
     "status": "completed"
    },
    "tags": []
   },
   "outputs": [
    {
     "data": {
      "image/png": "[encoded data removed]",
      "text/plain": [
       "<Figure size 320x240 with 1 Axes>"
      ]
     },
     "metadata": {},
     "output_type": "display_data"
    }
   ],
   "source": [
    "show_image(left_edge, noframe=False);"
   ]
  },
  {
   "cell_type": "code",
   "execution_count": 24,
   "id": "8e0afa9d",
   "metadata": {
    "execution": {
     "iopub.execute_input": "2023-08-01T16:10:29.354488Z",
     "iopub.status.busy": "2023-08-01T16:10:29.353734Z",
     "iopub.status.idle": "2023-08-01T16:10:29.425681Z",
     "shell.execute_reply": "2023-08-01T16:10:29.424130Z"
    },
    "papermill": {
     "duration": 0.121913,
     "end_time": "2023-08-01T16:10:29.429854",
     "exception": false,
     "start_time": "2023-08-01T16:10:29.307941",
     "status": "completed"
    },
    "tags": []
   },
   "outputs": [
    {
     "data": {
      "image/png": "[encoded data removed]",
      "text/plain": [
       "<Figure size 320x240 with 1 Axes>"
      ]
     },
     "metadata": {},
     "output_type": "display_data"
    }
   ],
   "source": [
    "left_edge3 = tensor([[apply_kernel(i,j,left_edge) for j in rng] for i in rng])\n",
    "show_image(left_edge3);"
   ]
  },
  {
   "cell_type": "markdown",
   "id": "d713862f",
   "metadata": {
    "papermill": {
     "duration": 0.045721,
     "end_time": "2023-08-01T16:10:29.536771",
     "exception": false,
     "start_time": "2023-08-01T16:10:29.491050",
     "status": "completed"
    },
    "tags": []
   },
   "source": [
    "### Convolutions in PyTorch"
   ]
  },
  {
   "cell_type": "code",
   "execution_count": 25,
   "id": "50aa62d7",
   "metadata": {
    "execution": {
     "iopub.execute_input": "2023-08-01T16:10:29.593901Z",
     "iopub.status.busy": "2023-08-01T16:10:29.593123Z",
     "iopub.status.idle": "2023-08-01T16:10:29.597596Z",
     "shell.execute_reply": "2023-08-01T16:10:29.596739Z"
    },
    "papermill": {
     "duration": 0.035741,
     "end_time": "2023-08-01T16:10:29.599863",
     "exception": false,
     "start_time": "2023-08-01T16:10:29.564122",
     "status": "completed"
    },
    "tags": []
   },
   "outputs": [],
   "source": [
    "import torch.nn.functional as F\n",
    "import torch"
   ]
  },
  {
   "cell_type": "code",
   "execution_count": 26,
   "id": "aa9d5555",
   "metadata": {
    "execution": {
     "iopub.execute_input": "2023-08-01T16:10:29.657427Z",
     "iopub.status.busy": "2023-08-01T16:10:29.656485Z",
     "iopub.status.idle": "2023-08-01T16:10:29.671410Z",
     "shell.execute_reply": "2023-08-01T16:10:29.670404Z"
    },
    "papermill": {
     "duration": 0.045985,
     "end_time": "2023-08-01T16:10:29.673634",
     "exception": false,
     "start_time": "2023-08-01T16:10:29.627649",
     "status": "completed"
    },
    "tags": []
   },
   "outputs": [
    {
     "name": "stdout",
     "output_type": "stream",
     "text": [
      "torch.Size([1, 1, 28, 28])\n"
     ]
    },
    {
     "data": {
      "text/plain": [
       "torch.Size([9, 676])"
      ]
     },
     "execution_count": 26,
     "metadata": {},
     "output_type": "execute_result"
    }
   ],
   "source": [
    "inp = im3[None,None,:,:].float()\n",
    "print(inp.shape)\n",
    "\n",
    "inp_unf = F.unfold(inp, (3,3))[0]\n",
    "inp_unf.shape"
   ]
  },
  {
   "cell_type": "markdown",
   "id": "aa1d11a5",
   "metadata": {
    "papermill": {
     "duration": 0.027345,
     "end_time": "2023-08-01T16:10:29.729766",
     "exception": false,
     "start_time": "2023-08-01T16:10:29.702421",
     "status": "completed"
    },
    "tags": []
   },
   "source": [
    "Is `676 = (28-2) x (28-2)`? I.e., the number of slides?"
   ]
  },
  {
   "cell_type": "code",
   "execution_count": 27,
   "id": "46fec434",
   "metadata": {
    "execution": {
     "iopub.execute_input": "2023-08-01T16:10:29.789012Z",
     "iopub.status.busy": "2023-08-01T16:10:29.787896Z",
     "iopub.status.idle": "2023-08-01T16:10:29.794502Z",
     "shell.execute_reply": "2023-08-01T16:10:29.793471Z"
    },
    "papermill": {
     "duration": 0.038965,
     "end_time": "2023-08-01T16:10:29.796749",
     "exception": false,
     "start_time": "2023-08-01T16:10:29.757784",
     "status": "completed"
    },
    "tags": []
   },
   "outputs": [
    {
     "data": {
      "text/plain": [
       "676"
      ]
     },
     "execution_count": 27,
     "metadata": {},
     "output_type": "execute_result"
    }
   ],
   "source": [
    "26*26"
   ]
  },
  {
   "cell_type": "markdown",
   "id": "2a7a8ff9",
   "metadata": {
    "papermill": {
     "duration": 0.027515,
     "end_time": "2023-08-01T16:10:29.852260",
     "exception": false,
     "start_time": "2023-08-01T16:10:29.824745",
     "status": "completed"
    },
    "tags": []
   },
   "source": [
    "Yup."
   ]
  },
  {
   "cell_type": "code",
   "execution_count": 28,
   "id": "da640dd0",
   "metadata": {
    "execution": {
     "iopub.execute_input": "2023-08-01T16:10:29.909757Z",
     "iopub.status.busy": "2023-08-01T16:10:29.909309Z",
     "iopub.status.idle": "2023-08-01T16:10:29.915640Z",
     "shell.execute_reply": "2023-08-01T16:10:29.914884Z"
    },
    "papermill": {
     "duration": 0.037579,
     "end_time": "2023-08-01T16:10:29.917676",
     "exception": false,
     "start_time": "2023-08-01T16:10:29.880097",
     "status": "completed"
    },
    "tags": []
   },
   "outputs": [
    {
     "data": {
      "text/plain": [
       "torch.Size([9])"
      ]
     },
     "execution_count": 28,
     "metadata": {},
     "output_type": "execute_result"
    }
   ],
   "source": [
    "w = left_edge.view(-1)\n",
    "w.shape"
   ]
  },
  {
   "cell_type": "code",
   "execution_count": 29,
   "id": "b96976e2",
   "metadata": {
    "execution": {
     "iopub.execute_input": "2023-08-01T16:10:29.975586Z",
     "iopub.status.busy": "2023-08-01T16:10:29.974852Z",
     "iopub.status.idle": "2023-08-01T16:10:29.988738Z",
     "shell.execute_reply": "2023-08-01T16:10:29.987571Z"
    },
    "papermill": {
     "duration": 0.045623,
     "end_time": "2023-08-01T16:10:29.991203",
     "exception": false,
     "start_time": "2023-08-01T16:10:29.945580",
     "status": "completed"
    },
    "tags": []
   },
   "outputs": [
    {
     "data": {
      "text/plain": [
       "torch.Size([676])"
      ]
     },
     "execution_count": 29,
     "metadata": {},
     "output_type": "execute_result"
    }
   ],
   "source": [
    "out_unf = w@inp_unf\n",
    "out_unf.shape"
   ]
  },
  {
   "cell_type": "code",
   "execution_count": 30,
   "id": "4df4ed69",
   "metadata": {
    "execution": {
     "iopub.execute_input": "2023-08-01T16:10:30.049858Z",
     "iopub.status.busy": "2023-08-01T16:10:30.049412Z",
     "iopub.status.idle": "2023-08-01T16:10:30.113193Z",
     "shell.execute_reply": "2023-08-01T16:10:30.111683Z"
    },
    "papermill": {
     "duration": 0.097751,
     "end_time": "2023-08-01T16:10:30.117191",
     "exception": false,
     "start_time": "2023-08-01T16:10:30.019440",
     "status": "completed"
    },
    "tags": []
   },
   "outputs": [
    {
     "data": {
      "image/png": "[encoded data removed]",
      "text/plain": [
       "<Figure size 320x240 with 1 Axes>"
      ]
     },
     "metadata": {},
     "output_type": "display_data"
    }
   ],
   "source": [
    "out = out_unf.view(26,26)\n",
    "show_image(out);"
   ]
  },
  {
   "cell_type": "code",
   "execution_count": 31,
   "id": "90a89317",
   "metadata": {
    "execution": {
     "iopub.execute_input": "2023-08-01T16:10:30.226945Z",
     "iopub.status.busy": "2023-08-01T16:10:30.226507Z",
     "iopub.status.idle": "2023-08-01T16:10:30.311280Z",
     "shell.execute_reply": "2023-08-01T16:10:30.309655Z"
    },
    "papermill": {
     "duration": 0.136054,
     "end_time": "2023-08-01T16:10:30.313748",
     "exception": false,
     "start_time": "2023-08-01T16:10:30.177694",
     "status": "completed"
    },
    "tags": []
   },
   "outputs": [
    {
     "name": "stdout",
     "output_type": "stream",
     "text": [
      "10.9 ms ± 528 µs per loop (mean ± std. dev. of 7 runs, 1 loop each)\n"
     ]
    }
   ],
   "source": [
    "%timeit -n 1 tensor([[apply_kernel(i,j,left_edge)  for j in rng] for i in rng]);"
   ]
  },
  {
   "cell_type": "code",
   "execution_count": 32,
   "id": "8bb14ad8",
   "metadata": {
    "execution": {
     "iopub.execute_input": "2023-08-01T16:10:30.372544Z",
     "iopub.status.busy": "2023-08-01T16:10:30.372122Z",
     "iopub.status.idle": "2023-08-01T16:10:30.415290Z",
     "shell.execute_reply": "2023-08-01T16:10:30.414033Z"
    },
    "papermill": {
     "duration": 0.075728,
     "end_time": "2023-08-01T16:10:30.417917",
     "exception": false,
     "start_time": "2023-08-01T16:10:30.342189",
     "status": "completed"
    },
    "tags": []
   },
   "outputs": [
    {
     "name": "stdout",
     "output_type": "stream",
     "text": [
      "50.5 µs ± 3.47 µs per loop (mean ± std. dev. of 7 runs, 100 loops each)\n"
     ]
    }
   ],
   "source": [
    "%timeit -n 100 (w@F.unfold(inp, (3,3))[0]).view(26,26);"
   ]
  },
  {
   "cell_type": "code",
   "execution_count": 33,
   "id": "eaf8e673",
   "metadata": {
    "execution": {
     "iopub.execute_input": "2023-08-01T16:10:30.478849Z",
     "iopub.status.busy": "2023-08-01T16:10:30.478437Z",
     "iopub.status.idle": "2023-08-01T16:10:30.509763Z",
     "shell.execute_reply": "2023-08-01T16:10:30.508545Z"
    },
    "papermill": {
     "duration": 0.065885,
     "end_time": "2023-08-01T16:10:30.512463",
     "exception": false,
     "start_time": "2023-08-01T16:10:30.446578",
     "status": "completed"
    },
    "tags": []
   },
   "outputs": [
    {
     "name": "stdout",
     "output_type": "stream",
     "text": [
      "The slowest run took 5.61 times longer than the fastest. This could mean that an intermediate result is being cached.\n",
      "34.1 µs ± 33 µs per loop (mean ± std. dev. of 7 runs, 100 loops each)\n"
     ]
    }
   ],
   "source": [
    "%timeit -n 100 F.conv2d(inp, left_edge[None,None])"
   ]
  },
  {
   "cell_type": "code",
   "execution_count": 34,
   "id": "990c8a0e",
   "metadata": {
    "execution": {
     "iopub.execute_input": "2023-08-01T16:10:30.572718Z",
     "iopub.status.busy": "2023-08-01T16:10:30.572289Z",
     "iopub.status.idle": "2023-08-01T16:10:30.577559Z",
     "shell.execute_reply": "2023-08-01T16:10:30.576721Z"
    },
    "papermill": {
     "duration": 0.037465,
     "end_time": "2023-08-01T16:10:30.579736",
     "exception": false,
     "start_time": "2023-08-01T16:10:30.542271",
     "status": "completed"
    },
    "tags": []
   },
   "outputs": [],
   "source": [
    "diag1_edge = tensor([[0,-1,1],\n",
    "                     [-1,1,0],\n",
    "                     [1,0,0]]).float()"
   ]
  },
  {
   "cell_type": "code",
   "execution_count": 35,
   "id": "8915d540",
   "metadata": {
    "execution": {
     "iopub.execute_input": "2023-08-01T16:10:30.638759Z",
     "iopub.status.busy": "2023-08-01T16:10:30.638326Z",
     "iopub.status.idle": "2023-08-01T16:10:30.727289Z",
     "shell.execute_reply": "2023-08-01T16:10:30.725355Z"
    },
    "papermill": {
     "duration": 0.124012,
     "end_time": "2023-08-01T16:10:30.732341",
     "exception": false,
     "start_time": "2023-08-01T16:10:30.608329",
     "status": "completed"
    },
    "tags": []
   },
   "outputs": [
    {
     "data": {
      "image/png": "[encoded data removed]",
      "text/plain": [
       "<Figure size 320x240 with 1 Axes>"
      ]
     },
     "metadata": {},
     "output_type": "display_data"
    }
   ],
   "source": [
    "show_image(diag1_edge, noframe=False);"
   ]
  },
  {
   "cell_type": "code",
   "execution_count": 36,
   "id": "64bcf88a",
   "metadata": {
    "execution": {
     "iopub.execute_input": "2023-08-01T16:10:30.842123Z",
     "iopub.status.busy": "2023-08-01T16:10:30.841717Z",
     "iopub.status.idle": "2023-08-01T16:10:30.846917Z",
     "shell.execute_reply": "2023-08-01T16:10:30.846074Z"
    },
    "papermill": {
     "duration": 0.04613,
     "end_time": "2023-08-01T16:10:30.849119",
     "exception": false,
     "start_time": "2023-08-01T16:10:30.802989",
     "status": "completed"
    },
    "tags": []
   },
   "outputs": [],
   "source": [
    "diag2_edge = tensor([[1,-1,0],\n",
    "                     [0,1,-1],\n",
    "                     [0,0,1]]).float()"
   ]
  },
  {
   "cell_type": "code",
   "execution_count": 37,
   "id": "0013e97b",
   "metadata": {
    "execution": {
     "iopub.execute_input": "2023-08-01T16:10:30.909577Z",
     "iopub.status.busy": "2023-08-01T16:10:30.908402Z",
     "iopub.status.idle": "2023-08-01T16:10:30.984191Z",
     "shell.execute_reply": "2023-08-01T16:10:30.982526Z"
    },
    "papermill": {
     "duration": 0.110376,
     "end_time": "2023-08-01T16:10:30.988410",
     "exception": false,
     "start_time": "2023-08-01T16:10:30.878034",
     "status": "completed"
    },
    "tags": []
   },
   "outputs": [
    {
     "data": {
      "image/png": "[encoded data removed]",
      "text/plain": [
       "<Figure size 320x240 with 1 Axes>"
      ]
     },
     "metadata": {},
     "output_type": "display_data"
    }
   ],
   "source": [
    "show_image(diag2_edge, noframe=False);"
   ]
  },
  {
   "cell_type": "code",
   "execution_count": 38,
   "id": "14cfe43c",
   "metadata": {
    "execution": {
     "iopub.execute_input": "2023-08-01T16:10:31.097261Z",
     "iopub.status.busy": "2023-08-01T16:10:31.096858Z",
     "iopub.status.idle": "2023-08-01T16:10:31.104457Z",
     "shell.execute_reply": "2023-08-01T16:10:31.103073Z"
    },
    "papermill": {
     "duration": 0.055218,
     "end_time": "2023-08-01T16:10:31.106636",
     "exception": false,
     "start_time": "2023-08-01T16:10:31.051418",
     "status": "completed"
    },
    "tags": []
   },
   "outputs": [
    {
     "data": {
      "text/plain": [
       "torch.Size([16, 1, 28, 28])"
      ]
     },
     "execution_count": 38,
     "metadata": {},
     "output_type": "execute_result"
    }
   ],
   "source": [
    "xb = x_imgs[:16][:,None]\n",
    "xb.shape"
   ]
  },
  {
   "cell_type": "code",
   "execution_count": 39,
   "id": "8ebcef3c",
   "metadata": {
    "execution": {
     "iopub.execute_input": "2023-08-01T16:10:31.167151Z",
     "iopub.status.busy": "2023-08-01T16:10:31.166249Z",
     "iopub.status.idle": "2023-08-01T16:10:31.173698Z",
     "shell.execute_reply": "2023-08-01T16:10:31.172645Z"
    },
    "papermill": {
     "duration": 0.040444,
     "end_time": "2023-08-01T16:10:31.176091",
     "exception": false,
     "start_time": "2023-08-01T16:10:31.135647",
     "status": "completed"
    },
    "tags": []
   },
   "outputs": [
    {
     "data": {
      "text/plain": [
       "torch.Size([16, 1, 28, 28])"
      ]
     },
     "execution_count": 39,
     "metadata": {},
     "output_type": "execute_result"
    }
   ],
   "source": [
    "x_imgs[:16].unsqueeze(1).shape"
   ]
  },
  {
   "cell_type": "code",
   "execution_count": 40,
   "id": "938031ed",
   "metadata": {
    "execution": {
     "iopub.execute_input": "2023-08-01T16:10:31.236499Z",
     "iopub.status.busy": "2023-08-01T16:10:31.236029Z",
     "iopub.status.idle": "2023-08-01T16:10:31.245703Z",
     "shell.execute_reply": "2023-08-01T16:10:31.244851Z"
    },
    "papermill": {
     "duration": 0.042611,
     "end_time": "2023-08-01T16:10:31.247900",
     "exception": false,
     "start_time": "2023-08-01T16:10:31.205289",
     "status": "completed"
    },
    "tags": []
   },
   "outputs": [
    {
     "data": {
      "text/plain": [
       "torch.Size([4, 1, 3, 3])"
      ]
     },
     "execution_count": 40,
     "metadata": {},
     "output_type": "execute_result"
    }
   ],
   "source": [
    "edge_kernels = torch.stack([left_edge, top_edge, diag1_edge, diag2_edge])[:,None]\n",
    "edge_kernels.shape"
   ]
  },
  {
   "cell_type": "code",
   "execution_count": 41,
   "id": "af5c7c1a",
   "metadata": {
    "execution": {
     "iopub.execute_input": "2023-08-01T16:10:31.309018Z",
     "iopub.status.busy": "2023-08-01T16:10:31.308588Z",
     "iopub.status.idle": "2023-08-01T16:10:31.364585Z",
     "shell.execute_reply": "2023-08-01T16:10:31.363420Z"
    },
    "papermill": {
     "duration": 0.08957,
     "end_time": "2023-08-01T16:10:31.367092",
     "exception": false,
     "start_time": "2023-08-01T16:10:31.277522",
     "status": "completed"
    },
    "tags": []
   },
   "outputs": [
    {
     "data": {
      "text/plain": [
       "torch.Size([16, 4, 26, 26])"
      ]
     },
     "execution_count": 41,
     "metadata": {},
     "output_type": "execute_result"
    }
   ],
   "source": [
    "batch_features = F.conv2d(xb, edge_kernels)\n",
    "batch_features.shape"
   ]
  },
  {
   "cell_type": "code",
   "execution_count": 42,
   "id": "5bc89179",
   "metadata": {
    "execution": {
     "iopub.execute_input": "2023-08-01T16:10:31.428963Z",
     "iopub.status.busy": "2023-08-01T16:10:31.428515Z",
     "iopub.status.idle": "2023-08-01T16:10:31.491756Z",
     "shell.execute_reply": "2023-08-01T16:10:31.490156Z"
    },
    "papermill": {
     "duration": 0.097934,
     "end_time": "2023-08-01T16:10:31.495689",
     "exception": false,
     "start_time": "2023-08-01T16:10:31.397755",
     "status": "completed"
    },
    "tags": []
   },
   "outputs": [
    {
     "data": {
      "image/png": "[encoded data removed]",
      "text/plain": [
       "<Figure size 320x240 with 1 Axes>"
      ]
     },
     "metadata": {},
     "output_type": "display_data"
    }
   ],
   "source": [
    "img0 = xb[1,0]\n",
    "show_image(img0);"
   ]
  },
  {
   "cell_type": "code",
   "execution_count": 43,
   "id": "b48bdb8a",
   "metadata": {
    "execution": {
     "iopub.execute_input": "2023-08-01T16:10:31.609844Z",
     "iopub.status.busy": "2023-08-01T16:10:31.608801Z",
     "iopub.status.idle": "2023-08-01T16:10:31.786044Z",
     "shell.execute_reply": "2023-08-01T16:10:31.784266Z"
    },
    "papermill": {
     "duration": 0.228215,
     "end_time": "2023-08-01T16:10:31.790837",
     "exception": false,
     "start_time": "2023-08-01T16:10:31.562622",
     "status": "completed"
    },
    "tags": []
   },
   "outputs": [
    {
     "data": {
      "image/png": "[encoded data removed]",
      "text/plain": [
       "<Figure size 300x300 with 4 Axes>"
      ]
     },
     "metadata": {},
     "output_type": "display_data"
    }
   ],
   "source": [
    "show_images([batch_features[1,i] for i in range(4)])"
   ]
  },
  {
   "cell_type": "markdown",
   "id": "9cd247ff",
   "metadata": {
    "papermill": {
     "duration": 0.033503,
     "end_time": "2023-08-01T16:10:31.889682",
     "exception": false,
     "start_time": "2023-08-01T16:10:31.856179",
     "status": "completed"
    },
    "tags": []
   },
   "source": [
    "## Creating the CNN"
   ]
  },
  {
   "cell_type": "code",
   "execution_count": 44,
   "id": "78b8118d",
   "metadata": {
    "execution": {
     "iopub.execute_input": "2023-08-01T16:10:31.952520Z",
     "iopub.status.busy": "2023-08-01T16:10:31.951731Z",
     "iopub.status.idle": "2023-08-01T16:10:31.966178Z",
     "shell.execute_reply": "2023-08-01T16:10:31.965235Z"
    },
    "papermill": {
     "duration": 0.048773,
     "end_time": "2023-08-01T16:10:31.968538",
     "exception": false,
     "start_time": "2023-08-01T16:10:31.919765",
     "status": "completed"
    },
    "tags": []
   },
   "outputs": [
    {
     "data": {
      "text/plain": [
       "(50000, 784, tensor(10), 50)"
      ]
     },
     "execution_count": 44,
     "metadata": {},
     "output_type": "execute_result"
    }
   ],
   "source": [
    "n,m = x_trn.shape\n",
    "c = y_trn.max()+1 # should be 10\n",
    "nh=50\n",
    "n,m,c,nh"
   ]
  },
  {
   "cell_type": "code",
   "execution_count": 45,
   "id": "c9ee74de",
   "metadata": {
    "execution": {
     "iopub.execute_input": "2023-08-01T16:10:32.031190Z",
     "iopub.status.busy": "2023-08-01T16:10:32.030417Z",
     "iopub.status.idle": "2023-08-01T16:10:32.040362Z",
     "shell.execute_reply": "2023-08-01T16:10:32.039135Z"
    },
    "papermill": {
     "duration": 0.04434,
     "end_time": "2023-08-01T16:10:32.043111",
     "exception": false,
     "start_time": "2023-08-01T16:10:31.998771",
     "status": "completed"
    },
    "tags": []
   },
   "outputs": [],
   "source": [
    "model = nn.Sequential(nn.Linear(m,nh), nn.ReLU(), nn.Linear(nh,10))"
   ]
  },
  {
   "cell_type": "code",
   "execution_count": 46,
   "id": "be5ebc75",
   "metadata": {
    "execution": {
     "iopub.execute_input": "2023-08-01T16:10:32.105980Z",
     "iopub.status.busy": "2023-08-01T16:10:32.105524Z",
     "iopub.status.idle": "2023-08-01T16:10:32.130758Z",
     "shell.execute_reply": "2023-08-01T16:10:32.129800Z"
    },
    "papermill": {
     "duration": 0.059847,
     "end_time": "2023-08-01T16:10:32.133318",
     "exception": false,
     "start_time": "2023-08-01T16:10:32.073471",
     "status": "completed"
    },
    "tags": []
   },
   "outputs": [
    {
     "data": {
      "text/plain": [
       "torch.Size([16, 10])"
      ]
     },
     "execution_count": 46,
     "metadata": {},
     "output_type": "execute_result"
    }
   ],
   "source": [
    "model(xb.flatten(1)).shape"
   ]
  },
  {
   "cell_type": "code",
   "execution_count": 47,
   "id": "fd01b96f",
   "metadata": {
    "execution": {
     "iopub.execute_input": "2023-08-01T16:10:32.196388Z",
     "iopub.status.busy": "2023-08-01T16:10:32.195630Z",
     "iopub.status.idle": "2023-08-01T16:10:32.202588Z",
     "shell.execute_reply": "2023-08-01T16:10:32.201528Z"
    },
    "papermill": {
     "duration": 0.041686,
     "end_time": "2023-08-01T16:10:32.205369",
     "exception": false,
     "start_time": "2023-08-01T16:10:32.163683",
     "status": "completed"
    },
    "tags": []
   },
   "outputs": [],
   "source": [
    "broken_cnn = nn.Sequential(\n",
    "    nn.Conv2d(1,30, kernel_size=3, padding=1),\n",
    "    nn.ReLU(),\n",
    "    nn.Conv2d(30,10, kernel_size=3, padding=1)\n",
    ")"
   ]
  },
  {
   "cell_type": "code",
   "execution_count": 48,
   "id": "be89efce",
   "metadata": {
    "execution": {
     "iopub.execute_input": "2023-08-01T16:10:32.268156Z",
     "iopub.status.busy": "2023-08-01T16:10:32.267696Z",
     "iopub.status.idle": "2023-08-01T16:10:32.280068Z",
     "shell.execute_reply": "2023-08-01T16:10:32.279001Z"
    },
    "papermill": {
     "duration": 0.046699,
     "end_time": "2023-08-01T16:10:32.282414",
     "exception": false,
     "start_time": "2023-08-01T16:10:32.235715",
     "status": "completed"
    },
    "tags": []
   },
   "outputs": [
    {
     "data": {
      "text/plain": [
       "torch.Size([16, 10, 28, 28])"
      ]
     },
     "execution_count": 48,
     "metadata": {},
     "output_type": "execute_result"
    }
   ],
   "source": [
    "broken_cnn(xb).shape"
   ]
  },
  {
   "cell_type": "markdown",
   "id": "c8f5cf2d",
   "metadata": {
    "papermill": {
     "duration": 0.030333,
     "end_time": "2023-08-01T16:10:32.343455",
     "exception": false,
     "start_time": "2023-08-01T16:10:32.313122",
     "status": "completed"
    },
    "tags": []
   },
   "source": [
    "Note Umer: This is 'broken', as its output is not of shape `(bs=16,10)`.<br/>\n",
    "To fix it, we need to add a stride."
   ]
  },
  {
   "cell_type": "code",
   "execution_count": 49,
   "id": "b3f80402",
   "metadata": {
    "execution": {
     "iopub.execute_input": "2023-08-01T16:10:32.406748Z",
     "iopub.status.busy": "2023-08-01T16:10:32.405677Z",
     "iopub.status.idle": "2023-08-01T16:10:32.412927Z",
     "shell.execute_reply": "2023-08-01T16:10:32.411795Z"
    },
    "papermill": {
     "duration": 0.041788,
     "end_time": "2023-08-01T16:10:32.415649",
     "exception": false,
     "start_time": "2023-08-01T16:10:32.373861",
     "status": "completed"
    },
    "tags": []
   },
   "outputs": [],
   "source": [
    "#|export\n",
    "def conv(ni, nf, ks=3, stride=2, act=True):\n",
    "    res = nn.Conv2d(ni, nf, kernel_size=ks, stride=stride, padding=ks//2)\n",
    "    if act: res = nn.Sequential(res, nn.ReLU())\n",
    "    return res"
   ]
  },
  {
   "cell_type": "markdown",
   "id": "d2df5b3d",
   "metadata": {
    "papermill": {
     "duration": 0.030901,
     "end_time": "2023-08-01T16:10:32.477521",
     "exception": false,
     "start_time": "2023-08-01T16:10:32.446620",
     "status": "completed"
    },
    "tags": []
   },
   "source": [
    "Refactoring parts of your neural network like this makes it much less likely you'll get errors due to inconsistencies in your architectures, and makes it more obvious to the reader which parts of your layers are actually changing."
   ]
  },
  {
   "cell_type": "markdown",
   "id": "5b776567",
   "metadata": {
    "papermill": {
     "duration": 0.031356,
     "end_time": "2023-08-01T16:10:32.541712",
     "exception": false,
     "start_time": "2023-08-01T16:10:32.510356",
     "status": "completed"
    },
    "tags": []
   },
   "source": [
    "Note Umer: Above, we have\n",
    "- automated the computation of `padding`\n",
    "- fixed the parts that don't change (`kernel_size`, `stride`)\n",
    "- and simplified calling activation (`relu`)"
   ]
  },
  {
   "cell_type": "code",
   "execution_count": 50,
   "id": "f9475da5",
   "metadata": {
    "execution": {
     "iopub.execute_input": "2023-08-01T16:10:32.605116Z",
     "iopub.status.busy": "2023-08-01T16:10:32.604495Z",
     "iopub.status.idle": "2023-08-01T16:10:32.611243Z",
     "shell.execute_reply": "2023-08-01T16:10:32.610375Z"
    },
    "papermill": {
     "duration": 0.041281,
     "end_time": "2023-08-01T16:10:32.613582",
     "exception": false,
     "start_time": "2023-08-01T16:10:32.572301",
     "status": "completed"
    },
    "tags": []
   },
   "outputs": [],
   "source": [
    "simple_cnn = nn.Sequential(\n",
    "    conv(1, 4),  # 14x14\n",
    "    conv(4, 8),  # 7x7\n",
    "    conv(8, 16), # 4x4\n",
    "    conv(16,16), # 2x2\n",
    "    conv(16,10, act=False), #1x1\n",
    "    nn.Flatten()\n",
    ")"
   ]
  },
  {
   "cell_type": "code",
   "execution_count": 51,
   "id": "17eed5f5",
   "metadata": {
    "execution": {
     "iopub.execute_input": "2023-08-01T16:10:32.677405Z",
     "iopub.status.busy": "2023-08-01T16:10:32.676271Z",
     "iopub.status.idle": "2023-08-01T16:10:32.686747Z",
     "shell.execute_reply": "2023-08-01T16:10:32.685564Z"
    },
    "papermill": {
     "duration": 0.044917,
     "end_time": "2023-08-01T16:10:32.689174",
     "exception": false,
     "start_time": "2023-08-01T16:10:32.644257",
     "status": "completed"
    },
    "tags": []
   },
   "outputs": [
    {
     "data": {
      "text/plain": [
       "torch.Size([16, 10])"
      ]
     },
     "execution_count": 51,
     "metadata": {},
     "output_type": "execute_result"
    }
   ],
   "source": [
    "simple_cnn(xb).shape"
   ]
  },
  {
   "cell_type": "code",
   "execution_count": 52,
   "id": "9ed93e57",
   "metadata": {
    "execution": {
     "iopub.execute_input": "2023-08-01T16:10:32.755984Z",
     "iopub.status.busy": "2023-08-01T16:10:32.754948Z",
     "iopub.status.idle": "2023-08-01T16:10:32.760402Z",
     "shell.execute_reply": "2023-08-01T16:10:32.759564Z"
    },
    "papermill": {
     "duration": 0.041954,
     "end_time": "2023-08-01T16:10:32.762549",
     "exception": false,
     "start_time": "2023-08-01T16:10:32.720595",
     "status": "completed"
    },
    "tags": []
   },
   "outputs": [],
   "source": [
    "x_imgs = x_trn.view(-1,1,28,28)\n",
    "xv_imgs= x_val.view(-1,1,28,28)\n",
    "trn_ds,val_ds = Dataset(x_imgs,y_trn), Dataset(xv_imgs,y_val)"
   ]
  },
  {
   "cell_type": "code",
   "execution_count": 53,
   "id": "48c1a262",
   "metadata": {
    "execution": {
     "iopub.execute_input": "2023-08-01T16:10:32.827989Z",
     "iopub.status.busy": "2023-08-01T16:10:32.826666Z",
     "iopub.status.idle": "2023-08-01T16:10:32.834511Z",
     "shell.execute_reply": "2023-08-01T16:10:32.833668Z"
    },
    "papermill": {
     "duration": 0.042326,
     "end_time": "2023-08-01T16:10:32.836784",
     "exception": false,
     "start_time": "2023-08-01T16:10:32.794458",
     "status": "completed"
    },
    "tags": []
   },
   "outputs": [],
   "source": [
    "#|export\n",
    "def_device = 'mps' if torch.backends.mps.is_available() else 'cuda' if torch.cuda.is_available() else 'cpu'\n",
    "\n",
    "def to_device(x,device=def_device):\n",
    "    if isinstance(x,torch.Tensor): return x.to(device)\n",
    "    if isinstance(x,Mapping): return {k:v.to(device) for k,v in x.items()}\n",
    "    return type(x)(to_device(o,device) for o in x)\n",
    "\n",
    "def collate_device(b): return to_device(default_collate(b))"
   ]
  },
  {
   "cell_type": "markdown",
   "id": "b18130b6",
   "metadata": {
    "papermill": {
     "duration": 0.030449,
     "end_time": "2023-08-01T16:10:32.898488",
     "exception": false,
     "start_time": "2023-08-01T16:10:32.868039",
     "status": "completed"
    },
    "tags": []
   },
   "source": [
    "**Q:** In `to_device` above, if x is a np.array (e.g. np.array(range(10)), are we sending each item separately to the gpu? <br/>\n",
    "If yes, is the reasond we don't care that we don't use numpy, but only use torch?"
   ]
  },
  {
   "cell_type": "code",
   "execution_count": 54,
   "id": "8babecd5",
   "metadata": {
    "execution": {
     "iopub.execute_input": "2023-08-01T16:10:32.962280Z",
     "iopub.status.busy": "2023-08-01T16:10:32.961461Z",
     "iopub.status.idle": "2023-08-01T16:10:32.968396Z",
     "shell.execute_reply": "2023-08-01T16:10:32.967199Z"
    },
    "papermill": {
     "duration": 0.041689,
     "end_time": "2023-08-01T16:10:32.971057",
     "exception": false,
     "start_time": "2023-08-01T16:10:32.929368",
     "status": "completed"
    },
    "tags": []
   },
   "outputs": [],
   "source": [
    "from torch import optim\n",
    "\n",
    "bs = 256\n",
    "lr = 0.4\n",
    "trn_dl,val_dl = get_dls(trn_ds,val_ds,bs, collate_fn=collate_device)\n",
    "opt = optim.SGD(simple_cnn.parameters(), lr=lr)"
   ]
  },
  {
   "cell_type": "code",
   "execution_count": 55,
   "id": "41ed643f",
   "metadata": {
    "execution": {
     "iopub.execute_input": "2023-08-01T16:10:33.035632Z",
     "iopub.status.busy": "2023-08-01T16:10:33.034767Z",
     "iopub.status.idle": "2023-08-01T16:10:44.385433Z",
     "shell.execute_reply": "2023-08-01T16:10:44.383975Z"
    },
    "papermill": {
     "duration": 11.385883,
     "end_time": "2023-08-01T16:10:44.388165",
     "exception": false,
     "start_time": "2023-08-01T16:10:33.002282",
     "status": "completed"
    },
    "tags": []
   },
   "outputs": [
    {
     "name": "stdout",
     "output_type": "stream",
     "text": [
      "0 0.5888300724983215 0.8121000003814697\n",
      "1 0.16764804756641388 0.9484000007629394\n",
      "2 0.1339406509399414 0.9613000007629394\n",
      "3 0.13637050297260284 0.960400000667572\n",
      "4 0.13602256319522857 0.9582000001907348\n"
     ]
    }
   ],
   "source": [
    "loss,acc = fit(5, simple_cnn.to(def_device), F.cross_entropy, opt, trn_dl, val_dl)"
   ]
  },
  {
   "cell_type": "markdown",
   "id": "da54dc68",
   "metadata": {
    "papermill": {
     "duration": 0.03106,
     "end_time": "2023-08-01T16:10:44.452155",
     "exception": false,
     "start_time": "2023-08-01T16:10:44.421095",
     "status": "completed"
    },
    "tags": []
   },
   "source": [
    "We reduce the learning rate and train further"
   ]
  },
  {
   "cell_type": "code",
   "execution_count": 56,
   "id": "f520b321",
   "metadata": {
    "execution": {
     "iopub.execute_input": "2023-08-01T16:10:44.516503Z",
     "iopub.status.busy": "2023-08-01T16:10:44.516057Z",
     "iopub.status.idle": "2023-08-01T16:10:55.417931Z",
     "shell.execute_reply": "2023-08-01T16:10:55.416580Z"
    },
    "papermill": {
     "duration": 10.937247,
     "end_time": "2023-08-01T16:10:55.420613",
     "exception": false,
     "start_time": "2023-08-01T16:10:44.483366",
     "status": "completed"
    },
    "tags": []
   },
   "outputs": [
    {
     "name": "stdout",
     "output_type": "stream",
     "text": [
      "0 0.08484998407363892 0.9747999992370605\n",
      "1 0.08640038630962373 0.9747999995231629\n",
      "2 0.08384894771575928 0.9744999992370605\n",
      "3 0.09273242268562316 0.972500000667572\n",
      "4 0.08120379865169525 0.975299999332428\n"
     ]
    }
   ],
   "source": [
    "opt = optim.SGD(simple_cnn.parameters(), lr=lr/4)\n",
    "loss,arc = fit(5, simple_cnn, F.cross_entropy, opt, trn_dl, val_dl)"
   ]
  },
  {
   "cell_type": "markdown",
   "id": "05621030",
   "metadata": {
    "papermill": {
     "duration": 0.031027,
     "end_time": "2023-08-01T16:10:55.483404",
     "exception": false,
     "start_time": "2023-08-01T16:10:55.452377",
     "status": "completed"
    },
    "tags": []
   },
   "source": [
    "## Understanding Convolutional Arithmetic"
   ]
  },
  {
   "cell_type": "markdown",
   "id": "3ca4ef49",
   "metadata": {
    "papermill": {
     "duration": 0.031277,
     "end_time": "2023-08-01T16:10:55.546478",
     "exception": false,
     "start_time": "2023-08-01T16:10:55.515201",
     "status": "completed"
    },
    "tags": []
   },
   "source": [
    "In an input of size `64x1x28x28` the axes are `batch,channel,height,width`. This is often represented as `NCHW` (where `N` refers to batch size). Tensorflow, on the other hand, uses `NHWC` axis order (aka \"channels-last\"). Channels-last is faster for many models, so recently it's become more common to see this as an option in PyTorch too.\n",
    "\n",
    "We have 1 input channel, 4 output channels, and a 3×3 kernel."
   ]
  },
  {
   "cell_type": "code",
   "execution_count": 57,
   "id": "b756b858",
   "metadata": {
    "execution": {
     "iopub.execute_input": "2023-08-01T16:10:55.612334Z",
     "iopub.status.busy": "2023-08-01T16:10:55.611369Z",
     "iopub.status.idle": "2023-08-01T16:10:55.619414Z",
     "shell.execute_reply": "2023-08-01T16:10:55.618189Z"
    },
    "papermill": {
     "duration": 0.043502,
     "end_time": "2023-08-01T16:10:55.621765",
     "exception": false,
     "start_time": "2023-08-01T16:10:55.578263",
     "status": "completed"
    },
    "tags": []
   },
   "outputs": [
    {
     "data": {
      "text/plain": [
       "Conv2d(1, 4, kernel_size=(3, 3), stride=(2, 2), padding=(1, 1))"
      ]
     },
     "execution_count": 57,
     "metadata": {},
     "output_type": "execute_result"
    }
   ],
   "source": [
    "simple_cnn[0][0]"
   ]
  },
  {
   "cell_type": "code",
   "execution_count": 58,
   "id": "dcf04916",
   "metadata": {
    "execution": {
     "iopub.execute_input": "2023-08-01T16:10:55.687998Z",
     "iopub.status.busy": "2023-08-01T16:10:55.687571Z",
     "iopub.status.idle": "2023-08-01T16:10:55.694853Z",
     "shell.execute_reply": "2023-08-01T16:10:55.693711Z"
    },
    "papermill": {
     "duration": 0.043704,
     "end_time": "2023-08-01T16:10:55.697204",
     "exception": false,
     "start_time": "2023-08-01T16:10:55.653500",
     "status": "completed"
    },
    "tags": []
   },
   "outputs": [
    {
     "data": {
      "text/plain": [
       "Sequential(\n",
       "  (0): Conv2d(1, 4, kernel_size=(3, 3), stride=(2, 2), padding=(1, 1))\n",
       "  (1): ReLU()\n",
       ")"
      ]
     },
     "execution_count": 58,
     "metadata": {},
     "output_type": "execute_result"
    }
   ],
   "source": [
    "simple_cnn[0]"
   ]
  },
  {
   "cell_type": "code",
   "execution_count": 59,
   "id": "4b9fba7c",
   "metadata": {
    "execution": {
     "iopub.execute_input": "2023-08-01T16:10:55.763814Z",
     "iopub.status.busy": "2023-08-01T16:10:55.763358Z",
     "iopub.status.idle": "2023-08-01T16:10:55.770967Z",
     "shell.execute_reply": "2023-08-01T16:10:55.769782Z"
    },
    "papermill": {
     "duration": 0.044406,
     "end_time": "2023-08-01T16:10:55.773594",
     "exception": false,
     "start_time": "2023-08-01T16:10:55.729188",
     "status": "completed"
    },
    "tags": []
   },
   "outputs": [
    {
     "data": {
      "text/plain": [
       "torch.Size([4, 1, 3, 3])"
      ]
     },
     "execution_count": 59,
     "metadata": {},
     "output_type": "execute_result"
    }
   ],
   "source": [
    "conv1 = simple_cnn[0][0]\n",
    "conv1.weight.shape"
   ]
  },
  {
   "cell_type": "code",
   "execution_count": 60,
   "id": "c81b9fbe",
   "metadata": {
    "execution": {
     "iopub.execute_input": "2023-08-01T16:10:55.840901Z",
     "iopub.status.busy": "2023-08-01T16:10:55.840491Z",
     "iopub.status.idle": "2023-08-01T16:10:55.847650Z",
     "shell.execute_reply": "2023-08-01T16:10:55.846522Z"
    },
    "papermill": {
     "duration": 0.043949,
     "end_time": "2023-08-01T16:10:55.850095",
     "exception": false,
     "start_time": "2023-08-01T16:10:55.806146",
     "status": "completed"
    },
    "tags": []
   },
   "outputs": [
    {
     "data": {
      "text/plain": [
       "torch.Size([4])"
      ]
     },
     "execution_count": 60,
     "metadata": {},
     "output_type": "execute_result"
    }
   ],
   "source": [
    "conv1.bias.shape"
   ]
  },
  {
   "cell_type": "markdown",
   "id": "bfc26ad3",
   "metadata": {
    "papermill": {
     "duration": 0.032553,
     "end_time": "2023-08-01T16:10:55.918681",
     "exception": false,
     "start_time": "2023-08-01T16:10:55.886128",
     "status": "completed"
    },
    "tags": []
   },
   "source": [
    "### Color images"
   ]
  },
  {
   "cell_type": "code",
   "execution_count": 61,
   "id": "d61cfcb5",
   "metadata": {
    "execution": {
     "iopub.execute_input": "2023-08-01T16:10:55.987709Z",
     "iopub.status.busy": "2023-08-01T16:10:55.987194Z",
     "iopub.status.idle": "2023-08-01T16:10:56.335440Z",
     "shell.execute_reply": "2023-08-01T16:10:56.334201Z"
    },
    "papermill": {
     "duration": 0.386516,
     "end_time": "2023-08-01T16:10:56.338288",
     "exception": false,
     "start_time": "2023-08-01T16:10:55.951772",
     "status": "completed"
    },
    "tags": []
   },
   "outputs": [],
   "source": [
    "from torchvision.io import read_image"
   ]
  },
  {
   "cell_type": "code",
   "execution_count": 62,
   "id": "c74a72cc",
   "metadata": {
    "execution": {
     "iopub.execute_input": "2023-08-01T16:10:56.404899Z",
     "iopub.status.busy": "2023-08-01T16:10:56.404485Z",
     "iopub.status.idle": "2023-08-01T16:11:11.409910Z",
     "shell.execute_reply": "2023-08-01T16:11:11.408285Z"
    },
    "papermill": {
     "duration": 15.042141,
     "end_time": "2023-08-01T16:11:11.412888",
     "exception": false,
     "start_time": "2023-08-01T16:10:56.370747",
     "status": "completed"
    },
    "tags": []
   },
   "outputs": [],
   "source": [
    "!pip install -Uqq fastdownload"
   ]
  },
  {
   "cell_type": "code",
   "execution_count": 63,
   "id": "b90e93e2",
   "metadata": {
    "execution": {
     "iopub.execute_input": "2023-08-01T16:11:11.479550Z",
     "iopub.status.busy": "2023-08-01T16:11:11.479083Z",
     "iopub.status.idle": "2023-08-01T16:11:11.489914Z",
     "shell.execute_reply": "2023-08-01T16:11:11.488814Z"
    },
    "papermill": {
     "duration": 0.047542,
     "end_time": "2023-08-01T16:11:11.492698",
     "exception": false,
     "start_time": "2023-08-01T16:11:11.445156",
     "status": "completed"
    },
    "tags": []
   },
   "outputs": [],
   "source": [
    "from fastdownload import download_url"
   ]
  },
  {
   "cell_type": "code",
   "execution_count": 64,
   "id": "d95c24ee",
   "metadata": {
    "execution": {
     "iopub.execute_input": "2023-08-01T16:11:11.560166Z",
     "iopub.status.busy": "2023-08-01T16:11:11.559647Z",
     "iopub.status.idle": "2023-08-01T16:11:11.880385Z",
     "shell.execute_reply": "2023-08-01T16:11:11.879076Z"
    },
    "papermill": {
     "duration": 0.357496,
     "end_time": "2023-08-01T16:11:11.882888",
     "exception": false,
     "start_time": "2023-08-01T16:11:11.525392",
     "status": "completed"
    },
    "tags": []
   },
   "outputs": [
    {
     "data": {
      "text/html": [
       "\n",
       "<style>\n",
       "    /* Turns off some styling */\n",
       "    progress {\n",
       "        /* gets rid of default border in Firefox and Opera. */\n",
       "        border: none;\n",
       "        /* Needs to be in here for Safari polyfill so background images work as expected. */\n",
       "        background-size: auto;\n",
       "    }\n",
       "    progress:not([value]), progress:not([value])::-webkit-progress-bar {\n",
       "        background: repeating-linear-gradient(45deg, #7e7e7e, #7e7e7e 10px, #5c5c5c 10px, #5c5c5c 20px);\n",
       "    }\n",
       "    .progress-bar-interrupted, .progress-bar-interrupted::-webkit-progress-bar {\n",
       "        background: #F44336;\n",
       "    }\n",
       "</style>\n"
      ],
      "text/plain": [
       "<IPython.core.display.HTML object>"
      ]
     },
     "metadata": {},
     "output_type": "display_data"
    },
    {
     "data": {
      "text/html": [
       "\n",
       "    <div>\n",
       "      <progress value='499712' class='' max='499610' style='width:300px; height:20px; vertical-align: middle;'></progress>\n",
       "      100.02% [499712/499610 00:00&lt;00:00]\n",
       "    </div>\n",
       "    "
      ],
      "text/plain": [
       "<IPython.core.display.HTML object>"
      ]
     },
     "metadata": {},
     "output_type": "display_data"
    },
    {
     "data": {
      "text/plain": [
       "Path('images/bear.jpg')"
      ]
     },
     "execution_count": 64,
     "metadata": {},
     "output_type": "execute_result"
    }
   ],
   "source": [
    "bear_url = 'https://upload.wikimedia.org/wikipedia/commons/thumb/7/71/2010-kodiak-bear-1.jpg/1920px-2010-kodiak-bear-1.jpg'\n",
    "download_url(bear_url, 'images/bear.jpg')"
   ]
  },
  {
   "cell_type": "code",
   "execution_count": 65,
   "id": "a659528e",
   "metadata": {
    "execution": {
     "iopub.execute_input": "2023-08-01T16:11:11.950263Z",
     "iopub.status.busy": "2023-08-01T16:11:11.949844Z",
     "iopub.status.idle": "2023-08-01T16:11:11.978341Z",
     "shell.execute_reply": "2023-08-01T16:11:11.977461Z"
    },
    "papermill": {
     "duration": 0.064954,
     "end_time": "2023-08-01T16:11:11.980544",
     "exception": false,
     "start_time": "2023-08-01T16:11:11.915590",
     "status": "completed"
    },
    "tags": []
   },
   "outputs": [
    {
     "data": {
      "text/plain": [
       "torch.Size([3, 1280, 1920])"
      ]
     },
     "execution_count": 65,
     "metadata": {},
     "output_type": "execute_result"
    }
   ],
   "source": [
    "im = read_image('images/bear.jpg')\n",
    "im.shape"
   ]
  },
  {
   "cell_type": "code",
   "execution_count": 66,
   "id": "0acc8c6d",
   "metadata": {
    "execution": {
     "iopub.execute_input": "2023-08-01T16:11:12.050868Z",
     "iopub.status.busy": "2023-08-01T16:11:12.050064Z",
     "iopub.status.idle": "2023-08-01T16:11:12.645449Z",
     "shell.execute_reply": "2023-08-01T16:11:12.644034Z"
    },
    "papermill": {
     "duration": 0.632818,
     "end_time": "2023-08-01T16:11:12.648040",
     "exception": false,
     "start_time": "2023-08-01T16:11:12.015222",
     "status": "completed"
    },
    "tags": []
   },
   "outputs": [
    {
     "data": {
      "image/png": "[encoded data removed]",
      "text/plain": [
       "<Figure size 320x240 with 1 Axes>"
      ]
     },
     "metadata": {},
     "output_type": "display_data"
    }
   ],
   "source": [
    "show_image(im.permute(1,2,0));"
   ]
  },
  {
   "cell_type": "code",
   "execution_count": 67,
   "id": "61ee6305",
   "metadata": {
    "execution": {
     "iopub.execute_input": "2023-08-01T16:11:12.721018Z",
     "iopub.status.busy": "2023-08-01T16:11:12.720528Z",
     "iopub.status.idle": "2023-08-01T16:11:13.126594Z",
     "shell.execute_reply": "2023-08-01T16:11:13.125361Z"
    },
    "papermill": {
     "duration": 0.446538,
     "end_time": "2023-08-01T16:11:13.129653",
     "exception": false,
     "start_time": "2023-08-01T16:11:12.683115",
     "status": "completed"
    },
    "tags": []
   },
   "outputs": [
    {
     "data": {
      "image/png": "[encoded data removed]",
      "text/plain": [
       "<Figure size 320x240 with 3 Axes>"
      ]
     },
     "metadata": {},
     "output_type": "display_data"
    }
   ],
   "source": [
    "_,axs = plt.subplots(1,3)\n",
    "for bear,ax,color in zip(im,axs,('Reds','Greens','Blues')): show_image(255-bear, ax=ax, cmap=color)"
   ]
  },
  {
   "cell_type": "code",
   "execution_count": 68,
   "id": "d8a566a7",
   "metadata": {
    "execution": {
     "iopub.execute_input": "2023-08-01T16:11:13.202039Z",
     "iopub.status.busy": "2023-08-01T16:11:13.201142Z",
     "iopub.status.idle": "2023-08-01T16:11:13.594713Z",
     "shell.execute_reply": "2023-08-01T16:11:13.593087Z"
    },
    "papermill": {
     "duration": 0.432768,
     "end_time": "2023-08-01T16:11:13.597416",
     "exception": false,
     "start_time": "2023-08-01T16:11:13.164648",
     "status": "completed"
    },
    "tags": []
   },
   "outputs": [
    {
     "data": {
      "image/png": "[encoded data removed]",
      "text/plain": [
       "<Figure size 320x240 with 3 Axes>"
      ]
     },
     "metadata": {},
     "output_type": "display_data"
    }
   ],
   "source": [
    "_,axs = plt.subplots(1,3)\n",
    "for bear,ax,color in zip(im,axs,('Reds','Greens','Blues')): show_image(bear, ax=ax, cmap=color)"
   ]
  },
  {
   "cell_type": "code",
   "execution_count": null,
   "id": "3b858060",
   "metadata": {
    "papermill": {
     "duration": 0.035427,
     "end_time": "2023-08-01T16:11:13.668870",
     "exception": false,
     "start_time": "2023-08-01T16:11:13.633443",
     "status": "completed"
    },
    "tags": []
   },
   "outputs": [],
   "source": []
  }
 ],
 "metadata": {
  "kernelspec": {
   "display_name": "Python 3",
   "language": "python",
   "name": "python3"
  },
  "language_info": {
   "codemirror_mode": {
    "name": "ipython",
    "version": 3
   },
   "file_extension": ".py",
   "mimetype": "text/x-python",
   "name": "python",
   "nbconvert_exporter": "python",
   "pygments_lexer": "ipython3",
   "version": "3.10.12"
  },
  "papermill": {
   "default_parameters": {},
   "duration": 67.273733,
   "end_time": "2023-08-01T16:11:15.230249",
   "environment_variables": {},
   "exception": null,
   "input_path": "__notebook__.ipynb",
   "output_path": "__notebook__.ipynb",
   "parameters": {},
   "start_time": "2023-08-01T16:10:07.956516",
   "version": "2.4.0"
  }
 },
 "nbformat": 4,
 "nbformat_minor": 5
}
