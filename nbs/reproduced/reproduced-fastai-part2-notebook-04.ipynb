{
 "cells": [
  {
   "cell_type": "code",
   "execution_count": 1,
   "id": "62cb9ae0",
   "metadata": {
    "_cell_guid": "b1076dfc-b9ad-4769-8c92-a6c4dae69d19",
    "_uuid": "8f2839f25d086af736a60e9eeb907d3b93b6e0e5",
    "execution": {
     "iopub.execute_input": "2023-07-20T11:57:19.169159Z",
     "iopub.status.busy": "2023-07-20T11:57:19.168764Z",
     "iopub.status.idle": "2023-07-20T11:57:19.173764Z",
     "shell.execute_reply": "2023-07-20T11:57:19.172869Z"
    },
    "papermill": {
     "duration": 0.043072,
     "end_time": "2023-07-20T11:57:19.177504",
     "exception": false,
     "start_time": "2023-07-20T11:57:19.134432",
     "status": "completed"
    },
    "tags": []
   },
   "outputs": [],
   "source": [
    "#| default_exp training"
   ]
  },
  {
   "cell_type": "code",
   "execution_count": 2,
   "id": "4c94e37b",
   "metadata": {
    "execution": {
     "iopub.execute_input": "2023-07-20T11:57:19.243868Z",
     "iopub.status.busy": "2023-07-20T11:57:19.243572Z",
     "iopub.status.idle": "2023-07-20T11:57:22.628645Z",
     "shell.execute_reply": "2023-07-20T11:57:22.627650Z"
    },
    "papermill": {
     "duration": 3.420354,
     "end_time": "2023-07-20T11:57:22.631057",
     "exception": false,
     "start_time": "2023-07-20T11:57:19.210703",
     "status": "completed"
    },
    "tags": []
   },
   "outputs": [],
   "source": [
    "#|export\n",
    "import pickle,gzip,math,os,time,shutil,torch,matplotlib as mpl,numpy as np, matplotlib.pyplot as plt\n",
    "from pathlib import Path\n",
    "from urllib.request import urlretrieve\n",
    "from torch import tensor,nn\n",
    "import torch.nn.functional as F"
   ]
  },
  {
   "cell_type": "code",
   "execution_count": 3,
   "id": "de95fa0d",
   "metadata": {
    "execution": {
     "iopub.execute_input": "2023-07-20T11:57:22.698284Z",
     "iopub.status.busy": "2023-07-20T11:57:22.697103Z",
     "iopub.status.idle": "2023-07-20T11:57:25.370471Z",
     "shell.execute_reply": "2023-07-20T11:57:25.369442Z"
    },
    "papermill": {
     "duration": 2.709245,
     "end_time": "2023-07-20T11:57:25.373000",
     "exception": false,
     "start_time": "2023-07-20T11:57:22.663755",
     "status": "completed"
    },
    "tags": []
   },
   "outputs": [],
   "source": [
    "from fastcore.test import test_close\n",
    "\n",
    "torch.set_printoptions(precision=2, linewidth=140, sci_mode=False)\n",
    "torch.manual_seed(1)\n",
    "mpl.rcParams['image.cmap'] = 'gray'\n",
    "\n",
    "path_data = Path('data')\n",
    "path_data.mkdir(exist_ok=True)\n",
    "path_gz = path_data/'mnist.pkl.gz'\n",
    "\n",
    "MNIST_URL='https://github.com/mnielsen/neural-networks-and-deep-learning/blob/master/data/mnist.pkl.gz?raw=true'\n",
    "if not path_gz.exists(): urlretrieve(MNIST_URL, path_gz)\n",
    "\n",
    "with gzip.open(path_gz, 'rb') as f: ((x_trn,y_trn),(x_val,y_val),_) = pickle.load(f, encoding='latin-1')\n",
    "x_trn,y_trn, x_val,y_val = map(tensor, (x_trn,y_trn, x_val,y_val))"
   ]
  },
  {
   "cell_type": "markdown",
   "id": "4872fb7d",
   "metadata": {
    "papermill": {
     "duration": 0.031961,
     "end_time": "2023-07-20T11:57:25.437815",
     "exception": false,
     "start_time": "2023-07-20T11:57:25.405854",
     "status": "completed"
    },
    "tags": []
   },
   "source": [
    "## Initial setup"
   ]
  },
  {
   "cell_type": "markdown",
   "id": "a5abd96d",
   "metadata": {
    "papermill": {
     "duration": 0.032386,
     "end_time": "2023-07-20T11:57:25.502239",
     "exception": false,
     "start_time": "2023-07-20T11:57:25.469853",
     "status": "completed"
    },
    "tags": []
   },
   "source": [
    "### Data"
   ]
  },
  {
   "cell_type": "code",
   "execution_count": 4,
   "id": "37258886",
   "metadata": {
    "execution": {
     "iopub.execute_input": "2023-07-20T11:57:25.568521Z",
     "iopub.status.busy": "2023-07-20T11:57:25.567533Z",
     "iopub.status.idle": "2023-07-20T11:57:25.587310Z",
     "shell.execute_reply": "2023-07-20T11:57:25.586418Z"
    },
    "papermill": {
     "duration": 0.054685,
     "end_time": "2023-07-20T11:57:25.589286",
     "exception": false,
     "start_time": "2023-07-20T11:57:25.534601",
     "status": "completed"
    },
    "tags": []
   },
   "outputs": [],
   "source": [
    "n,m = x_trn.shape\n",
    "c = y_trn.max()+1\n",
    "nh = 50"
   ]
  },
  {
   "cell_type": "code",
   "execution_count": 5,
   "id": "1874e19f",
   "metadata": {
    "execution": {
     "iopub.execute_input": "2023-07-20T11:57:25.655209Z",
     "iopub.status.busy": "2023-07-20T11:57:25.654919Z",
     "iopub.status.idle": "2023-07-20T11:57:25.660540Z",
     "shell.execute_reply": "2023-07-20T11:57:25.659605Z"
    },
    "papermill": {
     "duration": 0.040739,
     "end_time": "2023-07-20T11:57:25.662512",
     "exception": false,
     "start_time": "2023-07-20T11:57:25.621773",
     "status": "completed"
    },
    "tags": []
   },
   "outputs": [],
   "source": [
    "class Model(nn.Module):\n",
    "    def __init__(self, n_in, nh, n_out):\n",
    "        super().__init__()\n",
    "        self.layers = [nn.Linear(n_in, nh), nn.ReLU(), nn.Linear(nh, n_out)]\n",
    "    \n",
    "    def forward(self, x):\n",
    "        for l in self.layers: x = l(x)\n",
    "        return x"
   ]
  },
  {
   "cell_type": "code",
   "execution_count": 6,
   "id": "447141c0",
   "metadata": {
    "execution": {
     "iopub.execute_input": "2023-07-20T11:57:25.728927Z",
     "iopub.status.busy": "2023-07-20T11:57:25.728096Z",
     "iopub.status.idle": "2023-07-20T11:57:25.877613Z",
     "shell.execute_reply": "2023-07-20T11:57:25.876614Z"
    },
    "papermill": {
     "duration": 0.185051,
     "end_time": "2023-07-20T11:57:25.879680",
     "exception": false,
     "start_time": "2023-07-20T11:57:25.694629",
     "status": "completed"
    },
    "tags": []
   },
   "outputs": [
    {
     "data": {
      "text/plain": [
       "torch.Size([50000, 10])"
      ]
     },
     "execution_count": 6,
     "metadata": {},
     "output_type": "execute_result"
    }
   ],
   "source": [
    "model = Model(m, nh, 10)\n",
    "pred = model(x_trn)\n",
    "pred.shape"
   ]
  },
  {
   "cell_type": "markdown",
   "id": "4f3399df",
   "metadata": {
    "papermill": {
     "duration": 0.032376,
     "end_time": "2023-07-20T11:57:25.944930",
     "exception": false,
     "start_time": "2023-07-20T11:57:25.912554",
     "status": "completed"
    },
    "tags": []
   },
   "source": [
    "### Cross entroy loss"
   ]
  },
  {
   "cell_type": "code",
   "execution_count": 7,
   "id": "c14aa41a",
   "metadata": {
    "execution": {
     "iopub.execute_input": "2023-07-20T11:57:26.012566Z",
     "iopub.status.busy": "2023-07-20T11:57:26.011767Z",
     "iopub.status.idle": "2023-07-20T11:57:26.017114Z",
     "shell.execute_reply": "2023-07-20T11:57:26.016256Z"
    },
    "papermill": {
     "duration": 0.040599,
     "end_time": "2023-07-20T11:57:26.019183",
     "exception": false,
     "start_time": "2023-07-20T11:57:25.978584",
     "status": "completed"
    },
    "tags": []
   },
   "outputs": [],
   "source": [
    "def log_softmax(x): return (x.exp()/x.exp().sum(axis=-1, keepdim=True)).log()"
   ]
  },
  {
   "cell_type": "code",
   "execution_count": 8,
   "id": "debd6d7a",
   "metadata": {
    "execution": {
     "iopub.execute_input": "2023-07-20T11:57:26.099331Z",
     "iopub.status.busy": "2023-07-20T11:57:26.098956Z",
     "iopub.status.idle": "2023-07-20T11:57:26.150055Z",
     "shell.execute_reply": "2023-07-20T11:57:26.149106Z"
    },
    "papermill": {
     "duration": 0.099665,
     "end_time": "2023-07-20T11:57:26.152808",
     "exception": false,
     "start_time": "2023-07-20T11:57:26.053143",
     "status": "completed"
    },
    "tags": []
   },
   "outputs": [
    {
     "data": {
      "text/plain": [
       "tensor([[-2.37, -2.49, -2.36,  ..., -2.31, -2.28, -2.22],\n",
       "        [-2.37, -2.44, -2.44,  ..., -2.27, -2.26, -2.16],\n",
       "        [-2.48, -2.33, -2.28,  ..., -2.30, -2.30, -2.27],\n",
       "        ...,\n",
       "        [-2.33, -2.52, -2.34,  ..., -2.31, -2.21, -2.16],\n",
       "        [-2.38, -2.38, -2.33,  ..., -2.29, -2.26, -2.17],\n",
       "        [-2.33, -2.55, -2.36,  ..., -2.29, -2.27, -2.16]], grad_fn=<LogBackward0>)"
      ]
     },
     "execution_count": 8,
     "metadata": {},
     "output_type": "execute_result"
    }
   ],
   "source": [
    "log_softmax(pred)"
   ]
  },
  {
   "cell_type": "code",
   "execution_count": 9,
   "id": "1ceb48ed",
   "metadata": {
    "execution": {
     "iopub.execute_input": "2023-07-20T11:57:26.228000Z",
     "iopub.status.busy": "2023-07-20T11:57:26.227703Z",
     "iopub.status.idle": "2023-07-20T11:57:26.232366Z",
     "shell.execute_reply": "2023-07-20T11:57:26.231433Z"
    },
    "papermill": {
     "duration": 0.040422,
     "end_time": "2023-07-20T11:57:26.234343",
     "exception": false,
     "start_time": "2023-07-20T11:57:26.193921",
     "status": "completed"
    },
    "tags": []
   },
   "outputs": [],
   "source": [
    "# simplifying with log(a/b) = log(a) - log(b)\n",
    "def log_softmax(x): return x - x.exp().sum(axis=-1, keepdim=True).log()"
   ]
  },
  {
   "cell_type": "code",
   "execution_count": 10,
   "id": "b567a3be",
   "metadata": {
    "execution": {
     "iopub.execute_input": "2023-07-20T11:57:26.300070Z",
     "iopub.status.busy": "2023-07-20T11:57:26.299416Z",
     "iopub.status.idle": "2023-07-20T11:57:26.309375Z",
     "shell.execute_reply": "2023-07-20T11:57:26.308405Z"
    },
    "papermill": {
     "duration": 0.045001,
     "end_time": "2023-07-20T11:57:26.311376",
     "exception": false,
     "start_time": "2023-07-20T11:57:26.266375",
     "status": "completed"
    },
    "tags": []
   },
   "outputs": [
    {
     "data": {
      "text/plain": [
       "tensor([[-2.37, -2.49, -2.36,  ..., -2.31, -2.28, -2.22],\n",
       "        [-2.37, -2.44, -2.44,  ..., -2.27, -2.26, -2.16],\n",
       "        [-2.48, -2.33, -2.28,  ..., -2.30, -2.30, -2.27],\n",
       "        ...,\n",
       "        [-2.33, -2.52, -2.34,  ..., -2.31, -2.21, -2.16],\n",
       "        [-2.38, -2.38, -2.33,  ..., -2.29, -2.26, -2.17],\n",
       "        [-2.33, -2.55, -2.36,  ..., -2.29, -2.27, -2.16]], grad_fn=<SubBackward0>)"
      ]
     },
     "execution_count": 10,
     "metadata": {},
     "output_type": "execute_result"
    }
   ],
   "source": [
    "log_softmax(pred)"
   ]
  },
  {
   "cell_type": "markdown",
   "id": "942c2b53",
   "metadata": {
    "execution": {
     "iopub.execute_input": "2023-07-12T22:45:51.256078Z",
     "iopub.status.busy": "2023-07-12T22:45:51.255639Z",
     "iopub.status.idle": "2023-07-12T22:45:51.263508Z",
     "shell.execute_reply": "2023-07-12T22:45:51.261916Z",
     "shell.execute_reply.started": "2023-07-12T22:45:51.256042Z"
    },
    "papermill": {
     "duration": 0.032314,
     "end_time": "2023-07-20T11:57:26.375871",
     "exception": false,
     "start_time": "2023-07-20T11:57:26.343557",
     "status": "completed"
    },
    "tags": []
   },
   "source": [
    "**Anki: LogSumExp trick**"
   ]
  },
  {
   "cell_type": "code",
   "execution_count": 11,
   "id": "acc638b6",
   "metadata": {
    "execution": {
     "iopub.execute_input": "2023-07-20T11:57:26.442039Z",
     "iopub.status.busy": "2023-07-20T11:57:26.441267Z",
     "iopub.status.idle": "2023-07-20T11:57:26.446236Z",
     "shell.execute_reply": "2023-07-20T11:57:26.445262Z"
    },
    "papermill": {
     "duration": 0.040161,
     "end_time": "2023-07-20T11:57:26.448229",
     "exception": false,
     "start_time": "2023-07-20T11:57:26.408068",
     "status": "completed"
    },
    "tags": []
   },
   "outputs": [],
   "source": [
    "# todo: durchdenken\n",
    "def logsumexp(x):\n",
    "    m = x.max(-1)[0]  # Note Umer: [0] is required, because max returns 2 things: max value & argmax\n",
    "    return m + (x-m[:,None]).exp().sum(-1).log()"
   ]
  },
  {
   "cell_type": "code",
   "execution_count": 12,
   "id": "e03f7b77",
   "metadata": {
    "execution": {
     "iopub.execute_input": "2023-07-20T11:57:26.514620Z",
     "iopub.status.busy": "2023-07-20T11:57:26.513824Z",
     "iopub.status.idle": "2023-07-20T11:57:26.518668Z",
     "shell.execute_reply": "2023-07-20T11:57:26.517817Z"
    },
    "papermill": {
     "duration": 0.040035,
     "end_time": "2023-07-20T11:57:26.520656",
     "exception": false,
     "start_time": "2023-07-20T11:57:26.480621",
     "status": "completed"
    },
    "tags": []
   },
   "outputs": [],
   "source": [
    "def log_softmax(x): return x - x.logsumexp(-1, keepdim=True)"
   ]
  },
  {
   "cell_type": "code",
   "execution_count": 13,
   "id": "a95cf4b9",
   "metadata": {
    "execution": {
     "iopub.execute_input": "2023-07-20T11:57:26.588535Z",
     "iopub.status.busy": "2023-07-20T11:57:26.587771Z",
     "iopub.status.idle": "2023-07-20T11:57:26.612558Z",
     "shell.execute_reply": "2023-07-20T11:57:26.611618Z"
    },
    "papermill": {
     "duration": 0.061547,
     "end_time": "2023-07-20T11:57:26.614762",
     "exception": false,
     "start_time": "2023-07-20T11:57:26.553215",
     "status": "completed"
    },
    "tags": []
   },
   "outputs": [
    {
     "data": {
      "text/plain": [
       "tensor([[-2.37, -2.49, -2.36,  ..., -2.31, -2.28, -2.22],\n",
       "        [-2.37, -2.44, -2.44,  ..., -2.27, -2.26, -2.16],\n",
       "        [-2.48, -2.33, -2.28,  ..., -2.30, -2.30, -2.27],\n",
       "        ...,\n",
       "        [-2.33, -2.52, -2.34,  ..., -2.31, -2.21, -2.16],\n",
       "        [-2.38, -2.38, -2.33,  ..., -2.29, -2.26, -2.17],\n",
       "        [-2.33, -2.55, -2.36,  ..., -2.29, -2.27, -2.16]], grad_fn=<SubBackward0>)"
      ]
     },
     "execution_count": 13,
     "metadata": {},
     "output_type": "execute_result"
    }
   ],
   "source": [
    "test_close(logsumexp(pred), pred.logsumexp(-1))\n",
    "sm_pred = log_softmax(pred)\n",
    "sm_pred"
   ]
  },
  {
   "cell_type": "code",
   "execution_count": 14,
   "id": "036fb5b1",
   "metadata": {
    "execution": {
     "iopub.execute_input": "2023-07-20T11:57:26.682570Z",
     "iopub.status.busy": "2023-07-20T11:57:26.681780Z",
     "iopub.status.idle": "2023-07-20T11:57:26.688311Z",
     "shell.execute_reply": "2023-07-20T11:57:26.687383Z"
    },
    "papermill": {
     "duration": 0.042627,
     "end_time": "2023-07-20T11:57:26.690304",
     "exception": false,
     "start_time": "2023-07-20T11:57:26.647677",
     "status": "completed"
    },
    "tags": []
   },
   "outputs": [
    {
     "data": {
      "text/plain": [
       "tensor([5, 0, 4])"
      ]
     },
     "execution_count": 14,
     "metadata": {},
     "output_type": "execute_result"
    }
   ],
   "source": [
    "y_trn[:3]"
   ]
  },
  {
   "cell_type": "code",
   "execution_count": 15,
   "id": "1c8fc897",
   "metadata": {
    "execution": {
     "iopub.execute_input": "2023-07-20T11:57:26.757528Z",
     "iopub.status.busy": "2023-07-20T11:57:26.756755Z",
     "iopub.status.idle": "2023-07-20T11:57:26.764509Z",
     "shell.execute_reply": "2023-07-20T11:57:26.763537Z"
    },
    "papermill": {
     "duration": 0.043472,
     "end_time": "2023-07-20T11:57:26.766475",
     "exception": false,
     "start_time": "2023-07-20T11:57:26.723003",
     "status": "completed"
    },
    "tags": []
   },
   "outputs": [
    {
     "data": {
      "text/plain": [
       "(tensor(-2.20, grad_fn=<SelectBackward0>),\n",
       " tensor(-2.37, grad_fn=<SelectBackward0>),\n",
       " tensor(-2.36, grad_fn=<SelectBackward0>))"
      ]
     },
     "execution_count": 15,
     "metadata": {},
     "output_type": "execute_result"
    }
   ],
   "source": [
    "sm_pred[0,5], sm_pred[1,0], sm_pred[2,4]"
   ]
  },
  {
   "cell_type": "code",
   "execution_count": 16,
   "id": "0c079b99",
   "metadata": {
    "execution": {
     "iopub.execute_input": "2023-07-20T11:57:26.834728Z",
     "iopub.status.busy": "2023-07-20T11:57:26.833906Z",
     "iopub.status.idle": "2023-07-20T11:57:26.843938Z",
     "shell.execute_reply": "2023-07-20T11:57:26.843001Z"
    },
    "papermill": {
     "duration": 0.0456,
     "end_time": "2023-07-20T11:57:26.845868",
     "exception": false,
     "start_time": "2023-07-20T11:57:26.800268",
     "status": "completed"
    },
    "tags": []
   },
   "outputs": [
    {
     "data": {
      "text/plain": [
       "tensor([-2.20, -2.37, -2.36], grad_fn=<IndexBackward0>)"
      ]
     },
     "execution_count": 16,
     "metadata": {},
     "output_type": "execute_result"
    }
   ],
   "source": [
    "sm_pred[[0,1,2], y_trn[:3]]"
   ]
  },
  {
   "cell_type": "markdown",
   "id": "b4aff17e",
   "metadata": {
    "papermill": {
     "duration": 0.032671,
     "end_time": "2023-07-20T11:57:26.911935",
     "exception": false,
     "start_time": "2023-07-20T11:57:26.879264",
     "status": "completed"
    },
    "tags": []
   },
   "source": [
    "Note Umer: You can pass list of indices for each dimension!"
   ]
  },
  {
   "cell_type": "code",
   "execution_count": 17,
   "id": "9c094a56",
   "metadata": {
    "execution": {
     "iopub.execute_input": "2023-07-20T11:57:26.981005Z",
     "iopub.status.busy": "2023-07-20T11:57:26.980143Z",
     "iopub.status.idle": "2023-07-20T11:57:26.985321Z",
     "shell.execute_reply": "2023-07-20T11:57:26.984481Z"
    },
    "papermill": {
     "duration": 0.04252,
     "end_time": "2023-07-20T11:57:26.987306",
     "exception": false,
     "start_time": "2023-07-20T11:57:26.944786",
     "status": "completed"
    },
    "tags": []
   },
   "outputs": [],
   "source": [
    "def nll(inp, target): return -inp[range(target.shape[0]), target].mean()"
   ]
  },
  {
   "cell_type": "code",
   "execution_count": 18,
   "id": "b1e435ee",
   "metadata": {
    "execution": {
     "iopub.execute_input": "2023-07-20T11:57:27.056882Z",
     "iopub.status.busy": "2023-07-20T11:57:27.056577Z",
     "iopub.status.idle": "2023-07-20T11:57:27.086590Z",
     "shell.execute_reply": "2023-07-20T11:57:27.085596Z"
    },
    "papermill": {
     "duration": 0.067733,
     "end_time": "2023-07-20T11:57:27.088565",
     "exception": false,
     "start_time": "2023-07-20T11:57:27.020832",
     "status": "completed"
    },
    "tags": []
   },
   "outputs": [
    {
     "data": {
      "text/plain": [
       "tensor(2.30, grad_fn=<NegBackward0>)"
      ]
     },
     "execution_count": 18,
     "metadata": {},
     "output_type": "execute_result"
    }
   ],
   "source": [
    "loss = nll(sm_pred, y_trn)\n",
    "loss"
   ]
  },
  {
   "cell_type": "code",
   "execution_count": 19,
   "id": "abeb7639",
   "metadata": {
    "execution": {
     "iopub.execute_input": "2023-07-20T11:57:27.158566Z",
     "iopub.status.busy": "2023-07-20T11:57:27.157763Z",
     "iopub.status.idle": "2023-07-20T11:57:27.179910Z",
     "shell.execute_reply": "2023-07-20T11:57:27.178922Z"
    },
    "papermill": {
     "duration": 0.059305,
     "end_time": "2023-07-20T11:57:27.182243",
     "exception": false,
     "start_time": "2023-07-20T11:57:27.122938",
     "status": "completed"
    },
    "tags": []
   },
   "outputs": [],
   "source": [
    "test_close(F.nll_loss(F.log_softmax(pred, -1), y_trn), loss, 1e-3)"
   ]
  },
  {
   "cell_type": "code",
   "execution_count": 20,
   "id": "c2fa9936",
   "metadata": {
    "execution": {
     "iopub.execute_input": "2023-07-20T11:57:27.255085Z",
     "iopub.status.busy": "2023-07-20T11:57:27.254293Z",
     "iopub.status.idle": "2023-07-20T11:57:27.264024Z",
     "shell.execute_reply": "2023-07-20T11:57:27.263169Z"
    },
    "papermill": {
     "duration": 0.047154,
     "end_time": "2023-07-20T11:57:27.266042",
     "exception": false,
     "start_time": "2023-07-20T11:57:27.218888",
     "status": "completed"
    },
    "tags": []
   },
   "outputs": [],
   "source": [
    "test_close(F.cross_entropy(pred, y_trn), loss, 1e-3)"
   ]
  },
  {
   "cell_type": "markdown",
   "id": "922e3461",
   "metadata": {
    "papermill": {
     "duration": 0.034581,
     "end_time": "2023-07-20T11:57:27.333384",
     "exception": false,
     "start_time": "2023-07-20T11:57:27.298803",
     "status": "completed"
    },
    "tags": []
   },
   "source": [
    "### Basic training loop"
   ]
  },
  {
   "cell_type": "code",
   "execution_count": 21,
   "id": "c77ddbe8",
   "metadata": {
    "execution": {
     "iopub.execute_input": "2023-07-20T11:57:27.400955Z",
     "iopub.status.busy": "2023-07-20T11:57:27.400092Z",
     "iopub.status.idle": "2023-07-20T11:57:27.404577Z",
     "shell.execute_reply": "2023-07-20T11:57:27.403735Z"
    },
    "papermill": {
     "duration": 0.040481,
     "end_time": "2023-07-20T11:57:27.406531",
     "exception": false,
     "start_time": "2023-07-20T11:57:27.366050",
     "status": "completed"
    },
    "tags": []
   },
   "outputs": [],
   "source": [
    "loss_func = F.cross_entropy"
   ]
  },
  {
   "cell_type": "code",
   "execution_count": 22,
   "id": "56315948",
   "metadata": {
    "execution": {
     "iopub.execute_input": "2023-07-20T11:57:27.474182Z",
     "iopub.status.busy": "2023-07-20T11:57:27.473919Z",
     "iopub.status.idle": "2023-07-20T11:57:27.482452Z",
     "shell.execute_reply": "2023-07-20T11:57:27.481384Z"
    },
    "papermill": {
     "duration": 0.044743,
     "end_time": "2023-07-20T11:57:27.484588",
     "exception": false,
     "start_time": "2023-07-20T11:57:27.439845",
     "status": "completed"
    },
    "tags": []
   },
   "outputs": [
    {
     "data": {
      "text/plain": [
       "(tensor([-0.09, -0.21, -0.08,  0.10, -0.04,  0.08, -0.04, -0.03,  0.01,  0.06], grad_fn=<SelectBackward0>),\n",
       " torch.Size([50, 10]))"
      ]
     },
     "execution_count": 22,
     "metadata": {},
     "output_type": "execute_result"
    }
   ],
   "source": [
    "bs=50  # batch size\n",
    "xb = x_trn[:bs]  # a mini-batch from x\n",
    "preds = model(xb) # predictions on that mini-batch\n",
    "preds[0], preds.shape"
   ]
  },
  {
   "cell_type": "code",
   "execution_count": 23,
   "id": "cc4e9bf7",
   "metadata": {
    "execution": {
     "iopub.execute_input": "2023-07-20T11:57:27.553621Z",
     "iopub.status.busy": "2023-07-20T11:57:27.552810Z",
     "iopub.status.idle": "2023-07-20T11:57:27.559534Z",
     "shell.execute_reply": "2023-07-20T11:57:27.558562Z"
    },
    "papermill": {
     "duration": 0.04264,
     "end_time": "2023-07-20T11:57:27.561480",
     "exception": false,
     "start_time": "2023-07-20T11:57:27.518840",
     "status": "completed"
    },
    "tags": []
   },
   "outputs": [
    {
     "data": {
      "text/plain": [
       "tensor([5, 0, 4, 1, 9, 2, 1, 3, 1, 4, 3, 5, 3, 6, 1, 7, 2, 8, 6, 9, 4, 0, 9, 1, 1, 2, 4, 3, 2, 7, 3, 8, 6, 9, 0, 5, 6, 0, 7, 6, 1, 8, 7, 9,\n",
       "        3, 9, 8, 5, 9, 3])"
      ]
     },
     "execution_count": 23,
     "metadata": {},
     "output_type": "execute_result"
    }
   ],
   "source": [
    "yb = y_trn[:bs]\n",
    "yb"
   ]
  },
  {
   "cell_type": "code",
   "execution_count": 24,
   "id": "b6df796b",
   "metadata": {
    "execution": {
     "iopub.execute_input": "2023-07-20T11:57:27.630570Z",
     "iopub.status.busy": "2023-07-20T11:57:27.630217Z",
     "iopub.status.idle": "2023-07-20T11:57:27.637495Z",
     "shell.execute_reply": "2023-07-20T11:57:27.636487Z"
    },
    "papermill": {
     "duration": 0.044631,
     "end_time": "2023-07-20T11:57:27.639520",
     "exception": false,
     "start_time": "2023-07-20T11:57:27.594889",
     "status": "completed"
    },
    "tags": []
   },
   "outputs": [
    {
     "data": {
      "text/plain": [
       "tensor(2.30, grad_fn=<NllLossBackward0>)"
      ]
     },
     "execution_count": 24,
     "metadata": {},
     "output_type": "execute_result"
    }
   ],
   "source": [
    "loss_func(preds, yb)"
   ]
  },
  {
   "cell_type": "code",
   "execution_count": 25,
   "id": "f8ea0a05",
   "metadata": {
    "execution": {
     "iopub.execute_input": "2023-07-20T11:57:27.710155Z",
     "iopub.status.busy": "2023-07-20T11:57:27.709323Z",
     "iopub.status.idle": "2023-07-20T11:57:27.716605Z",
     "shell.execute_reply": "2023-07-20T11:57:27.715610Z"
    },
    "papermill": {
     "duration": 0.044407,
     "end_time": "2023-07-20T11:57:27.718601",
     "exception": false,
     "start_time": "2023-07-20T11:57:27.674194",
     "status": "completed"
    },
    "tags": []
   },
   "outputs": [
    {
     "data": {
      "text/plain": [
       "tensor([3, 9, 3, 8, 5, 9, 3, 9, 3, 9, 5, 3, 9, 9, 3, 9, 9, 5, 8, 7, 9, 5, 3, 8, 9, 5, 9, 5, 5, 9, 3, 5, 9, 7, 5, 7, 9, 9, 3, 9, 3, 5, 3, 8,\n",
       "        3, 5, 9, 5, 9, 5])"
      ]
     },
     "execution_count": 25,
     "metadata": {},
     "output_type": "execute_result"
    }
   ],
   "source": [
    "preds.argmax(dim=1)"
   ]
  },
  {
   "cell_type": "code",
   "execution_count": 26,
   "id": "90889e6e",
   "metadata": {
    "execution": {
     "iopub.execute_input": "2023-07-20T11:57:27.788888Z",
     "iopub.status.busy": "2023-07-20T11:57:27.788072Z",
     "iopub.status.idle": "2023-07-20T11:57:27.793167Z",
     "shell.execute_reply": "2023-07-20T11:57:27.792305Z"
    },
    "papermill": {
     "duration": 0.042412,
     "end_time": "2023-07-20T11:57:27.795130",
     "exception": false,
     "start_time": "2023-07-20T11:57:27.752718",
     "status": "completed"
    },
    "tags": []
   },
   "outputs": [],
   "source": [
    "#|export\n",
    "def accuracy(out, yb): return (out.argmax(dim=1)==yb).float().mean()"
   ]
  },
  {
   "cell_type": "code",
   "execution_count": 27,
   "id": "ec8b788e",
   "metadata": {
    "execution": {
     "iopub.execute_input": "2023-07-20T11:57:27.865062Z",
     "iopub.status.busy": "2023-07-20T11:57:27.864147Z",
     "iopub.status.idle": "2023-07-20T11:57:27.871380Z",
     "shell.execute_reply": "2023-07-20T11:57:27.870418Z"
    },
    "papermill": {
     "duration": 0.044255,
     "end_time": "2023-07-20T11:57:27.873385",
     "exception": false,
     "start_time": "2023-07-20T11:57:27.829130",
     "status": "completed"
    },
    "tags": []
   },
   "outputs": [
    {
     "data": {
      "text/plain": [
       "tensor(0.08)"
      ]
     },
     "execution_count": 27,
     "metadata": {},
     "output_type": "execute_result"
    }
   ],
   "source": [
    "accuracy(preds, yb)"
   ]
  },
  {
   "cell_type": "code",
   "execution_count": 28,
   "id": "7fc6425e",
   "metadata": {
    "execution": {
     "iopub.execute_input": "2023-07-20T11:57:27.943833Z",
     "iopub.status.busy": "2023-07-20T11:57:27.942158Z",
     "iopub.status.idle": "2023-07-20T11:57:27.947354Z",
     "shell.execute_reply": "2023-07-20T11:57:27.946444Z"
    },
    "papermill": {
     "duration": 0.042094,
     "end_time": "2023-07-20T11:57:27.949379",
     "exception": false,
     "start_time": "2023-07-20T11:57:27.907285",
     "status": "completed"
    },
    "tags": []
   },
   "outputs": [],
   "source": [
    "lr = 0.5  # learning rate\n",
    "epochs = 3  # how many epochs to train for"
   ]
  },
  {
   "cell_type": "code",
   "execution_count": 29,
   "id": "c1f946ed",
   "metadata": {
    "execution": {
     "iopub.execute_input": "2023-07-20T11:57:28.023826Z",
     "iopub.status.busy": "2023-07-20T11:57:28.022860Z",
     "iopub.status.idle": "2023-07-20T11:57:28.027755Z",
     "shell.execute_reply": "2023-07-20T11:57:28.026829Z"
    },
    "papermill": {
     "duration": 0.042068,
     "end_time": "2023-07-20T11:57:28.029748",
     "exception": false,
     "start_time": "2023-07-20T11:57:27.987680",
     "status": "completed"
    },
    "tags": []
   },
   "outputs": [],
   "source": [
    "#|export\n",
    "def report(loss, preds, yb): print(f'{loss:.2f}, {accuracy(preds,yb):.2f}')"
   ]
  },
  {
   "cell_type": "code",
   "execution_count": 30,
   "id": "59b46c27",
   "metadata": {
    "execution": {
     "iopub.execute_input": "2023-07-20T11:57:28.099991Z",
     "iopub.status.busy": "2023-07-20T11:57:28.099158Z",
     "iopub.status.idle": "2023-07-20T11:57:28.106194Z",
     "shell.execute_reply": "2023-07-20T11:57:28.104960Z"
    },
    "papermill": {
     "duration": 0.044932,
     "end_time": "2023-07-20T11:57:28.108121",
     "exception": false,
     "start_time": "2023-07-20T11:57:28.063189",
     "status": "completed"
    },
    "tags": []
   },
   "outputs": [
    {
     "name": "stdout",
     "output_type": "stream",
     "text": [
      "2.30, 0.08\n"
     ]
    }
   ],
   "source": [
    "xb,yb = x_trn[:bs],y_trn[:bs]\n",
    "preds = model(xb)\n",
    "report(loss_func(preds,yb), preds, yb)"
   ]
  },
  {
   "cell_type": "code",
   "execution_count": 31,
   "id": "caae9839",
   "metadata": {
    "execution": {
     "iopub.execute_input": "2023-07-20T11:57:28.177752Z",
     "iopub.status.busy": "2023-07-20T11:57:28.176914Z",
     "iopub.status.idle": "2023-07-20T11:57:30.175676Z",
     "shell.execute_reply": "2023-07-20T11:57:30.174753Z"
    },
    "papermill": {
     "duration": 2.036316,
     "end_time": "2023-07-20T11:57:30.178044",
     "exception": false,
     "start_time": "2023-07-20T11:57:28.141728",
     "status": "completed"
    },
    "tags": []
   },
   "outputs": [
    {
     "name": "stdout",
     "output_type": "stream",
     "text": [
      "0.11, 0.96\n",
      "0.13, 0.96\n",
      "0.10, 0.96\n"
     ]
    }
   ],
   "source": [
    "for e in range(epochs):\n",
    "    # for every mini-batch\n",
    "    for i in range(0, n, bs):\n",
    "        s = slice(i, i+bs)  # Note Umer: you can slice 'over the edge', ie min(..., last index) is handled automatically\n",
    "        xb,yb = x_trn[s],y_trn[s]\n",
    "    \n",
    "        preds = model(xb)  # get preds   \n",
    "        loss = loss_func(preds,yb)  # compute loss\n",
    "        loss.backward()  # get gradients\n",
    "        \n",
    "        with torch.no_grad():\n",
    "            # update \n",
    "\n",
    "            # Note Umer: model.parameters() is not recursive, ie only returns the direct parameters of Module\n",
    "            # We therefore need to iterate tru layers and use those parameters\n",
    "            #for p in model.parameters():\n",
    "            #    p -= lr * p.grad\n",
    "            #    p.grad.zero_()\n",
    "            \n",
    "            for l in model.layers:\n",
    "                for p in l.parameters():\n",
    "                    p -= lr*p.grad\n",
    "                    p.grad.zero_()\n",
    "                    \n",
    "                # Note Umer: Jeremy instead checks if the layer has params via checking if a 'weight' attribute exists\n",
    "                # if hasattr(l, 'weight'):\n",
    "                #     l.weight -= l.weight.grad * lr\n",
    "                #     l.bias   -= l.bias.grad   * lr\n",
    "                #     l.weight.grad.zero_()\n",
    "                #     l.bias  .grad.zero_()\n",
    "                \n",
    "    report(loss, preds, yb)"
   ]
  },
  {
   "cell_type": "markdown",
   "id": "db951894",
   "metadata": {
    "papermill": {
     "duration": 0.033893,
     "end_time": "2023-07-20T11:57:30.247528",
     "exception": false,
     "start_time": "2023-07-20T11:57:30.213635",
     "status": "completed"
    },
    "tags": []
   },
   "source": [
    "Note Umer: Let's check if using .parameters() gives us all parameters, ie weights **and** biases"
   ]
  },
  {
   "cell_type": "code",
   "execution_count": 32,
   "id": "b366ce2a",
   "metadata": {
    "execution": {
     "iopub.execute_input": "2023-07-20T11:57:30.318338Z",
     "iopub.status.busy": "2023-07-20T11:57:30.317416Z",
     "iopub.status.idle": "2023-07-20T11:57:30.323965Z",
     "shell.execute_reply": "2023-07-20T11:57:30.323066Z"
    },
    "papermill": {
     "duration": 0.044181,
     "end_time": "2023-07-20T11:57:30.325891",
     "exception": false,
     "start_time": "2023-07-20T11:57:30.281710",
     "status": "completed"
    },
    "tags": []
   },
   "outputs": [
    {
     "name": "stdout",
     "output_type": "stream",
     "text": [
      "Layer Linear(in_features=784, out_features=50, bias=True):\n",
      "- Param group 0 has shape torch.Size([50, 784])\n",
      "- Param group 1 has shape torch.Size([50])\n",
      "Layer ReLU():\n",
      "Layer Linear(in_features=50, out_features=10, bias=True):\n",
      "- Param group 0 has shape torch.Size([10, 50])\n",
      "- Param group 1 has shape torch.Size([10])\n"
     ]
    }
   ],
   "source": [
    "for l in model.layers:\n",
    "    print(f'Layer {l}:')\n",
    "    for i, p in enumerate(l.parameters()):\n",
    "        print(f'- Param group {i} has shape {p.shape}')"
   ]
  },
  {
   "cell_type": "markdown",
   "id": "12de6135",
   "metadata": {
    "papermill": {
     "duration": 0.034083,
     "end_time": "2023-07-20T11:57:30.395849",
     "exception": false,
     "start_time": "2023-07-20T11:57:30.361766",
     "status": "completed"
    },
    "tags": []
   },
   "source": [
    "It does"
   ]
  },
  {
   "cell_type": "markdown",
   "id": "080f3e04",
   "metadata": {
    "papermill": {
     "duration": 0.035554,
     "end_time": "2023-07-20T11:57:30.466553",
     "exception": false,
     "start_time": "2023-07-20T11:57:30.430999",
     "status": "completed"
    },
    "tags": []
   },
   "source": [
    "### Using parameters and optim"
   ]
  },
  {
   "cell_type": "markdown",
   "id": "95b348a1",
   "metadata": {
    "papermill": {
     "duration": 0.034949,
     "end_time": "2023-07-20T11:57:30.540772",
     "exception": false,
     "start_time": "2023-07-20T11:57:30.505823",
     "status": "completed"
    },
    "tags": []
   },
   "source": [
    "#### Parameters"
   ]
  },
  {
   "cell_type": "code",
   "execution_count": 33,
   "id": "98ad8610",
   "metadata": {
    "execution": {
     "iopub.execute_input": "2023-07-20T11:57:30.610814Z",
     "iopub.status.busy": "2023-07-20T11:57:30.610460Z",
     "iopub.status.idle": "2023-07-20T11:57:30.617947Z",
     "shell.execute_reply": "2023-07-20T11:57:30.616977Z"
    },
    "papermill": {
     "duration": 0.044876,
     "end_time": "2023-07-20T11:57:30.619954",
     "exception": false,
     "start_time": "2023-07-20T11:57:30.575078",
     "status": "completed"
    },
    "tags": []
   },
   "outputs": [
    {
     "data": {
      "text/plain": [
       "Module(\n",
       "  (foo): Linear(in_features=3, out_features=4, bias=True)\n",
       ")"
      ]
     },
     "execution_count": 33,
     "metadata": {},
     "output_type": "execute_result"
    }
   ],
   "source": [
    "m1 = nn.Module()\n",
    "m1.foo = nn.Linear(3,4)\n",
    "m1"
   ]
  },
  {
   "cell_type": "code",
   "execution_count": 34,
   "id": "7655ff60",
   "metadata": {
    "execution": {
     "iopub.execute_input": "2023-07-20T11:57:30.690541Z",
     "iopub.status.busy": "2023-07-20T11:57:30.690269Z",
     "iopub.status.idle": "2023-07-20T11:57:30.696826Z",
     "shell.execute_reply": "2023-07-20T11:57:30.695847Z"
    },
    "papermill": {
     "duration": 0.043682,
     "end_time": "2023-07-20T11:57:30.698741",
     "exception": false,
     "start_time": "2023-07-20T11:57:30.655059",
     "status": "completed"
    },
    "tags": []
   },
   "outputs": [
    {
     "data": {
      "text/plain": [
       "[('foo', Linear(in_features=3, out_features=4, bias=True))]"
      ]
     },
     "execution_count": 34,
     "metadata": {},
     "output_type": "execute_result"
    }
   ],
   "source": [
    "list(m1.named_children())"
   ]
  },
  {
   "cell_type": "code",
   "execution_count": 35,
   "id": "a6fab172",
   "metadata": {
    "execution": {
     "iopub.execute_input": "2023-07-20T11:57:30.770869Z",
     "iopub.status.busy": "2023-07-20T11:57:30.770049Z",
     "iopub.status.idle": "2023-07-20T11:57:30.777585Z",
     "shell.execute_reply": "2023-07-20T11:57:30.776677Z"
    },
    "papermill": {
     "duration": 0.045094,
     "end_time": "2023-07-20T11:57:30.779527",
     "exception": false,
     "start_time": "2023-07-20T11:57:30.734433",
     "status": "completed"
    },
    "tags": []
   },
   "outputs": [
    {
     "data": {
      "text/plain": [
       "[Parameter containing:\n",
       " tensor([[ 0.57,  0.43, -0.30],\n",
       "         [ 0.13, -0.32, -0.24],\n",
       "         [ 0.51,  0.04,  0.22],\n",
       "         [ 0.13, -0.17, -0.24]], requires_grad=True),\n",
       " Parameter containing:\n",
       " tensor([-0.01, -0.51, -0.39,  0.56], requires_grad=True)]"
      ]
     },
     "execution_count": 35,
     "metadata": {},
     "output_type": "execute_result"
    }
   ],
   "source": [
    "list(m1.parameters())"
   ]
  },
  {
   "cell_type": "code",
   "execution_count": 36,
   "id": "106a7a50",
   "metadata": {
    "execution": {
     "iopub.execute_input": "2023-07-20T11:57:30.850128Z",
     "iopub.status.busy": "2023-07-20T11:57:30.849868Z",
     "iopub.status.idle": "2023-07-20T11:57:30.855711Z",
     "shell.execute_reply": "2023-07-20T11:57:30.854747Z"
    },
    "papermill": {
     "duration": 0.04332,
     "end_time": "2023-07-20T11:57:30.857802",
     "exception": false,
     "start_time": "2023-07-20T11:57:30.814482",
     "status": "completed"
    },
    "tags": []
   },
   "outputs": [],
   "source": [
    "class MLP(nn.Module):\n",
    "    def __init__(self, n_in, nh, n_out):\n",
    "        super().__init__()\n",
    "        self.l1 = nn.Linear(n_in,nh)\n",
    "        self.l2 = nn.Linear(nh,n_out)\n",
    "        self.relu = nn.ReLU()\n",
    "    \n",
    "    def forward(self,x): return self.l2(self.relu(self.l1(x)))"
   ]
  },
  {
   "cell_type": "code",
   "execution_count": 37,
   "id": "f87bf088",
   "metadata": {
    "execution": {
     "iopub.execute_input": "2023-07-20T11:57:30.928801Z",
     "iopub.status.busy": "2023-07-20T11:57:30.928487Z",
     "iopub.status.idle": "2023-07-20T11:57:30.935751Z",
     "shell.execute_reply": "2023-07-20T11:57:30.934808Z"
    },
    "papermill": {
     "duration": 0.045177,
     "end_time": "2023-07-20T11:57:30.937675",
     "exception": false,
     "start_time": "2023-07-20T11:57:30.892498",
     "status": "completed"
    },
    "tags": []
   },
   "outputs": [
    {
     "data": {
      "text/plain": [
       "Linear(in_features=784, out_features=50, bias=True)"
      ]
     },
     "execution_count": 37,
     "metadata": {},
     "output_type": "execute_result"
    }
   ],
   "source": [
    "model = MLP(m, nh, 10)\n",
    "model.l1"
   ]
  },
  {
   "cell_type": "code",
   "execution_count": 38,
   "id": "d53184ef",
   "metadata": {
    "execution": {
     "iopub.execute_input": "2023-07-20T11:57:31.011809Z",
     "iopub.status.busy": "2023-07-20T11:57:31.011035Z",
     "iopub.status.idle": "2023-07-20T11:57:31.017547Z",
     "shell.execute_reply": "2023-07-20T11:57:31.016590Z"
    },
    "papermill": {
     "duration": 0.046876,
     "end_time": "2023-07-20T11:57:31.019741",
     "exception": false,
     "start_time": "2023-07-20T11:57:30.972865",
     "status": "completed"
    },
    "tags": []
   },
   "outputs": [
    {
     "data": {
      "text/plain": [
       "MLP(\n",
       "  (l1): Linear(in_features=784, out_features=50, bias=True)\n",
       "  (l2): Linear(in_features=50, out_features=10, bias=True)\n",
       "  (relu): ReLU()\n",
       ")"
      ]
     },
     "execution_count": 38,
     "metadata": {},
     "output_type": "execute_result"
    }
   ],
   "source": [
    "model"
   ]
  },
  {
   "cell_type": "code",
   "execution_count": 39,
   "id": "0aa351dc",
   "metadata": {
    "execution": {
     "iopub.execute_input": "2023-07-20T11:57:31.091872Z",
     "iopub.status.busy": "2023-07-20T11:57:31.091001Z",
     "iopub.status.idle": "2023-07-20T11:57:31.097045Z",
     "shell.execute_reply": "2023-07-20T11:57:31.095749Z"
    },
    "papermill": {
     "duration": 0.044103,
     "end_time": "2023-07-20T11:57:31.099034",
     "exception": false,
     "start_time": "2023-07-20T11:57:31.054931",
     "status": "completed"
    },
    "tags": []
   },
   "outputs": [
    {
     "name": "stdout",
     "output_type": "stream",
     "text": [
      "l1: Linear(in_features=784, out_features=50, bias=True)\n",
      "l2: Linear(in_features=50, out_features=10, bias=True)\n",
      "relu: ReLU()\n"
     ]
    }
   ],
   "source": [
    "for name,l in model.named_children(): print(f'{name}: {l}')"
   ]
  },
  {
   "cell_type": "code",
   "execution_count": 40,
   "id": "49bd6a00",
   "metadata": {
    "execution": {
     "iopub.execute_input": "2023-07-20T11:57:31.214357Z",
     "iopub.status.busy": "2023-07-20T11:57:31.214018Z",
     "iopub.status.idle": "2023-07-20T11:57:31.219326Z",
     "shell.execute_reply": "2023-07-20T11:57:31.218437Z"
    },
    "papermill": {
     "duration": 0.044641,
     "end_time": "2023-07-20T11:57:31.221491",
     "exception": false,
     "start_time": "2023-07-20T11:57:31.176850",
     "status": "completed"
    },
    "tags": []
   },
   "outputs": [
    {
     "name": "stdout",
     "output_type": "stream",
     "text": [
      "torch.Size([50, 784])\n",
      "torch.Size([50])\n",
      "torch.Size([10, 50])\n",
      "torch.Size([10])\n"
     ]
    }
   ],
   "source": [
    "for p in model.parameters(): print(p.shape)"
   ]
  },
  {
   "cell_type": "code",
   "execution_count": 41,
   "id": "d02dd29a",
   "metadata": {
    "execution": {
     "iopub.execute_input": "2023-07-20T11:57:31.294505Z",
     "iopub.status.busy": "2023-07-20T11:57:31.292976Z",
     "iopub.status.idle": "2023-07-20T11:57:31.299824Z",
     "shell.execute_reply": "2023-07-20T11:57:31.298977Z"
    },
    "papermill": {
     "duration": 0.044864,
     "end_time": "2023-07-20T11:57:31.301837",
     "exception": false,
     "start_time": "2023-07-20T11:57:31.256973",
     "status": "completed"
    },
    "tags": []
   },
   "outputs": [],
   "source": [
    "def fit():\n",
    "    for epoch in range(epochs):\n",
    "        for i in range(0,n,bs):\n",
    "            s = slice(i,i+bs)\n",
    "            xb,yb = x_trn[s],y_trn[s]\n",
    "            preds = model(xb)\n",
    "            loss = loss_func(preds,yb)\n",
    "            loss.backward()\n",
    "            with torch.no_grad():\n",
    "                for p in model.parameters(): p -= lr*p.grad\n",
    "                model.zero_grad()\n",
    "        report(loss,preds,yb)"
   ]
  },
  {
   "cell_type": "code",
   "execution_count": 42,
   "id": "faf7e203",
   "metadata": {
    "execution": {
     "iopub.execute_input": "2023-07-20T11:57:31.374258Z",
     "iopub.status.busy": "2023-07-20T11:57:31.373439Z",
     "iopub.status.idle": "2023-07-20T11:57:33.374253Z",
     "shell.execute_reply": "2023-07-20T11:57:33.372652Z"
    },
    "papermill": {
     "duration": 2.039266,
     "end_time": "2023-07-20T11:57:33.376444",
     "exception": false,
     "start_time": "2023-07-20T11:57:31.337178",
     "status": "completed"
    },
    "tags": []
   },
   "outputs": [
    {
     "name": "stdout",
     "output_type": "stream",
     "text": [
      "0.19, 0.96\n",
      "0.11, 0.96\n",
      "0.04, 1.00\n"
     ]
    }
   ],
   "source": [
    "fit()"
   ]
  },
  {
   "cell_type": "code",
   "execution_count": 43,
   "id": "2a1119ba",
   "metadata": {
    "execution": {
     "iopub.execute_input": "2023-07-20T11:57:33.449527Z",
     "iopub.status.busy": "2023-07-20T11:57:33.449237Z",
     "iopub.status.idle": "2023-07-20T11:57:33.457223Z",
     "shell.execute_reply": "2023-07-20T11:57:33.456377Z"
    },
    "papermill": {
     "duration": 0.046924,
     "end_time": "2023-07-20T11:57:33.459215",
     "exception": false,
     "start_time": "2023-07-20T11:57:33.412291",
     "status": "completed"
    },
    "tags": []
   },
   "outputs": [],
   "source": [
    "class MyModule:\n",
    "    def __init__(self, n_in, nh, n_out):\n",
    "        self._modules = {}\n",
    "        self.l1 = nn.Linear(n_in,nh)\n",
    "        self.l2 = nn.Linear(nh,n_out)\n",
    "    \n",
    "    def __setattr__(self,k,v):\n",
    "        if not k.startswith('_'): self._modules[k] = v\n",
    "        super().__setattr__(k,v)\n",
    "    \n",
    "    def __repr__(self): return f'{self._modules}'\n",
    "    \n",
    "    def parameters(self):\n",
    "        for l in self._modules.values(): yield from l.parameters()"
   ]
  },
  {
   "cell_type": "code",
   "execution_count": 44,
   "id": "e9d342b3",
   "metadata": {
    "execution": {
     "iopub.execute_input": "2023-07-20T11:57:33.531000Z",
     "iopub.status.busy": "2023-07-20T11:57:33.530461Z",
     "iopub.status.idle": "2023-07-20T11:57:33.537659Z",
     "shell.execute_reply": "2023-07-20T11:57:33.536725Z"
    },
    "papermill": {
     "duration": 0.045068,
     "end_time": "2023-07-20T11:57:33.539596",
     "exception": false,
     "start_time": "2023-07-20T11:57:33.494528",
     "status": "completed"
    },
    "tags": []
   },
   "outputs": [
    {
     "data": {
      "text/plain": [
       "{'l1': Linear(in_features=784, out_features=50, bias=True), 'l2': Linear(in_features=50, out_features=10, bias=True)}"
      ]
     },
     "execution_count": 44,
     "metadata": {},
     "output_type": "execute_result"
    }
   ],
   "source": [
    "mdl = MyModule(m,nh,10)\n",
    "mdl"
   ]
  },
  {
   "cell_type": "code",
   "execution_count": 45,
   "id": "36ce0f9f",
   "metadata": {
    "execution": {
     "iopub.execute_input": "2023-07-20T11:57:33.612620Z",
     "iopub.status.busy": "2023-07-20T11:57:33.611834Z",
     "iopub.status.idle": "2023-07-20T11:57:33.617792Z",
     "shell.execute_reply": "2023-07-20T11:57:33.616636Z"
    },
    "papermill": {
     "duration": 0.044212,
     "end_time": "2023-07-20T11:57:33.619814",
     "exception": false,
     "start_time": "2023-07-20T11:57:33.575602",
     "status": "completed"
    },
    "tags": []
   },
   "outputs": [
    {
     "name": "stdout",
     "output_type": "stream",
     "text": [
      "torch.Size([50, 784])\n",
      "torch.Size([50])\n",
      "torch.Size([10, 50])\n",
      "torch.Size([10])\n"
     ]
    }
   ],
   "source": [
    "for p in mdl.parameters(): print(p.shape)"
   ]
  },
  {
   "cell_type": "markdown",
   "id": "fe8b07a4",
   "metadata": {
    "papermill": {
     "duration": 0.035019,
     "end_time": "2023-07-20T11:57:33.691259",
     "exception": false,
     "start_time": "2023-07-20T11:57:33.656240",
     "status": "completed"
    },
    "tags": []
   },
   "source": [
    "#### Registering modules"
   ]
  },
  {
   "cell_type": "code",
   "execution_count": 46,
   "id": "dc8d5422",
   "metadata": {
    "execution": {
     "iopub.execute_input": "2023-07-20T11:57:33.765695Z",
     "iopub.status.busy": "2023-07-20T11:57:33.765371Z",
     "iopub.status.idle": "2023-07-20T11:57:33.769738Z",
     "shell.execute_reply": "2023-07-20T11:57:33.768782Z"
    },
    "papermill": {
     "duration": 0.044845,
     "end_time": "2023-07-20T11:57:33.771763",
     "exception": false,
     "start_time": "2023-07-20T11:57:33.726918",
     "status": "completed"
    },
    "tags": []
   },
   "outputs": [],
   "source": [
    "from functools import reduce"
   ]
  },
  {
   "cell_type": "code",
   "execution_count": 47,
   "id": "9e9fbbfc",
   "metadata": {
    "execution": {
     "iopub.execute_input": "2023-07-20T11:57:33.844068Z",
     "iopub.status.busy": "2023-07-20T11:57:33.843812Z",
     "iopub.status.idle": "2023-07-20T11:57:33.848604Z",
     "shell.execute_reply": "2023-07-20T11:57:33.847747Z"
    },
    "papermill": {
     "duration": 0.043301,
     "end_time": "2023-07-20T11:57:33.850514",
     "exception": false,
     "start_time": "2023-07-20T11:57:33.807213",
     "status": "completed"
    },
    "tags": []
   },
   "outputs": [],
   "source": [
    "layers = [nn.Linear(m,nh), nn.ReLU(), nn.Linear(nh,10)]"
   ]
  },
  {
   "cell_type": "code",
   "execution_count": 48,
   "id": "c469b210",
   "metadata": {
    "execution": {
     "iopub.execute_input": "2023-07-20T11:57:33.923926Z",
     "iopub.status.busy": "2023-07-20T11:57:33.923157Z",
     "iopub.status.idle": "2023-07-20T11:57:33.929553Z",
     "shell.execute_reply": "2023-07-20T11:57:33.928420Z"
    },
    "papermill": {
     "duration": 0.044813,
     "end_time": "2023-07-20T11:57:33.931570",
     "exception": false,
     "start_time": "2023-07-20T11:57:33.886757",
     "status": "completed"
    },
    "tags": []
   },
   "outputs": [],
   "source": [
    "class Model(nn.Module):\n",
    "    def __init__(self, layers):\n",
    "        super().__init__()\n",
    "        self.layers = layers\n",
    "        for i,l in enumerate(self.layers): self.add_module(f'layer_{i}', l)\n",
    "        \n",
    "    def forward(self,x): return reduce(lambda val,layer: layer(val), self.layers, x)"
   ]
  },
  {
   "cell_type": "code",
   "execution_count": 49,
   "id": "fe856094",
   "metadata": {
    "execution": {
     "iopub.execute_input": "2023-07-20T11:57:34.008020Z",
     "iopub.status.busy": "2023-07-20T11:57:34.007722Z",
     "iopub.status.idle": "2023-07-20T11:57:34.014549Z",
     "shell.execute_reply": "2023-07-20T11:57:34.013611Z"
    },
    "papermill": {
     "duration": 0.048658,
     "end_time": "2023-07-20T11:57:34.016580",
     "exception": false,
     "start_time": "2023-07-20T11:57:33.967922",
     "status": "completed"
    },
    "tags": []
   },
   "outputs": [
    {
     "data": {
      "text/plain": [
       "Model(\n",
       "  (layer_0): Linear(in_features=784, out_features=50, bias=True)\n",
       "  (layer_1): ReLU()\n",
       "  (layer_2): Linear(in_features=50, out_features=10, bias=True)\n",
       ")"
      ]
     },
     "execution_count": 49,
     "metadata": {},
     "output_type": "execute_result"
    }
   ],
   "source": [
    "model = Model(layers)\n",
    "model"
   ]
  },
  {
   "cell_type": "code",
   "execution_count": 50,
   "id": "483f87c7",
   "metadata": {
    "execution": {
     "iopub.execute_input": "2023-07-20T11:57:34.090172Z",
     "iopub.status.busy": "2023-07-20T11:57:34.089506Z",
     "iopub.status.idle": "2023-07-20T11:57:34.096612Z",
     "shell.execute_reply": "2023-07-20T11:57:34.095754Z"
    },
    "papermill": {
     "duration": 0.04592,
     "end_time": "2023-07-20T11:57:34.098654",
     "exception": false,
     "start_time": "2023-07-20T11:57:34.052734",
     "status": "completed"
    },
    "tags": []
   },
   "outputs": [
    {
     "data": {
      "text/plain": [
       "torch.Size([50, 10])"
      ]
     },
     "execution_count": 50,
     "metadata": {},
     "output_type": "execute_result"
    }
   ],
   "source": [
    "model(xb).shape"
   ]
  },
  {
   "cell_type": "markdown",
   "id": "79fea175",
   "metadata": {
    "papermill": {
     "duration": 0.035619,
     "end_time": "2023-07-20T11:57:34.170136",
     "exception": false,
     "start_time": "2023-07-20T11:57:34.134517",
     "status": "completed"
    },
    "tags": []
   },
   "source": [
    "### nn.ModuleList"
   ]
  },
  {
   "cell_type": "code",
   "execution_count": 51,
   "id": "934cd7f8",
   "metadata": {
    "execution": {
     "iopub.execute_input": "2023-07-20T11:57:34.243862Z",
     "iopub.status.busy": "2023-07-20T11:57:34.242943Z",
     "iopub.status.idle": "2023-07-20T11:57:34.248809Z",
     "shell.execute_reply": "2023-07-20T11:57:34.247963Z"
    },
    "papermill": {
     "duration": 0.044914,
     "end_time": "2023-07-20T11:57:34.250788",
     "exception": false,
     "start_time": "2023-07-20T11:57:34.205874",
     "status": "completed"
    },
    "tags": []
   },
   "outputs": [],
   "source": [
    "class SequentialModel(nn.Module):\n",
    "    def __init__(self, layers):\n",
    "        super().__init__()\n",
    "        self.layers = nn.ModuleList(layers)\n",
    "    \n",
    "    def forward(self,x):\n",
    "        for l in self.layers: x=l(x)\n",
    "        return x"
   ]
  },
  {
   "cell_type": "code",
   "execution_count": 52,
   "id": "505d4c81",
   "metadata": {
    "execution": {
     "iopub.execute_input": "2023-07-20T11:57:34.324836Z",
     "iopub.status.busy": "2023-07-20T11:57:34.324090Z",
     "iopub.status.idle": "2023-07-20T11:57:34.330457Z",
     "shell.execute_reply": "2023-07-20T11:57:34.329506Z"
    },
    "papermill": {
     "duration": 0.045451,
     "end_time": "2023-07-20T11:57:34.332422",
     "exception": false,
     "start_time": "2023-07-20T11:57:34.286971",
     "status": "completed"
    },
    "tags": []
   },
   "outputs": [
    {
     "data": {
      "text/plain": [
       "SequentialModel(\n",
       "  (layers): ModuleList(\n",
       "    (0): Linear(in_features=784, out_features=50, bias=True)\n",
       "    (1): ReLU()\n",
       "    (2): Linear(in_features=50, out_features=10, bias=True)\n",
       "  )\n",
       ")"
      ]
     },
     "execution_count": 52,
     "metadata": {},
     "output_type": "execute_result"
    }
   ],
   "source": [
    "model = SequentialModel(layers)\n",
    "model"
   ]
  },
  {
   "cell_type": "code",
   "execution_count": 53,
   "id": "d787f3d8",
   "metadata": {
    "execution": {
     "iopub.execute_input": "2023-07-20T11:57:34.406654Z",
     "iopub.status.busy": "2023-07-20T11:57:34.405198Z",
     "iopub.status.idle": "2023-07-20T11:57:36.469872Z",
     "shell.execute_reply": "2023-07-20T11:57:36.467885Z"
    },
    "papermill": {
     "duration": 2.103704,
     "end_time": "2023-07-20T11:57:36.472051",
     "exception": false,
     "start_time": "2023-07-20T11:57:34.368347",
     "status": "completed"
    },
    "tags": []
   },
   "outputs": [
    {
     "name": "stdout",
     "output_type": "stream",
     "text": [
      "0.12, 0.96\n",
      "0.11, 0.96\n",
      "0.07, 0.98\n"
     ]
    }
   ],
   "source": [
    "fit()"
   ]
  },
  {
   "cell_type": "markdown",
   "id": "24c7510c",
   "metadata": {
    "papermill": {
     "duration": 0.035967,
     "end_time": "2023-07-20T11:57:36.544874",
     "exception": false,
     "start_time": "2023-07-20T11:57:36.508907",
     "status": "completed"
    },
    "tags": []
   },
   "source": [
    "### nn.Sequential"
   ]
  },
  {
   "cell_type": "code",
   "execution_count": 54,
   "id": "86728ba3",
   "metadata": {
    "execution": {
     "iopub.execute_input": "2023-07-20T11:57:36.620569Z",
     "iopub.status.busy": "2023-07-20T11:57:36.619628Z",
     "iopub.status.idle": "2023-07-20T11:57:36.625201Z",
     "shell.execute_reply": "2023-07-20T11:57:36.624577Z"
    },
    "papermill": {
     "duration": 0.044987,
     "end_time": "2023-07-20T11:57:36.626991",
     "exception": false,
     "start_time": "2023-07-20T11:57:36.582004",
     "status": "completed"
    },
    "tags": []
   },
   "outputs": [],
   "source": [
    "model = nn.Sequential(nn.Linear(m,nh), nn.ReLU(), nn.Linear(nh,10))"
   ]
  },
  {
   "cell_type": "code",
   "execution_count": 55,
   "id": "e16cd09b",
   "metadata": {
    "execution": {
     "iopub.execute_input": "2023-07-20T11:57:36.703314Z",
     "iopub.status.busy": "2023-07-20T11:57:36.702977Z",
     "iopub.status.idle": "2023-07-20T11:57:38.684560Z",
     "shell.execute_reply": "2023-07-20T11:57:38.683246Z"
    },
    "papermill": {
     "duration": 2.022484,
     "end_time": "2023-07-20T11:57:38.686801",
     "exception": false,
     "start_time": "2023-07-20T11:57:36.664317",
     "status": "completed"
    },
    "tags": []
   },
   "outputs": [
    {
     "name": "stdout",
     "output_type": "stream",
     "text": [
      "0.16, 0.94\n",
      "0.13, 0.96\n",
      "0.08, 0.96\n"
     ]
    }
   ],
   "source": [
    "fit()"
   ]
  },
  {
   "cell_type": "code",
   "execution_count": 56,
   "id": "85c232d6",
   "metadata": {
    "execution": {
     "iopub.execute_input": "2023-07-20T11:57:38.762642Z",
     "iopub.status.busy": "2023-07-20T11:57:38.762318Z",
     "iopub.status.idle": "2023-07-20T11:57:38.768496Z",
     "shell.execute_reply": "2023-07-20T11:57:38.767503Z"
    },
    "papermill": {
     "duration": 0.047068,
     "end_time": "2023-07-20T11:57:38.771650",
     "exception": false,
     "start_time": "2023-07-20T11:57:38.724582",
     "status": "completed"
    },
    "tags": []
   },
   "outputs": [
    {
     "data": {
      "text/plain": [
       "Sequential(\n",
       "  (0): Linear(in_features=784, out_features=50, bias=True)\n",
       "  (1): ReLU()\n",
       "  (2): Linear(in_features=50, out_features=10, bias=True)\n",
       ")"
      ]
     },
     "execution_count": 56,
     "metadata": {},
     "output_type": "execute_result"
    }
   ],
   "source": [
    "model"
   ]
  },
  {
   "cell_type": "markdown",
   "id": "67498db0",
   "metadata": {
    "papermill": {
     "duration": 0.036404,
     "end_time": "2023-07-20T11:57:38.845671",
     "exception": false,
     "start_time": "2023-07-20T11:57:38.809267",
     "status": "completed"
    },
    "tags": []
   },
   "source": [
    "### optim"
   ]
  },
  {
   "cell_type": "code",
   "execution_count": 57,
   "id": "939f9a13",
   "metadata": {
    "execution": {
     "iopub.execute_input": "2023-07-20T11:57:38.921005Z",
     "iopub.status.busy": "2023-07-20T11:57:38.920366Z",
     "iopub.status.idle": "2023-07-20T11:57:38.927058Z",
     "shell.execute_reply": "2023-07-20T11:57:38.926200Z"
    },
    "papermill": {
     "duration": 0.046276,
     "end_time": "2023-07-20T11:57:38.929135",
     "exception": false,
     "start_time": "2023-07-20T11:57:38.882859",
     "status": "completed"
    },
    "tags": []
   },
   "outputs": [],
   "source": [
    "class Optimizer():\n",
    "    def __init__(self, params, lr=0.5): self.params,self.lr=list(params),lr\n",
    "    \n",
    "    def step(self):\n",
    "        with torch.no_grad():\n",
    "            for p in self.params: p -= self.lr*p.grad\n",
    "    \n",
    "    def zero_grad(self):\n",
    "        for p in self.params: p.grad.data.zero_()"
   ]
  },
  {
   "cell_type": "code",
   "execution_count": 58,
   "id": "0889e613",
   "metadata": {
    "execution": {
     "iopub.execute_input": "2023-07-20T11:57:39.004064Z",
     "iopub.status.busy": "2023-07-20T11:57:39.003785Z",
     "iopub.status.idle": "2023-07-20T11:57:39.008921Z",
     "shell.execute_reply": "2023-07-20T11:57:39.008047Z"
    },
    "papermill": {
     "duration": 0.044489,
     "end_time": "2023-07-20T11:57:39.010934",
     "exception": false,
     "start_time": "2023-07-20T11:57:38.966445",
     "status": "completed"
    },
    "tags": []
   },
   "outputs": [],
   "source": [
    "model = nn.Sequential(nn.Linear(m,nh), nn.ReLU(), nn.Linear(nh,10))"
   ]
  },
  {
   "cell_type": "code",
   "execution_count": 59,
   "id": "9cc4db6f",
   "metadata": {
    "execution": {
     "iopub.execute_input": "2023-07-20T11:57:39.091730Z",
     "iopub.status.busy": "2023-07-20T11:57:39.090821Z",
     "iopub.status.idle": "2023-07-20T11:57:39.095725Z",
     "shell.execute_reply": "2023-07-20T11:57:39.094907Z"
    },
    "papermill": {
     "duration": 0.044639,
     "end_time": "2023-07-20T11:57:39.097663",
     "exception": false,
     "start_time": "2023-07-20T11:57:39.053024",
     "status": "completed"
    },
    "tags": []
   },
   "outputs": [],
   "source": [
    "opt = Optimizer(model.parameters())"
   ]
  },
  {
   "cell_type": "code",
   "execution_count": 60,
   "id": "052d798e",
   "metadata": {
    "execution": {
     "iopub.execute_input": "2023-07-20T11:57:39.171901Z",
     "iopub.status.busy": "2023-07-20T11:57:39.171610Z",
     "iopub.status.idle": "2023-07-20T11:57:41.031223Z",
     "shell.execute_reply": "2023-07-20T11:57:41.029961Z"
    },
    "papermill": {
     "duration": 1.899959,
     "end_time": "2023-07-20T11:57:41.034744",
     "exception": false,
     "start_time": "2023-07-20T11:57:39.134785",
     "status": "completed"
    },
    "tags": []
   },
   "outputs": [
    {
     "name": "stdout",
     "output_type": "stream",
     "text": [
      "0.18, 0.94\n",
      "0.13, 0.96\n",
      "0.11, 0.94\n"
     ]
    }
   ],
   "source": [
    "for epoch in range(epochs):\n",
    "    for i in range(0,n,bs):\n",
    "        s = slice(i,i+bs)\n",
    "        xb,yb = x_trn[s],y_trn[s]\n",
    "        preds = model(xb)\n",
    "        loss = loss_func(preds,yb)\n",
    "        loss.backward()\n",
    "        opt.step()\n",
    "        opt.zero_grad()\n",
    "    report(loss, preds, yb)"
   ]
  },
  {
   "cell_type": "code",
   "execution_count": 61,
   "id": "b8345c7a",
   "metadata": {
    "execution": {
     "iopub.execute_input": "2023-07-20T11:57:41.111755Z",
     "iopub.status.busy": "2023-07-20T11:57:41.111419Z",
     "iopub.status.idle": "2023-07-20T11:57:41.116302Z",
     "shell.execute_reply": "2023-07-20T11:57:41.115678Z"
    },
    "papermill": {
     "duration": 0.044795,
     "end_time": "2023-07-20T11:57:41.118114",
     "exception": false,
     "start_time": "2023-07-20T11:57:41.073319",
     "status": "completed"
    },
    "tags": []
   },
   "outputs": [],
   "source": [
    "from torch import optim"
   ]
  },
  {
   "cell_type": "code",
   "execution_count": 62,
   "id": "9966f345",
   "metadata": {
    "execution": {
     "iopub.execute_input": "2023-07-20T11:57:41.192579Z",
     "iopub.status.busy": "2023-07-20T11:57:41.191817Z",
     "iopub.status.idle": "2023-07-20T11:57:41.197268Z",
     "shell.execute_reply": "2023-07-20T11:57:41.196400Z"
    },
    "papermill": {
     "duration": 0.044853,
     "end_time": "2023-07-20T11:57:41.199267",
     "exception": false,
     "start_time": "2023-07-20T11:57:41.154414",
     "status": "completed"
    },
    "tags": []
   },
   "outputs": [],
   "source": [
    "def get_model():\n",
    "    model = nn.Sequential(nn.Linear(m,nh), nn.ReLU(), nn.Linear(nh,10))\n",
    "    return model, optim.SGD(model.parameters(), lr=lr)"
   ]
  },
  {
   "cell_type": "code",
   "execution_count": 63,
   "id": "8f459664",
   "metadata": {
    "execution": {
     "iopub.execute_input": "2023-07-20T11:57:41.273217Z",
     "iopub.status.busy": "2023-07-20T11:57:41.272376Z",
     "iopub.status.idle": "2023-07-20T11:57:41.280901Z",
     "shell.execute_reply": "2023-07-20T11:57:41.279953Z"
    },
    "papermill": {
     "duration": 0.047588,
     "end_time": "2023-07-20T11:57:41.282961",
     "exception": false,
     "start_time": "2023-07-20T11:57:41.235373",
     "status": "completed"
    },
    "tags": []
   },
   "outputs": [
    {
     "data": {
      "text/plain": [
       "tensor(2.33, grad_fn=<NllLossBackward0>)"
      ]
     },
     "execution_count": 63,
     "metadata": {},
     "output_type": "execute_result"
    }
   ],
   "source": [
    "model,opt = get_model()\n",
    "loss_func(model(xb),yb)"
   ]
  },
  {
   "cell_type": "code",
   "execution_count": 64,
   "id": "9e8334a4",
   "metadata": {
    "execution": {
     "iopub.execute_input": "2023-07-20T11:57:41.357638Z",
     "iopub.status.busy": "2023-07-20T11:57:41.356905Z",
     "iopub.status.idle": "2023-07-20T11:57:43.269144Z",
     "shell.execute_reply": "2023-07-20T11:57:43.267272Z"
    },
    "papermill": {
     "duration": 1.952242,
     "end_time": "2023-07-20T11:57:43.271436",
     "exception": false,
     "start_time": "2023-07-20T11:57:41.319194",
     "status": "completed"
    },
    "tags": []
   },
   "outputs": [
    {
     "name": "stdout",
     "output_type": "stream",
     "text": [
      "0.12, 0.98\n",
      "0.09, 0.98\n",
      "0.07, 0.98\n"
     ]
    }
   ],
   "source": [
    "for epoch in range(epochs):\n",
    "    for i in range(0,n,bs):\n",
    "        s = slice(i,i+bs)\n",
    "        xb,yb = x_trn[s],y_trn[s]\n",
    "        preds = model(xb)\n",
    "        loss = loss_func(preds,yb)\n",
    "        loss.backward()\n",
    "        opt.step()\n",
    "        opt.zero_grad()\n",
    "    report(loss, preds, yb)"
   ]
  },
  {
   "cell_type": "markdown",
   "id": "f661b711",
   "metadata": {
    "papermill": {
     "duration": 0.036444,
     "end_time": "2023-07-20T11:57:43.345020",
     "exception": false,
     "start_time": "2023-07-20T11:57:43.308576",
     "status": "completed"
    },
    "tags": []
   },
   "source": [
    "### Dataset and DataLoader"
   ]
  },
  {
   "cell_type": "markdown",
   "id": "1ce3f974",
   "metadata": {
    "papermill": {
     "duration": 0.03631,
     "end_time": "2023-07-20T11:57:43.417799",
     "exception": false,
     "start_time": "2023-07-20T11:57:43.381489",
     "status": "completed"
    },
    "tags": []
   },
   "source": [
    "#### Dataset"
   ]
  },
  {
   "cell_type": "code",
   "execution_count": 65,
   "id": "fbd9e0e9",
   "metadata": {
    "execution": {
     "iopub.execute_input": "2023-07-20T11:57:43.493885Z",
     "iopub.status.busy": "2023-07-20T11:57:43.493545Z",
     "iopub.status.idle": "2023-07-20T11:57:43.498955Z",
     "shell.execute_reply": "2023-07-20T11:57:43.497935Z"
    },
    "papermill": {
     "duration": 0.045348,
     "end_time": "2023-07-20T11:57:43.500995",
     "exception": false,
     "start_time": "2023-07-20T11:57:43.455647",
     "status": "completed"
    },
    "tags": []
   },
   "outputs": [],
   "source": [
    "#|export\n",
    "class Dataset():\n",
    "    def __init__(self,x,y): self.x,self.y = x,y\n",
    "    def __len__(self): return len(self.x)\n",
    "    def __getitem__(self,i): return self.x[i],self.y[i]"
   ]
  },
  {
   "cell_type": "code",
   "execution_count": 66,
   "id": "8a3948fe",
   "metadata": {
    "execution": {
     "iopub.execute_input": "2023-07-20T11:57:43.575071Z",
     "iopub.status.busy": "2023-07-20T11:57:43.574797Z",
     "iopub.status.idle": "2023-07-20T11:57:43.579620Z",
     "shell.execute_reply": "2023-07-20T11:57:43.578609Z"
    },
    "papermill": {
     "duration": 0.044259,
     "end_time": "2023-07-20T11:57:43.581858",
     "exception": false,
     "start_time": "2023-07-20T11:57:43.537599",
     "status": "completed"
    },
    "tags": []
   },
   "outputs": [],
   "source": [
    "trn_ds,val_ds = Dataset(x_trn,y_trn),Dataset(x_val,y_val)\n",
    "assert len(trn_ds)==len(x_trn)\n",
    "assert len(val_ds)==len(x_val)"
   ]
  },
  {
   "cell_type": "code",
   "execution_count": 67,
   "id": "1f62cb32",
   "metadata": {
    "execution": {
     "iopub.execute_input": "2023-07-20T11:57:43.656702Z",
     "iopub.status.busy": "2023-07-20T11:57:43.656421Z",
     "iopub.status.idle": "2023-07-20T11:57:43.664573Z",
     "shell.execute_reply": "2023-07-20T11:57:43.663598Z"
    },
    "papermill": {
     "duration": 0.047885,
     "end_time": "2023-07-20T11:57:43.666549",
     "exception": false,
     "start_time": "2023-07-20T11:57:43.618664",
     "status": "completed"
    },
    "tags": []
   },
   "outputs": [
    {
     "data": {
      "text/plain": [
       "(tensor([[0., 0., 0.,  ..., 0., 0., 0.],\n",
       "         [0., 0., 0.,  ..., 0., 0., 0.],\n",
       "         [0., 0., 0.,  ..., 0., 0., 0.],\n",
       "         [0., 0., 0.,  ..., 0., 0., 0.],\n",
       "         [0., 0., 0.,  ..., 0., 0., 0.]]),\n",
       " tensor([5, 0, 4, 1, 9]))"
      ]
     },
     "execution_count": 67,
     "metadata": {},
     "output_type": "execute_result"
    }
   ],
   "source": [
    "xb,yb = trn_ds[0:5]\n",
    "assert xb.shape==(5,28*28)\n",
    "assert yb.shape==(5,)\n",
    "xb,yb"
   ]
  },
  {
   "cell_type": "code",
   "execution_count": 68,
   "id": "db0d6079",
   "metadata": {
    "execution": {
     "iopub.execute_input": "2023-07-20T11:57:43.742881Z",
     "iopub.status.busy": "2023-07-20T11:57:43.742591Z",
     "iopub.status.idle": "2023-07-20T11:57:43.747298Z",
     "shell.execute_reply": "2023-07-20T11:57:43.746278Z"
    },
    "papermill": {
     "duration": 0.045248,
     "end_time": "2023-07-20T11:57:43.749562",
     "exception": false,
     "start_time": "2023-07-20T11:57:43.704314",
     "status": "completed"
    },
    "tags": []
   },
   "outputs": [],
   "source": [
    "model,opt = get_model()"
   ]
  },
  {
   "cell_type": "code",
   "execution_count": 69,
   "id": "ef79fb9c",
   "metadata": {
    "execution": {
     "iopub.execute_input": "2023-07-20T11:57:43.827809Z",
     "iopub.status.busy": "2023-07-20T11:57:43.827524Z",
     "iopub.status.idle": "2023-07-20T11:57:45.995040Z",
     "shell.execute_reply": "2023-07-20T11:57:45.994076Z"
    },
    "papermill": {
     "duration": 2.20939,
     "end_time": "2023-07-20T11:57:45.997778",
     "exception": false,
     "start_time": "2023-07-20T11:57:43.788388",
     "status": "completed"
    },
    "tags": []
   },
   "outputs": [
    {
     "name": "stdout",
     "output_type": "stream",
     "text": [
      "0.17, 0.96\n",
      "0.11, 0.94\n",
      "0.09, 0.96\n"
     ]
    }
   ],
   "source": [
    "for epoch in range(epochs):\n",
    "    for i in range(0,n,bs):\n",
    "        xb,yb = trn_ds[i:i+bs]\n",
    "        preds = model(xb)\n",
    "        loss = loss_func(preds,yb)\n",
    "        loss.backward()\n",
    "        opt.step()\n",
    "        opt.zero_grad()\n",
    "    report(loss, preds, yb)"
   ]
  },
  {
   "cell_type": "markdown",
   "id": "435bc6c1",
   "metadata": {
    "papermill": {
     "duration": 0.060915,
     "end_time": "2023-07-20T11:57:46.117656",
     "exception": false,
     "start_time": "2023-07-20T11:57:46.056741",
     "status": "completed"
    },
    "tags": []
   },
   "source": [
    "### DataLoader"
   ]
  },
  {
   "cell_type": "code",
   "execution_count": 70,
   "id": "54b7064a",
   "metadata": {
    "execution": {
     "iopub.execute_input": "2023-07-20T11:57:46.251982Z",
     "iopub.status.busy": "2023-07-20T11:57:46.251363Z",
     "iopub.status.idle": "2023-07-20T11:57:46.264185Z",
     "shell.execute_reply": "2023-07-20T11:57:46.263203Z"
    },
    "papermill": {
     "duration": 0.087191,
     "end_time": "2023-07-20T11:57:46.266941",
     "exception": false,
     "start_time": "2023-07-20T11:57:46.179750",
     "status": "completed"
    },
    "tags": []
   },
   "outputs": [],
   "source": [
    "class DataLoader():\n",
    "    def __init__(self,ds,bs): self.ds,self.bs = ds,bs\n",
    "    def __iter__(self):\n",
    "        for i in range(0,len(self.ds),bs): yield self.ds[i:i+self.bs]"
   ]
  },
  {
   "cell_type": "code",
   "execution_count": 71,
   "id": "5a2fb539",
   "metadata": {
    "execution": {
     "iopub.execute_input": "2023-07-20T11:57:46.385874Z",
     "iopub.status.busy": "2023-07-20T11:57:46.385435Z",
     "iopub.status.idle": "2023-07-20T11:57:46.390250Z",
     "shell.execute_reply": "2023-07-20T11:57:46.389437Z"
    },
    "papermill": {
     "duration": 0.062837,
     "end_time": "2023-07-20T11:57:46.394102",
     "exception": false,
     "start_time": "2023-07-20T11:57:46.331265",
     "status": "completed"
    },
    "tags": []
   },
   "outputs": [],
   "source": [
    "trn_dl = DataLoader(trn_ds, bs)\n",
    "val_dl = DataLoader(val_ds, bs)"
   ]
  },
  {
   "cell_type": "code",
   "execution_count": 72,
   "id": "612b7dea",
   "metadata": {
    "execution": {
     "iopub.execute_input": "2023-07-20T11:57:46.500414Z",
     "iopub.status.busy": "2023-07-20T11:57:46.500011Z",
     "iopub.status.idle": "2023-07-20T11:57:46.506725Z",
     "shell.execute_reply": "2023-07-20T11:57:46.505914Z"
    },
    "papermill": {
     "duration": 0.065374,
     "end_time": "2023-07-20T11:57:46.511973",
     "exception": false,
     "start_time": "2023-07-20T11:57:46.446599",
     "status": "completed"
    },
    "tags": []
   },
   "outputs": [
    {
     "data": {
      "text/plain": [
       "torch.Size([50, 784])"
      ]
     },
     "execution_count": 72,
     "metadata": {},
     "output_type": "execute_result"
    }
   ],
   "source": [
    "xb,yb = next(iter(trn_dl))\n",
    "xb.shape"
   ]
  },
  {
   "cell_type": "code",
   "execution_count": 73,
   "id": "18ca720a",
   "metadata": {
    "execution": {
     "iopub.execute_input": "2023-07-20T11:57:46.619482Z",
     "iopub.status.busy": "2023-07-20T11:57:46.619029Z",
     "iopub.status.idle": "2023-07-20T11:57:46.625855Z",
     "shell.execute_reply": "2023-07-20T11:57:46.625045Z"
    },
    "papermill": {
     "duration": 0.065737,
     "end_time": "2023-07-20T11:57:46.631016",
     "exception": false,
     "start_time": "2023-07-20T11:57:46.565279",
     "status": "completed"
    },
    "tags": []
   },
   "outputs": [
    {
     "data": {
      "text/plain": [
       "tensor([5, 0, 4, 1, 9, 2, 1, 3, 1, 4, 3, 5, 3, 6, 1, 7, 2, 8, 6, 9, 4, 0, 9, 1, 1, 2, 4, 3, 2, 7, 3, 8, 6, 9, 0, 5, 6, 0, 7, 6, 1, 8, 7, 9,\n",
       "        3, 9, 8, 5, 9, 3])"
      ]
     },
     "execution_count": 73,
     "metadata": {},
     "output_type": "execute_result"
    }
   ],
   "source": [
    "yb"
   ]
  },
  {
   "cell_type": "code",
   "execution_count": 74,
   "id": "f6385f64",
   "metadata": {
    "execution": {
     "iopub.execute_input": "2023-07-20T11:57:46.739329Z",
     "iopub.status.busy": "2023-07-20T11:57:46.738920Z",
     "iopub.status.idle": "2023-07-20T11:57:47.079735Z",
     "shell.execute_reply": "2023-07-20T11:57:47.078719Z"
    },
    "papermill": {
     "duration": 0.397418,
     "end_time": "2023-07-20T11:57:47.081959",
     "exception": false,
     "start_time": "2023-07-20T11:57:46.684541",
     "status": "completed"
    },
    "tags": []
   },
   "outputs": [
    {
     "data": {
      "text/plain": [
       "tensor(5)"
      ]
     },
     "execution_count": 74,
     "metadata": {},
     "output_type": "execute_result"
    },
    {
     "data": {
      "image/png": "[encoded data removed]",
      "text/plain": [
       "<Figure size 640x480 with 1 Axes>"
      ]
     },
     "metadata": {},
     "output_type": "display_data"
    }
   ],
   "source": [
    "plt.imshow(xb[0].view(28,28))\n",
    "yb[0]"
   ]
  },
  {
   "cell_type": "code",
   "execution_count": 75,
   "id": "c8165281",
   "metadata": {
    "execution": {
     "iopub.execute_input": "2023-07-20T11:57:47.159853Z",
     "iopub.status.busy": "2023-07-20T11:57:47.159525Z",
     "iopub.status.idle": "2023-07-20T11:57:47.166504Z",
     "shell.execute_reply": "2023-07-20T11:57:47.165645Z"
    },
    "papermill": {
     "duration": 0.04833,
     "end_time": "2023-07-20T11:57:47.168659",
     "exception": false,
     "start_time": "2023-07-20T11:57:47.120329",
     "status": "completed"
    },
    "tags": []
   },
   "outputs": [],
   "source": [
    "def fit():\n",
    "    for epoch in range(epochs):\n",
    "        for xb,yb in trn_dl:\n",
    "            preds = model(xb)\n",
    "            loss = loss_func(preds,yb)\n",
    "            loss.backward()\n",
    "            opt.step()\n",
    "            opt.zero_grad()\n",
    "        report(loss, preds, yb)"
   ]
  },
  {
   "cell_type": "code",
   "execution_count": 76,
   "id": "dff20c03",
   "metadata": {
    "execution": {
     "iopub.execute_input": "2023-07-20T11:57:47.245924Z",
     "iopub.status.busy": "2023-07-20T11:57:47.245639Z",
     "iopub.status.idle": "2023-07-20T11:57:49.134266Z",
     "shell.execute_reply": "2023-07-20T11:57:49.132899Z"
    },
    "papermill": {
     "duration": 1.929084,
     "end_time": "2023-07-20T11:57:49.136431",
     "exception": false,
     "start_time": "2023-07-20T11:57:47.207347",
     "status": "completed"
    },
    "tags": []
   },
   "outputs": [
    {
     "name": "stdout",
     "output_type": "stream",
     "text": [
      "0.08, 0.98\n",
      "0.11, 0.98\n",
      "0.07, 0.98\n"
     ]
    }
   ],
   "source": [
    "fit()"
   ]
  },
  {
   "cell_type": "code",
   "execution_count": 77,
   "id": "ff84a1ca",
   "metadata": {
    "execution": {
     "iopub.execute_input": "2023-07-20T11:57:49.215600Z",
     "iopub.status.busy": "2023-07-20T11:57:49.215296Z",
     "iopub.status.idle": "2023-07-20T11:57:49.224442Z",
     "shell.execute_reply": "2023-07-20T11:57:49.223557Z"
    },
    "papermill": {
     "duration": 0.051557,
     "end_time": "2023-07-20T11:57:49.226494",
     "exception": false,
     "start_time": "2023-07-20T11:57:49.174937",
     "status": "completed"
    },
    "tags": []
   },
   "outputs": [
    {
     "data": {
      "text/plain": [
       "(tensor(0.05, grad_fn=<NllLossBackward0>), tensor(0.98))"
      ]
     },
     "execution_count": 77,
     "metadata": {},
     "output_type": "execute_result"
    }
   ],
   "source": [
    "loss_func(model(xb),yb), accuracy(model(xb),yb)"
   ]
  },
  {
   "cell_type": "markdown",
   "id": "58e89da3",
   "metadata": {
    "papermill": {
     "duration": 0.037548,
     "end_time": "2023-07-20T11:57:49.302206",
     "exception": false,
     "start_time": "2023-07-20T11:57:49.264658",
     "status": "completed"
    },
    "tags": []
   },
   "source": [
    "### Random sampling"
   ]
  },
  {
   "cell_type": "code",
   "execution_count": 78,
   "id": "0de5468a",
   "metadata": {
    "execution": {
     "iopub.execute_input": "2023-07-20T11:57:49.378941Z",
     "iopub.status.busy": "2023-07-20T11:57:49.378640Z",
     "iopub.status.idle": "2023-07-20T11:57:49.382768Z",
     "shell.execute_reply": "2023-07-20T11:57:49.381751Z"
    },
    "papermill": {
     "duration": 0.045095,
     "end_time": "2023-07-20T11:57:49.385121",
     "exception": false,
     "start_time": "2023-07-20T11:57:49.340026",
     "status": "completed"
    },
    "tags": []
   },
   "outputs": [],
   "source": [
    "import random"
   ]
  },
  {
   "cell_type": "code",
   "execution_count": 79,
   "id": "f1837d89",
   "metadata": {
    "execution": {
     "iopub.execute_input": "2023-07-20T11:57:49.462382Z",
     "iopub.status.busy": "2023-07-20T11:57:49.462101Z",
     "iopub.status.idle": "2023-07-20T11:57:49.467742Z",
     "shell.execute_reply": "2023-07-20T11:57:49.466857Z"
    },
    "papermill": {
     "duration": 0.046741,
     "end_time": "2023-07-20T11:57:49.469737",
     "exception": false,
     "start_time": "2023-07-20T11:57:49.422996",
     "status": "completed"
    },
    "tags": []
   },
   "outputs": [],
   "source": [
    "class Sampler():\n",
    "    def __init__(self, ds, shuffle=False): self.n,self.shuffle=len(ds),shuffle\n",
    "    def __iter__(self):\n",
    "        res = list(range(self.n))\n",
    "        if self.shuffle: random.shuffle(res)\n",
    "        return iter(res)"
   ]
  },
  {
   "cell_type": "code",
   "execution_count": 80,
   "id": "469fccb3",
   "metadata": {
    "execution": {
     "iopub.execute_input": "2023-07-20T11:57:49.546815Z",
     "iopub.status.busy": "2023-07-20T11:57:49.546052Z",
     "iopub.status.idle": "2023-07-20T11:57:49.550555Z",
     "shell.execute_reply": "2023-07-20T11:57:49.549737Z"
    },
    "papermill": {
     "duration": 0.045021,
     "end_time": "2023-07-20T11:57:49.552374",
     "exception": false,
     "start_time": "2023-07-20T11:57:49.507353",
     "status": "completed"
    },
    "tags": []
   },
   "outputs": [],
   "source": [
    "from itertools import islice"
   ]
  },
  {
   "cell_type": "code",
   "execution_count": 81,
   "id": "7f2fcb98",
   "metadata": {
    "execution": {
     "iopub.execute_input": "2023-07-20T11:57:49.629857Z",
     "iopub.status.busy": "2023-07-20T11:57:49.629072Z",
     "iopub.status.idle": "2023-07-20T11:57:49.633746Z",
     "shell.execute_reply": "2023-07-20T11:57:49.632810Z"
    },
    "papermill": {
     "duration": 0.045218,
     "end_time": "2023-07-20T11:57:49.635592",
     "exception": false,
     "start_time": "2023-07-20T11:57:49.590374",
     "status": "completed"
    },
    "tags": []
   },
   "outputs": [],
   "source": [
    "ss = Sampler(trn_ds)"
   ]
  },
  {
   "cell_type": "code",
   "execution_count": 82,
   "id": "0822d2a4",
   "metadata": {
    "execution": {
     "iopub.execute_input": "2023-07-20T11:57:49.715187Z",
     "iopub.status.busy": "2023-07-20T11:57:49.714926Z",
     "iopub.status.idle": "2023-07-20T11:57:49.720428Z",
     "shell.execute_reply": "2023-07-20T11:57:49.719481Z"
    },
    "papermill": {
     "duration": 0.047006,
     "end_time": "2023-07-20T11:57:49.722390",
     "exception": false,
     "start_time": "2023-07-20T11:57:49.675384",
     "status": "completed"
    },
    "tags": []
   },
   "outputs": [],
   "source": [
    "it = iter(ss)"
   ]
  },
  {
   "cell_type": "code",
   "execution_count": 83,
   "id": "5164da2e",
   "metadata": {
    "execution": {
     "iopub.execute_input": "2023-07-20T11:57:49.799977Z",
     "iopub.status.busy": "2023-07-20T11:57:49.799124Z",
     "iopub.status.idle": "2023-07-20T11:57:49.804671Z",
     "shell.execute_reply": "2023-07-20T11:57:49.803720Z"
    },
    "papermill": {
     "duration": 0.046277,
     "end_time": "2023-07-20T11:57:49.806671",
     "exception": false,
     "start_time": "2023-07-20T11:57:49.760394",
     "status": "completed"
    },
    "tags": []
   },
   "outputs": [
    {
     "name": "stdout",
     "output_type": "stream",
     "text": [
      "0\n",
      "1\n",
      "2\n",
      "3\n",
      "4\n"
     ]
    }
   ],
   "source": [
    "for _ in range(5): print(next(it))"
   ]
  },
  {
   "cell_type": "code",
   "execution_count": 84,
   "id": "dcfa5105",
   "metadata": {
    "execution": {
     "iopub.execute_input": "2023-07-20T11:57:49.884832Z",
     "iopub.status.busy": "2023-07-20T11:57:49.884083Z",
     "iopub.status.idle": "2023-07-20T11:57:49.892240Z",
     "shell.execute_reply": "2023-07-20T11:57:49.891295Z"
    },
    "papermill": {
     "duration": 0.049251,
     "end_time": "2023-07-20T11:57:49.894219",
     "exception": false,
     "start_time": "2023-07-20T11:57:49.844968",
     "status": "completed"
    },
    "tags": []
   },
   "outputs": [
    {
     "data": {
      "text/plain": [
       "[0, 1, 2, 3, 4]"
      ]
     },
     "execution_count": 84,
     "metadata": {},
     "output_type": "execute_result"
    }
   ],
   "source": [
    "list(islice(ss, 5))"
   ]
  },
  {
   "cell_type": "code",
   "execution_count": 85,
   "id": "b4727e7e",
   "metadata": {
    "execution": {
     "iopub.execute_input": "2023-07-20T11:57:49.971804Z",
     "iopub.status.busy": "2023-07-20T11:57:49.971032Z",
     "iopub.status.idle": "2023-07-20T11:57:50.022600Z",
     "shell.execute_reply": "2023-07-20T11:57:50.021587Z"
    },
    "papermill": {
     "duration": 0.092641,
     "end_time": "2023-07-20T11:57:50.024777",
     "exception": false,
     "start_time": "2023-07-20T11:57:49.932136",
     "status": "completed"
    },
    "tags": []
   },
   "outputs": [
    {
     "data": {
      "text/plain": [
       "[34492, 6248, 18963, 38212, 38261]"
      ]
     },
     "execution_count": 85,
     "metadata": {},
     "output_type": "execute_result"
    }
   ],
   "source": [
    "ss = Sampler(trn_ds, shuffle=True)\n",
    "list(islice(ss, 5))"
   ]
  },
  {
   "cell_type": "code",
   "execution_count": 86,
   "id": "549a210f",
   "metadata": {
    "execution": {
     "iopub.execute_input": "2023-07-20T11:57:50.105578Z",
     "iopub.status.busy": "2023-07-20T11:57:50.104792Z",
     "iopub.status.idle": "2023-07-20T11:57:50.132882Z",
     "shell.execute_reply": "2023-07-20T11:57:50.132020Z"
    },
    "papermill": {
     "duration": 0.071377,
     "end_time": "2023-07-20T11:57:50.134894",
     "exception": false,
     "start_time": "2023-07-20T11:57:50.063517",
     "status": "completed"
    },
    "tags": []
   },
   "outputs": [],
   "source": [
    "import fastcore.all as fc"
   ]
  },
  {
   "cell_type": "code",
   "execution_count": 87,
   "id": "73836f80",
   "metadata": {
    "execution": {
     "iopub.execute_input": "2023-07-20T11:57:50.214357Z",
     "iopub.status.busy": "2023-07-20T11:57:50.213906Z",
     "iopub.status.idle": "2023-07-20T11:57:50.219392Z",
     "shell.execute_reply": "2023-07-20T11:57:50.218401Z"
    },
    "papermill": {
     "duration": 0.047877,
     "end_time": "2023-07-20T11:57:50.221433",
     "exception": false,
     "start_time": "2023-07-20T11:57:50.173556",
     "status": "completed"
    },
    "tags": []
   },
   "outputs": [],
   "source": [
    "class BatchSampler():\n",
    "    def __init__(self, sampler, bs, drop_last=False): fc.store_attr()\n",
    "    def __iter__(self): yield from fc.chunked(iter(self.sampler), self.bs, drop_last=self.drop_last)"
   ]
  },
  {
   "cell_type": "code",
   "execution_count": 88,
   "id": "f47c8d46",
   "metadata": {
    "execution": {
     "iopub.execute_input": "2023-07-20T11:57:50.300814Z",
     "iopub.status.busy": "2023-07-20T11:57:50.300529Z",
     "iopub.status.idle": "2023-07-20T11:57:50.354728Z",
     "shell.execute_reply": "2023-07-20T11:57:50.353743Z"
    },
    "papermill": {
     "duration": 0.096421,
     "end_time": "2023-07-20T11:57:50.356878",
     "exception": false,
     "start_time": "2023-07-20T11:57:50.260457",
     "status": "completed"
    },
    "tags": []
   },
   "outputs": [
    {
     "data": {
      "text/plain": [
       "[[12543, 22997, 9580, 39479],\n",
       " [49106, 27901, 45333, 31719],\n",
       " [10488, 37739, 17707, 30974],\n",
       " [41646, 38311, 31082, 4974],\n",
       " [6447, 21478, 28833, 38710]]"
      ]
     },
     "execution_count": 88,
     "metadata": {},
     "output_type": "execute_result"
    }
   ],
   "source": [
    "batchs = BatchSampler(ss, 4)\n",
    "list(islice(batchs,5))"
   ]
  },
  {
   "cell_type": "code",
   "execution_count": 89,
   "id": "32cbbb4a",
   "metadata": {
    "execution": {
     "iopub.execute_input": "2023-07-20T11:57:50.434886Z",
     "iopub.status.busy": "2023-07-20T11:57:50.434602Z",
     "iopub.status.idle": "2023-07-20T11:57:50.439199Z",
     "shell.execute_reply": "2023-07-20T11:57:50.438200Z"
    },
    "papermill": {
     "duration": 0.046601,
     "end_time": "2023-07-20T11:57:50.441472",
     "exception": false,
     "start_time": "2023-07-20T11:57:50.394871",
     "status": "completed"
    },
    "tags": []
   },
   "outputs": [],
   "source": [
    "def collate(b):\n",
    "    xs,ys = zip(*b)\n",
    "    return torch.stack(xs),torch.stack(ys)"
   ]
  },
  {
   "cell_type": "code",
   "execution_count": 90,
   "id": "21f7fa9a",
   "metadata": {
    "execution": {
     "iopub.execute_input": "2023-07-20T11:57:50.519889Z",
     "iopub.status.busy": "2023-07-20T11:57:50.519594Z",
     "iopub.status.idle": "2023-07-20T11:57:50.524797Z",
     "shell.execute_reply": "2023-07-20T11:57:50.523825Z"
    },
    "papermill": {
     "duration": 0.046897,
     "end_time": "2023-07-20T11:57:50.526746",
     "exception": false,
     "start_time": "2023-07-20T11:57:50.479849",
     "status": "completed"
    },
    "tags": []
   },
   "outputs": [],
   "source": [
    "class DataLoader():\n",
    "    def __init__(self, ds, batchs, collate_fn=collate): fc.store_attr()\n",
    "    def __iter__(self): yield from (self.collate_fn(self.ds[i] for i in b) for b in self.batchs)"
   ]
  },
  {
   "cell_type": "code",
   "execution_count": 91,
   "id": "62d2de8b",
   "metadata": {
    "execution": {
     "iopub.execute_input": "2023-07-20T11:57:50.604937Z",
     "iopub.status.busy": "2023-07-20T11:57:50.604047Z",
     "iopub.status.idle": "2023-07-20T11:57:50.608894Z",
     "shell.execute_reply": "2023-07-20T11:57:50.607917Z"
    },
    "papermill": {
     "duration": 0.04592,
     "end_time": "2023-07-20T11:57:50.610849",
     "exception": false,
     "start_time": "2023-07-20T11:57:50.564929",
     "status": "completed"
    },
    "tags": []
   },
   "outputs": [],
   "source": [
    "trn_samp = BatchSampler(Sampler(trn_ds, shuffle=True), bs)\n",
    "val_samp = BatchSampler(Sampler(val_ds, shuffle=False), bs)"
   ]
  },
  {
   "cell_type": "code",
   "execution_count": 92,
   "id": "41b8f3e3",
   "metadata": {
    "execution": {
     "iopub.execute_input": "2023-07-20T11:57:50.689785Z",
     "iopub.status.busy": "2023-07-20T11:57:50.688919Z",
     "iopub.status.idle": "2023-07-20T11:57:50.693657Z",
     "shell.execute_reply": "2023-07-20T11:57:50.692809Z"
    },
    "papermill": {
     "duration": 0.046101,
     "end_time": "2023-07-20T11:57:50.695654",
     "exception": false,
     "start_time": "2023-07-20T11:57:50.649553",
     "status": "completed"
    },
    "tags": []
   },
   "outputs": [],
   "source": [
    "trn_dl = DataLoader(trn_ds, trn_samp)\n",
    "val_dl = DataLoader(val_ds, val_samp)"
   ]
  },
  {
   "cell_type": "code",
   "execution_count": 93,
   "id": "bec2e6e5",
   "metadata": {
    "execution": {
     "iopub.execute_input": "2023-07-20T11:57:50.774363Z",
     "iopub.status.busy": "2023-07-20T11:57:50.774091Z",
     "iopub.status.idle": "2023-07-20T11:57:51.025511Z",
     "shell.execute_reply": "2023-07-20T11:57:51.024603Z"
    },
    "papermill": {
     "duration": 0.293072,
     "end_time": "2023-07-20T11:57:51.028073",
     "exception": false,
     "start_time": "2023-07-20T11:57:50.735001",
     "status": "completed"
    },
    "tags": []
   },
   "outputs": [
    {
     "data": {
      "text/plain": [
       "tensor(3)"
      ]
     },
     "execution_count": 93,
     "metadata": {},
     "output_type": "execute_result"
    },
    {
     "data": {
      "image/png": "[encoded data removed]",
      "text/plain": [
       "<Figure size 640x480 with 1 Axes>"
      ]
     },
     "metadata": {},
     "output_type": "display_data"
    }
   ],
   "source": [
    "xb,yb = next(iter(val_dl))\n",
    "plt.imshow(xb[0].view(28,28))\n",
    "yb[0]"
   ]
  },
  {
   "cell_type": "code",
   "execution_count": 94,
   "id": "05148769",
   "metadata": {
    "execution": {
     "iopub.execute_input": "2023-07-20T11:57:51.110796Z",
     "iopub.status.busy": "2023-07-20T11:57:51.109920Z",
     "iopub.status.idle": "2023-07-20T11:57:51.116393Z",
     "shell.execute_reply": "2023-07-20T11:57:51.115443Z"
    },
    "papermill": {
     "duration": 0.051087,
     "end_time": "2023-07-20T11:57:51.118364",
     "exception": false,
     "start_time": "2023-07-20T11:57:51.067277",
     "status": "completed"
    },
    "tags": []
   },
   "outputs": [
    {
     "data": {
      "text/plain": [
       "(torch.Size([50, 784]), torch.Size([50]))"
      ]
     },
     "execution_count": 94,
     "metadata": {},
     "output_type": "execute_result"
    }
   ],
   "source": [
    "xb.shape,yb.shape"
   ]
  },
  {
   "cell_type": "code",
   "execution_count": 95,
   "id": "78f49257",
   "metadata": {
    "execution": {
     "iopub.execute_input": "2023-07-20T11:57:51.198493Z",
     "iopub.status.busy": "2023-07-20T11:57:51.197738Z",
     "iopub.status.idle": "2023-07-20T11:57:51.204925Z",
     "shell.execute_reply": "2023-07-20T11:57:51.202967Z"
    },
    "papermill": {
     "duration": 0.048734,
     "end_time": "2023-07-20T11:57:51.206906",
     "exception": false,
     "start_time": "2023-07-20T11:57:51.158172",
     "status": "completed"
    },
    "tags": []
   },
   "outputs": [],
   "source": [
    "model,opt = get_model()"
   ]
  },
  {
   "cell_type": "code",
   "execution_count": 96,
   "id": "772dfe0d",
   "metadata": {
    "execution": {
     "iopub.execute_input": "2023-07-20T11:57:51.286147Z",
     "iopub.status.busy": "2023-07-20T11:57:51.284721Z",
     "iopub.status.idle": "2023-07-20T11:57:54.494044Z",
     "shell.execute_reply": "2023-07-20T11:57:54.492890Z"
    },
    "papermill": {
     "duration": 3.251481,
     "end_time": "2023-07-20T11:57:54.496892",
     "exception": false,
     "start_time": "2023-07-20T11:57:51.245411",
     "status": "completed"
    },
    "tags": []
   },
   "outputs": [
    {
     "name": "stdout",
     "output_type": "stream",
     "text": [
      "0.05, 0.98\n",
      "0.10, 0.98\n",
      "0.19, 0.90\n"
     ]
    }
   ],
   "source": [
    "fit()"
   ]
  },
  {
   "cell_type": "markdown",
   "id": "3ee37775",
   "metadata": {
    "papermill": {
     "duration": 0.039505,
     "end_time": "2023-07-20T11:57:54.578002",
     "exception": false,
     "start_time": "2023-07-20T11:57:54.538497",
     "status": "completed"
    },
    "tags": []
   },
   "source": [
    "### Multiprocessing DataLoader"
   ]
  },
  {
   "cell_type": "code",
   "execution_count": 97,
   "id": "9e5a6347",
   "metadata": {
    "execution": {
     "iopub.execute_input": "2023-07-20T11:57:54.657290Z",
     "iopub.status.busy": "2023-07-20T11:57:54.656951Z",
     "iopub.status.idle": "2023-07-20T11:57:54.661591Z",
     "shell.execute_reply": "2023-07-20T11:57:54.660603Z"
    },
    "papermill": {
     "duration": 0.046499,
     "end_time": "2023-07-20T11:57:54.663546",
     "exception": false,
     "start_time": "2023-07-20T11:57:54.617047",
     "status": "completed"
    },
    "tags": []
   },
   "outputs": [],
   "source": [
    "import torch.multiprocessing as mp\n",
    "from fastcore.basics import store_attr"
   ]
  },
  {
   "cell_type": "code",
   "execution_count": 98,
   "id": "62057c47",
   "metadata": {
    "execution": {
     "iopub.execute_input": "2023-07-20T11:57:54.744499Z",
     "iopub.status.busy": "2023-07-20T11:57:54.744227Z",
     "iopub.status.idle": "2023-07-20T11:57:54.751679Z",
     "shell.execute_reply": "2023-07-20T11:57:54.750723Z"
    },
    "papermill": {
     "duration": 0.049799,
     "end_time": "2023-07-20T11:57:54.753773",
     "exception": false,
     "start_time": "2023-07-20T11:57:54.703974",
     "status": "completed"
    },
    "tags": []
   },
   "outputs": [
    {
     "data": {
      "text/plain": [
       "(tensor([[0., 0., 0.,  ..., 0., 0., 0.],\n",
       "         [0., 0., 0.,  ..., 0., 0., 0.],\n",
       "         [0., 0., 0.,  ..., 0., 0., 0.],\n",
       "         [0., 0., 0.,  ..., 0., 0., 0.]]),\n",
       " tensor([1, 1, 1, 0]))"
      ]
     },
     "execution_count": 98,
     "metadata": {},
     "output_type": "execute_result"
    }
   ],
   "source": [
    "trn_ds[[3,6,8,1]]"
   ]
  },
  {
   "cell_type": "code",
   "execution_count": 99,
   "id": "48a9a811",
   "metadata": {
    "execution": {
     "iopub.execute_input": "2023-07-20T11:57:54.833539Z",
     "iopub.status.busy": "2023-07-20T11:57:54.833271Z",
     "iopub.status.idle": "2023-07-20T11:57:54.840501Z",
     "shell.execute_reply": "2023-07-20T11:57:54.839532Z"
    },
    "papermill": {
     "duration": 0.049349,
     "end_time": "2023-07-20T11:57:54.842468",
     "exception": false,
     "start_time": "2023-07-20T11:57:54.793119",
     "status": "completed"
    },
    "tags": []
   },
   "outputs": [
    {
     "data": {
      "text/plain": [
       "(tensor([[0., 0., 0.,  ..., 0., 0., 0.],\n",
       "         [0., 0., 0.,  ..., 0., 0., 0.],\n",
       "         [0., 0., 0.,  ..., 0., 0., 0.],\n",
       "         [0., 0., 0.,  ..., 0., 0., 0.]]),\n",
       " tensor([1, 1, 1, 0]))"
      ]
     },
     "execution_count": 99,
     "metadata": {},
     "output_type": "execute_result"
    }
   ],
   "source": [
    "trn_ds.__getitem__([3,6,8,1])"
   ]
  },
  {
   "cell_type": "code",
   "execution_count": 100,
   "id": "96b4a7dc",
   "metadata": {
    "execution": {
     "iopub.execute_input": "2023-07-20T11:57:54.923162Z",
     "iopub.status.busy": "2023-07-20T11:57:54.922306Z",
     "iopub.status.idle": "2023-07-20T11:57:54.929704Z",
     "shell.execute_reply": "2023-07-20T11:57:54.928359Z"
    },
    "papermill": {
     "duration": 0.049929,
     "end_time": "2023-07-20T11:57:54.931738",
     "exception": false,
     "start_time": "2023-07-20T11:57:54.881809",
     "status": "completed"
    },
    "tags": []
   },
   "outputs": [
    {
     "name": "stdout",
     "output_type": "stream",
     "text": [
      "(tensor([[0., 0., 0.,  ..., 0., 0., 0.],\n",
      "        [0., 0., 0.,  ..., 0., 0., 0.]]), tensor([1, 1]))\n",
      "(tensor([[0., 0., 0.,  ..., 0., 0., 0.],\n",
      "        [0., 0., 0.,  ..., 0., 0., 0.]]), tensor([1, 0]))\n"
     ]
    }
   ],
   "source": [
    "for o in map(trn_ds.__getitem__, ([3,6],[8,1])): print(o)"
   ]
  },
  {
   "cell_type": "code",
   "execution_count": 101,
   "id": "2559a7ea",
   "metadata": {
    "execution": {
     "iopub.execute_input": "2023-07-20T11:57:55.012654Z",
     "iopub.status.busy": "2023-07-20T11:57:55.011750Z",
     "iopub.status.idle": "2023-07-20T11:57:55.017725Z",
     "shell.execute_reply": "2023-07-20T11:57:55.016852Z"
    },
    "papermill": {
     "duration": 0.048167,
     "end_time": "2023-07-20T11:57:55.019673",
     "exception": false,
     "start_time": "2023-07-20T11:57:54.971506",
     "status": "completed"
    },
    "tags": []
   },
   "outputs": [],
   "source": [
    "class DataLoader():\n",
    "    def __init__(self, ds, batchs, n_workers=1, collate_fn=collate): store_attr()\n",
    "    def __iter__(self):\n",
    "        with mp.Pool(self.n_workers) as ex: yield from ex.map(self.ds.__getitem__, iter(self.batchs))"
   ]
  },
  {
   "cell_type": "code",
   "execution_count": 102,
   "id": "9946249d",
   "metadata": {
    "execution": {
     "iopub.execute_input": "2023-07-20T11:57:55.100639Z",
     "iopub.status.busy": "2023-07-20T11:57:55.100357Z",
     "iopub.status.idle": "2023-07-20T11:57:55.105337Z",
     "shell.execute_reply": "2023-07-20T11:57:55.104405Z"
    },
    "papermill": {
     "duration": 0.047988,
     "end_time": "2023-07-20T11:57:55.108351",
     "exception": false,
     "start_time": "2023-07-20T11:57:55.060363",
     "status": "completed"
    },
    "tags": []
   },
   "outputs": [],
   "source": [
    "trn_dl = DataLoader(trn_ds, batchs=trn_samp, n_workers=2)\n",
    "it = iter(trn_dl)"
   ]
  },
  {
   "cell_type": "code",
   "execution_count": 103,
   "id": "35506e94",
   "metadata": {
    "execution": {
     "iopub.execute_input": "2023-07-20T11:57:55.190452Z",
     "iopub.status.busy": "2023-07-20T11:57:55.189679Z",
     "iopub.status.idle": "2023-07-20T11:57:59.252268Z",
     "shell.execute_reply": "2023-07-20T11:57:59.250875Z"
    },
    "papermill": {
     "duration": 4.104944,
     "end_time": "2023-07-20T11:57:59.254645",
     "exception": false,
     "start_time": "2023-07-20T11:57:55.149701",
     "status": "completed"
    },
    "tags": []
   },
   "outputs": [
    {
     "data": {
      "text/plain": [
       "(torch.Size([50, 784]), torch.Size([50]))"
      ]
     },
     "execution_count": 103,
     "metadata": {},
     "output_type": "execute_result"
    }
   ],
   "source": [
    "xb,yb = next(it)\n",
    "xb.shape,yb.shape"
   ]
  },
  {
   "cell_type": "markdown",
   "id": "63ce2a73",
   "metadata": {
    "papermill": {
     "duration": 0.039097,
     "end_time": "2023-07-20T11:57:59.333671",
     "exception": false,
     "start_time": "2023-07-20T11:57:59.294574",
     "status": "completed"
    },
    "tags": []
   },
   "source": [
    "### PyTorch DataLoader"
   ]
  },
  {
   "cell_type": "code",
   "execution_count": 104,
   "id": "7611e21d",
   "metadata": {
    "execution": {
     "iopub.execute_input": "2023-07-20T11:57:59.415799Z",
     "iopub.status.busy": "2023-07-20T11:57:59.414808Z",
     "iopub.status.idle": "2023-07-20T11:57:59.420768Z",
     "shell.execute_reply": "2023-07-20T11:57:59.419883Z"
    },
    "papermill": {
     "duration": 0.049552,
     "end_time": "2023-07-20T11:57:59.422856",
     "exception": false,
     "start_time": "2023-07-20T11:57:59.373304",
     "status": "completed"
    },
    "tags": []
   },
   "outputs": [],
   "source": [
    "#|export\n",
    "from torch.utils.data import DataLoader, SequentialSampler, RandomSampler, BatchSampler"
   ]
  },
  {
   "cell_type": "code",
   "execution_count": 105,
   "id": "2bf9b78b",
   "metadata": {
    "execution": {
     "iopub.execute_input": "2023-07-20T11:57:59.505078Z",
     "iopub.status.busy": "2023-07-20T11:57:59.504142Z",
     "iopub.status.idle": "2023-07-20T11:57:59.509585Z",
     "shell.execute_reply": "2023-07-20T11:57:59.508724Z"
    },
    "papermill": {
     "duration": 0.04857,
     "end_time": "2023-07-20T11:57:59.511551",
     "exception": false,
     "start_time": "2023-07-20T11:57:59.462981",
     "status": "completed"
    },
    "tags": []
   },
   "outputs": [],
   "source": [
    "trn_samp = BatchSampler(RandomSampler(trn_ds),     bs, drop_last=False)\n",
    "val_samp = BatchSampler(SequentialSampler(val_ds), bs, drop_last=False)"
   ]
  },
  {
   "cell_type": "code",
   "execution_count": 106,
   "id": "453b80d0",
   "metadata": {
    "execution": {
     "iopub.execute_input": "2023-07-20T11:57:59.597115Z",
     "iopub.status.busy": "2023-07-20T11:57:59.596285Z",
     "iopub.status.idle": "2023-07-20T11:57:59.602347Z",
     "shell.execute_reply": "2023-07-20T11:57:59.601452Z"
    },
    "papermill": {
     "duration": 0.053023,
     "end_time": "2023-07-20T11:57:59.604338",
     "exception": false,
     "start_time": "2023-07-20T11:57:59.551315",
     "status": "completed"
    },
    "tags": []
   },
   "outputs": [],
   "source": [
    "trn_dl = DataLoader(trn_ds, batch_sampler=trn_samp, collate_fn=collate)\n",
    "val_dl = DataLoader(val_ds, batch_sampler=val_samp, collate_fn=collate)"
   ]
  },
  {
   "cell_type": "code",
   "execution_count": 107,
   "id": "894d57b5",
   "metadata": {
    "execution": {
     "iopub.execute_input": "2023-07-20T11:57:59.686432Z",
     "iopub.status.busy": "2023-07-20T11:57:59.685488Z",
     "iopub.status.idle": "2023-07-20T11:58:03.022176Z",
     "shell.execute_reply": "2023-07-20T11:58:03.021021Z"
    },
    "papermill": {
     "duration": 3.380146,
     "end_time": "2023-07-20T11:58:03.024696",
     "exception": false,
     "start_time": "2023-07-20T11:57:59.644550",
     "status": "completed"
    },
    "tags": []
   },
   "outputs": [
    {
     "name": "stdout",
     "output_type": "stream",
     "text": [
      "0.11, 0.94\n",
      "0.07, 0.98\n",
      "0.04, 0.98\n"
     ]
    },
    {
     "data": {
      "text/plain": [
       "(tensor(0.04, grad_fn=<NllLossBackward0>), tensor(1.))"
      ]
     },
     "execution_count": 107,
     "metadata": {},
     "output_type": "execute_result"
    }
   ],
   "source": [
    "model,opt = get_model()\n",
    "fit()\n",
    "loss_func(model(xb),yb), accuracy(model(xb),yb)"
   ]
  },
  {
   "cell_type": "markdown",
   "id": "a0150b7a",
   "metadata": {
    "papermill": {
     "duration": 0.040823,
     "end_time": "2023-07-20T11:58:03.107581",
     "exception": false,
     "start_time": "2023-07-20T11:58:03.066758",
     "status": "completed"
    },
    "tags": []
   },
   "source": [
    "PyTorch can auto-generate the BatchSampler for us:"
   ]
  },
  {
   "cell_type": "code",
   "execution_count": 108,
   "id": "fa3639c7",
   "metadata": {
    "execution": {
     "iopub.execute_input": "2023-07-20T11:58:03.191297Z",
     "iopub.status.busy": "2023-07-20T11:58:03.190953Z",
     "iopub.status.idle": "2023-07-20T11:58:03.196507Z",
     "shell.execute_reply": "2023-07-20T11:58:03.195495Z"
    },
    "papermill": {
     "duration": 0.050646,
     "end_time": "2023-07-20T11:58:03.198546",
     "exception": false,
     "start_time": "2023-07-20T11:58:03.147900",
     "status": "completed"
    },
    "tags": []
   },
   "outputs": [],
   "source": [
    "trn_dl = DataLoader(trn_ds, bs, sampler=RandomSampler(trn_ds), collate_fn=collate)\n",
    "val_dl = DataLoader(val_ds, bs, sampler=SequentialSampler(val_ds), collate_fn=collate)"
   ]
  },
  {
   "cell_type": "markdown",
   "id": "1d595c45",
   "metadata": {
    "papermill": {
     "duration": 0.039848,
     "end_time": "2023-07-20T11:58:03.278033",
     "exception": false,
     "start_time": "2023-07-20T11:58:03.238185",
     "status": "completed"
    },
    "tags": []
   },
   "source": [
    "PyTorch can also generate the Sequential/RandomSamplers too:"
   ]
  },
  {
   "cell_type": "code",
   "execution_count": 109,
   "id": "ff812db1",
   "metadata": {
    "execution": {
     "iopub.execute_input": "2023-07-20T11:58:03.358880Z",
     "iopub.status.busy": "2023-07-20T11:58:03.358120Z",
     "iopub.status.idle": "2023-07-20T11:58:03.363324Z",
     "shell.execute_reply": "2023-07-20T11:58:03.362498Z"
    },
    "papermill": {
     "duration": 0.047639,
     "end_time": "2023-07-20T11:58:03.365301",
     "exception": false,
     "start_time": "2023-07-20T11:58:03.317662",
     "status": "completed"
    },
    "tags": []
   },
   "outputs": [],
   "source": [
    "trn_dl = DataLoader(trn_ds, bs, shuffle=True, drop_last=True, num_workers=2)\n",
    "val_dl = DataLoader(val_ds, bs, shuffle=False, num_workers=2)"
   ]
  },
  {
   "cell_type": "markdown",
   "id": "1889cae2",
   "metadata": {
    "papermill": {
     "duration": 0.040809,
     "end_time": "2023-07-20T11:58:03.445601",
     "exception": false,
     "start_time": "2023-07-20T11:58:03.404792",
     "status": "completed"
    },
    "tags": []
   },
   "source": [
    "**Q:** Why set `drop_last=True` for `trn_dl`?"
   ]
  },
  {
   "cell_type": "code",
   "execution_count": 110,
   "id": "3c85581f",
   "metadata": {
    "execution": {
     "iopub.execute_input": "2023-07-20T11:58:03.526932Z",
     "iopub.status.busy": "2023-07-20T11:58:03.526034Z",
     "iopub.status.idle": "2023-07-20T11:58:12.493582Z",
     "shell.execute_reply": "2023-07-20T11:58:12.492307Z"
    },
    "papermill": {
     "duration": 9.010283,
     "end_time": "2023-07-20T11:58:12.495742",
     "exception": false,
     "start_time": "2023-07-20T11:58:03.485459",
     "status": "completed"
    },
    "tags": []
   },
   "outputs": [
    {
     "name": "stdout",
     "output_type": "stream",
     "text": [
      "0.12, 0.94\n",
      "0.06, 0.96\n",
      "0.13, 0.94\n"
     ]
    },
    {
     "data": {
      "text/plain": [
       "(tensor(0.06, grad_fn=<NllLossBackward0>), tensor(0.98))"
      ]
     },
     "execution_count": 110,
     "metadata": {},
     "output_type": "execute_result"
    }
   ],
   "source": [
    "model,opt = get_model()\n",
    "fit()\n",
    "loss_func(model(xb),yb), accuracy(model(xb),yb)"
   ]
  },
  {
   "cell_type": "markdown",
   "id": "131b2f9b",
   "metadata": {
    "papermill": {
     "duration": 0.040602,
     "end_time": "2023-07-20T11:58:12.577310",
     "exception": false,
     "start_time": "2023-07-20T11:58:12.536708",
     "status": "completed"
    },
    "tags": []
   },
   "source": [
    "Our dataset actually already knows how to sample a batch of indices all at once:"
   ]
  },
  {
   "cell_type": "code",
   "execution_count": 111,
   "id": "8f4dcf75",
   "metadata": {
    "execution": {
     "iopub.execute_input": "2023-07-20T11:58:12.660966Z",
     "iopub.status.busy": "2023-07-20T11:58:12.659296Z",
     "iopub.status.idle": "2023-07-20T11:58:12.669397Z",
     "shell.execute_reply": "2023-07-20T11:58:12.668493Z"
    },
    "papermill": {
     "duration": 0.053869,
     "end_time": "2023-07-20T11:58:12.671416",
     "exception": false,
     "start_time": "2023-07-20T11:58:12.617547",
     "status": "completed"
    },
    "tags": []
   },
   "outputs": [
    {
     "data": {
      "text/plain": [
       "(tensor([[0., 0., 0.,  ..., 0., 0., 0.],\n",
       "         [0., 0., 0.,  ..., 0., 0., 0.],\n",
       "         [0., 0., 0.,  ..., 0., 0., 0.],\n",
       "         [0., 0., 0.,  ..., 0., 0., 0.]]),\n",
       " tensor([9, 2, 1, 3]))"
      ]
     },
     "execution_count": 111,
     "metadata": {},
     "output_type": "execute_result"
    }
   ],
   "source": [
    "trn_ds[[4,5,6,7]]"
   ]
  },
  {
   "cell_type": "markdown",
   "id": "110fe334",
   "metadata": {
    "papermill": {
     "duration": 0.040791,
     "end_time": "2023-07-20T11:58:12.752795",
     "exception": false,
     "start_time": "2023-07-20T11:58:12.712004",
     "status": "completed"
    },
    "tags": []
   },
   "source": [
    "...that means we can actually skip the batch_sampler and collate_fn entirely: "
   ]
  },
  {
   "cell_type": "code",
   "execution_count": 112,
   "id": "28c69936",
   "metadata": {
    "execution": {
     "iopub.execute_input": "2023-07-20T11:58:12.834940Z",
     "iopub.status.busy": "2023-07-20T11:58:12.834601Z",
     "iopub.status.idle": "2023-07-20T11:58:12.839536Z",
     "shell.execute_reply": "2023-07-20T11:58:12.838495Z"
    },
    "papermill": {
     "duration": 0.048024,
     "end_time": "2023-07-20T11:58:12.841571",
     "exception": false,
     "start_time": "2023-07-20T11:58:12.793547",
     "status": "completed"
    },
    "tags": []
   },
   "outputs": [],
   "source": [
    "trn_dl = DataLoader(trn_ds, sampler=trn_samp)\n",
    "val_dl = DataLoader(val_ds, sampler=val_samp)"
   ]
  },
  {
   "cell_type": "markdown",
   "id": "1c0d92cc",
   "metadata": {
    "papermill": {
     "duration": 0.040101,
     "end_time": "2023-07-20T11:58:12.922065",
     "exception": false,
     "start_time": "2023-07-20T11:58:12.881964",
     "status": "completed"
    },
    "tags": []
   },
   "source": [
    "Note Umer: above, we use a \"normal\" sampler (not a batch_sampler), that returns batch indices, which is okay, because are datasets can handle batch indices!"
   ]
  },
  {
   "cell_type": "code",
   "execution_count": 113,
   "id": "118917ca",
   "metadata": {
    "execution": {
     "iopub.execute_input": "2023-07-20T11:58:13.003792Z",
     "iopub.status.busy": "2023-07-20T11:58:13.003454Z",
     "iopub.status.idle": "2023-07-20T11:58:13.015880Z",
     "shell.execute_reply": "2023-07-20T11:58:13.014841Z"
    },
    "papermill": {
     "duration": 0.05559,
     "end_time": "2023-07-20T11:58:13.017928",
     "exception": false,
     "start_time": "2023-07-20T11:58:12.962338",
     "status": "completed"
    },
    "tags": []
   },
   "outputs": [
    {
     "data": {
      "text/plain": [
       "(torch.Size([1, 50, 784]), torch.Size([1, 50]))"
      ]
     },
     "execution_count": 113,
     "metadata": {},
     "output_type": "execute_result"
    }
   ],
   "source": [
    "xb,yb = next(iter(trn_dl))\n",
    "xb.shape,yb.shape"
   ]
  },
  {
   "cell_type": "markdown",
   "id": "81abe8a7",
   "metadata": {
    "papermill": {
     "duration": 0.041891,
     "end_time": "2023-07-20T11:58:13.101314",
     "exception": false,
     "start_time": "2023-07-20T11:58:13.059423",
     "status": "completed"
    },
    "tags": []
   },
   "source": [
    "### Validation"
   ]
  },
  {
   "cell_type": "code",
   "execution_count": 114,
   "id": "39d3521b",
   "metadata": {
    "execution": {
     "iopub.execute_input": "2023-07-20T11:58:13.183227Z",
     "iopub.status.busy": "2023-07-20T11:58:13.182927Z",
     "iopub.status.idle": "2023-07-20T11:58:13.191254Z",
     "shell.execute_reply": "2023-07-20T11:58:13.190340Z"
    },
    "papermill": {
     "duration": 0.051728,
     "end_time": "2023-07-20T11:58:13.193330",
     "exception": false,
     "start_time": "2023-07-20T11:58:13.141602",
     "status": "completed"
    },
    "tags": []
   },
   "outputs": [],
   "source": [
    "#|export\n",
    "def fit(epochs, model, loss_func, opt, trn_dl, val_dl):\n",
    "    for epoch in range(epochs):\n",
    "        model.train()  # set model into train mode\n",
    "        for xb,yb in trn_dl:\n",
    "            loss = loss_func(model(xb), yb)\n",
    "            loss.backward()\n",
    "            opt.step()\n",
    "            opt.zero_grad()\n",
    "        \n",
    "        model.eval()  # set model into eval mode\n",
    "        with torch.no_grad():\n",
    "            tot_loss,tot_acc,count = 0.,0.,0\n",
    "            for xb,yb in val_dl:\n",
    "                pred = model(xb)\n",
    "                n = len(xb)\n",
    "                count += n\n",
    "                tot_loss += loss_func(pred,yb).item()*n\n",
    "                tot_acc  += accuracy (pred,yb).item()*n\n",
    "        print(epoch, tot_loss/count, tot_acc/count)\n",
    "    return tot_loss/count, tot_acc/count"
   ]
  },
  {
   "cell_type": "code",
   "execution_count": 115,
   "id": "71c2a3fd",
   "metadata": {
    "execution": {
     "iopub.execute_input": "2023-07-20T11:58:13.277768Z",
     "iopub.status.busy": "2023-07-20T11:58:13.277468Z",
     "iopub.status.idle": "2023-07-20T11:58:13.282412Z",
     "shell.execute_reply": "2023-07-20T11:58:13.281450Z"
    },
    "papermill": {
     "duration": 0.047939,
     "end_time": "2023-07-20T11:58:13.284446",
     "exception": false,
     "start_time": "2023-07-20T11:58:13.236507",
     "status": "completed"
    },
    "tags": []
   },
   "outputs": [],
   "source": [
    "#|export\n",
    "def get_dls(trn_ds, val_ds, bs, **kwargs):\n",
    "    return (DataLoader(trn_ds, batch_size=bs, shuffle=True, **kwargs),\n",
    "            DataLoader(val_ds, batch_size=bs, **kwargs))"
   ]
  },
  {
   "cell_type": "code",
   "execution_count": 116,
   "id": "79b807d0",
   "metadata": {
    "execution": {
     "iopub.execute_input": "2023-07-20T11:58:13.365884Z",
     "iopub.status.busy": "2023-07-20T11:58:13.365574Z",
     "iopub.status.idle": "2023-07-20T11:58:13.371410Z",
     "shell.execute_reply": "2023-07-20T11:58:13.370590Z"
    },
    "papermill": {
     "duration": 0.048486,
     "end_time": "2023-07-20T11:58:13.373232",
     "exception": false,
     "start_time": "2023-07-20T11:58:13.324746",
     "status": "completed"
    },
    "tags": []
   },
   "outputs": [],
   "source": [
    "trn_dl,val_dl = get_dls(trn_ds,val_ds, bs)\n",
    "model,opt = get_model()"
   ]
  },
  {
   "cell_type": "code",
   "execution_count": 117,
   "id": "c7bd25df",
   "metadata": {
    "execution": {
     "iopub.execute_input": "2023-07-20T11:58:13.455929Z",
     "iopub.status.busy": "2023-07-20T11:58:13.455635Z",
     "iopub.status.idle": "2023-07-20T11:58:20.548058Z",
     "shell.execute_reply": "2023-07-20T11:58:20.545934Z"
    },
    "papermill": {
     "duration": 7.136549,
     "end_time": "2023-07-20T11:58:20.550453",
     "exception": false,
     "start_time": "2023-07-20T11:58:13.413904",
     "status": "completed"
    },
    "tags": []
   },
   "outputs": [
    {
     "name": "stdout",
     "output_type": "stream",
     "text": [
      "0 0.15938211173866876 0.9529000002145768\n",
      "1 0.12813598544569685 0.9622999989986419\n",
      "2 0.11384969513106626 0.9677000015974044\n",
      "3 0.12173387734859716 0.9652000015974045\n",
      "4 0.10598109507525805 0.9720000013709068\n",
      "CPU times: user 7.02 s, sys: 22 ms, total: 7.04 s\n",
      "Wall time: 7.09 s\n"
     ]
    }
   ],
   "source": [
    "%time loss,acc = fit(5, model, loss_func, opt, trn_dl, val_dl)"
   ]
  },
  {
   "cell_type": "code",
   "execution_count": null,
   "id": "c5059504",
   "metadata": {
    "papermill": {
     "duration": 0.040711,
     "end_time": "2023-07-20T11:58:20.633233",
     "exception": false,
     "start_time": "2023-07-20T11:58:20.592522",
     "status": "completed"
    },
    "tags": []
   },
   "outputs": [],
   "source": []
  }
 ],
 "metadata": {
  "kernelspec": {
   "display_name": "Python 3",
   "language": "python",
   "name": "python3"
  },
  "language_info": {
   "codemirror_mode": {
    "name": "ipython",
    "version": 3
   },
   "file_extension": ".py",
   "mimetype": "text/x-python",
   "name": "python",
   "nbconvert_exporter": "python",
   "pygments_lexer": "ipython3",
   "version": "3.10.12"
  },
  "papermill": {
   "default_parameters": {},
   "duration": 74.435573,
   "end_time": "2023-07-20T11:58:23.294626",
   "environment_variables": {},
   "exception": null,
   "input_path": "__notebook__.ipynb",
   "output_path": "__notebook__.ipynb",
   "parameters": {},
   "start_time": "2023-07-20T11:57:08.859053",
   "version": "2.4.0"
  }
 },
 "nbformat": 4,
 "nbformat_minor": 5
}
