{
 "cells": [
  {
   "cell_type": "markdown",
   "id": "38325e3d",
   "metadata": {
    "_cell_guid": "b1076dfc-b9ad-4769-8c92-a6c4dae69d19",
    "_uuid": "8f2839f25d086af736a60e9eeb907d3b93b6e0e5",
    "papermill": {
     "duration": 0.01455,
     "end_time": "2023-07-12T17:35:51.275119",
     "exception": false,
     "start_time": "2023-07-12T17:35:51.260569",
     "status": "completed"
    },
    "tags": []
   },
   "source": [
    "### The forward and backward passes"
   ]
  },
  {
   "cell_type": "code",
   "execution_count": 1,
   "id": "7d7c84a7",
   "metadata": {
    "execution": {
     "iopub.execute_input": "2023-07-12T17:35:51.307726Z",
     "iopub.status.busy": "2023-07-12T17:35:51.306940Z",
     "iopub.status.idle": "2023-07-12T17:35:57.991767Z",
     "shell.execute_reply": "2023-07-12T17:35:57.990449Z"
    },
    "papermill": {
     "duration": 6.704802,
     "end_time": "2023-07-12T17:35:57.994615",
     "exception": false,
     "start_time": "2023-07-12T17:35:51.289813",
     "status": "completed"
    },
    "tags": []
   },
   "outputs": [],
   "source": [
    "import pickle,gzip,math,os,time,shutil,torch,matplotlib as mpl, numpy as np\n",
    "from pathlib import Path\n",
    "from urllib.request import urlretrieve\n",
    "from torch import tensor\n",
    "from fastcore.test import test_close\n",
    "\n",
    "torch.manual_seed(42)\n",
    "\n",
    "mpl.rcParams['image.cmap'] = 'gray'\n",
    "torch.set_printoptions(precision=2, linewidth=125, sci_mode=False)\n",
    "np.set_printoptions(precision=2, linewidth=125)\n",
    "\n",
    "path_data = Path('data')\n",
    "path_data.mkdir(exist_ok=True)\n",
    "path_gz = path_data/'mnist.pkl.gz'\n",
    "\n",
    "MNIST_URL='https://github.com/mnielsen/neural-networks-and-deep-learning/blob/master/data/mnist.pkl.gz?raw=true'\n",
    "if not path_gz.exists(): urlretrieve(MNIST_URL, path_gz)\n",
    "\n",
    "with gzip.open(path_gz, 'rb') as f: ((x_trn,y_trn),(x_val,y_val),_) = pickle.load(f, encoding='latin-1')\n",
    "x_trn,y_trn, x_val,y_val = map(tensor, (x_trn,y_trn, x_val,y_val))"
   ]
  },
  {
   "cell_type": "code",
   "execution_count": 2,
   "id": "c5121097",
   "metadata": {
    "execution": {
     "iopub.execute_input": "2023-07-12T17:35:58.024828Z",
     "iopub.status.busy": "2023-07-12T17:35:58.023473Z",
     "iopub.status.idle": "2023-07-12T17:35:58.031434Z",
     "shell.execute_reply": "2023-07-12T17:35:58.030551Z"
    },
    "papermill": {
     "duration": 0.025485,
     "end_time": "2023-07-12T17:35:58.033892",
     "exception": false,
     "start_time": "2023-07-12T17:35:58.008407",
     "status": "completed"
    },
    "tags": []
   },
   "outputs": [
    {
     "data": {
      "text/plain": [
       "(torch.Size([50000, 784]),\n",
       " torch.Size([50000]),\n",
       " torch.Size([10000, 784]),\n",
       " torch.Size([10000]))"
      ]
     },
     "execution_count": 2,
     "metadata": {},
     "output_type": "execute_result"
    }
   ],
   "source": [
    "x_trn.shape, y_trn.shape, x_val.shape, y_val.shape"
   ]
  },
  {
   "cell_type": "markdown",
   "id": "27c6d112",
   "metadata": {
    "execution": {
     "iopub.execute_input": "2023-07-12T09:26:11.641274Z",
     "iopub.status.busy": "2023-07-12T09:26:11.637212Z",
     "iopub.status.idle": "2023-07-12T09:26:11.646775Z",
     "shell.execute_reply": "2023-07-12T09:26:11.645202Z",
     "shell.execute_reply.started": "2023-07-12T09:26:11.641193Z"
    },
    "papermill": {
     "duration": 0.013451,
     "end_time": "2023-07-12T17:35:58.061041",
     "exception": false,
     "start_time": "2023-07-12T17:35:58.047590",
     "status": "completed"
    },
    "tags": []
   },
   "source": [
    "### Foundations version"
   ]
  },
  {
   "cell_type": "markdown",
   "id": "e9d57e23",
   "metadata": {
    "papermill": {
     "duration": 0.013372,
     "end_time": "2023-07-12T17:35:58.088116",
     "exception": false,
     "start_time": "2023-07-12T17:35:58.074744",
     "status": "completed"
    },
    "tags": []
   },
   "source": [
    "#### Basic architecture"
   ]
  },
  {
   "cell_type": "code",
   "execution_count": 3,
   "id": "7d5c8d23",
   "metadata": {
    "execution": {
     "iopub.execute_input": "2023-07-12T17:35:58.120761Z",
     "iopub.status.busy": "2023-07-12T17:35:58.119205Z",
     "iopub.status.idle": "2023-07-12T17:35:58.167039Z",
     "shell.execute_reply": "2023-07-12T17:35:58.165814Z"
    },
    "papermill": {
     "duration": 0.067621,
     "end_time": "2023-07-12T17:35:58.169426",
     "exception": false,
     "start_time": "2023-07-12T17:35:58.101805",
     "status": "completed"
    },
    "tags": []
   },
   "outputs": [
    {
     "data": {
      "text/plain": [
       "(50000, 784, tensor(10))"
      ]
     },
     "execution_count": 3,
     "metadata": {},
     "output_type": "execute_result"
    }
   ],
   "source": [
    "n,m = x_trn.shape\n",
    "c = y_trn.max()+1\n",
    "n,m,c"
   ]
  },
  {
   "cell_type": "code",
   "execution_count": 4,
   "id": "29797448",
   "metadata": {
    "execution": {
     "iopub.execute_input": "2023-07-12T17:35:58.201955Z",
     "iopub.status.busy": "2023-07-12T17:35:58.201119Z",
     "iopub.status.idle": "2023-07-12T17:35:58.205490Z",
     "shell.execute_reply": "2023-07-12T17:35:58.204614Z"
    },
    "papermill": {
     "duration": 0.022082,
     "end_time": "2023-07-12T17:35:58.207719",
     "exception": false,
     "start_time": "2023-07-12T17:35:58.185637",
     "status": "completed"
    },
    "tags": []
   },
   "outputs": [],
   "source": [
    "# num hidden\n",
    "nh = 50"
   ]
  },
  {
   "cell_type": "code",
   "execution_count": 5,
   "id": "41043f44",
   "metadata": {
    "execution": {
     "iopub.execute_input": "2023-07-12T17:35:58.238117Z",
     "iopub.status.busy": "2023-07-12T17:35:58.236892Z",
     "iopub.status.idle": "2023-07-12T17:35:58.256456Z",
     "shell.execute_reply": "2023-07-12T17:35:58.254953Z"
    },
    "papermill": {
     "duration": 0.037671,
     "end_time": "2023-07-12T17:35:58.259303",
     "exception": false,
     "start_time": "2023-07-12T17:35:58.221632",
     "status": "completed"
    },
    "tags": []
   },
   "outputs": [],
   "source": [
    "w1 = torch.randn(m,nh)\n",
    "b1 = torch.zeros(nh)\n",
    "w2 = torch.randn(nh,1)\n",
    "b2 = torch.zeros(1)"
   ]
  },
  {
   "cell_type": "code",
   "execution_count": 6,
   "id": "0ae6e5d3",
   "metadata": {
    "execution": {
     "iopub.execute_input": "2023-07-12T17:35:58.288705Z",
     "iopub.status.busy": "2023-07-12T17:35:58.288253Z",
     "iopub.status.idle": "2023-07-12T17:35:58.293324Z",
     "shell.execute_reply": "2023-07-12T17:35:58.292050Z"
    },
    "papermill": {
     "duration": 0.022756,
     "end_time": "2023-07-12T17:35:58.295775",
     "exception": false,
     "start_time": "2023-07-12T17:35:58.273019",
     "status": "completed"
    },
    "tags": []
   },
   "outputs": [],
   "source": [
    "def lin(x,w,b): return x@w+b"
   ]
  },
  {
   "cell_type": "code",
   "execution_count": 7,
   "id": "3002edd6",
   "metadata": {
    "execution": {
     "iopub.execute_input": "2023-07-12T17:35:58.325737Z",
     "iopub.status.busy": "2023-07-12T17:35:58.325274Z",
     "iopub.status.idle": "2023-07-12T17:35:58.358163Z",
     "shell.execute_reply": "2023-07-12T17:35:58.356983Z"
    },
    "papermill": {
     "duration": 0.050821,
     "end_time": "2023-07-12T17:35:58.360785",
     "exception": false,
     "start_time": "2023-07-12T17:35:58.309964",
     "status": "completed"
    },
    "tags": []
   },
   "outputs": [
    {
     "data": {
      "text/plain": [
       "torch.Size([10000, 50])"
      ]
     },
     "execution_count": 7,
     "metadata": {},
     "output_type": "execute_result"
    }
   ],
   "source": [
    "t = lin(x_val,w1,b1)\n",
    "t.shape"
   ]
  },
  {
   "cell_type": "code",
   "execution_count": 8,
   "id": "bc67d7fa",
   "metadata": {
    "execution": {
     "iopub.execute_input": "2023-07-12T17:35:58.391626Z",
     "iopub.status.busy": "2023-07-12T17:35:58.391024Z",
     "iopub.status.idle": "2023-07-12T17:35:58.395935Z",
     "shell.execute_reply": "2023-07-12T17:35:58.394817Z"
    },
    "papermill": {
     "duration": 0.023394,
     "end_time": "2023-07-12T17:35:58.398477",
     "exception": false,
     "start_time": "2023-07-12T17:35:58.375083",
     "status": "completed"
    },
    "tags": []
   },
   "outputs": [],
   "source": [
    "def relu(x): return x.clamp_min(0.)"
   ]
  },
  {
   "cell_type": "code",
   "execution_count": 9,
   "id": "a679f3e4",
   "metadata": {
    "execution": {
     "iopub.execute_input": "2023-07-12T17:35:58.428212Z",
     "iopub.status.busy": "2023-07-12T17:35:58.427831Z",
     "iopub.status.idle": "2023-07-12T17:35:58.472818Z",
     "shell.execute_reply": "2023-07-12T17:35:58.471483Z"
    },
    "papermill": {
     "duration": 0.063024,
     "end_time": "2023-07-12T17:35:58.475211",
     "exception": false,
     "start_time": "2023-07-12T17:35:58.412187",
     "status": "completed"
    },
    "tags": []
   },
   "outputs": [
    {
     "data": {
      "text/plain": [
       "tensor([[ 0.00, 11.87,  0.00,  ...,  5.48,  2.14, 15.30],\n",
       "        [ 5.38, 10.21,  0.00,  ...,  0.88,  0.08, 20.23],\n",
       "        [ 3.31,  0.12,  3.10,  ..., 16.89,  0.00, 24.74],\n",
       "        ...,\n",
       "        [ 4.01, 10.35,  0.00,  ...,  0.23,  0.00, 18.28],\n",
       "        [10.62,  0.00, 10.72,  ...,  0.00,  0.00, 18.23],\n",
       "        [ 2.84,  0.00,  1.43,  ...,  0.00,  5.75,  2.12]])"
      ]
     },
     "execution_count": 9,
     "metadata": {},
     "output_type": "execute_result"
    }
   ],
   "source": [
    "t = relu(t)\n",
    "t"
   ]
  },
  {
   "cell_type": "code",
   "execution_count": 10,
   "id": "304dfff6",
   "metadata": {
    "execution": {
     "iopub.execute_input": "2023-07-12T17:35:58.505642Z",
     "iopub.status.busy": "2023-07-12T17:35:58.505213Z",
     "iopub.status.idle": "2023-07-12T17:35:58.509916Z",
     "shell.execute_reply": "2023-07-12T17:35:58.508970Z"
    },
    "papermill": {
     "duration": 0.02304,
     "end_time": "2023-07-12T17:35:58.512268",
     "exception": false,
     "start_time": "2023-07-12T17:35:58.489228",
     "status": "completed"
    },
    "tags": []
   },
   "outputs": [],
   "source": [
    "def model(xb):\n",
    "    l1 = lin(xb,w1,b1)\n",
    "    l2 = relu(l1)\n",
    "    return lin(l2,w2,b2)"
   ]
  },
  {
   "cell_type": "code",
   "execution_count": 11,
   "id": "5d9cb5c7",
   "metadata": {
    "execution": {
     "iopub.execute_input": "2023-07-12T17:35:58.543269Z",
     "iopub.status.busy": "2023-07-12T17:35:58.542192Z",
     "iopub.status.idle": "2023-07-12T17:35:58.568937Z",
     "shell.execute_reply": "2023-07-12T17:35:58.567954Z"
    },
    "papermill": {
     "duration": 0.044876,
     "end_time": "2023-07-12T17:35:58.571552",
     "exception": false,
     "start_time": "2023-07-12T17:35:58.526676",
     "status": "completed"
    },
    "tags": []
   },
   "outputs": [
    {
     "data": {
      "text/plain": [
       "torch.Size([10000, 1])"
      ]
     },
     "execution_count": 11,
     "metadata": {},
     "output_type": "execute_result"
    }
   ],
   "source": [
    "res = model(x_val)\n",
    "res.shape"
   ]
  },
  {
   "cell_type": "markdown",
   "id": "b039b8e1",
   "metadata": {
    "papermill": {
     "duration": 0.013906,
     "end_time": "2023-07-12T17:35:58.599653",
     "exception": false,
     "start_time": "2023-07-12T17:35:58.585747",
     "status": "completed"
    },
    "tags": []
   },
   "source": [
    "#### Loss function: MSE"
   ]
  },
  {
   "cell_type": "markdown",
   "id": "fb16d604",
   "metadata": {
    "papermill": {
     "duration": 0.013922,
     "end_time": "2023-07-12T17:35:58.627927",
     "exception": false,
     "start_time": "2023-07-12T17:35:58.614005",
     "status": "completed"
    },
    "tags": []
   },
   "source": [
    "(Of course `mse` is not a suitable loss function for multi-class classification; we'll use a better loss function soon. We'll use `mse` for now to keep things simple.)"
   ]
  },
  {
   "cell_type": "code",
   "execution_count": 12,
   "id": "b1e91b62",
   "metadata": {
    "execution": {
     "iopub.execute_input": "2023-07-12T17:35:58.658617Z",
     "iopub.status.busy": "2023-07-12T17:35:58.657903Z",
     "iopub.status.idle": "2023-07-12T17:35:58.665233Z",
     "shell.execute_reply": "2023-07-12T17:35:58.664064Z"
    },
    "papermill": {
     "duration": 0.025618,
     "end_time": "2023-07-12T17:35:58.667663",
     "exception": false,
     "start_time": "2023-07-12T17:35:58.642045",
     "status": "completed"
    },
    "tags": []
   },
   "outputs": [
    {
     "data": {
      "text/plain": [
       "(torch.Size([10000, 1]), torch.Size([10000]))"
      ]
     },
     "execution_count": 12,
     "metadata": {},
     "output_type": "execute_result"
    }
   ],
   "source": [
    "res.shape,y_val.shape"
   ]
  },
  {
   "cell_type": "code",
   "execution_count": 13,
   "id": "aec29403",
   "metadata": {
    "execution": {
     "iopub.execute_input": "2023-07-12T17:35:58.698416Z",
     "iopub.status.busy": "2023-07-12T17:35:58.697716Z",
     "iopub.status.idle": "2023-07-12T17:35:58.932964Z",
     "shell.execute_reply": "2023-07-12T17:35:58.931636Z"
    },
    "papermill": {
     "duration": 0.253813,
     "end_time": "2023-07-12T17:35:58.935704",
     "exception": false,
     "start_time": "2023-07-12T17:35:58.681891",
     "status": "completed"
    },
    "tags": []
   },
   "outputs": [
    {
     "data": {
      "text/plain": [
       "torch.Size([10000, 10000])"
      ]
     },
     "execution_count": 13,
     "metadata": {},
     "output_type": "execute_result"
    }
   ],
   "source": [
    "(res-y_val).shape"
   ]
  },
  {
   "cell_type": "markdown",
   "id": "b3a3e733",
   "metadata": {
    "papermill": {
     "duration": 0.014039,
     "end_time": "2023-07-12T17:35:58.964512",
     "exception": false,
     "start_time": "2023-07-12T17:35:58.950473",
     "status": "completed"
    },
    "tags": []
   },
   "source": [
    "We need to get rid of that trailing (,1) in order to use `mse`"
   ]
  },
  {
   "cell_type": "code",
   "execution_count": 14,
   "id": "194aac6d",
   "metadata": {
    "execution": {
     "iopub.execute_input": "2023-07-12T17:35:58.995408Z",
     "iopub.status.busy": "2023-07-12T17:35:58.994726Z",
     "iopub.status.idle": "2023-07-12T17:35:59.002153Z",
     "shell.execute_reply": "2023-07-12T17:35:59.000765Z"
    },
    "papermill": {
     "duration": 0.025758,
     "end_time": "2023-07-12T17:35:59.004595",
     "exception": false,
     "start_time": "2023-07-12T17:35:58.978837",
     "status": "completed"
    },
    "tags": []
   },
   "outputs": [
    {
     "data": {
      "text/plain": [
       "torch.Size([10000])"
      ]
     },
     "execution_count": 14,
     "metadata": {},
     "output_type": "execute_result"
    }
   ],
   "source": [
    "res[:,0].shape"
   ]
  },
  {
   "cell_type": "code",
   "execution_count": 15,
   "id": "e9123a52",
   "metadata": {
    "execution": {
     "iopub.execute_input": "2023-07-12T17:35:59.035797Z",
     "iopub.status.busy": "2023-07-12T17:35:59.035132Z",
     "iopub.status.idle": "2023-07-12T17:35:59.042108Z",
     "shell.execute_reply": "2023-07-12T17:35:59.041228Z"
    },
    "papermill": {
     "duration": 0.024985,
     "end_time": "2023-07-12T17:35:59.044490",
     "exception": false,
     "start_time": "2023-07-12T17:35:59.019505",
     "status": "completed"
    },
    "tags": []
   },
   "outputs": [
    {
     "data": {
      "text/plain": [
       "torch.Size([10000])"
      ]
     },
     "execution_count": 15,
     "metadata": {},
     "output_type": "execute_result"
    }
   ],
   "source": [
    "res.squeeze().shape"
   ]
  },
  {
   "cell_type": "code",
   "execution_count": 16,
   "id": "9fb1d7da",
   "metadata": {
    "execution": {
     "iopub.execute_input": "2023-07-12T17:35:59.075591Z",
     "iopub.status.busy": "2023-07-12T17:35:59.074879Z",
     "iopub.status.idle": "2023-07-12T17:35:59.081654Z",
     "shell.execute_reply": "2023-07-12T17:35:59.080761Z"
    },
    "papermill": {
     "duration": 0.024843,
     "end_time": "2023-07-12T17:35:59.083800",
     "exception": false,
     "start_time": "2023-07-12T17:35:59.058957",
     "status": "completed"
    },
    "tags": []
   },
   "outputs": [
    {
     "data": {
      "text/plain": [
       "torch.Size([10000])"
      ]
     },
     "execution_count": 16,
     "metadata": {},
     "output_type": "execute_result"
    }
   ],
   "source": [
    "(res[:,0]-y_val).shape"
   ]
  },
  {
   "cell_type": "code",
   "execution_count": 17,
   "id": "cdb9bee4",
   "metadata": {
    "execution": {
     "iopub.execute_input": "2023-07-12T17:35:59.115110Z",
     "iopub.status.busy": "2023-07-12T17:35:59.114355Z",
     "iopub.status.idle": "2023-07-12T17:35:59.120560Z",
     "shell.execute_reply": "2023-07-12T17:35:59.119630Z"
    },
    "papermill": {
     "duration": 0.024597,
     "end_time": "2023-07-12T17:35:59.122883",
     "exception": false,
     "start_time": "2023-07-12T17:35:59.098286",
     "status": "completed"
    },
    "tags": []
   },
   "outputs": [
    {
     "data": {
      "text/plain": [
       "torch.int64"
      ]
     },
     "execution_count": 17,
     "metadata": {},
     "output_type": "execute_result"
    }
   ],
   "source": [
    "y_trn.dtype"
   ]
  },
  {
   "cell_type": "code",
   "execution_count": 18,
   "id": "ff2ffb7c",
   "metadata": {
    "execution": {
     "iopub.execute_input": "2023-07-12T17:35:59.154836Z",
     "iopub.status.busy": "2023-07-12T17:35:59.154103Z",
     "iopub.status.idle": "2023-07-12T17:35:59.162101Z",
     "shell.execute_reply": "2023-07-12T17:35:59.161161Z"
    },
    "papermill": {
     "duration": 0.02701,
     "end_time": "2023-07-12T17:35:59.164542",
     "exception": false,
     "start_time": "2023-07-12T17:35:59.137532",
     "status": "completed"
    },
    "tags": []
   },
   "outputs": [],
   "source": [
    "y_trn,y_val = y_trn.float(),y_val.float()"
   ]
  },
  {
   "cell_type": "code",
   "execution_count": 19,
   "id": "61ef3d1d",
   "metadata": {
    "execution": {
     "iopub.execute_input": "2023-07-12T17:35:59.198363Z",
     "iopub.status.busy": "2023-07-12T17:35:59.197682Z",
     "iopub.status.idle": "2023-07-12T17:35:59.256356Z",
     "shell.execute_reply": "2023-07-12T17:35:59.254991Z"
    },
    "papermill": {
     "duration": 0.077866,
     "end_time": "2023-07-12T17:35:59.258867",
     "exception": false,
     "start_time": "2023-07-12T17:35:59.181001",
     "status": "completed"
    },
    "tags": []
   },
   "outputs": [
    {
     "data": {
      "text/plain": [
       "torch.Size([50000, 1])"
      ]
     },
     "execution_count": 19,
     "metadata": {},
     "output_type": "execute_result"
    }
   ],
   "source": [
    "preds = model(x_trn)\n",
    "preds.shape"
   ]
  },
  {
   "cell_type": "code",
   "execution_count": 20,
   "id": "341a641e",
   "metadata": {
    "execution": {
     "iopub.execute_input": "2023-07-12T17:35:59.290518Z",
     "iopub.status.busy": "2023-07-12T17:35:59.290113Z",
     "iopub.status.idle": "2023-07-12T17:35:59.295662Z",
     "shell.execute_reply": "2023-07-12T17:35:59.294434Z"
    },
    "papermill": {
     "duration": 0.023915,
     "end_time": "2023-07-12T17:35:59.297860",
     "exception": false,
     "start_time": "2023-07-12T17:35:59.273945",
     "status": "completed"
    },
    "tags": []
   },
   "outputs": [],
   "source": [
    "def mse(output, targ): return (output[:,0]-targ).pow(2).mean()"
   ]
  },
  {
   "cell_type": "code",
   "execution_count": 21,
   "id": "08c5edc0",
   "metadata": {
    "execution": {
     "iopub.execute_input": "2023-07-12T17:35:59.329289Z",
     "iopub.status.busy": "2023-07-12T17:35:59.328867Z",
     "iopub.status.idle": "2023-07-12T17:35:59.340102Z",
     "shell.execute_reply": "2023-07-12T17:35:59.338895Z"
    },
    "papermill": {
     "duration": 0.029807,
     "end_time": "2023-07-12T17:35:59.342541",
     "exception": false,
     "start_time": "2023-07-12T17:35:59.312734",
     "status": "completed"
    },
    "tags": []
   },
   "outputs": [
    {
     "data": {
      "text/plain": [
       "tensor(4308.76)"
      ]
     },
     "execution_count": 21,
     "metadata": {},
     "output_type": "execute_result"
    }
   ],
   "source": [
    "mse(preds, y_trn)"
   ]
  },
  {
   "cell_type": "markdown",
   "id": "862d91fc",
   "metadata": {
    "papermill": {
     "duration": 0.014547,
     "end_time": "2023-07-12T17:35:59.372044",
     "exception": false,
     "start_time": "2023-07-12T17:35:59.357497",
     "status": "completed"
    },
    "tags": []
   },
   "source": [
    "#### Gradient and backwards pass"
   ]
  },
  {
   "cell_type": "code",
   "execution_count": 22,
   "id": "89a18212",
   "metadata": {
    "execution": {
     "iopub.execute_input": "2023-07-12T17:35:59.404992Z",
     "iopub.status.busy": "2023-07-12T17:35:59.403818Z",
     "iopub.status.idle": "2023-07-12T17:35:59.484997Z",
     "shell.execute_reply": "2023-07-12T17:35:59.483487Z"
    },
    "papermill": {
     "duration": 0.100401,
     "end_time": "2023-07-12T17:35:59.487600",
     "exception": false,
     "start_time": "2023-07-12T17:35:59.387199",
     "status": "completed"
    },
    "tags": []
   },
   "outputs": [
    {
     "data": {
      "text/latex": [
       "$\\displaystyle 2 x$"
      ],
      "text/plain": [
       "2*x"
      ]
     },
     "execution_count": 22,
     "metadata": {},
     "output_type": "execute_result"
    }
   ],
   "source": [
    "from sympy import symbols,diff\n",
    "x,y = symbols('x y')\n",
    "diff(x**2, x)"
   ]
  },
  {
   "cell_type": "code",
   "execution_count": 23,
   "id": "f09076d8",
   "metadata": {
    "execution": {
     "iopub.execute_input": "2023-07-12T17:35:59.520013Z",
     "iopub.status.busy": "2023-07-12T17:35:59.519610Z",
     "iopub.status.idle": "2023-07-12T17:35:59.529930Z",
     "shell.execute_reply": "2023-07-12T17:35:59.528729Z"
    },
    "papermill": {
     "duration": 0.029198,
     "end_time": "2023-07-12T17:35:59.532188",
     "exception": false,
     "start_time": "2023-07-12T17:35:59.502990",
     "status": "completed"
    },
    "tags": []
   },
   "outputs": [
    {
     "data": {
      "text/latex": [
       "$\\displaystyle 6 x$"
      ],
      "text/plain": [
       "6*x"
      ]
     },
     "execution_count": 23,
     "metadata": {},
     "output_type": "execute_result"
    }
   ],
   "source": [
    "diff(3*x**2+9,x)"
   ]
  },
  {
   "cell_type": "code",
   "execution_count": 24,
   "id": "76c0858b",
   "metadata": {
    "execution": {
     "iopub.execute_input": "2023-07-12T17:35:59.564881Z",
     "iopub.status.busy": "2023-07-12T17:35:59.563766Z",
     "iopub.status.idle": "2023-07-12T17:35:59.570116Z",
     "shell.execute_reply": "2023-07-12T17:35:59.569162Z"
    },
    "papermill": {
     "duration": 0.025175,
     "end_time": "2023-07-12T17:35:59.572543",
     "exception": false,
     "start_time": "2023-07-12T17:35:59.547368",
     "status": "completed"
    },
    "tags": []
   },
   "outputs": [],
   "source": [
    "def lin_grad(inp, out, w, b):\n",
    "    # grad of matmul w.r.t. input\n",
    "    # lin = x@w + b\n",
    "    # -> d/dw lin = w\n",
    "    # -> d/dw lin = x\n",
    "    # -> d/db lin = 1\n",
    "    inp.g = out.g @ w.t()\n",
    "    w.g = (inp.unsqueeze(-1) * out.g.unsqueeze(1)).sum(0)\n",
    "    b.g = out.g.sum()"
   ]
  },
  {
   "cell_type": "code",
   "execution_count": 25,
   "id": "db63a88d",
   "metadata": {
    "execution": {
     "iopub.execute_input": "2023-07-12T17:35:59.604927Z",
     "iopub.status.busy": "2023-07-12T17:35:59.604531Z",
     "iopub.status.idle": "2023-07-12T17:35:59.612889Z",
     "shell.execute_reply": "2023-07-12T17:35:59.611624Z"
    },
    "papermill": {
     "duration": 0.027563,
     "end_time": "2023-07-12T17:35:59.615343",
     "exception": false,
     "start_time": "2023-07-12T17:35:59.587780",
     "status": "completed"
    },
    "tags": []
   },
   "outputs": [
    {
     "data": {
      "text/plain": [
       "(torch.Size([2, 3]), torch.Size([3, 1]), torch.Size([1]))"
      ]
     },
     "execution_count": 25,
     "metadata": {},
     "output_type": "execute_result"
    }
   ],
   "source": [
    "bla_in = tensor([[1.,0,1], [2,0,-2]])\n",
    "bla_w = tensor([[10],[5],[1.5]])\n",
    "bla_b  = tensor([100])\n",
    "\n",
    "bla_in.shape, bla_w.shape, bla_b.shape"
   ]
  },
  {
   "cell_type": "code",
   "execution_count": 26,
   "id": "39462b1d",
   "metadata": {
    "execution": {
     "iopub.execute_input": "2023-07-12T17:35:59.648157Z",
     "iopub.status.busy": "2023-07-12T17:35:59.647750Z",
     "iopub.status.idle": "2023-07-12T17:35:59.656211Z",
     "shell.execute_reply": "2023-07-12T17:35:59.654962Z"
    },
    "papermill": {
     "duration": 0.028188,
     "end_time": "2023-07-12T17:35:59.659042",
     "exception": false,
     "start_time": "2023-07-12T17:35:59.630854",
     "status": "completed"
    },
    "tags": []
   },
   "outputs": [
    {
     "data": {
      "text/plain": [
       "(torch.Size([2, 1]),\n",
       " tensor([[111.50],\n",
       "         [117.00]]))"
      ]
     },
     "execution_count": 26,
     "metadata": {},
     "output_type": "execute_result"
    }
   ],
   "source": [
    "bla_out = lin(bla_in, bla_w, bla_b)\n",
    "bla_out.shape, bla_out"
   ]
  },
  {
   "cell_type": "markdown",
   "id": "7d6649cc",
   "metadata": {
    "execution": {
     "iopub.execute_input": "2023-07-12T13:38:39.507297Z",
     "iopub.status.busy": "2023-07-12T13:38:39.506898Z",
     "iopub.status.idle": "2023-07-12T13:38:39.515936Z",
     "shell.execute_reply": "2023-07-12T13:38:39.514845Z",
     "shell.execute_reply.started": "2023-07-12T13:38:39.507264Z"
    },
    "papermill": {
     "duration": 0.014964,
     "end_time": "2023-07-12T17:35:59.689983",
     "exception": false,
     "start_time": "2023-07-12T17:35:59.675019",
     "status": "completed"
    },
    "tags": []
   },
   "source": [
    "Note Umer: Let's set the gradien of bla_out manually & see how the gradients of bla_in, bla_w & bla_b arise"
   ]
  },
  {
   "cell_type": "markdown",
   "id": "562affde",
   "metadata": {
    "papermill": {
     "duration": 0.015065,
     "end_time": "2023-07-12T17:35:59.720403",
     "exception": false,
     "start_time": "2023-07-12T17:35:59.705338",
     "status": "completed"
    },
    "tags": []
   },
   "source": [
    "bla_out has dim 2x1 and usually would affect a scalar final outout (the loss). The gradient of the loss wrt bla_out is therefore 1x2 (1 value, 2 inputs), ie shape bla_out.T!"
   ]
  },
  {
   "cell_type": "code",
   "execution_count": 27,
   "id": "f73f875d",
   "metadata": {
    "execution": {
     "iopub.execute_input": "2023-07-12T17:35:59.753295Z",
     "iopub.status.busy": "2023-07-12T17:35:59.752209Z",
     "iopub.status.idle": "2023-07-12T17:35:59.757270Z",
     "shell.execute_reply": "2023-07-12T17:35:59.756402Z"
    },
    "papermill": {
     "duration": 0.023938,
     "end_time": "2023-07-12T17:35:59.759601",
     "exception": false,
     "start_time": "2023-07-12T17:35:59.735663",
     "status": "completed"
    },
    "tags": []
   },
   "outputs": [],
   "source": [
    "bla_out.g = tensor([[9.], [7]])"
   ]
  },
  {
   "cell_type": "markdown",
   "id": "1139e02e",
   "metadata": {
    "papermill": {
     "duration": 0.015064,
     "end_time": "2023-07-12T17:35:59.789926",
     "exception": false,
     "start_time": "2023-07-12T17:35:59.774862",
     "status": "completed"
    },
    "tags": []
   },
   "source": [
    "**Q: Shape of `out.g`** \n",
    "\n",
    "I would have expected `bla_out.g` to have shape 1x2 (e.g. `[[9, 7]]`), which is the shape of `bla_out.T`<br/>\n",
    "Bu when doing `lin_grad` the shapes of `bla_out.g` (1x2) and `w.t()` (1x3) don't match.<br/>\n",
    "Is the transpose I derived above already the one used with `w` in `lin_grad`?"
   ]
  },
  {
   "cell_type": "code",
   "execution_count": 28,
   "id": "34d91fed",
   "metadata": {
    "execution": {
     "iopub.execute_input": "2023-07-12T17:35:59.822632Z",
     "iopub.status.busy": "2023-07-12T17:35:59.822188Z",
     "iopub.status.idle": "2023-07-12T17:35:59.830937Z",
     "shell.execute_reply": "2023-07-12T17:35:59.830040Z"
    },
    "papermill": {
     "duration": 0.02813,
     "end_time": "2023-07-12T17:35:59.833454",
     "exception": false,
     "start_time": "2023-07-12T17:35:59.805324",
     "status": "completed"
    },
    "tags": []
   },
   "outputs": [],
   "source": [
    "lin_grad(bla_in, bla_out, bla_w, bla_b)"
   ]
  },
  {
   "cell_type": "markdown",
   "id": "210a5c30",
   "metadata": {
    "papermill": {
     "duration": 0.014986,
     "end_time": "2023-07-12T17:35:59.863839",
     "exception": false,
     "start_time": "2023-07-12T17:35:59.848853",
     "status": "completed"
    },
    "tags": []
   },
   "source": [
    "Okay, let's get back to it"
   ]
  },
  {
   "cell_type": "code",
   "execution_count": 29,
   "id": "624684be",
   "metadata": {
    "execution": {
     "iopub.execute_input": "2023-07-12T17:35:59.896551Z",
     "iopub.status.busy": "2023-07-12T17:35:59.896136Z",
     "iopub.status.idle": "2023-07-12T17:35:59.901776Z",
     "shell.execute_reply": "2023-07-12T17:35:59.900347Z"
    },
    "papermill": {
     "duration": 0.025141,
     "end_time": "2023-07-12T17:35:59.904336",
     "exception": false,
     "start_time": "2023-07-12T17:35:59.879195",
     "status": "completed"
    },
    "tags": []
   },
   "outputs": [],
   "source": [
    "def lin_grad(inp, out, w, b):\n",
    "    # grad of matmul wrt input\n",
    "    inp.g = out.g @ w.t()\n",
    "    w.g = inp.t() @ out.g # (inp.unsqueeze(-1) * out.g.unsqueeze(1)).sum(0)\n",
    "    b.g = out.g.sum(0)"
   ]
  },
  {
   "cell_type": "markdown",
   "id": "150c1475",
   "metadata": {
    "execution": {
     "iopub.execute_input": "2023-07-12T14:22:56.837559Z",
     "iopub.status.busy": "2023-07-12T14:22:56.837142Z",
     "iopub.status.idle": "2023-07-12T14:22:56.844495Z",
     "shell.execute_reply": "2023-07-12T14:22:56.843155Z",
     "shell.execute_reply.started": "2023-07-12T14:22:56.837527Z"
    },
    "papermill": {
     "duration": 0.015126,
     "end_time": "2023-07-12T17:35:59.935339",
     "exception": false,
     "start_time": "2023-07-12T17:35:59.920213",
     "status": "completed"
    },
    "tags": []
   },
   "source": [
    "**TOOD: Understand & Derive**\n",
    "\n",
    "`(inp.unsqueeze(-1) * out.g.unsqueeze(1)).sum(0)` is same as `inp.t() @ out.g`"
   ]
  },
  {
   "cell_type": "code",
   "execution_count": 30,
   "id": "f74c3cd3",
   "metadata": {
    "execution": {
     "iopub.execute_input": "2023-07-12T17:35:59.968691Z",
     "iopub.status.busy": "2023-07-12T17:35:59.967851Z",
     "iopub.status.idle": "2023-07-12T17:35:59.975544Z",
     "shell.execute_reply": "2023-07-12T17:35:59.974340Z"
    },
    "papermill": {
     "duration": 0.02715,
     "end_time": "2023-07-12T17:35:59.978117",
     "exception": false,
     "start_time": "2023-07-12T17:35:59.950967",
     "status": "completed"
    },
    "tags": []
   },
   "outputs": [],
   "source": [
    "def forward_and_backward(inp, targ):\n",
    "    # forward pass\n",
    "    l1 = lin(inp, w1, b1)\n",
    "    l2 = relu(l1)\n",
    "    out = lin(l2, w2, b2)\n",
    "    diff = out[:,0]-targ\n",
    "    loss = diff.pow(2).mean()\n",
    "    \n",
    "    # backward pass\n",
    "    out.g = 2.*diff[:,None] / inp.shape[0]\n",
    "    lin_grad(l2, out, w2, b2)\n",
    "    l1.g = (l1>0).float() * l2.g\n",
    "    lin_grad(inp, l1, w1, b1)"
   ]
  },
  {
   "cell_type": "code",
   "execution_count": 31,
   "id": "2f7cdf71",
   "metadata": {
    "execution": {
     "iopub.execute_input": "2023-07-12T17:36:00.012962Z",
     "iopub.status.busy": "2023-07-12T17:36:00.011711Z",
     "iopub.status.idle": "2023-07-12T17:36:00.307135Z",
     "shell.execute_reply": "2023-07-12T17:36:00.305794Z"
    },
    "papermill": {
     "duration": 0.315795,
     "end_time": "2023-07-12T17:36:00.309953",
     "exception": false,
     "start_time": "2023-07-12T17:35:59.994158",
     "status": "completed"
    },
    "tags": []
   },
   "outputs": [],
   "source": [
    "forward_and_backward(x_trn, y_trn)"
   ]
  },
  {
   "cell_type": "code",
   "execution_count": 32,
   "id": "8818985d",
   "metadata": {
    "execution": {
     "iopub.execute_input": "2023-07-12T17:36:00.343132Z",
     "iopub.status.busy": "2023-07-12T17:36:00.342705Z",
     "iopub.status.idle": "2023-07-12T17:36:00.408099Z",
     "shell.execute_reply": "2023-07-12T17:36:00.406751Z"
    },
    "papermill": {
     "duration": 0.085161,
     "end_time": "2023-07-12T17:36:00.411067",
     "exception": false,
     "start_time": "2023-07-12T17:36:00.325906",
     "status": "completed"
    },
    "tags": []
   },
   "outputs": [],
   "source": [
    "# Save for testing against later\n",
    "def get_grad(x): return x.g.clone()\n",
    "chks = w1,w2,b1,b2,x_trn\n",
    "grads = w1g,w2g,b1g,b2g,ig = tuple(map(get_grad, chks))"
   ]
  },
  {
   "cell_type": "markdown",
   "id": "1b909df8",
   "metadata": {
    "papermill": {
     "duration": 0.015762,
     "end_time": "2023-07-12T17:36:00.442891",
     "exception": false,
     "start_time": "2023-07-12T17:36:00.427129",
     "status": "completed"
    },
    "tags": []
   },
   "source": [
    "We cheat a little bit and use PyTorch autograd to check our results.\n"
   ]
  },
  {
   "cell_type": "code",
   "execution_count": 33,
   "id": "a9162714",
   "metadata": {
    "execution": {
     "iopub.execute_input": "2023-07-12T17:36:00.476041Z",
     "iopub.status.busy": "2023-07-12T17:36:00.475645Z",
     "iopub.status.idle": "2023-07-12T17:36:00.569278Z",
     "shell.execute_reply": "2023-07-12T17:36:00.568108Z"
    },
    "papermill": {
     "duration": 0.113494,
     "end_time": "2023-07-12T17:36:00.572046",
     "exception": false,
     "start_time": "2023-07-12T17:36:00.458552",
     "status": "completed"
    },
    "tags": []
   },
   "outputs": [],
   "source": [
    "def mkgrad(x): return x.clone().requires_grad_(True)\n",
    "ptgrags = w1pt,w2pt,b1pt,b2pt,x_trn_pt = tuple(map(mkgrad, chks))"
   ]
  },
  {
   "cell_type": "code",
   "execution_count": 34,
   "id": "4b9dd579",
   "metadata": {
    "execution": {
     "iopub.execute_input": "2023-07-12T17:36:00.605726Z",
     "iopub.status.busy": "2023-07-12T17:36:00.605312Z",
     "iopub.status.idle": "2023-07-12T17:36:00.611068Z",
     "shell.execute_reply": "2023-07-12T17:36:00.609796Z"
    },
    "papermill": {
     "duration": 0.02508,
     "end_time": "2023-07-12T17:36:00.613260",
     "exception": false,
     "start_time": "2023-07-12T17:36:00.588180",
     "status": "completed"
    },
    "tags": []
   },
   "outputs": [],
   "source": [
    "def forward(inp, targ):\n",
    "    l1 = lin(inp, w1pt, b1pt)\n",
    "    l2 = relu(l1)\n",
    "    out = lin(l2, w2pt, b2pt)\n",
    "    return mse(out, targ)"
   ]
  },
  {
   "cell_type": "code",
   "execution_count": 35,
   "id": "3e46d963",
   "metadata": {
    "execution": {
     "iopub.execute_input": "2023-07-12T17:36:00.646539Z",
     "iopub.status.busy": "2023-07-12T17:36:00.646108Z",
     "iopub.status.idle": "2023-07-12T17:36:00.939583Z",
     "shell.execute_reply": "2023-07-12T17:36:00.938464Z"
    },
    "papermill": {
     "duration": 0.313417,
     "end_time": "2023-07-12T17:36:00.942212",
     "exception": false,
     "start_time": "2023-07-12T17:36:00.628795",
     "status": "completed"
    },
    "tags": []
   },
   "outputs": [],
   "source": [
    "loss = forward(x_trn_pt, y_trn)\n",
    "loss.backward()"
   ]
  },
  {
   "cell_type": "code",
   "execution_count": 36,
   "id": "d52dc476",
   "metadata": {
    "execution": {
     "iopub.execute_input": "2023-07-12T17:36:00.975722Z",
     "iopub.status.busy": "2023-07-12T17:36:00.974926Z",
     "iopub.status.idle": "2023-07-12T17:36:01.254678Z",
     "shell.execute_reply": "2023-07-12T17:36:01.253355Z"
    },
    "papermill": {
     "duration": 0.299967,
     "end_time": "2023-07-12T17:36:01.257648",
     "exception": false,
     "start_time": "2023-07-12T17:36:00.957681",
     "status": "completed"
    },
    "tags": []
   },
   "outputs": [],
   "source": [
    "for a,b in zip(grads, ptgrags): test_close(a,b.grad, eps=0.01)"
   ]
  },
  {
   "cell_type": "markdown",
   "id": "c8e0a1e6",
   "metadata": {
    "papermill": {
     "duration": 0.015371,
     "end_time": "2023-07-12T17:36:01.288712",
     "exception": false,
     "start_time": "2023-07-12T17:36:01.273341",
     "status": "completed"
    },
    "tags": []
   },
   "source": [
    "### Refactor model"
   ]
  },
  {
   "cell_type": "markdown",
   "id": "d231caa3",
   "metadata": {
    "papermill": {
     "duration": 0.015777,
     "end_time": "2023-07-12T17:36:01.320766",
     "exception": false,
     "start_time": "2023-07-12T17:36:01.304989",
     "status": "completed"
    },
    "tags": []
   },
   "source": [
    "#### Layers as classes"
   ]
  },
  {
   "cell_type": "code",
   "execution_count": 37,
   "id": "1db50555",
   "metadata": {
    "execution": {
     "iopub.execute_input": "2023-07-12T17:36:01.354188Z",
     "iopub.status.busy": "2023-07-12T17:36:01.353801Z",
     "iopub.status.idle": "2023-07-12T17:36:01.360470Z",
     "shell.execute_reply": "2023-07-12T17:36:01.358638Z"
    },
    "papermill": {
     "duration": 0.026539,
     "end_time": "2023-07-12T17:36:01.363544",
     "exception": false,
     "start_time": "2023-07-12T17:36:01.337005",
     "status": "completed"
    },
    "tags": []
   },
   "outputs": [],
   "source": [
    "class Relu():\n",
    "    def __call__(self,inp):\n",
    "        self.inp = inp\n",
    "        self.out = inp.clamp_min(0)\n",
    "        return self.out\n",
    "    \n",
    "    def backward(self): self.inp.g = (self.inp>0).float() * self.out.g"
   ]
  },
  {
   "cell_type": "code",
   "execution_count": 38,
   "id": "fe68575f",
   "metadata": {
    "execution": {
     "iopub.execute_input": "2023-07-12T17:36:01.397264Z",
     "iopub.status.busy": "2023-07-12T17:36:01.396363Z",
     "iopub.status.idle": "2023-07-12T17:36:01.404011Z",
     "shell.execute_reply": "2023-07-12T17:36:01.402775Z"
    },
    "papermill": {
     "duration": 0.027214,
     "end_time": "2023-07-12T17:36:01.406469",
     "exception": false,
     "start_time": "2023-07-12T17:36:01.379255",
     "status": "completed"
    },
    "tags": []
   },
   "outputs": [],
   "source": [
    "class Lin():\n",
    "    def __init__(self, w, b): self.w,self.b=w,b\n",
    "        \n",
    "    def __call__(self, inp):\n",
    "        self.inp = inp\n",
    "        self.out = lin(inp,self.w,self.b)\n",
    "        return self.out\n",
    "    \n",
    "    def backward(self):\n",
    "        self.inp.g = self.out.g @ self.w.t()\n",
    "        self.w.g = self.inp.t() @ self.out.g\n",
    "        self.b.g = self.out.g.sum(0)"
   ]
  },
  {
   "cell_type": "code",
   "execution_count": 39,
   "id": "d8030ac2",
   "metadata": {
    "execution": {
     "iopub.execute_input": "2023-07-12T17:36:01.439783Z",
     "iopub.status.busy": "2023-07-12T17:36:01.438740Z",
     "iopub.status.idle": "2023-07-12T17:36:01.444969Z",
     "shell.execute_reply": "2023-07-12T17:36:01.443982Z"
    },
    "papermill": {
     "duration": 0.025392,
     "end_time": "2023-07-12T17:36:01.447290",
     "exception": false,
     "start_time": "2023-07-12T17:36:01.421898",
     "status": "completed"
    },
    "tags": []
   },
   "outputs": [],
   "source": [
    "class Mse():\n",
    "    def __call__(self, inp, targ):\n",
    "        self.inp,self.targ = inp,targ\n",
    "        self.out = mse(inp, targ)\n",
    "        return self.out\n",
    "        \n",
    "    def backward(self):\n",
    "        self.inp.g = 2. * (self.inp.squeeze() - self.targ).unsqueeze(-1) / self.targ.shape[0]"
   ]
  },
  {
   "cell_type": "code",
   "execution_count": 40,
   "id": "5ac7ec16",
   "metadata": {
    "execution": {
     "iopub.execute_input": "2023-07-12T17:36:01.480468Z",
     "iopub.status.busy": "2023-07-12T17:36:01.479637Z",
     "iopub.status.idle": "2023-07-12T17:36:01.487042Z",
     "shell.execute_reply": "2023-07-12T17:36:01.485650Z"
    },
    "papermill": {
     "duration": 0.026703,
     "end_time": "2023-07-12T17:36:01.489453",
     "exception": false,
     "start_time": "2023-07-12T17:36:01.462750",
     "status": "completed"
    },
    "tags": []
   },
   "outputs": [],
   "source": [
    "class Model():\n",
    "    def __init__(self, w1,b1,w2,b2):\n",
    "        self.layers = [Lin(w1,b1),Relu(),Lin(w2,b2)]\n",
    "        self.loss = Mse()\n",
    "        \n",
    "    def __call__(self, x, targ):\n",
    "        for l in self.layers: x=l(x)\n",
    "        return self.loss(x,targ)\n",
    "    \n",
    "    def backward(self):\n",
    "        self.loss.backward()\n",
    "        for l in reversed(self.layers): l.backward()"
   ]
  },
  {
   "cell_type": "code",
   "execution_count": 41,
   "id": "0ea62b6e",
   "metadata": {
    "execution": {
     "iopub.execute_input": "2023-07-12T17:36:01.521747Z",
     "iopub.status.busy": "2023-07-12T17:36:01.521302Z",
     "iopub.status.idle": "2023-07-12T17:36:01.526488Z",
     "shell.execute_reply": "2023-07-12T17:36:01.525256Z"
    },
    "papermill": {
     "duration": 0.024089,
     "end_time": "2023-07-12T17:36:01.528931",
     "exception": false,
     "start_time": "2023-07-12T17:36:01.504842",
     "status": "completed"
    },
    "tags": []
   },
   "outputs": [],
   "source": [
    "model = Model(w1,b1,w2,b2)"
   ]
  },
  {
   "cell_type": "code",
   "execution_count": 42,
   "id": "a8bd3e8f",
   "metadata": {
    "execution": {
     "iopub.execute_input": "2023-07-12T17:36:01.568519Z",
     "iopub.status.busy": "2023-07-12T17:36:01.567615Z",
     "iopub.status.idle": "2023-07-12T17:36:01.627407Z",
     "shell.execute_reply": "2023-07-12T17:36:01.626112Z"
    },
    "papermill": {
     "duration": 0.08244,
     "end_time": "2023-07-12T17:36:01.630230",
     "exception": false,
     "start_time": "2023-07-12T17:36:01.547790",
     "status": "completed"
    },
    "tags": []
   },
   "outputs": [],
   "source": [
    "loss = model(x_trn, y_trn)"
   ]
  },
  {
   "cell_type": "code",
   "execution_count": 43,
   "id": "7300f04b",
   "metadata": {
    "execution": {
     "iopub.execute_input": "2023-07-12T17:36:01.662799Z",
     "iopub.status.busy": "2023-07-12T17:36:01.662361Z",
     "iopub.status.idle": "2023-07-12T17:36:01.859139Z",
     "shell.execute_reply": "2023-07-12T17:36:01.858193Z"
    },
    "papermill": {
     "duration": 0.21612,
     "end_time": "2023-07-12T17:36:01.861811",
     "exception": false,
     "start_time": "2023-07-12T17:36:01.645691",
     "status": "completed"
    },
    "tags": []
   },
   "outputs": [],
   "source": [
    "model.backward()"
   ]
  },
  {
   "cell_type": "code",
   "execution_count": 44,
   "id": "75731f63",
   "metadata": {
    "execution": {
     "iopub.execute_input": "2023-07-12T17:36:01.894561Z",
     "iopub.status.busy": "2023-07-12T17:36:01.893900Z",
     "iopub.status.idle": "2023-07-12T17:36:02.094948Z",
     "shell.execute_reply": "2023-07-12T17:36:02.093801Z"
    },
    "papermill": {
     "duration": 0.220485,
     "end_time": "2023-07-12T17:36:02.097660",
     "exception": false,
     "start_time": "2023-07-12T17:36:01.877175",
     "status": "completed"
    },
    "tags": []
   },
   "outputs": [],
   "source": [
    "test_close(w2g, w2.g, eps=0.01)\n",
    "test_close(b2g, b2.g, eps=0.01)\n",
    "test_close(w1g, w1.g, eps=0.01)\n",
    "test_close(b1g, b1.g, eps=0.01)\n",
    "test_close(ig, x_trn.g, eps=0.01)"
   ]
  },
  {
   "cell_type": "markdown",
   "id": "9270d9da",
   "metadata": {
    "papermill": {
     "duration": 0.016033,
     "end_time": "2023-07-12T17:36:02.128873",
     "exception": false,
     "start_time": "2023-07-12T17:36:02.112840",
     "status": "completed"
    },
    "tags": []
   },
   "source": [
    "### Autograd"
   ]
  },
  {
   "cell_type": "code",
   "execution_count": 45,
   "id": "fc84bba7",
   "metadata": {
    "execution": {
     "iopub.execute_input": "2023-07-12T17:36:02.161353Z",
     "iopub.status.busy": "2023-07-12T17:36:02.160926Z",
     "iopub.status.idle": "2023-07-12T17:36:02.166099Z",
     "shell.execute_reply": "2023-07-12T17:36:02.164843Z"
    },
    "papermill": {
     "duration": 0.024426,
     "end_time": "2023-07-12T17:36:02.168675",
     "exception": false,
     "start_time": "2023-07-12T17:36:02.144249",
     "status": "completed"
    },
    "tags": []
   },
   "outputs": [],
   "source": [
    "from torch import nn\n",
    "import torch.nn.functional as F"
   ]
  },
  {
   "cell_type": "code",
   "execution_count": 46,
   "id": "6d60d80e",
   "metadata": {
    "execution": {
     "iopub.execute_input": "2023-07-12T17:36:02.203430Z",
     "iopub.status.busy": "2023-07-12T17:36:02.202984Z",
     "iopub.status.idle": "2023-07-12T17:36:02.209190Z",
     "shell.execute_reply": "2023-07-12T17:36:02.207940Z"
    },
    "papermill": {
     "duration": 0.027133,
     "end_time": "2023-07-12T17:36:02.211960",
     "exception": false,
     "start_time": "2023-07-12T17:36:02.184827",
     "status": "completed"
    },
    "tags": []
   },
   "outputs": [],
   "source": [
    "class Linear(nn.Module):\n",
    "    def __init__(self, n_in, n_out):\n",
    "        super().__init__()\n",
    "        self.w = torch.randn(n_in, n_out).requires_grad_()\n",
    "        self.b = torch.zeros(n_out).requires_grad_()\n",
    "        \n",
    "    def forward(self, inp): return inp@self.w+self.b"
   ]
  },
  {
   "cell_type": "code",
   "execution_count": 47,
   "id": "0f2c4a24",
   "metadata": {
    "execution": {
     "iopub.execute_input": "2023-07-12T17:36:02.244362Z",
     "iopub.status.busy": "2023-07-12T17:36:02.243949Z",
     "iopub.status.idle": "2023-07-12T17:36:02.250677Z",
     "shell.execute_reply": "2023-07-12T17:36:02.249741Z"
    },
    "papermill": {
     "duration": 0.025433,
     "end_time": "2023-07-12T17:36:02.252783",
     "exception": false,
     "start_time": "2023-07-12T17:36:02.227350",
     "status": "completed"
    },
    "tags": []
   },
   "outputs": [
    {
     "data": {
      "text/plain": [
       "Linear()"
      ]
     },
     "execution_count": 47,
     "metadata": {},
     "output_type": "execute_result"
    }
   ],
   "source": [
    "Linear(10, 2)"
   ]
  },
  {
   "cell_type": "code",
   "execution_count": 48,
   "id": "7940953c",
   "metadata": {
    "execution": {
     "iopub.execute_input": "2023-07-12T17:36:02.290519Z",
     "iopub.status.busy": "2023-07-12T17:36:02.289768Z",
     "iopub.status.idle": "2023-07-12T17:36:02.299774Z",
     "shell.execute_reply": "2023-07-12T17:36:02.298050Z"
    },
    "papermill": {
     "duration": 0.034626,
     "end_time": "2023-07-12T17:36:02.303433",
     "exception": false,
     "start_time": "2023-07-12T17:36:02.268807",
     "status": "completed"
    },
    "tags": []
   },
   "outputs": [],
   "source": [
    "class Model(nn.Module):\n",
    "    def __init__(self, n_in, nh, n_out):\n",
    "        super().__init__()\n",
    "        self.layers = [Linear(n_in,nh), nn.ReLU(), Linear(nh,n_out)]\n",
    "    \n",
    "    def forward(self, x, targ):\n",
    "        for l in self.layers: x = l(x)\n",
    "        return F.mse_loss(x, targ[:,None])"
   ]
  },
  {
   "cell_type": "code",
   "execution_count": 49,
   "id": "50243b9c",
   "metadata": {
    "execution": {
     "iopub.execute_input": "2023-07-12T17:36:02.337729Z",
     "iopub.status.busy": "2023-07-12T17:36:02.337289Z",
     "iopub.status.idle": "2023-07-12T17:36:02.344571Z",
     "shell.execute_reply": "2023-07-12T17:36:02.343291Z"
    },
    "papermill": {
     "duration": 0.026541,
     "end_time": "2023-07-12T17:36:02.347156",
     "exception": false,
     "start_time": "2023-07-12T17:36:02.320615",
     "status": "completed"
    },
    "tags": []
   },
   "outputs": [
    {
     "data": {
      "text/plain": [
       "784"
      ]
     },
     "execution_count": 49,
     "metadata": {},
     "output_type": "execute_result"
    }
   ],
   "source": [
    "m  # pixels in input image"
   ]
  },
  {
   "cell_type": "code",
   "execution_count": 50,
   "id": "e9b99d1c",
   "metadata": {
    "execution": {
     "iopub.execute_input": "2023-07-12T17:36:02.380319Z",
     "iopub.status.busy": "2023-07-12T17:36:02.379884Z",
     "iopub.status.idle": "2023-07-12T17:36:02.385813Z",
     "shell.execute_reply": "2023-07-12T17:36:02.384714Z"
    },
    "papermill": {
     "duration": 0.025622,
     "end_time": "2023-07-12T17:36:02.388403",
     "exception": false,
     "start_time": "2023-07-12T17:36:02.362781",
     "status": "completed"
    },
    "tags": []
   },
   "outputs": [],
   "source": [
    "model = Model(m, nh, 1)"
   ]
  },
  {
   "cell_type": "code",
   "execution_count": 51,
   "id": "6820e5b7",
   "metadata": {
    "execution": {
     "iopub.execute_input": "2023-07-12T17:36:02.421909Z",
     "iopub.status.busy": "2023-07-12T17:36:02.421481Z",
     "iopub.status.idle": "2023-07-12T17:36:02.474417Z",
     "shell.execute_reply": "2023-07-12T17:36:02.473384Z"
    },
    "papermill": {
     "duration": 0.073185,
     "end_time": "2023-07-12T17:36:02.477301",
     "exception": false,
     "start_time": "2023-07-12T17:36:02.404116",
     "status": "completed"
    },
    "tags": []
   },
   "outputs": [],
   "source": [
    "loss = model(x_trn, y_trn)"
   ]
  },
  {
   "cell_type": "code",
   "execution_count": 52,
   "id": "b79b0aab",
   "metadata": {
    "execution": {
     "iopub.execute_input": "2023-07-12T17:36:02.511465Z",
     "iopub.status.busy": "2023-07-12T17:36:02.510320Z",
     "iopub.status.idle": "2023-07-12T17:36:02.586551Z",
     "shell.execute_reply": "2023-07-12T17:36:02.585674Z"
    },
    "papermill": {
     "duration": 0.095659,
     "end_time": "2023-07-12T17:36:02.589147",
     "exception": false,
     "start_time": "2023-07-12T17:36:02.493488",
     "status": "completed"
    },
    "tags": []
   },
   "outputs": [],
   "source": [
    "loss.backward()"
   ]
  },
  {
   "cell_type": "code",
   "execution_count": 53,
   "id": "44fd0c8d",
   "metadata": {
    "execution": {
     "iopub.execute_input": "2023-07-12T17:36:02.624644Z",
     "iopub.status.busy": "2023-07-12T17:36:02.622187Z",
     "iopub.status.idle": "2023-07-12T17:36:02.631480Z",
     "shell.execute_reply": "2023-07-12T17:36:02.630479Z"
    },
    "papermill": {
     "duration": 0.028763,
     "end_time": "2023-07-12T17:36:02.633745",
     "exception": false,
     "start_time": "2023-07-12T17:36:02.604982",
     "status": "completed"
    },
    "tags": []
   },
   "outputs": [
    {
     "data": {
      "text/plain": [
       "tensor([    15.75,     27.66,     -6.92,     -5.88,     29.97,     41.93,    -17.70,     45.84,     24.61,    -67.37,\n",
       "            -1.27,     26.90,      8.22,      2.10,      0.75,     18.63,     -0.00,      6.75,     46.79,     -2.14,\n",
       "             9.23,     -2.20,     33.68,     24.67,    -32.96,      1.12,     11.09,     16.56,     -3.82,    -16.97,\n",
       "             4.63,    -26.53,    -29.42,      0.37,     10.49,      6.41,     -6.55,    -12.32,    -47.34,     12.76,\n",
       "            -1.23,     23.69,      3.46,    -14.35,     -2.32,    -11.71,      2.74,     -9.38,     25.01,     49.08])"
      ]
     },
     "execution_count": 53,
     "metadata": {},
     "output_type": "execute_result"
    }
   ],
   "source": [
    "l0 = model.layers[0]\n",
    "l0.b.grad"
   ]
  },
  {
   "cell_type": "code",
   "execution_count": null,
   "id": "a68b84cb",
   "metadata": {
    "papermill": {
     "duration": 0.015736,
     "end_time": "2023-07-12T17:36:02.665084",
     "exception": false,
     "start_time": "2023-07-12T17:36:02.649348",
     "status": "completed"
    },
    "tags": []
   },
   "outputs": [],
   "source": []
  }
 ],
 "metadata": {
  "kernelspec": {
   "display_name": "Python 3",
   "language": "python",
   "name": "python3"
  },
  "language_info": {
   "codemirror_mode": {
    "name": "ipython",
    "version": 3
   },
   "file_extension": ".py",
   "mimetype": "text/x-python",
   "name": "python",
   "nbconvert_exporter": "python",
   "pygments_lexer": "ipython3",
   "version": "3.10.12"
  },
  "papermill": {
   "default_parameters": {},
   "duration": 24.043714,
   "end_time": "2023-07-12T17:36:04.104778",
   "environment_variables": {},
   "exception": null,
   "input_path": "__notebook__.ipynb",
   "output_path": "__notebook__.ipynb",
   "parameters": {},
   "start_time": "2023-07-12T17:35:40.061064",
   "version": "2.4.0"
  }
 },
 "nbformat": 4,
 "nbformat_minor": 5
}
