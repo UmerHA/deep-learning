{
 "cells": [
  {
   "cell_type": "code",
   "execution_count": 1,
   "id": "1cbd5469",
   "metadata": {
    "_cell_guid": "b1076dfc-b9ad-4769-8c92-a6c4dae69d19",
    "_uuid": "8f2839f25d086af736a60e9eeb907d3b93b6e0e5",
    "execution": {
     "iopub.execute_input": "2023-07-22T11:29:33.731757Z",
     "iopub.status.busy": "2023-07-22T11:29:33.731271Z",
     "iopub.status.idle": "2023-07-22T11:29:37.491359Z",
     "shell.execute_reply": "2023-07-22T11:29:37.490278Z"
    },
    "papermill": {
     "duration": 3.780167,
     "end_time": "2023-07-22T11:29:37.494117",
     "exception": false,
     "start_time": "2023-07-22T11:29:33.713950",
     "status": "completed"
    },
    "tags": []
   },
   "outputs": [],
   "source": [
    "import torch\n",
    "import matplotlib.pyplot as plt\n",
    "import random"
   ]
  },
  {
   "cell_type": "markdown",
   "id": "c00022e8",
   "metadata": {
    "papermill": {
     "duration": 0.01448,
     "end_time": "2023-07-22T11:29:37.523772",
     "exception": false,
     "start_time": "2023-07-22T11:29:37.509292",
     "status": "completed"
    },
    "tags": []
   },
   "source": [
    "## Callbacks"
   ]
  },
  {
   "cell_type": "markdown",
   "id": "750a1096",
   "metadata": {
    "papermill": {
     "duration": 0.01441,
     "end_time": "2023-07-22T11:29:37.552766",
     "exception": false,
     "start_time": "2023-07-22T11:29:37.538356",
     "status": "completed"
    },
    "tags": []
   },
   "source": [
    "### Callbacks as GUI events"
   ]
  },
  {
   "cell_type": "code",
   "execution_count": 2,
   "id": "4a30cb30",
   "metadata": {
    "execution": {
     "iopub.execute_input": "2023-07-22T11:29:37.584813Z",
     "iopub.status.busy": "2023-07-22T11:29:37.583345Z",
     "iopub.status.idle": "2023-07-22T11:29:37.672668Z",
     "shell.execute_reply": "2023-07-22T11:29:37.671616Z"
    },
    "papermill": {
     "duration": 0.107778,
     "end_time": "2023-07-22T11:29:37.675265",
     "exception": false,
     "start_time": "2023-07-22T11:29:37.567487",
     "status": "completed"
    },
    "tags": []
   },
   "outputs": [],
   "source": [
    "import ipywidgets as widgets"
   ]
  },
  {
   "cell_type": "code",
   "execution_count": 3,
   "id": "c1ce1464",
   "metadata": {
    "execution": {
     "iopub.execute_input": "2023-07-22T11:29:37.707423Z",
     "iopub.status.busy": "2023-07-22T11:29:37.706446Z",
     "iopub.status.idle": "2023-07-22T11:29:37.714795Z",
     "shell.execute_reply": "2023-07-22T11:29:37.713842Z"
    },
    "papermill": {
     "duration": 0.026776,
     "end_time": "2023-07-22T11:29:37.716941",
     "exception": false,
     "start_time": "2023-07-22T11:29:37.690165",
     "status": "completed"
    },
    "tags": []
   },
   "outputs": [],
   "source": [
    "w = widgets.Button(description='Click Me')"
   ]
  },
  {
   "cell_type": "code",
   "execution_count": 4,
   "id": "e83d8f07",
   "metadata": {
    "execution": {
     "iopub.execute_input": "2023-07-22T11:29:37.748464Z",
     "iopub.status.busy": "2023-07-22T11:29:37.747494Z",
     "iopub.status.idle": "2023-07-22T11:29:37.754926Z",
     "shell.execute_reply": "2023-07-22T11:29:37.753892Z"
    },
    "papermill": {
     "duration": 0.025105,
     "end_time": "2023-07-22T11:29:37.756920",
     "exception": false,
     "start_time": "2023-07-22T11:29:37.731815",
     "status": "completed"
    },
    "tags": []
   },
   "outputs": [
    {
     "data": {
      "application/vnd.jupyter.widget-view+json": {
       "model_id": "a2f460dbfc04468b9d623316fe342d41",
       "version_major": 2,
       "version_minor": 0
      },
      "text/plain": [
       "Button(description='Click Me', style=ButtonStyle())"
      ]
     },
     "metadata": {},
     "output_type": "display_data"
    }
   ],
   "source": [
    "w"
   ]
  },
  {
   "cell_type": "code",
   "execution_count": 5,
   "id": "bfc8eaf1",
   "metadata": {
    "execution": {
     "iopub.execute_input": "2023-07-22T11:29:37.788741Z",
     "iopub.status.busy": "2023-07-22T11:29:37.787867Z",
     "iopub.status.idle": "2023-07-22T11:29:37.792741Z",
     "shell.execute_reply": "2023-07-22T11:29:37.791707Z"
    },
    "papermill": {
     "duration": 0.022925,
     "end_time": "2023-07-22T11:29:37.794883",
     "exception": false,
     "start_time": "2023-07-22T11:29:37.771958",
     "status": "completed"
    },
    "tags": []
   },
   "outputs": [],
   "source": [
    "def f(o): print('hello hello')"
   ]
  },
  {
   "cell_type": "code",
   "execution_count": 6,
   "id": "81ca6820",
   "metadata": {
    "execution": {
     "iopub.execute_input": "2023-07-22T11:29:37.828074Z",
     "iopub.status.busy": "2023-07-22T11:29:37.827137Z",
     "iopub.status.idle": "2023-07-22T11:29:37.831874Z",
     "shell.execute_reply": "2023-07-22T11:29:37.830845Z"
    },
    "papermill": {
     "duration": 0.022977,
     "end_time": "2023-07-22T11:29:37.833948",
     "exception": false,
     "start_time": "2023-07-22T11:29:37.810971",
     "status": "completed"
    },
    "tags": []
   },
   "outputs": [],
   "source": [
    "w.on_click(f)"
   ]
  },
  {
   "cell_type": "markdown",
   "id": "61c1e121",
   "metadata": {
    "papermill": {
     "duration": 0.015579,
     "end_time": "2023-07-22T11:29:37.864374",
     "exception": false,
     "start_time": "2023-07-22T11:29:37.848795",
     "status": "completed"
    },
    "tags": []
   },
   "source": [
    "**Q:** `on_click` is not working"
   ]
  },
  {
   "cell_type": "markdown",
   "id": "71f493ef",
   "metadata": {
    "papermill": {
     "duration": 0.018027,
     "end_time": "2023-07-22T11:29:37.898865",
     "exception": false,
     "start_time": "2023-07-22T11:29:37.880838",
     "status": "completed"
    },
    "tags": []
   },
   "source": [
    "### Creating your own callback"
   ]
  },
  {
   "cell_type": "code",
   "execution_count": 7,
   "id": "bad41afa",
   "metadata": {
    "execution": {
     "iopub.execute_input": "2023-07-22T11:29:37.935560Z",
     "iopub.status.busy": "2023-07-22T11:29:37.935107Z",
     "iopub.status.idle": "2023-07-22T11:29:37.940491Z",
     "shell.execute_reply": "2023-07-22T11:29:37.939279Z"
    },
    "papermill": {
     "duration": 0.026766,
     "end_time": "2023-07-22T11:29:37.942909",
     "exception": false,
     "start_time": "2023-07-22T11:29:37.916143",
     "status": "completed"
    },
    "tags": []
   },
   "outputs": [],
   "source": [
    "from time import sleep"
   ]
  },
  {
   "cell_type": "code",
   "execution_count": 8,
   "id": "6ba1aba1",
   "metadata": {
    "execution": {
     "iopub.execute_input": "2023-07-22T11:29:37.975452Z",
     "iopub.status.busy": "2023-07-22T11:29:37.974523Z",
     "iopub.status.idle": "2023-07-22T11:29:37.980004Z",
     "shell.execute_reply": "2023-07-22T11:29:37.979062Z"
    },
    "papermill": {
     "duration": 0.023335,
     "end_time": "2023-07-22T11:29:37.982139",
     "exception": false,
     "start_time": "2023-07-22T11:29:37.958804",
     "status": "completed"
    },
    "tags": []
   },
   "outputs": [],
   "source": [
    "def slow_calculation():\n",
    "    res = 0\n",
    "    for i in range(5):\n",
    "        res += i*i\n",
    "        sleep(1)\n",
    "    return res"
   ]
  },
  {
   "cell_type": "code",
   "execution_count": 9,
   "id": "f94d2b9f",
   "metadata": {
    "execution": {
     "iopub.execute_input": "2023-07-22T11:29:38.014303Z",
     "iopub.status.busy": "2023-07-22T11:29:38.013250Z",
     "iopub.status.idle": "2023-07-22T11:29:43.025605Z",
     "shell.execute_reply": "2023-07-22T11:29:43.024529Z"
    },
    "papermill": {
     "duration": 5.031134,
     "end_time": "2023-07-22T11:29:43.028284",
     "exception": false,
     "start_time": "2023-07-22T11:29:37.997150",
     "status": "completed"
    },
    "tags": []
   },
   "outputs": [
    {
     "data": {
      "text/plain": [
       "30"
      ]
     },
     "execution_count": 9,
     "metadata": {},
     "output_type": "execute_result"
    }
   ],
   "source": [
    "slow_calculation()"
   ]
  },
  {
   "cell_type": "code",
   "execution_count": 10,
   "id": "896a900f",
   "metadata": {
    "execution": {
     "iopub.execute_input": "2023-07-22T11:29:43.061481Z",
     "iopub.status.busy": "2023-07-22T11:29:43.060738Z",
     "iopub.status.idle": "2023-07-22T11:29:43.066446Z",
     "shell.execute_reply": "2023-07-22T11:29:43.065156Z"
    },
    "papermill": {
     "duration": 0.024634,
     "end_time": "2023-07-22T11:29:43.068805",
     "exception": false,
     "start_time": "2023-07-22T11:29:43.044171",
     "status": "completed"
    },
    "tags": []
   },
   "outputs": [],
   "source": [
    "def slow_calculation(cb=None):\n",
    "    res = 0\n",
    "    for i in range(5):\n",
    "        res += i*i\n",
    "        sleep(1)\n",
    "        if cb: cb(i)\n",
    "    return res"
   ]
  },
  {
   "cell_type": "code",
   "execution_count": 11,
   "id": "d5a44ca5",
   "metadata": {
    "execution": {
     "iopub.execute_input": "2023-07-22T11:29:43.101711Z",
     "iopub.status.busy": "2023-07-22T11:29:43.100653Z",
     "iopub.status.idle": "2023-07-22T11:29:43.106003Z",
     "shell.execute_reply": "2023-07-22T11:29:43.105078Z"
    },
    "papermill": {
     "duration": 0.023717,
     "end_time": "2023-07-22T11:29:43.108104",
     "exception": false,
     "start_time": "2023-07-22T11:29:43.084387",
     "status": "completed"
    },
    "tags": []
   },
   "outputs": [],
   "source": [
    "def show_progress(epoch): print(f'We have finished epoch {epoch}')"
   ]
  },
  {
   "cell_type": "code",
   "execution_count": 12,
   "id": "58b467ac",
   "metadata": {
    "execution": {
     "iopub.execute_input": "2023-07-22T11:29:43.140118Z",
     "iopub.status.busy": "2023-07-22T11:29:43.139071Z",
     "iopub.status.idle": "2023-07-22T11:29:48.152384Z",
     "shell.execute_reply": "2023-07-22T11:29:48.151476Z"
    },
    "papermill": {
     "duration": 5.032392,
     "end_time": "2023-07-22T11:29:48.155288",
     "exception": false,
     "start_time": "2023-07-22T11:29:43.122896",
     "status": "completed"
    },
    "tags": []
   },
   "outputs": [
    {
     "name": "stdout",
     "output_type": "stream",
     "text": [
      "We have finished epoch 0\n",
      "We have finished epoch 1\n",
      "We have finished epoch 2\n",
      "We have finished epoch 3\n",
      "We have finished epoch 4\n"
     ]
    },
    {
     "data": {
      "text/plain": [
       "30"
      ]
     },
     "execution_count": 12,
     "metadata": {},
     "output_type": "execute_result"
    }
   ],
   "source": [
    "slow_calculation(show_progress)"
   ]
  },
  {
   "cell_type": "markdown",
   "id": "9adbac7c",
   "metadata": {
    "papermill": {
     "duration": 0.015927,
     "end_time": "2023-07-22T11:29:48.188033",
     "exception": false,
     "start_time": "2023-07-22T11:29:48.172106",
     "status": "completed"
    },
    "tags": []
   },
   "source": [
    "### Lambdas and partials"
   ]
  },
  {
   "cell_type": "code",
   "execution_count": 13,
   "id": "2ea1b626",
   "metadata": {
    "execution": {
     "iopub.execute_input": "2023-07-22T11:29:48.220360Z",
     "iopub.status.busy": "2023-07-22T11:29:48.219977Z",
     "iopub.status.idle": "2023-07-22T11:29:53.239322Z",
     "shell.execute_reply": "2023-07-22T11:29:53.237866Z"
    },
    "papermill": {
     "duration": 5.038294,
     "end_time": "2023-07-22T11:29:53.241772",
     "exception": false,
     "start_time": "2023-07-22T11:29:48.203478",
     "status": "completed"
    },
    "tags": []
   },
   "outputs": [
    {
     "name": "stdout",
     "output_type": "stream",
     "text": [
      "We have finished epoch 0\n",
      "We have finished epoch 1\n",
      "We have finished epoch 2\n",
      "We have finished epoch 3\n",
      "We have finished epoch 4\n"
     ]
    },
    {
     "data": {
      "text/plain": [
       "30"
      ]
     },
     "execution_count": 13,
     "metadata": {},
     "output_type": "execute_result"
    }
   ],
   "source": [
    "slow_calculation(lambda o: print(f'We have finished epoch {o}'))"
   ]
  },
  {
   "cell_type": "code",
   "execution_count": 14,
   "id": "a4b7fc17",
   "metadata": {
    "execution": {
     "iopub.execute_input": "2023-07-22T11:29:53.279848Z",
     "iopub.status.busy": "2023-07-22T11:29:53.279485Z",
     "iopub.status.idle": "2023-07-22T11:29:53.285086Z",
     "shell.execute_reply": "2023-07-22T11:29:53.284056Z"
    },
    "papermill": {
     "duration": 0.029026,
     "end_time": "2023-07-22T11:29:53.287498",
     "exception": false,
     "start_time": "2023-07-22T11:29:53.258472",
     "status": "completed"
    },
    "tags": []
   },
   "outputs": [],
   "source": [
    "def show_progress(salutation, epoch): print(f'{salutation}, we have finished epoch {epoch}')"
   ]
  },
  {
   "cell_type": "code",
   "execution_count": 15,
   "id": "54b6dbe6",
   "metadata": {
    "execution": {
     "iopub.execute_input": "2023-07-22T11:29:53.322582Z",
     "iopub.status.busy": "2023-07-22T11:29:53.321498Z",
     "iopub.status.idle": "2023-07-22T11:29:58.338296Z",
     "shell.execute_reply": "2023-07-22T11:29:58.337338Z"
    },
    "papermill": {
     "duration": 5.03682,
     "end_time": "2023-07-22T11:29:58.340347",
     "exception": false,
     "start_time": "2023-07-22T11:29:53.303527",
     "status": "completed"
    },
    "tags": []
   },
   "outputs": [
    {
     "name": "stdout",
     "output_type": "stream",
     "text": [
      "Brother, we have finished epoch 0\n",
      "Brother, we have finished epoch 1\n",
      "Brother, we have finished epoch 2\n",
      "Brother, we have finished epoch 3\n",
      "Brother, we have finished epoch 4\n"
     ]
    },
    {
     "data": {
      "text/plain": [
       "30"
      ]
     },
     "execution_count": 15,
     "metadata": {},
     "output_type": "execute_result"
    }
   ],
   "source": [
    "slow_calculation(lambda o: show_progress('Brother', o))"
   ]
  },
  {
   "cell_type": "code",
   "execution_count": 16,
   "id": "74eeb85e",
   "metadata": {
    "execution": {
     "iopub.execute_input": "2023-07-22T11:29:58.375700Z",
     "iopub.status.busy": "2023-07-22T11:29:58.375352Z",
     "iopub.status.idle": "2023-07-22T11:29:58.381617Z",
     "shell.execute_reply": "2023-07-22T11:29:58.380594Z"
    },
    "papermill": {
     "duration": 0.026406,
     "end_time": "2023-07-22T11:29:58.383753",
     "exception": false,
     "start_time": "2023-07-22T11:29:58.357347",
     "status": "completed"
    },
    "tags": []
   },
   "outputs": [],
   "source": [
    "def make_show_progress(salutation):\n",
    "    def _inner(epoch): print(f'{salutation}, we have finished epoch {epoch}')\n",
    "    return _inner"
   ]
  },
  {
   "cell_type": "code",
   "execution_count": 17,
   "id": "e38ff6f3",
   "metadata": {
    "execution": {
     "iopub.execute_input": "2023-07-22T11:29:58.419725Z",
     "iopub.status.busy": "2023-07-22T11:29:58.418613Z",
     "iopub.status.idle": "2023-07-22T11:30:03.435394Z",
     "shell.execute_reply": "2023-07-22T11:30:03.434315Z"
    },
    "papermill": {
     "duration": 5.037043,
     "end_time": "2023-07-22T11:30:03.437974",
     "exception": false,
     "start_time": "2023-07-22T11:29:58.400931",
     "status": "completed"
    },
    "tags": []
   },
   "outputs": [
    {
     "name": "stdout",
     "output_type": "stream",
     "text": [
      "Brah, we have finished epoch 0\n",
      "Brah, we have finished epoch 1\n",
      "Brah, we have finished epoch 2\n",
      "Brah, we have finished epoch 3\n",
      "Brah, we have finished epoch 4\n"
     ]
    },
    {
     "data": {
      "text/plain": [
       "30"
      ]
     },
     "execution_count": 17,
     "metadata": {},
     "output_type": "execute_result"
    }
   ],
   "source": [
    "slow_calculation(make_show_progress('Brah'))"
   ]
  },
  {
   "cell_type": "code",
   "execution_count": 18,
   "id": "6f43e9c9",
   "metadata": {
    "execution": {
     "iopub.execute_input": "2023-07-22T11:30:03.474914Z",
     "iopub.status.busy": "2023-07-22T11:30:03.473902Z",
     "iopub.status.idle": "2023-07-22T11:30:03.478898Z",
     "shell.execute_reply": "2023-07-22T11:30:03.477984Z"
    },
    "papermill": {
     "duration": 0.025827,
     "end_time": "2023-07-22T11:30:03.480970",
     "exception": false,
     "start_time": "2023-07-22T11:30:03.455143",
     "status": "completed"
    },
    "tags": []
   },
   "outputs": [],
   "source": [
    "from functools import partial"
   ]
  },
  {
   "cell_type": "code",
   "execution_count": 19,
   "id": "10920e97",
   "metadata": {
    "execution": {
     "iopub.execute_input": "2023-07-22T11:30:03.516925Z",
     "iopub.status.busy": "2023-07-22T11:30:03.516554Z",
     "iopub.status.idle": "2023-07-22T11:30:08.529278Z",
     "shell.execute_reply": "2023-07-22T11:30:08.528438Z"
    },
    "papermill": {
     "duration": 5.034833,
     "end_time": "2023-07-22T11:30:08.532825",
     "exception": false,
     "start_time": "2023-07-22T11:30:03.497992",
     "status": "completed"
    },
    "tags": []
   },
   "outputs": [
    {
     "name": "stdout",
     "output_type": "stream",
     "text": [
      "Bruh, we have finished epoch 0\n",
      "Bruh, we have finished epoch 1\n",
      "Bruh, we have finished epoch 2\n",
      "Bruh, we have finished epoch 3\n",
      "Bruh, we have finished epoch 4\n"
     ]
    },
    {
     "data": {
      "text/plain": [
       "30"
      ]
     },
     "execution_count": 19,
     "metadata": {},
     "output_type": "execute_result"
    }
   ],
   "source": [
    "slow_calculation(partial(show_progress, 'Bruh'))"
   ]
  },
  {
   "cell_type": "code",
   "execution_count": 20,
   "id": "a0417e90",
   "metadata": {
    "execution": {
     "iopub.execute_input": "2023-07-22T11:30:08.571287Z",
     "iopub.status.busy": "2023-07-22T11:30:08.570902Z",
     "iopub.status.idle": "2023-07-22T11:30:08.575290Z",
     "shell.execute_reply": "2023-07-22T11:30:08.574384Z"
    },
    "papermill": {
     "duration": 0.025511,
     "end_time": "2023-07-22T11:30:08.577235",
     "exception": false,
     "start_time": "2023-07-22T11:30:08.551724",
     "status": "completed"
    },
    "tags": []
   },
   "outputs": [],
   "source": [
    "f2 = partial(show_progress, 'Bruh')"
   ]
  },
  {
   "cell_type": "markdown",
   "id": "c6827aa4",
   "metadata": {
    "papermill": {
     "duration": 0.017067,
     "end_time": "2023-07-22T11:30:08.611586",
     "exception": false,
     "start_time": "2023-07-22T11:30:08.594519",
     "status": "completed"
    },
    "tags": []
   },
   "source": [
    "### Callbacks as callable classes"
   ]
  },
  {
   "cell_type": "code",
   "execution_count": 21,
   "id": "2fc0b1aa",
   "metadata": {
    "execution": {
     "iopub.execute_input": "2023-07-22T11:30:08.648139Z",
     "iopub.status.busy": "2023-07-22T11:30:08.647758Z",
     "iopub.status.idle": "2023-07-22T11:30:08.653027Z",
     "shell.execute_reply": "2023-07-22T11:30:08.652088Z"
    },
    "papermill": {
     "duration": 0.026233,
     "end_time": "2023-07-22T11:30:08.655011",
     "exception": false,
     "start_time": "2023-07-22T11:30:08.628778",
     "status": "completed"
    },
    "tags": []
   },
   "outputs": [],
   "source": [
    "class ProgressShowingCallback():\n",
    "    def __init__(self, salutation='Hello'): self.salutation = salutation\n",
    "    def __call__(self, epoch): print(f'{self.salutation}, we have finished epoch {epoch}')"
   ]
  },
  {
   "cell_type": "markdown",
   "id": "7922358e",
   "metadata": {
    "papermill": {
     "duration": 0.01711,
     "end_time": "2023-07-22T11:30:08.689649",
     "exception": false,
     "start_time": "2023-07-22T11:30:08.672539",
     "status": "completed"
    },
    "tags": []
   },
   "source": [
    "Note Umer: Unlike cb functions, cb classes allow to store state"
   ]
  },
  {
   "cell_type": "code",
   "execution_count": 22,
   "id": "3988ef6e",
   "metadata": {
    "execution": {
     "iopub.execute_input": "2023-07-22T11:30:08.726710Z",
     "iopub.status.busy": "2023-07-22T11:30:08.725578Z",
     "iopub.status.idle": "2023-07-22T11:30:08.730816Z",
     "shell.execute_reply": "2023-07-22T11:30:08.729801Z"
    },
    "papermill": {
     "duration": 0.0261,
     "end_time": "2023-07-22T11:30:08.733023",
     "exception": false,
     "start_time": "2023-07-22T11:30:08.706923",
     "status": "completed"
    },
    "tags": []
   },
   "outputs": [],
   "source": [
    "cb = ProgressShowingCallback('Bruh')"
   ]
  },
  {
   "cell_type": "code",
   "execution_count": 23,
   "id": "6545d21f",
   "metadata": {
    "execution": {
     "iopub.execute_input": "2023-07-22T11:30:08.769561Z",
     "iopub.status.busy": "2023-07-22T11:30:08.768614Z",
     "iopub.status.idle": "2023-07-22T11:30:13.782972Z",
     "shell.execute_reply": "2023-07-22T11:30:13.780207Z"
    },
    "papermill": {
     "duration": 5.038515,
     "end_time": "2023-07-22T11:30:13.788812",
     "exception": false,
     "start_time": "2023-07-22T11:30:08.750297",
     "status": "completed"
    },
    "tags": []
   },
   "outputs": [
    {
     "name": "stdout",
     "output_type": "stream",
     "text": [
      "Bruh, we have finished epoch 0\n",
      "Bruh, we have finished epoch 1\n",
      "Bruh, we have finished epoch 2\n",
      "Bruh, we have finished epoch 3\n",
      "Bruh, we have finished epoch 4\n"
     ]
    },
    {
     "data": {
      "text/plain": [
       "30"
      ]
     },
     "execution_count": 23,
     "metadata": {},
     "output_type": "execute_result"
    }
   ],
   "source": [
    "slow_calculation(cb)"
   ]
  },
  {
   "cell_type": "markdown",
   "id": "2e271da7",
   "metadata": {
    "papermill": {
     "duration": 0.026824,
     "end_time": "2023-07-22T11:30:13.844566",
     "exception": false,
     "start_time": "2023-07-22T11:30:13.817742",
     "status": "completed"
    },
    "tags": []
   },
   "source": [
    "### Multiple callback funcs; `*args` and `**kwargs`"
   ]
  },
  {
   "cell_type": "code",
   "execution_count": 24,
   "id": "59cdb5db",
   "metadata": {
    "execution": {
     "iopub.execute_input": "2023-07-22T11:30:13.898960Z",
     "iopub.status.busy": "2023-07-22T11:30:13.898487Z",
     "iopub.status.idle": "2023-07-22T11:30:13.903632Z",
     "shell.execute_reply": "2023-07-22T11:30:13.902730Z"
    },
    "papermill": {
     "duration": 0.036594,
     "end_time": "2023-07-22T11:30:13.907919",
     "exception": false,
     "start_time": "2023-07-22T11:30:13.871325",
     "status": "completed"
    },
    "tags": []
   },
   "outputs": [],
   "source": [
    "def f(*a, **b): print(f'args: {a}, kwargs: {b}')"
   ]
  },
  {
   "cell_type": "code",
   "execution_count": 25,
   "id": "6e877a93",
   "metadata": {
    "execution": {
     "iopub.execute_input": "2023-07-22T11:30:13.961703Z",
     "iopub.status.busy": "2023-07-22T11:30:13.961277Z",
     "iopub.status.idle": "2023-07-22T11:30:13.966752Z",
     "shell.execute_reply": "2023-07-22T11:30:13.965893Z"
    },
    "papermill": {
     "duration": 0.039056,
     "end_time": "2023-07-22T11:30:13.972918",
     "exception": false,
     "start_time": "2023-07-22T11:30:13.933862",
     "status": "completed"
    },
    "tags": []
   },
   "outputs": [
    {
     "name": "stdout",
     "output_type": "stream",
     "text": [
      "args: (3, 'a'), kwargs: {'things1': 'hello'}\n"
     ]
    }
   ],
   "source": [
    "f(3, 'a', things1='hello')"
   ]
  },
  {
   "cell_type": "code",
   "execution_count": 26,
   "id": "3962c7fc",
   "metadata": {
    "execution": {
     "iopub.execute_input": "2023-07-22T11:30:14.020108Z",
     "iopub.status.busy": "2023-07-22T11:30:14.019732Z",
     "iopub.status.idle": "2023-07-22T11:30:14.024768Z",
     "shell.execute_reply": "2023-07-22T11:30:14.023800Z"
    },
    "papermill": {
     "duration": 0.027258,
     "end_time": "2023-07-22T11:30:14.027037",
     "exception": false,
     "start_time": "2023-07-22T11:30:13.999779",
     "status": "completed"
    },
    "tags": []
   },
   "outputs": [],
   "source": [
    "def g(a,b,c=0): print(a,b,c)"
   ]
  },
  {
   "cell_type": "code",
   "execution_count": 27,
   "id": "0f0c6dcb",
   "metadata": {
    "execution": {
     "iopub.execute_input": "2023-07-22T11:30:14.065668Z",
     "iopub.status.busy": "2023-07-22T11:30:14.065316Z",
     "iopub.status.idle": "2023-07-22T11:30:14.070820Z",
     "shell.execute_reply": "2023-07-22T11:30:14.069913Z"
    },
    "papermill": {
     "duration": 0.027891,
     "end_time": "2023-07-22T11:30:14.073659",
     "exception": false,
     "start_time": "2023-07-22T11:30:14.045768",
     "status": "completed"
    },
    "tags": []
   },
   "outputs": [
    {
     "name": "stdout",
     "output_type": "stream",
     "text": [
      "1 2 3\n"
     ]
    }
   ],
   "source": [
    "args = [1,2]\n",
    "kwargs = {'c':3}\n",
    "g(*args,**kwargs)"
   ]
  },
  {
   "cell_type": "code",
   "execution_count": 28,
   "id": "fb10ce0b",
   "metadata": {
    "execution": {
     "iopub.execute_input": "2023-07-22T11:30:14.112289Z",
     "iopub.status.busy": "2023-07-22T11:30:14.111602Z",
     "iopub.status.idle": "2023-07-22T11:30:14.117063Z",
     "shell.execute_reply": "2023-07-22T11:30:14.116130Z"
    },
    "papermill": {
     "duration": 0.027499,
     "end_time": "2023-07-22T11:30:14.119111",
     "exception": false,
     "start_time": "2023-07-22T11:30:14.091612",
     "status": "completed"
    },
    "tags": []
   },
   "outputs": [],
   "source": [
    "def slow_calculation(cb=None):\n",
    "    res = 0\n",
    "    for i in range(5):\n",
    "        if cb: cb.before_calc(i)\n",
    "        res += i*i\n",
    "        sleep(1)\n",
    "        if cb: cb.after_calc(i, val=res)\n",
    "    return res"
   ]
  },
  {
   "cell_type": "code",
   "execution_count": 29,
   "id": "af41ba58",
   "metadata": {
    "execution": {
     "iopub.execute_input": "2023-07-22T11:30:14.158005Z",
     "iopub.status.busy": "2023-07-22T11:30:14.156992Z",
     "iopub.status.idle": "2023-07-22T11:30:14.162905Z",
     "shell.execute_reply": "2023-07-22T11:30:14.161959Z"
    },
    "papermill": {
     "duration": 0.027596,
     "end_time": "2023-07-22T11:30:14.165034",
     "exception": false,
     "start_time": "2023-07-22T11:30:14.137438",
     "status": "completed"
    },
    "tags": []
   },
   "outputs": [],
   "source": [
    "class PrintStepCallback():\n",
    "    def before_calc(self, *args, **kwargs): print(f'About to start')\n",
    "    def after_calc (self, *args, **kwargs): print(f'Done step')"
   ]
  },
  {
   "cell_type": "code",
   "execution_count": 30,
   "id": "a2958c71",
   "metadata": {
    "execution": {
     "iopub.execute_input": "2023-07-22T11:30:14.203292Z",
     "iopub.status.busy": "2023-07-22T11:30:14.202281Z",
     "iopub.status.idle": "2023-07-22T11:30:19.216430Z",
     "shell.execute_reply": "2023-07-22T11:30:19.215403Z"
    },
    "papermill": {
     "duration": 5.036057,
     "end_time": "2023-07-22T11:30:19.219235",
     "exception": false,
     "start_time": "2023-07-22T11:30:14.183178",
     "status": "completed"
    },
    "tags": []
   },
   "outputs": [
    {
     "name": "stdout",
     "output_type": "stream",
     "text": [
      "About to start\n",
      "Done step\n",
      "About to start\n",
      "Done step\n",
      "About to start\n",
      "Done step\n",
      "About to start\n",
      "Done step\n",
      "About to start\n",
      "Done step\n"
     ]
    },
    {
     "data": {
      "text/plain": [
       "30"
      ]
     },
     "execution_count": 30,
     "metadata": {},
     "output_type": "execute_result"
    }
   ],
   "source": [
    "slow_calculation(PrintStepCallback())"
   ]
  },
  {
   "cell_type": "code",
   "execution_count": 31,
   "id": "cab48a59",
   "metadata": {
    "execution": {
     "iopub.execute_input": "2023-07-22T11:30:19.259357Z",
     "iopub.status.busy": "2023-07-22T11:30:19.258966Z",
     "iopub.status.idle": "2023-07-22T11:30:19.264511Z",
     "shell.execute_reply": "2023-07-22T11:30:19.263450Z"
    },
    "papermill": {
     "duration": 0.02777,
     "end_time": "2023-07-22T11:30:19.266548",
     "exception": false,
     "start_time": "2023-07-22T11:30:19.238778",
     "status": "completed"
    },
    "tags": []
   },
   "outputs": [],
   "source": [
    "class PrintStepCallback():\n",
    "    def __init__(self): pass\n",
    "    def before_calc(self, epoch, **kwargs): print(f'About to start {epoch}')\n",
    "    def after_calc (self, epoch, val, **kwargs): print(f'After {epoch}: {val}')"
   ]
  },
  {
   "cell_type": "code",
   "execution_count": 32,
   "id": "98ac9a7c",
   "metadata": {
    "execution": {
     "iopub.execute_input": "2023-07-22T11:30:19.305499Z",
     "iopub.status.busy": "2023-07-22T11:30:19.305122Z",
     "iopub.status.idle": "2023-07-22T11:30:24.317474Z",
     "shell.execute_reply": "2023-07-22T11:30:24.316589Z"
    },
    "papermill": {
     "duration": 5.035398,
     "end_time": "2023-07-22T11:30:24.320341",
     "exception": false,
     "start_time": "2023-07-22T11:30:19.284943",
     "status": "completed"
    },
    "tags": []
   },
   "outputs": [
    {
     "name": "stdout",
     "output_type": "stream",
     "text": [
      "About to start 0\n",
      "After 0: 0\n",
      "About to start 1\n",
      "After 1: 1\n",
      "About to start 2\n",
      "After 2: 5\n",
      "About to start 3\n",
      "After 3: 14\n",
      "About to start 4\n",
      "After 4: 30\n"
     ]
    },
    {
     "data": {
      "text/plain": [
       "30"
      ]
     },
     "execution_count": 32,
     "metadata": {},
     "output_type": "execute_result"
    }
   ],
   "source": [
    "slow_calculation(PrintStepCallback())"
   ]
  },
  {
   "cell_type": "markdown",
   "id": "343d620c",
   "metadata": {
    "papermill": {
     "duration": 0.019255,
     "end_time": "2023-07-22T11:30:24.359363",
     "exception": false,
     "start_time": "2023-07-22T11:30:24.340108",
     "status": "completed"
    },
    "tags": []
   },
   "source": [
    "### Modifying behavior"
   ]
  },
  {
   "cell_type": "code",
   "execution_count": 33,
   "id": "f930fac9",
   "metadata": {
    "execution": {
     "iopub.execute_input": "2023-07-22T11:30:24.398919Z",
     "iopub.status.busy": "2023-07-22T11:30:24.398562Z",
     "iopub.status.idle": "2023-07-22T11:30:24.404985Z",
     "shell.execute_reply": "2023-07-22T11:30:24.403904Z"
    },
    "papermill": {
     "duration": 0.028691,
     "end_time": "2023-07-22T11:30:24.407054",
     "exception": false,
     "start_time": "2023-07-22T11:30:24.378363",
     "status": "completed"
    },
    "tags": []
   },
   "outputs": [],
   "source": [
    "def slow_calculation(cb=None):\n",
    "    res = 0\n",
    "    for i in range(5):\n",
    "        if cb and hasattr(cb, 'before_calc'): cb.before_calc(i)\n",
    "        res += i*i\n",
    "        sleep(1)\n",
    "        if cb and hasattr(cb, 'after_calc'):\n",
    "            if cb.after_calc(i, res):\n",
    "                print('stopping early')\n",
    "                break\n",
    "    return res"
   ]
  },
  {
   "cell_type": "code",
   "execution_count": 34,
   "id": "37693c6b",
   "metadata": {
    "execution": {
     "iopub.execute_input": "2023-07-22T11:30:24.450879Z",
     "iopub.status.busy": "2023-07-22T11:30:24.450514Z",
     "iopub.status.idle": "2023-07-22T11:30:24.455740Z",
     "shell.execute_reply": "2023-07-22T11:30:24.454722Z"
    },
    "papermill": {
     "duration": 0.027578,
     "end_time": "2023-07-22T11:30:24.457798",
     "exception": false,
     "start_time": "2023-07-22T11:30:24.430220",
     "status": "completed"
    },
    "tags": []
   },
   "outputs": [],
   "source": [
    "class PrintAfterCallback():\n",
    "    def after_calc (self, epoch, val):\n",
    "        print(f'After {epoch}: {val}')\n",
    "        if val>10: return True"
   ]
  },
  {
   "cell_type": "code",
   "execution_count": 35,
   "id": "64281814",
   "metadata": {
    "execution": {
     "iopub.execute_input": "2023-07-22T11:30:24.498191Z",
     "iopub.status.busy": "2023-07-22T11:30:24.497197Z",
     "iopub.status.idle": "2023-07-22T11:30:28.512076Z",
     "shell.execute_reply": "2023-07-22T11:30:28.511129Z"
    },
    "papermill": {
     "duration": 4.037372,
     "end_time": "2023-07-22T11:30:28.514214",
     "exception": false,
     "start_time": "2023-07-22T11:30:24.476842",
     "status": "completed"
    },
    "tags": []
   },
   "outputs": [
    {
     "name": "stdout",
     "output_type": "stream",
     "text": [
      "After 0: 0\n",
      "After 1: 1\n",
      "After 2: 5\n",
      "After 3: 14\n",
      "stopping early\n"
     ]
    },
    {
     "data": {
      "text/plain": [
       "14"
      ]
     },
     "execution_count": 35,
     "metadata": {},
     "output_type": "execute_result"
    }
   ],
   "source": [
    "slow_calculation(PrintAfterCallback())"
   ]
  },
  {
   "cell_type": "markdown",
   "id": "4a982ad3",
   "metadata": {
    "papermill": {
     "duration": 0.019481,
     "end_time": "2023-07-22T11:30:28.553441",
     "exception": false,
     "start_time": "2023-07-22T11:30:28.533960",
     "status": "completed"
    },
    "tags": []
   },
   "source": [
    "Note Umer: Following code simplifies the apparatures which allows callbacks"
   ]
  },
  {
   "cell_type": "code",
   "execution_count": 36,
   "id": "9a39a114",
   "metadata": {
    "execution": {
     "iopub.execute_input": "2023-07-22T11:30:28.593905Z",
     "iopub.status.busy": "2023-07-22T11:30:28.593543Z",
     "iopub.status.idle": "2023-07-22T11:30:28.600703Z",
     "shell.execute_reply": "2023-07-22T11:30:28.599674Z"
    },
    "papermill": {
     "duration": 0.029986,
     "end_time": "2023-07-22T11:30:28.602859",
     "exception": false,
     "start_time": "2023-07-22T11:30:28.572873",
     "status": "completed"
    },
    "tags": []
   },
   "outputs": [],
   "source": [
    "class SlowCalculator():\n",
    "    def __init__(self, cb=None): self.cb,self.res=cb,0\n",
    "        \n",
    "    def callback(self, cb_name, *args):\n",
    "        if not self.cb: return\n",
    "        cb = getattr(self.cb,cb_name,None)\n",
    "        if cb: return cb(self, *args)\n",
    "    \n",
    "    def calc(self):\n",
    "        for i in range(5):\n",
    "            self.callback('before_calc', i)\n",
    "            self.res += i*i\n",
    "            sleep(i)\n",
    "            if self.callback('after_calc', i):\n",
    "                print('stoppig early')\n",
    "                break"
   ]
  },
  {
   "cell_type": "code",
   "execution_count": 37,
   "id": "06cdc8a3",
   "metadata": {
    "execution": {
     "iopub.execute_input": "2023-07-22T11:30:28.643849Z",
     "iopub.status.busy": "2023-07-22T11:30:28.643120Z",
     "iopub.status.idle": "2023-07-22T11:30:28.648509Z",
     "shell.execute_reply": "2023-07-22T11:30:28.647516Z"
    },
    "papermill": {
     "duration": 0.028451,
     "end_time": "2023-07-22T11:30:28.650630",
     "exception": false,
     "start_time": "2023-07-22T11:30:28.622179",
     "status": "completed"
    },
    "tags": []
   },
   "outputs": [],
   "source": [
    "class ModyfingCallback():\n",
    "    def after_calc(self, calc, epoch):\n",
    "        print(f'After {epoch}: {calc.res}')\n",
    "        if calc.res>10: return True\n",
    "        if calc.res<3: calc.res *= 2"
   ]
  },
  {
   "cell_type": "code",
   "execution_count": 38,
   "id": "eef1f7ee",
   "metadata": {
    "execution": {
     "iopub.execute_input": "2023-07-22T11:30:28.691355Z",
     "iopub.status.busy": "2023-07-22T11:30:28.690962Z",
     "iopub.status.idle": "2023-07-22T11:30:28.696190Z",
     "shell.execute_reply": "2023-07-22T11:30:28.695278Z"
    },
    "papermill": {
     "duration": 0.028011,
     "end_time": "2023-07-22T11:30:28.698213",
     "exception": false,
     "start_time": "2023-07-22T11:30:28.670202",
     "status": "completed"
    },
    "tags": []
   },
   "outputs": [],
   "source": [
    "calculator = SlowCalculator(ModyfingCallback())"
   ]
  },
  {
   "cell_type": "code",
   "execution_count": 39,
   "id": "20ca57e7",
   "metadata": {
    "execution": {
     "iopub.execute_input": "2023-07-22T11:30:28.739539Z",
     "iopub.status.busy": "2023-07-22T11:30:28.738479Z",
     "iopub.status.idle": "2023-07-22T11:30:34.752418Z",
     "shell.execute_reply": "2023-07-22T11:30:34.751298Z"
    },
    "papermill": {
     "duration": 6.038313,
     "end_time": "2023-07-22T11:30:34.756010",
     "exception": false,
     "start_time": "2023-07-22T11:30:28.717697",
     "status": "completed"
    },
    "tags": []
   },
   "outputs": [
    {
     "name": "stdout",
     "output_type": "stream",
     "text": [
      "After 0: 0\n",
      "After 1: 1\n",
      "After 2: 6\n",
      "After 3: 15\n",
      "stoppig early\n"
     ]
    },
    {
     "data": {
      "text/plain": [
       "15"
      ]
     },
     "execution_count": 39,
     "metadata": {},
     "output_type": "execute_result"
    }
   ],
   "source": [
    "calculator.calc()\n",
    "calculator.res"
   ]
  },
  {
   "cell_type": "markdown",
   "id": "0c02d656",
   "metadata": {
    "execution": {
     "iopub.execute_input": "2023-07-22T11:17:33.214069Z",
     "iopub.status.busy": "2023-07-22T11:17:33.213684Z",
     "iopub.status.idle": "2023-07-22T11:17:33.218897Z",
     "shell.execute_reply": "2023-07-22T11:17:33.217771Z",
     "shell.execute_reply.started": "2023-07-22T11:17:33.214040Z"
    },
    "papermill": {
     "duration": 0.02042,
     "end_time": "2023-07-22T11:30:34.796750",
     "exception": false,
     "start_time": "2023-07-22T11:30:34.776330",
     "status": "completed"
    },
    "tags": []
   },
   "source": [
    "## `__dunder__` stuff"
   ]
  },
  {
   "cell_type": "code",
   "execution_count": 40,
   "id": "4f2fad6b",
   "metadata": {
    "execution": {
     "iopub.execute_input": "2023-07-22T11:30:34.839208Z",
     "iopub.status.busy": "2023-07-22T11:30:34.838210Z",
     "iopub.status.idle": "2023-07-22T11:30:34.844592Z",
     "shell.execute_reply": "2023-07-22T11:30:34.843513Z"
    },
    "papermill": {
     "duration": 0.02972,
     "end_time": "2023-07-22T11:30:34.846668",
     "exception": false,
     "start_time": "2023-07-22T11:30:34.816948",
     "status": "completed"
    },
    "tags": []
   },
   "outputs": [],
   "source": [
    "# Note Umer: This is actually not an 'adder' (ie a binary op),\n",
    "# but rather a number, which when added to a number of same kind\n",
    "# is sloppy\n",
    "class SloppyAdder():\n",
    "    def __init__(self,o): self.o=o\n",
    "    def __add__(self,b): return SloppyAdder(self.o+b.o+0.01)\n",
    "    def __repr__(self): return str(self.o)"
   ]
  },
  {
   "cell_type": "code",
   "execution_count": 41,
   "id": "f58434e9",
   "metadata": {
    "execution": {
     "iopub.execute_input": "2023-07-22T11:30:34.888934Z",
     "iopub.status.busy": "2023-07-22T11:30:34.887927Z",
     "iopub.status.idle": "2023-07-22T11:30:34.894599Z",
     "shell.execute_reply": "2023-07-22T11:30:34.893657Z"
    },
    "papermill": {
     "duration": 0.030043,
     "end_time": "2023-07-22T11:30:34.896760",
     "exception": false,
     "start_time": "2023-07-22T11:30:34.866717",
     "status": "completed"
    },
    "tags": []
   },
   "outputs": [
    {
     "data": {
      "text/plain": [
       "3.01"
      ]
     },
     "execution_count": 41,
     "metadata": {},
     "output_type": "execute_result"
    }
   ],
   "source": [
    "a,b = SloppyAdder(1), SloppyAdder(2)\n",
    "a+b"
   ]
  },
  {
   "cell_type": "markdown",
   "id": "f81daa84",
   "metadata": {
    "papermill": {
     "duration": 0.020111,
     "end_time": "2023-07-22T11:30:34.937451",
     "exception": false,
     "start_time": "2023-07-22T11:30:34.917340",
     "status": "completed"
    },
    "tags": []
   },
   "source": [
    "Special methods I should probably know about:\n",
    "- `__getitem__` - [bla]\n",
    "- `__getattr__` - .bla\n",
    "- `__setitem__` - .bla = blub\n",
    "- `__del__`\n",
    "- `__init__`\n",
    "- `__new__` - used to create a new instance of a class\n",
    "- `__enter__` - when entering context manager\n",
    "- `__exit__` - when leaving context manager\n",
    "- `__len__`\n",
    "- `__repr__` - 'official string representation'\n",
    "- `__str__` - 'informat/nice string representation'"
   ]
  },
  {
   "cell_type": "markdown",
   "id": "361fc6b5",
   "metadata": {
    "execution": {
     "iopub.execute_input": "2023-07-22T11:26:49.821963Z",
     "iopub.status.busy": "2023-07-22T11:26:49.821594Z",
     "iopub.status.idle": "2023-07-22T11:26:49.826704Z",
     "shell.execute_reply": "2023-07-22T11:26:49.825752Z",
     "shell.execute_reply.started": "2023-07-22T11:26:49.821934Z"
    },
    "papermill": {
     "duration": 0.020707,
     "end_time": "2023-07-22T11:30:34.979668",
     "exception": false,
     "start_time": "2023-07-22T11:30:34.958961",
     "status": "completed"
    },
    "tags": []
   },
   "source": [
    "## `__getattr__` and `getattr`"
   ]
  },
  {
   "cell_type": "code",
   "execution_count": 42,
   "id": "5d4f5eba",
   "metadata": {
    "execution": {
     "iopub.execute_input": "2023-07-22T11:30:35.022191Z",
     "iopub.status.busy": "2023-07-22T11:30:35.021189Z",
     "iopub.status.idle": "2023-07-22T11:30:35.026281Z",
     "shell.execute_reply": "2023-07-22T11:30:35.025277Z"
    },
    "papermill": {
     "duration": 0.02882,
     "end_time": "2023-07-22T11:30:35.028645",
     "exception": false,
     "start_time": "2023-07-22T11:30:34.999825",
     "status": "completed"
    },
    "tags": []
   },
   "outputs": [],
   "source": [
    "class A: a,b=1,2"
   ]
  },
  {
   "cell_type": "code",
   "execution_count": 43,
   "id": "65ce8bc8",
   "metadata": {
    "execution": {
     "iopub.execute_input": "2023-07-22T11:30:35.072025Z",
     "iopub.status.busy": "2023-07-22T11:30:35.071643Z",
     "iopub.status.idle": "2023-07-22T11:30:35.076151Z",
     "shell.execute_reply": "2023-07-22T11:30:35.075213Z"
    },
    "papermill": {
     "duration": 0.028736,
     "end_time": "2023-07-22T11:30:35.078123",
     "exception": false,
     "start_time": "2023-07-22T11:30:35.049387",
     "status": "completed"
    },
    "tags": []
   },
   "outputs": [],
   "source": [
    "a = A()"
   ]
  },
  {
   "cell_type": "code",
   "execution_count": 44,
   "id": "d5293a2e",
   "metadata": {
    "execution": {
     "iopub.execute_input": "2023-07-22T11:30:35.120763Z",
     "iopub.status.busy": "2023-07-22T11:30:35.120116Z",
     "iopub.status.idle": "2023-07-22T11:30:35.126167Z",
     "shell.execute_reply": "2023-07-22T11:30:35.125273Z"
    },
    "papermill": {
     "duration": 0.030186,
     "end_time": "2023-07-22T11:30:35.128511",
     "exception": false,
     "start_time": "2023-07-22T11:30:35.098325",
     "status": "completed"
    },
    "tags": []
   },
   "outputs": [
    {
     "data": {
      "text/plain": [
       "2"
      ]
     },
     "execution_count": 44,
     "metadata": {},
     "output_type": "execute_result"
    }
   ],
   "source": [
    "a.b"
   ]
  },
  {
   "cell_type": "code",
   "execution_count": 45,
   "id": "81acca11",
   "metadata": {
    "execution": {
     "iopub.execute_input": "2023-07-22T11:30:35.171713Z",
     "iopub.status.busy": "2023-07-22T11:30:35.170702Z",
     "iopub.status.idle": "2023-07-22T11:30:35.177454Z",
     "shell.execute_reply": "2023-07-22T11:30:35.176456Z"
    },
    "papermill": {
     "duration": 0.030693,
     "end_time": "2023-07-22T11:30:35.179465",
     "exception": false,
     "start_time": "2023-07-22T11:30:35.148772",
     "status": "completed"
    },
    "tags": []
   },
   "outputs": [
    {
     "data": {
      "text/plain": [
       "2"
      ]
     },
     "execution_count": 45,
     "metadata": {},
     "output_type": "execute_result"
    }
   ],
   "source": [
    "getattr(a, 'b')"
   ]
  },
  {
   "cell_type": "code",
   "execution_count": 46,
   "id": "34068ba1",
   "metadata": {
    "execution": {
     "iopub.execute_input": "2023-07-22T11:30:35.222094Z",
     "iopub.status.busy": "2023-07-22T11:30:35.221726Z",
     "iopub.status.idle": "2023-07-22T11:30:35.228329Z",
     "shell.execute_reply": "2023-07-22T11:30:35.227193Z"
    },
    "papermill": {
     "duration": 0.030615,
     "end_time": "2023-07-22T11:30:35.230700",
     "exception": false,
     "start_time": "2023-07-22T11:30:35.200085",
     "status": "completed"
    },
    "tags": []
   },
   "outputs": [
    {
     "data": {
      "text/plain": [
       "1"
      ]
     },
     "execution_count": 46,
     "metadata": {},
     "output_type": "execute_result"
    }
   ],
   "source": [
    "getattr(a, 'b' if random.random()>0.5 else 'a')"
   ]
  },
  {
   "cell_type": "code",
   "execution_count": 47,
   "id": "e791e506",
   "metadata": {
    "execution": {
     "iopub.execute_input": "2023-07-22T11:30:35.273906Z",
     "iopub.status.busy": "2023-07-22T11:30:35.273551Z",
     "iopub.status.idle": "2023-07-22T11:30:35.278855Z",
     "shell.execute_reply": "2023-07-22T11:30:35.277866Z"
    },
    "papermill": {
     "duration": 0.029307,
     "end_time": "2023-07-22T11:30:35.280886",
     "exception": false,
     "start_time": "2023-07-22T11:30:35.251579",
     "status": "completed"
    },
    "tags": []
   },
   "outputs": [],
   "source": [
    "class B:\n",
    "    a,b=1,2\n",
    "    def __getattr__(self,k):\n",
    "        if k[0]=='_': raise AttributeError(k)\n",
    "        return f'Hello from non-private {k}'"
   ]
  },
  {
   "cell_type": "code",
   "execution_count": 48,
   "id": "4eba682c",
   "metadata": {
    "execution": {
     "iopub.execute_input": "2023-07-22T11:30:35.324791Z",
     "iopub.status.busy": "2023-07-22T11:30:35.324417Z",
     "iopub.status.idle": "2023-07-22T11:30:35.330783Z",
     "shell.execute_reply": "2023-07-22T11:30:35.329883Z"
    },
    "papermill": {
     "duration": 0.031225,
     "end_time": "2023-07-22T11:30:35.332725",
     "exception": false,
     "start_time": "2023-07-22T11:30:35.301500",
     "status": "completed"
    },
    "tags": []
   },
   "outputs": [
    {
     "data": {
      "text/plain": [
       "(1, 2)"
      ]
     },
     "execution_count": 48,
     "metadata": {},
     "output_type": "execute_result"
    }
   ],
   "source": [
    "b = B()\n",
    "b.a, b.b"
   ]
  },
  {
   "cell_type": "code",
   "execution_count": 49,
   "id": "fc6746ef",
   "metadata": {
    "execution": {
     "iopub.execute_input": "2023-07-22T11:30:35.375921Z",
     "iopub.status.busy": "2023-07-22T11:30:35.375558Z",
     "iopub.status.idle": "2023-07-22T11:30:35.381437Z",
     "shell.execute_reply": "2023-07-22T11:30:35.380544Z"
    },
    "papermill": {
     "duration": 0.029942,
     "end_time": "2023-07-22T11:30:35.383424",
     "exception": false,
     "start_time": "2023-07-22T11:30:35.353482",
     "status": "completed"
    },
    "tags": []
   },
   "outputs": [
    {
     "data": {
      "text/plain": [
       "'Hello from non-private fooooo'"
      ]
     },
     "execution_count": 49,
     "metadata": {},
     "output_type": "execute_result"
    }
   ],
   "source": [
    "b.fooooo"
   ]
  },
  {
   "cell_type": "code",
   "execution_count": null,
   "id": "383b3b11",
   "metadata": {
    "papermill": {
     "duration": 0.020403,
     "end_time": "2023-07-22T11:30:35.424706",
     "exception": false,
     "start_time": "2023-07-22T11:30:35.404303",
     "status": "completed"
    },
    "tags": []
   },
   "outputs": [],
   "source": []
  }
 ],
 "metadata": {
  "kernelspec": {
   "display_name": "Python 3",
   "language": "python",
   "name": "python3"
  },
  "language_info": {
   "codemirror_mode": {
    "name": "ipython",
    "version": 3
   },
   "file_extension": ".py",
   "mimetype": "text/x-python",
   "name": "python",
   "nbconvert_exporter": "python",
   "pygments_lexer": "ipython3",
   "version": "3.10.12"
  },
  "papermill": {
   "default_parameters": {},
   "duration": 74.855223,
   "end_time": "2023-07-22T11:30:38.121762",
   "environment_variables": {},
   "exception": null,
   "input_path": "__notebook__.ipynb",
   "output_path": "__notebook__.ipynb",
   "parameters": {},
   "start_time": "2023-07-22T11:29:23.266539",
   "version": "2.4.0"
  },
  "widgets": {
   "application/vnd.jupyter.widget-state+json": {
    "state": {
     "8fd2d48b998c41cea470c88377139966": {
      "model_module": "@jupyter-widgets/controls",
      "model_module_version": "1.5.0",
      "model_name": "ButtonStyleModel",
      "state": {
       "_model_module": "@jupyter-widgets/controls",
       "_model_module_version": "1.5.0",
       "_model_name": "ButtonStyleModel",
       "_view_count": null,
       "_view_module": "@jupyter-widgets/base",
       "_view_module_version": "1.2.0",
       "_view_name": "StyleView",
       "button_color": null,
       "font_weight": ""
      }
     },
     "a2f460dbfc04468b9d623316fe342d41": {
      "model_module": "@jupyter-widgets/controls",
      "model_module_version": "1.5.0",
      "model_name": "ButtonModel",
      "state": {
       "_dom_classes": [],
       "_model_module": "@jupyter-widgets/controls",
       "_model_module_version": "1.5.0",
       "_model_name": "ButtonModel",
       "_view_count": null,
       "_view_module": "@jupyter-widgets/controls",
       "_view_module_version": "1.5.0",
       "_view_name": "ButtonView",
       "button_style": "",
       "description": "Click Me",
       "disabled": false,
       "icon": "",
       "layout": "IPY_MODEL_a5883c1ad8b543bb9f1e3e3c5420decc",
       "style": "IPY_MODEL_8fd2d48b998c41cea470c88377139966",
       "tooltip": ""
      }
     },
     "a5883c1ad8b543bb9f1e3e3c5420decc": {
      "model_module": "@jupyter-widgets/base",
      "model_module_version": "1.2.0",
      "model_name": "LayoutModel",
      "state": {
       "_model_module": "@jupyter-widgets/base",
       "_model_module_version": "1.2.0",
       "_model_name": "LayoutModel",
       "_view_count": null,
       "_view_module": "@jupyter-widgets/base",
       "_view_module_version": "1.2.0",
       "_view_name": "LayoutView",
       "align_content": null,
       "align_items": null,
       "align_self": null,
       "border": null,
       "bottom": null,
       "display": null,
       "flex": null,
       "flex_flow": null,
       "grid_area": null,
       "grid_auto_columns": null,
       "grid_auto_flow": null,
       "grid_auto_rows": null,
       "grid_column": null,
       "grid_gap": null,
       "grid_row": null,
       "grid_template_areas": null,
       "grid_template_columns": null,
       "grid_template_rows": null,
       "height": null,
       "justify_content": null,
       "justify_items": null,
       "left": null,
       "margin": null,
       "max_height": null,
       "max_width": null,
       "min_height": null,
       "min_width": null,
       "object_fit": null,
       "object_position": null,
       "order": null,
       "overflow": null,
       "overflow_x": null,
       "overflow_y": null,
       "padding": null,
       "right": null,
       "top": null,
       "visibility": null,
       "width": null
      }
     }
    },
    "version_major": 2,
    "version_minor": 0
   }
  }
 },
 "nbformat": 4,
 "nbformat_minor": 5
}
